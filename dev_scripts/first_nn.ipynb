{
 "cells": [
  {
   "cell_type": "code",
   "execution_count": 17,
   "metadata": {},
   "outputs": [
    {
     "output_type": "stream",
     "name": "stdout",
     "text": [
      "2.4.1\n"
     ]
    }
   ],
   "source": [
    "import numpy as np \n",
    "from sklearn.model_selection import train_test_split\n",
    "import tensorflow as tf\n",
    "print(tf.__version__)\n",
    "from matplotlib import pyplot as plt"
   ]
  },
  {
   "cell_type": "code",
   "execution_count": 8,
   "metadata": {},
   "outputs": [],
   "source": [
    "np.random.seed(2021)"
   ]
  },
  {
   "cell_type": "markdown",
   "metadata": {},
   "source": [
    "## Load Data"
   ]
  },
  {
   "cell_type": "code",
   "execution_count": 9,
   "metadata": {},
   "outputs": [],
   "source": [
    "np_grid_data = np.load(r'_np_griddata.npy')\n",
    "np_init_path = np.load(r'_np_initpath.npy')\n",
    "np_opt_path = np.load(r'_np_optpath.npy')"
   ]
  },
  {
   "cell_type": "code",
   "execution_count": 10,
   "metadata": {},
   "outputs": [
    {
     "output_type": "stream",
     "name": "stdout",
     "text": [
      "1.0\nShape of grid data: (227, 1536, 1536, 1)\nShape of init path: (227, 25, 2)\nShape of opt path: (227, 25, 2)\n"
     ]
    }
   ],
   "source": [
    "np_grid_data = np_grid_data.astype('float32')/127.0\n",
    "np_grid_data = np.reshape(np_grid_data,(np_grid_data.shape[0],np_grid_data.shape[1],np_grid_data.shape[1],1))\n",
    "print(np_grid_data.max())\n",
    "print(\"Shape of grid data:\",np.shape(np_grid_data))\n",
    "print(\"Shape of init path:\",np.shape(np_init_path))\n",
    "print(\"Shape of opt path:\",np.shape(np_opt_path))\n",
    "\n",
    "#plt.matshow(np_grid_data[0])"
   ]
  },
  {
   "cell_type": "markdown",
   "metadata": {},
   "source": [
    "## Check Data balance "
   ]
  },
  {
   "cell_type": "code",
   "execution_count": 11,
   "metadata": {},
   "outputs": [
    {
     "output_type": "stream",
     "name": "stdout",
     "text": [
      "Paths that are similar: 207, which is 0.9118942731277533 of total data\nPaths that are dissimalar: 20,which is 0.0881057268722467 of total data\n"
     ]
    }
   ],
   "source": [
    "# Check Data Balance\n",
    "count=0\n",
    "\n",
    "for i in range(len(np_opt_path)):\n",
    "    if np.array_equiv(np_opt_path[i],np_init_path[i]):\n",
    "        count +=1\n",
    "\n",
    "print(\"Paths that are similar: {}, which is {} of total data\".format(count,(count/len(np_init_path))))\n",
    "print(\"Paths that are dissimalar: {},which is {} of total data\".format((len(np_init_path)-count),((len(np_init_path)-count)/len(np_init_path))))"
   ]
  },
  {
   "cell_type": "markdown",
   "metadata": {},
   "source": [
    "## Build Data set"
   ]
  },
  {
   "cell_type": "code",
   "execution_count": 12,
   "metadata": {},
   "outputs": [],
   "source": [
    "# Split dataset\n",
    "train_grid,test_grid,train_init_path,test_init_path,train_opt_path,test_opt_path = train_test_split(np_grid_data,np_init_path,np_opt_path,random_state=np.random.randint(1),test_size=0.25)"
   ]
  },
  {
   "cell_type": "code",
   "execution_count": 13,
   "metadata": {},
   "outputs": [
    {
     "output_type": "stream",
     "name": "stdout",
     "text": [
      "Shape of training grid data: (170, 1536, 1536, 1)\nShape of training init path: (170, 25, 2)\nShape of training opt path: (170, 25, 2)\n-----------------------------------------------------\nShape of testing grid data: (57, 1536, 1536, 1)\nShape of testing init path: (57, 25, 2)\nShape of testing opt path: (57, 25, 2)\n"
     ]
    }
   ],
   "source": [
    "'''print sizes and shapes of testing and training data'''\n",
    "\n",
    "print(\"Shape of training grid data:\",np.shape(train_grid))\n",
    "print(\"Shape of training init path:\",np.shape(train_init_path))\n",
    "print(\"Shape of training opt path:\",np.shape(train_opt_path))\n",
    "print(\"-----------------------------------------------------\")\n",
    "print(\"Shape of testing grid data:\",np.shape(test_grid))\n",
    "print(\"Shape of testing init path:\",np.shape(test_init_path))\n",
    "print(\"Shape of testing opt path:\",np.shape(test_opt_path))"
   ]
  },
  {
   "cell_type": "code",
   "execution_count": 14,
   "metadata": {},
   "outputs": [],
   "source": [
    "def parse_func(input_data,optimized_path):\n",
    "    \n",
    "    '''    \n",
    "    image_string = tf.io.read_file(filename)\n",
    "    \n",
    "    image_decoded = tf.io.decode_jpeg(image_string, channels=3)\n",
    "   \n",
    "    image = tf.image.resize(image_decoded, size=(util_constants.IMG_SIZE_VGG[0],util_constants.IMG_SIZE_VGG[1]))\n",
    "    \n",
    "    # add random noise to image\n",
    "    noise = tf.random.normal(image.shape,0,3)\n",
    "    \n",
    "    image = image + noise\n",
    "    \n",
    "    image = preprocess_input(image)\n",
    "    '''\n",
    "    grid_data = input_data[0]\n",
    "    \n",
    "    init_path = input_data[1]\n",
    "    \n",
    "    grid_data = tf.cast(grid_data,tf.float16)\n",
    "    grid_data = grid_data/tf.norm(grid_data)\n",
    "    \n",
    "    modified_input = (grid_data,init_path)\n",
    "    return modified_input,optimized_path\n",
    "\n",
    "\n",
    "AUTOTUNE = tf.data.experimental.AUTOTUNE\n",
    "\n",
    "def build_dataset(grid,init_path,opt_path,data_set_type):\n",
    "    \n",
    "    ds = tf.data.Dataset.from_tensor_slices(((grid,init_path),opt_path))\n",
    "    \n",
    "    if data_set_type=='train':\n",
    "        p_var = data_set_type\n",
    "        print(\"####### Buildling {} data set..... ########\".format(p_var))\n",
    "        ds = ds.shuffle(100)\n",
    "        ds = ds.cache()\n",
    "        ds = ds.map(parse_func, num_parallel_calls = AUTOTUNE)\n",
    "      \n",
    "    if not data_set_type=='train':\n",
    "        print(\"Buildling {} data set\".format(data_set_type))\n",
    "        ds = ds.cache()\n",
    "        #ds = ds.map(parse_func, AUTOTUNE)\n",
    "    \n",
    "    ds = ds.batch(8,drop_remainder=True).prefetch(AUTOTUNE)\n",
    "    \n",
    "    print(ds.element_spec)\n",
    "    \n",
    "    return ds\n",
    "\n"
   ]
  },
  {
   "cell_type": "code",
   "execution_count": 15,
   "metadata": {},
   "outputs": [
    {
     "output_type": "stream",
     "name": "stdout",
     "text": [
      "####### Buildling train data set..... ########\n",
      "((TensorSpec(shape=(8, 1536, 1536, 1), dtype=tf.float16, name=None), TensorSpec(shape=(8, 25, 2), dtype=tf.float64, name=None)), TensorSpec(shape=(8, 25, 2), dtype=tf.float64, name=None))\n",
      "Buildling test data set\n",
      "((TensorSpec(shape=(8, 1536, 1536, 1), dtype=tf.float32, name=None), TensorSpec(shape=(8, 25, 2), dtype=tf.float64, name=None)), TensorSpec(shape=(8, 25, 2), dtype=tf.float64, name=None))\n"
     ]
    }
   ],
   "source": [
    "ds_train = build_dataset(train_grid,train_init_path,train_opt_path,'train')\n",
    "ds_test = build_dataset(test_grid,test_init_path,test_opt_path,'test')"
   ]
  },
  {
   "cell_type": "code",
   "execution_count": 16,
   "metadata": {},
   "outputs": [
    {
     "output_type": "stream",
     "name": "stdout",
     "text": [
      "0.007774\n"
     ]
    }
   ],
   "source": [
    "#check the tensorflow dataset   \n",
    "\n",
    "#next(iter(ds_train))\n",
    "for (input_data,output_data) in ds_train.take(1):\n",
    "    np_one_grid = input_data[0].numpy()\n",
    "    np_one_grid = np_one_grid[0]\n",
    "    print((np_one_grid.max()))\n",
    "    \n",
    "    #(plt.matshow(input_data[0].numpy()[0]))\n",
    "#print(plt.matshow(np.reshape(np_one_grid,(1536,1536))))"
   ]
  },
  {
   "cell_type": "code",
   "execution_count": 18,
   "metadata": {},
   "outputs": [],
   "source": [
    "from tensorflow.keras import layers\n",
    "from tensorflow import keras\n",
    "def nn():\n",
    "\n",
    "    # define two sets of inputs\n",
    "    input_A = layers.Input(shape=(1536,1536,1))\n",
    "    input_B = layers.Input(shape=(25,2))\n",
    "\n",
    "    reshape_input_B = layers.Reshape((50,))(input_B)\n",
    "\n",
    "    #CNN\n",
    "    x_A = layers.Conv2D(32,kernel_size=3,strides=2,activation='relu')(input_A)\n",
    "    x_A = layers.BatchNormalization()(x_A)\n",
    "    x_A = layers.AvgPool2D(pool_size=(4,4))(x_A)\n",
    "\n",
    "    x_A = layers.Conv2D(64,kernel_size=3,strides=2,activation='relu')(x_A)\n",
    "    x_A = layers.BatchNormalization()(x_A)\n",
    "    x_A = layers.AvgPool2D(pool_size=(4,4))(x_A)\n",
    "\n",
    "    x_A = layers.Flatten()(x_A)\n",
    "    \n",
    "    #concatenate feature\n",
    "    concat_feat = layers.concatenate([x_A, reshape_input_B])\n",
    "\n",
    "    #FC\n",
    "    output = layers.Dense(50, activation='linear')(concat_feat)\n",
    "    output = layers.Dense(50, activation='linear')(output)\n",
    "    output = layers.Reshape((25,2))(output)\n",
    "    nn_fun = keras.models.Model(inputs = [input_A, input_B], outputs= output)\n",
    "    \n",
    "    return nn_fun\n",
    "    "
   ]
  },
  {
   "cell_type": "code",
   "execution_count": 19,
   "metadata": {},
   "outputs": [],
   "source": [
    "pp_model = nn()\n",
    "pp_model.compile(optimizer='adam',loss= 'mse', metrics= 'accuracy')"
   ]
  },
  {
   "cell_type": "code",
   "execution_count": 20,
   "metadata": {},
   "outputs": [
    {
     "output_type": "stream",
     "name": "stdout",
     "text": [
      "Model: \"model_1\"\n__________________________________________________________________________________________________\nLayer (type)                    Output Shape         Param #     Connected to                     \n==================================================================================================\ninput_3 (InputLayer)            [(None, 1536, 1536,  0                                            \n__________________________________________________________________________________________________\nconv2d_2 (Conv2D)               (None, 767, 767, 32) 320         input_3[0][0]                    \n__________________________________________________________________________________________________\nbatch_normalization_2 (BatchNor (None, 767, 767, 32) 128         conv2d_2[0][0]                   \n__________________________________________________________________________________________________\naverage_pooling2d_2 (AveragePoo (None, 191, 191, 32) 0           batch_normalization_2[0][0]      \n__________________________________________________________________________________________________\nconv2d_3 (Conv2D)               (None, 95, 95, 64)   18496       average_pooling2d_2[0][0]        \n__________________________________________________________________________________________________\nbatch_normalization_3 (BatchNor (None, 95, 95, 64)   256         conv2d_3[0][0]                   \n__________________________________________________________________________________________________\naverage_pooling2d_3 (AveragePoo (None, 23, 23, 64)   0           batch_normalization_3[0][0]      \n__________________________________________________________________________________________________\ninput_4 (InputLayer)            [(None, 25, 2)]      0                                            \n__________________________________________________________________________________________________\nflatten_1 (Flatten)             (None, 33856)        0           average_pooling2d_3[0][0]        \n__________________________________________________________________________________________________\nreshape_2 (Reshape)             (None, 50)           0           input_4[0][0]                    \n__________________________________________________________________________________________________\nconcatenate_1 (Concatenate)     (None, 33906)        0           flatten_1[0][0]                  \n                                                                 reshape_2[0][0]                  \n__________________________________________________________________________________________________\ndense_2 (Dense)                 (None, 50)           1695350     concatenate_1[0][0]              \n__________________________________________________________________________________________________\ndense_3 (Dense)                 (None, 50)           2550        dense_2[0][0]                    \n__________________________________________________________________________________________________\nreshape_3 (Reshape)             (None, 25, 2)        0           dense_3[0][0]                    \n==================================================================================================\nTotal params: 1,717,100\nTrainable params: 1,716,908\nNon-trainable params: 192\n__________________________________________________________________________________________________\n"
     ]
    }
   ],
   "source": [
    "pp_model.summary()"
   ]
  },
  {
   "cell_type": "code",
   "execution_count": 21,
   "metadata": {},
   "outputs": [
    {
     "output_type": "stream",
     "name": "stdout",
     "text": [
      " 5/21 [======>.......................] - ETA: 1:21 - loss: 542.4908 - accuracy: 0.5771"
     ]
    },
    {
     "output_type": "error",
     "ename": "KeyboardInterrupt",
     "evalue": "",
     "traceback": [
      "\u001b[1;31m---------------------------------------------------------------------------\u001b[0m",
      "\u001b[1;31mKeyboardInterrupt\u001b[0m                         Traceback (most recent call last)",
      "\u001b[1;32m<ipython-input-21-a203c14d1ac7>\u001b[0m in \u001b[0;36m<module>\u001b[1;34m\u001b[0m\n\u001b[1;32m----> 1\u001b[1;33m \u001b[0mpp_model\u001b[0m\u001b[1;33m.\u001b[0m\u001b[0mfit\u001b[0m\u001b[1;33m(\u001b[0m\u001b[0mds_train\u001b[0m\u001b[1;33m,\u001b[0m\u001b[0mepochs\u001b[0m\u001b[1;33m=\u001b[0m\u001b[1;36m1\u001b[0m\u001b[1;33m)\u001b[0m\u001b[1;33m\u001b[0m\u001b[1;33m\u001b[0m\u001b[0m\n\u001b[0m",
      "\u001b[1;32mc:\\Users\\Teja\\Documents\\_INFOTECH\\Thesis\\sample_Ros_bag\\env_rosbag\\lib\\site-packages\\tensorflow\\python\\keras\\engine\\training.py\u001b[0m in \u001b[0;36mfit\u001b[1;34m(self, x, y, batch_size, epochs, verbose, callbacks, validation_split, validation_data, shuffle, class_weight, sample_weight, initial_epoch, steps_per_epoch, validation_steps, validation_batch_size, validation_freq, max_queue_size, workers, use_multiprocessing)\u001b[0m\n\u001b[0;32m   1098\u001b[0m                 _r=1):\n\u001b[0;32m   1099\u001b[0m               \u001b[0mcallbacks\u001b[0m\u001b[1;33m.\u001b[0m\u001b[0mon_train_batch_begin\u001b[0m\u001b[1;33m(\u001b[0m\u001b[0mstep\u001b[0m\u001b[1;33m)\u001b[0m\u001b[1;33m\u001b[0m\u001b[1;33m\u001b[0m\u001b[0m\n\u001b[1;32m-> 1100\u001b[1;33m               \u001b[0mtmp_logs\u001b[0m \u001b[1;33m=\u001b[0m \u001b[0mself\u001b[0m\u001b[1;33m.\u001b[0m\u001b[0mtrain_function\u001b[0m\u001b[1;33m(\u001b[0m\u001b[0miterator\u001b[0m\u001b[1;33m)\u001b[0m\u001b[1;33m\u001b[0m\u001b[1;33m\u001b[0m\u001b[0m\n\u001b[0m\u001b[0;32m   1101\u001b[0m               \u001b[1;32mif\u001b[0m \u001b[0mdata_handler\u001b[0m\u001b[1;33m.\u001b[0m\u001b[0mshould_sync\u001b[0m\u001b[1;33m:\u001b[0m\u001b[1;33m\u001b[0m\u001b[1;33m\u001b[0m\u001b[0m\n\u001b[0;32m   1102\u001b[0m                 \u001b[0mcontext\u001b[0m\u001b[1;33m.\u001b[0m\u001b[0masync_wait\u001b[0m\u001b[1;33m(\u001b[0m\u001b[1;33m)\u001b[0m\u001b[1;33m\u001b[0m\u001b[1;33m\u001b[0m\u001b[0m\n",
      "\u001b[1;32mc:\\Users\\Teja\\Documents\\_INFOTECH\\Thesis\\sample_Ros_bag\\env_rosbag\\lib\\site-packages\\tensorflow\\python\\eager\\def_function.py\u001b[0m in \u001b[0;36m__call__\u001b[1;34m(self, *args, **kwds)\u001b[0m\n\u001b[0;32m    826\u001b[0m     \u001b[0mtracing_count\u001b[0m \u001b[1;33m=\u001b[0m \u001b[0mself\u001b[0m\u001b[1;33m.\u001b[0m\u001b[0mexperimental_get_tracing_count\u001b[0m\u001b[1;33m(\u001b[0m\u001b[1;33m)\u001b[0m\u001b[1;33m\u001b[0m\u001b[1;33m\u001b[0m\u001b[0m\n\u001b[0;32m    827\u001b[0m     \u001b[1;32mwith\u001b[0m \u001b[0mtrace\u001b[0m\u001b[1;33m.\u001b[0m\u001b[0mTrace\u001b[0m\u001b[1;33m(\u001b[0m\u001b[0mself\u001b[0m\u001b[1;33m.\u001b[0m\u001b[0m_name\u001b[0m\u001b[1;33m)\u001b[0m \u001b[1;32mas\u001b[0m \u001b[0mtm\u001b[0m\u001b[1;33m:\u001b[0m\u001b[1;33m\u001b[0m\u001b[1;33m\u001b[0m\u001b[0m\n\u001b[1;32m--> 828\u001b[1;33m       \u001b[0mresult\u001b[0m \u001b[1;33m=\u001b[0m \u001b[0mself\u001b[0m\u001b[1;33m.\u001b[0m\u001b[0m_call\u001b[0m\u001b[1;33m(\u001b[0m\u001b[1;33m*\u001b[0m\u001b[0margs\u001b[0m\u001b[1;33m,\u001b[0m \u001b[1;33m**\u001b[0m\u001b[0mkwds\u001b[0m\u001b[1;33m)\u001b[0m\u001b[1;33m\u001b[0m\u001b[1;33m\u001b[0m\u001b[0m\n\u001b[0m\u001b[0;32m    829\u001b[0m       \u001b[0mcompiler\u001b[0m \u001b[1;33m=\u001b[0m \u001b[1;34m\"xla\"\u001b[0m \u001b[1;32mif\u001b[0m \u001b[0mself\u001b[0m\u001b[1;33m.\u001b[0m\u001b[0m_experimental_compile\u001b[0m \u001b[1;32melse\u001b[0m \u001b[1;34m\"nonXla\"\u001b[0m\u001b[1;33m\u001b[0m\u001b[1;33m\u001b[0m\u001b[0m\n\u001b[0;32m    830\u001b[0m       \u001b[0mnew_tracing_count\u001b[0m \u001b[1;33m=\u001b[0m \u001b[0mself\u001b[0m\u001b[1;33m.\u001b[0m\u001b[0mexperimental_get_tracing_count\u001b[0m\u001b[1;33m(\u001b[0m\u001b[1;33m)\u001b[0m\u001b[1;33m\u001b[0m\u001b[1;33m\u001b[0m\u001b[0m\n",
      "\u001b[1;32mc:\\Users\\Teja\\Documents\\_INFOTECH\\Thesis\\sample_Ros_bag\\env_rosbag\\lib\\site-packages\\tensorflow\\python\\eager\\def_function.py\u001b[0m in \u001b[0;36m_call\u001b[1;34m(self, *args, **kwds)\u001b[0m\n\u001b[0;32m    853\u001b[0m       \u001b[1;31m# In this case we have created variables on the first call, so we run the\u001b[0m\u001b[1;33m\u001b[0m\u001b[1;33m\u001b[0m\u001b[1;33m\u001b[0m\u001b[0m\n\u001b[0;32m    854\u001b[0m       \u001b[1;31m# defunned version which is guaranteed to never create variables.\u001b[0m\u001b[1;33m\u001b[0m\u001b[1;33m\u001b[0m\u001b[1;33m\u001b[0m\u001b[0m\n\u001b[1;32m--> 855\u001b[1;33m       \u001b[1;32mreturn\u001b[0m \u001b[0mself\u001b[0m\u001b[1;33m.\u001b[0m\u001b[0m_stateless_fn\u001b[0m\u001b[1;33m(\u001b[0m\u001b[1;33m*\u001b[0m\u001b[0margs\u001b[0m\u001b[1;33m,\u001b[0m \u001b[1;33m**\u001b[0m\u001b[0mkwds\u001b[0m\u001b[1;33m)\u001b[0m  \u001b[1;31m# pylint: disable=not-callable\u001b[0m\u001b[1;33m\u001b[0m\u001b[1;33m\u001b[0m\u001b[0m\n\u001b[0m\u001b[0;32m    856\u001b[0m     \u001b[1;32melif\u001b[0m \u001b[0mself\u001b[0m\u001b[1;33m.\u001b[0m\u001b[0m_stateful_fn\u001b[0m \u001b[1;32mis\u001b[0m \u001b[1;32mnot\u001b[0m \u001b[1;32mNone\u001b[0m\u001b[1;33m:\u001b[0m\u001b[1;33m\u001b[0m\u001b[1;33m\u001b[0m\u001b[0m\n\u001b[0;32m    857\u001b[0m       \u001b[1;31m# Release the lock early so that multiple threads can perform the call\u001b[0m\u001b[1;33m\u001b[0m\u001b[1;33m\u001b[0m\u001b[1;33m\u001b[0m\u001b[0m\n",
      "\u001b[1;32mc:\\Users\\Teja\\Documents\\_INFOTECH\\Thesis\\sample_Ros_bag\\env_rosbag\\lib\\site-packages\\tensorflow\\python\\eager\\function.py\u001b[0m in \u001b[0;36m__call__\u001b[1;34m(self, *args, **kwargs)\u001b[0m\n\u001b[0;32m   2941\u001b[0m        filtered_flat_args) = self._maybe_define_function(args, kwargs)\n\u001b[0;32m   2942\u001b[0m     return graph_function._call_flat(\n\u001b[1;32m-> 2943\u001b[1;33m         filtered_flat_args, captured_inputs=graph_function.captured_inputs)  # pylint: disable=protected-access\n\u001b[0m\u001b[0;32m   2944\u001b[0m \u001b[1;33m\u001b[0m\u001b[0m\n\u001b[0;32m   2945\u001b[0m   \u001b[1;33m@\u001b[0m\u001b[0mproperty\u001b[0m\u001b[1;33m\u001b[0m\u001b[1;33m\u001b[0m\u001b[0m\n",
      "\u001b[1;32mc:\\Users\\Teja\\Documents\\_INFOTECH\\Thesis\\sample_Ros_bag\\env_rosbag\\lib\\site-packages\\tensorflow\\python\\eager\\function.py\u001b[0m in \u001b[0;36m_call_flat\u001b[1;34m(self, args, captured_inputs, cancellation_manager)\u001b[0m\n\u001b[0;32m   1917\u001b[0m       \u001b[1;31m# No tape is watching; skip to running the function.\u001b[0m\u001b[1;33m\u001b[0m\u001b[1;33m\u001b[0m\u001b[1;33m\u001b[0m\u001b[0m\n\u001b[0;32m   1918\u001b[0m       return self._build_call_outputs(self._inference_function.call(\n\u001b[1;32m-> 1919\u001b[1;33m           ctx, args, cancellation_manager=cancellation_manager))\n\u001b[0m\u001b[0;32m   1920\u001b[0m     forward_backward = self._select_forward_and_backward_functions(\n\u001b[0;32m   1921\u001b[0m         \u001b[0margs\u001b[0m\u001b[1;33m,\u001b[0m\u001b[1;33m\u001b[0m\u001b[1;33m\u001b[0m\u001b[0m\n",
      "\u001b[1;32mc:\\Users\\Teja\\Documents\\_INFOTECH\\Thesis\\sample_Ros_bag\\env_rosbag\\lib\\site-packages\\tensorflow\\python\\eager\\function.py\u001b[0m in \u001b[0;36mcall\u001b[1;34m(self, ctx, args, cancellation_manager)\u001b[0m\n\u001b[0;32m    558\u001b[0m               \u001b[0minputs\u001b[0m\u001b[1;33m=\u001b[0m\u001b[0margs\u001b[0m\u001b[1;33m,\u001b[0m\u001b[1;33m\u001b[0m\u001b[1;33m\u001b[0m\u001b[0m\n\u001b[0;32m    559\u001b[0m               \u001b[0mattrs\u001b[0m\u001b[1;33m=\u001b[0m\u001b[0mattrs\u001b[0m\u001b[1;33m,\u001b[0m\u001b[1;33m\u001b[0m\u001b[1;33m\u001b[0m\u001b[0m\n\u001b[1;32m--> 560\u001b[1;33m               ctx=ctx)\n\u001b[0m\u001b[0;32m    561\u001b[0m         \u001b[1;32melse\u001b[0m\u001b[1;33m:\u001b[0m\u001b[1;33m\u001b[0m\u001b[1;33m\u001b[0m\u001b[0m\n\u001b[0;32m    562\u001b[0m           outputs = execute.execute_with_cancellation(\n",
      "\u001b[1;32mc:\\Users\\Teja\\Documents\\_INFOTECH\\Thesis\\sample_Ros_bag\\env_rosbag\\lib\\site-packages\\tensorflow\\python\\eager\\execute.py\u001b[0m in \u001b[0;36mquick_execute\u001b[1;34m(op_name, num_outputs, inputs, attrs, ctx, name)\u001b[0m\n\u001b[0;32m     58\u001b[0m     \u001b[0mctx\u001b[0m\u001b[1;33m.\u001b[0m\u001b[0mensure_initialized\u001b[0m\u001b[1;33m(\u001b[0m\u001b[1;33m)\u001b[0m\u001b[1;33m\u001b[0m\u001b[1;33m\u001b[0m\u001b[0m\n\u001b[0;32m     59\u001b[0m     tensors = pywrap_tfe.TFE_Py_Execute(ctx._handle, device_name, op_name,\n\u001b[1;32m---> 60\u001b[1;33m                                         inputs, attrs, num_outputs)\n\u001b[0m\u001b[0;32m     61\u001b[0m   \u001b[1;32mexcept\u001b[0m \u001b[0mcore\u001b[0m\u001b[1;33m.\u001b[0m\u001b[0m_NotOkStatusException\u001b[0m \u001b[1;32mas\u001b[0m \u001b[0me\u001b[0m\u001b[1;33m:\u001b[0m\u001b[1;33m\u001b[0m\u001b[1;33m\u001b[0m\u001b[0m\n\u001b[0;32m     62\u001b[0m     \u001b[1;32mif\u001b[0m \u001b[0mname\u001b[0m \u001b[1;32mis\u001b[0m \u001b[1;32mnot\u001b[0m \u001b[1;32mNone\u001b[0m\u001b[1;33m:\u001b[0m\u001b[1;33m\u001b[0m\u001b[1;33m\u001b[0m\u001b[0m\n",
      "\u001b[1;31mKeyboardInterrupt\u001b[0m: "
     ]
    }
   ],
   "source": [
    "pp_model.fit(ds_train,epochs=1)"
   ]
  },
  {
   "cell_type": "code",
   "execution_count": null,
   "metadata": {},
   "outputs": [],
   "source": [
    "list_number = [0,1,2,3,4,5,6,7,98,5]"
   ]
  },
  {
   "cell_type": "code",
   "execution_count": 12,
   "metadata": {},
   "outputs": [
    {
     "output_type": "execute_result",
     "data": {
      "text/plain": [
       "5"
      ]
     },
     "metadata": {},
     "execution_count": 12
    }
   ],
   "source": [
    "list_number[-1]"
   ]
  },
  {
   "cell_type": "code",
   "execution_count": null,
   "metadata": {},
   "outputs": [],
   "source": []
  }
 ],
 "metadata": {
  "kernelspec": {
   "name": "python3",
   "display_name": "Python 3.7.8 64-bit ('env_rosbag': venv)"
  },
  "language_info": {
   "codemirror_mode": {
    "name": "ipython",
    "version": 3
   },
   "file_extension": ".py",
   "mimetype": "text/x-python",
   "name": "python",
   "nbconvert_exporter": "python",
   "pygments_lexer": "ipython3",
   "version": "3.7.8"
  },
  "metadata": {
   "interpreter": {
    "hash": "bbc9dda3e9e79c7f3242cc2df2a5d623228b80dc5b57011016029c4090ab57c9"
   }
  },
  "interpreter": {
   "hash": "bbc9dda3e9e79c7f3242cc2df2a5d623228b80dc5b57011016029c4090ab57c9"
  }
 },
 "nbformat": 4,
 "nbformat_minor": 2
}