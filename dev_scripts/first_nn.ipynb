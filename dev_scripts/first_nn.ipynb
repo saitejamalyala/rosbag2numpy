{
 "cells": [
  {
   "cell_type": "code",
   "execution_count": 1,
   "metadata": {},
   "outputs": [],
   "source": [
    "import numpy as np \n",
    "from sklearn.model_selection import train_test_split\n",
    "import utils_config\n",
    "import tensorflow as tf\n",
    "\n",
    "from matplotlib import pyplot as plt"
   ]
  },
  {
   "cell_type": "code",
   "execution_count": 2,
   "metadata": {},
   "outputs": [],
   "source": [
    "np.random.seed(2021)"
   ]
  },
  {
   "cell_type": "markdown",
   "metadata": {},
   "source": [
    "## Load Data"
   ]
  },
  {
   "cell_type": "code",
   "execution_count": 3,
   "metadata": {},
   "outputs": [],
   "source": [
    "np_grid_data = np.load(r'_np_griddata.npy')\n",
    "np_init_path = np.load(r'_np_initpath.npy')\n",
    "np_opt_path = np.load(r'_np_optpath.npy')"
   ]
  },
  {
   "cell_type": "code",
   "execution_count": 4,
   "metadata": {},
   "outputs": [
    {
     "output_type": "stream",
     "name": "stdout",
     "text": [
      "1.0\nShape of grid data: (227, 1536, 1536, 1)\nShape of init path: (227, 25, 2)\nShape of opt path: (227, 25, 2)\n"
     ]
    }
   ],
   "source": [
    "np_grid_data = np_grid_data.astype('float32')/127.0\n",
    "np_grid_data = np.reshape(np_grid_data,(np_grid_data.shape[0],np_grid_data.shape[1],np_grid_data.shape[1],1))\n",
    "print(np_grid_data.max())\n",
    "print(\"Shape of grid data:\",np.shape(np_grid_data))\n",
    "print(\"Shape of init path:\",np.shape(np_init_path))\n",
    "print(\"Shape of opt path:\",np.shape(np_opt_path))\n",
    "\n",
    "#plt.matshow(np_grid_data[0])"
   ]
  },
  {
   "cell_type": "markdown",
   "metadata": {},
   "source": [
    "## Check Data balance "
   ]
  },
  {
   "cell_type": "code",
   "execution_count": 5,
   "metadata": {},
   "outputs": [
    {
     "output_type": "stream",
     "name": "stdout",
     "text": [
      "Paths that are similar: 207, which is 0.9118942731277533 of total data\nPaths that are dissimalar: 20,which is 0.0881057268722467 of total data\n"
     ]
    }
   ],
   "source": [
    "# Check Data Balance\n",
    "count=0\n",
    "\n",
    "for i in range(len(np_opt_path)):\n",
    "    if np.array_equiv(np_opt_path[i],np_init_path[i]):\n",
    "        count +=1\n",
    "\n",
    "print(\"Paths that are similar: {}, which is {} of total data\".format(count,(count/len(np_init_path))))\n",
    "print(\"Paths that are dissimalar: {},which is {} of total data\".format((len(np_init_path)-count),((len(np_init_path)-count)/len(np_init_path))))"
   ]
  },
  {
   "cell_type": "markdown",
   "metadata": {},
   "source": [
    "## Build Data set"
   ]
  },
  {
   "cell_type": "code",
   "execution_count": 6,
   "metadata": {},
   "outputs": [],
   "source": [
    "# Split dataset\n",
    "train_grid,test_grid,train_init_path,test_init_path,train_opt_path,test_opt_path = train_test_split(np_grid_data,np_init_path,np_opt_path,random_state=np.random.randint(1),test_size=0.25)"
   ]
  },
  {
   "cell_type": "code",
   "execution_count": 7,
   "metadata": {},
   "outputs": [
    {
     "output_type": "stream",
     "name": "stdout",
     "text": [
      "Shape of training grid data: (170, 1536, 1536, 1)\nShape of training init path: (170, 25, 2)\nShape of training opt path: (170, 25, 2)\n-----------------------------------------------------\nShape of testing grid data: (57, 1536, 1536, 1)\nShape of testing init path: (57, 25, 2)\nShape of testing opt path: (57, 25, 2)\n"
     ]
    }
   ],
   "source": [
    "'''print sizes and shapes of testing and training data'''\n",
    "\n",
    "print(\"Shape of training grid data:\",np.shape(train_grid))\n",
    "print(\"Shape of training init path:\",np.shape(train_init_path))\n",
    "print(\"Shape of training opt path:\",np.shape(train_opt_path))\n",
    "print(\"-----------------------------------------------------\")\n",
    "print(\"Shape of testing grid data:\",np.shape(test_grid))\n",
    "print(\"Shape of testing init path:\",np.shape(test_init_path))\n",
    "print(\"Shape of testing opt path:\",np.shape(test_opt_path))"
   ]
  },
  {
   "cell_type": "code",
   "execution_count": 8,
   "metadata": {},
   "outputs": [],
   "source": [
    "def parse_func(input_data,optimized_path):\n",
    "    \n",
    "    '''    \n",
    "    image_string = tf.io.read_file(filename)\n",
    "    \n",
    "    image_decoded = tf.io.decode_jpeg(image_string, channels=3)\n",
    "   \n",
    "    image = tf.image.resize(image_decoded, size=(util_constants.IMG_SIZE_VGG[0],util_constants.IMG_SIZE_VGG[1]))\n",
    "    \n",
    "    # add random noise to image\n",
    "    noise = tf.random.normal(image.shape,0,3)\n",
    "    \n",
    "    image = image + noise\n",
    "    \n",
    "    image = preprocess_input(image)\n",
    "    '''\n",
    "    grid_data = input_data[0]\n",
    "    \n",
    "    init_path = input_data[1]\n",
    "    \n",
    "    grid_data = tf.cast(grid_data,tf.float16)\n",
    "    grid_data = grid_data/tf.norm(grid_data)\n",
    "    \n",
    "    modified_input = (grid_data,init_path)\n",
    "    return modified_input,optimized_path\n",
    "\n",
    "\n",
    "AUTOTUNE = tf.data.experimental.AUTOTUNE\n",
    "\n",
    "def build_dataset(grid,init_path,opt_path,data_set_type):\n",
    "    \n",
    "    ds = tf.data.Dataset.from_tensor_slices(((grid,init_path),opt_path))\n",
    "    \n",
    "    if data_set_type=='train':\n",
    "        p_var = data_set_type\n",
    "        print(\"####### Buildling {} data set..... ########\".format(p_var))\n",
    "        ds = ds.shuffle(utils_config.N_SHUFFLE_BUFFER)\n",
    "        ds = ds.cache()\n",
    "        ds = ds.map(parse_func, num_parallel_calls = AUTOTUNE)\n",
    "      \n",
    "    if not data_set_type=='train':\n",
    "        print(\"Buildling {} data set\".format(data_set_type))\n",
    "        ds = ds.cache()\n",
    "        #ds = ds.map(parse_func, AUTOTUNE)\n",
    "    \n",
    "    ds = ds.batch(utils_config.H_BATCH_SIZE,drop_remainder=True).prefetch(AUTOTUNE)\n",
    "    \n",
    "    print(ds.element_spec)\n",
    "    \n",
    "    return ds\n",
    "\n"
   ]
  },
  {
   "cell_type": "code",
   "execution_count": 9,
   "metadata": {},
   "outputs": [
    {
     "output_type": "stream",
     "name": "stdout",
     "text": [
      "####### Buildling train data set..... ########\n((TensorSpec(shape=(16, 1536, 1536, 1), dtype=tf.float16, name=None), TensorSpec(shape=(16, 25, 2), dtype=tf.float64, name=None)), TensorSpec(shape=(16, 25, 2), dtype=tf.float64, name=None))\nBuildling test data set\n((TensorSpec(shape=(16, 1536, 1536, 1), dtype=tf.float32, name=None), TensorSpec(shape=(16, 25, 2), dtype=tf.float64, name=None)), TensorSpec(shape=(16, 25, 2), dtype=tf.float64, name=None))\n"
     ]
    }
   ],
   "source": [
    "ds_train = build_dataset(train_grid,train_init_path,train_opt_path,'train')\n",
    "ds_test = build_dataset(test_grid,test_init_path,test_opt_path,'test')"
   ]
  },
  {
   "cell_type": "code",
   "execution_count": 10,
   "metadata": {},
   "outputs": [
    {
     "output_type": "stream",
     "name": "stdout",
     "text": [
      "0.006798\n"
     ]
    }
   ],
   "source": [
    "#check the tensorflow dataset   \n",
    "\n",
    "#next(iter(ds_train))\n",
    "for (input_data,output_data) in ds_train.take(1):\n",
    "    np_one_grid = input_data[0].numpy()\n",
    "    np_one_grid = np_one_grid[0]\n",
    "    print((np_one_grid.max()))\n",
    "    \n",
    "    #(plt.matshow(input_data[0].numpy()[0]))\n",
    "#print(plt.matshow(np.reshape(np_one_grid,(1536,1536))))"
   ]
  },
  {
   "cell_type": "code",
   "execution_count": 11,
   "metadata": {},
   "outputs": [],
   "source": [
    "from tensorflow.keras import layers\n",
    "from tensorflow import keras\n",
    "def nn():\n",
    "\n",
    "    # define two sets of inputs\n",
    "    input_A = layers.Input(shape=(1536,1536,1))\n",
    "    input_B = layers.Input(shape=(25,2))\n",
    "\n",
    "    reshape_input_B = layers.Reshape((50,))(input_B)\n",
    "\n",
    "    #CNN\n",
    "    x_A = layers.Conv2D(32,kernel_size=3,strides=2,activation='relu')(input_A)\n",
    "    x_A = layers.BatchNormalization()(x_A)\n",
    "    x_A = layers.AvgPool2D(pool_size=(4,4))(x_A)\n",
    "\n",
    "    x_A = layers.Conv2D(64,kernel_size=3,strides=2,activation='relu')(x_A)\n",
    "    x_A = layers.BatchNormalization()(x_A)\n",
    "    x_A = layers.AvgPool2D(pool_size=(4,4))(x_A)\n",
    "\n",
    "    x_A = layers.Flatten()(x_A)\n",
    "    \n",
    "    #concatenate feature\n",
    "    concat_feat = layers.concatenate([x_A, reshape_input_B])\n",
    "\n",
    "    #FC\n",
    "    output = layers.Dense(50, activation='linear')(concat_feat)\n",
    "    output = layers.Dense(50, activation='linear')(output)\n",
    "    output = layers.Reshape((25,2))(output)\n",
    "    nn_fun = keras.models.Model(inputs = [input_A, input_B], outputs= output)\n",
    "    \n",
    "    return nn_fun\n",
    "    "
   ]
  },
  {
   "cell_type": "code",
   "execution_count": 12,
   "metadata": {},
   "outputs": [],
   "source": [
    "pp_model = nn()\n",
    "pp_model.compile(optimizer='adam',loss= 'mse', metrics= 'accuracy')"
   ]
  },
  {
   "cell_type": "code",
   "execution_count": 13,
   "metadata": {},
   "outputs": [
    {
     "output_type": "stream",
     "name": "stdout",
     "text": [
      "Model: \"model\"\n__________________________________________________________________________________________________\nLayer (type)                    Output Shape         Param #     Connected to                     \n==================================================================================================\ninput_1 (InputLayer)            [(None, 1536, 1536,  0                                            \n__________________________________________________________________________________________________\nconv2d (Conv2D)                 (None, 767, 767, 32) 320         input_1[0][0]                    \n__________________________________________________________________________________________________\nbatch_normalization (BatchNorma (None, 767, 767, 32) 128         conv2d[0][0]                     \n__________________________________________________________________________________________________\naverage_pooling2d (AveragePooli (None, 191, 191, 32) 0           batch_normalization[0][0]        \n__________________________________________________________________________________________________\nconv2d_1 (Conv2D)               (None, 95, 95, 64)   18496       average_pooling2d[0][0]          \n__________________________________________________________________________________________________\nbatch_normalization_1 (BatchNor (None, 95, 95, 64)   256         conv2d_1[0][0]                   \n__________________________________________________________________________________________________\naverage_pooling2d_1 (AveragePoo (None, 23, 23, 64)   0           batch_normalization_1[0][0]      \n__________________________________________________________________________________________________\ninput_2 (InputLayer)            [(None, 25, 2)]      0                                            \n__________________________________________________________________________________________________\nflatten (Flatten)               (None, 33856)        0           average_pooling2d_1[0][0]        \n__________________________________________________________________________________________________\nreshape (Reshape)               (None, 50)           0           input_2[0][0]                    \n__________________________________________________________________________________________________\nconcatenate (Concatenate)       (None, 33906)        0           flatten[0][0]                    \n                                                                 reshape[0][0]                    \n__________________________________________________________________________________________________\ndense (Dense)                   (None, 50)           1695350     concatenate[0][0]                \n__________________________________________________________________________________________________\ndense_1 (Dense)                 (None, 50)           2550        dense[0][0]                      \n__________________________________________________________________________________________________\nreshape_1 (Reshape)             (None, 25, 2)        0           dense_1[0][0]                    \n==================================================================================================\nTotal params: 1,717,100\nTrainable params: 1,716,908\nNon-trainable params: 192\n__________________________________________________________________________________________________\n"
     ]
    }
   ],
   "source": [
    "pp_model.summary()"
   ]
  },
  {
   "cell_type": "code",
   "execution_count": 14,
   "metadata": {},
   "outputs": [
    {
     "output_type": "stream",
     "name": "stdout",
     "text": [
      "Epoch 1/5\n",
      "10/10 [==============================] - 87s 8s/step - loss: 507.1895 - accuracy: 0.6566\n",
      "Epoch 2/5\n",
      "10/10 [==============================] - 91s 9s/step - loss: 194.5522 - accuracy: 0.9467\n",
      "Epoch 3/5\n",
      "10/10 [==============================] - 107s 11s/step - loss: 103.3802 - accuracy: 0.9568\n",
      "Epoch 4/5\n",
      "10/10 [==============================] - 106s 10s/step - loss: 74.8188 - accuracy: 0.9371\n",
      "Epoch 5/5\n",
      "10/10 [==============================] - 84s 8s/step - loss: 51.2319 - accuracy: 0.9285\n"
     ]
    },
    {
     "output_type": "execute_result",
     "data": {
      "text/plain": [
       "<tensorflow.python.keras.callbacks.History at 0x22162b75748>"
      ]
     },
     "metadata": {},
     "execution_count": 14
    }
   ],
   "source": [
    "pp_model.fit(ds_train,epochs=5)"
   ]
  },
  {
   "cell_type": "code",
   "execution_count": 11,
   "metadata": {},
   "outputs": [],
   "source": [
    "list_number = [0,1,2,3,4,5,6,7,98,5]"
   ]
  },
  {
   "cell_type": "code",
   "execution_count": 12,
   "metadata": {},
   "outputs": [
    {
     "output_type": "execute_result",
     "data": {
      "text/plain": [
       "5"
      ]
     },
     "metadata": {},
     "execution_count": 12
    }
   ],
   "source": [
    "list_number[-1]"
   ]
  },
  {
   "cell_type": "code",
   "execution_count": null,
   "metadata": {},
   "outputs": [],
   "source": []
  }
 ],
 "metadata": {
  "kernelspec": {
   "name": "pythonjvsc74a57bd0bbc9dda3e9e79c7f3242cc2df2a5d623228b80dc5b57011016029c4090ab57c9",
   "display_name": "Python 3.7.8 64-bit ('env_rosbag': venv)"
  },
  "language_info": {
   "codemirror_mode": {
    "name": "ipython",
    "version": 3
   },
   "file_extension": ".py",
   "mimetype": "text/x-python",
   "name": "python",
   "nbconvert_exporter": "python",
   "pygments_lexer": "ipython3",
   "version": "3.7.8"
  },
  "metadata": {
   "interpreter": {
    "hash": "bbc9dda3e9e79c7f3242cc2df2a5d623228b80dc5b57011016029c4090ab57c9"
   }
  }
 },
 "nbformat": 4,
 "nbformat_minor": 2
}