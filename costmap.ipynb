{
 "cells": [
  {
   "cell_type": "code",
   "execution_count": 114,
   "source": [
    "import os\n",
    "import sys\n",
    "sys.path.append(\"../\")\n",
    "from tensorflow.keras import layers\n",
    "from tensorflow import keras\n",
    "import tensorflow.keras.backend as K\n",
    "import tensorflow as tf\n",
    "from glob import glob\n",
    "from tqdm import trange\n",
    "from typing import List,Tuple\n",
    "from data_processing.data_loader import dataset_loader\n",
    "from losses import euclidean_distance_loss,endpoint_loss\n",
    "from models import endpoint_in_model,conv1x1_endpoint_in_model,coordconv1x1_endpoint_in_model\n",
    "from matplotlib import pyplot as plt\n",
    "import numpy as np\n",
    "from numpy import ndarray\n",
    "from config import params,generalization_model_params as g_params\n",
    "import json \n",
    "print(tf.__version__)\n",
    "\n",
    "os.environ['CUDA_VISIBLE_DEVICES']=\"4,5,6\"\n",
    "print(\"Num GPUs Available: \", len(tf.config.list_physical_devices('GPU')))\n",
    "\n"
   ],
   "outputs": [
    {
     "output_type": "stream",
     "name": "stdout",
     "text": [
      "2.3.0\n",
      "Num GPUs Available:  3\n"
     ]
    }
   ],
   "metadata": {}
  },
  {
   "cell_type": "code",
   "execution_count": 2,
   "source": [
    "dataset_dir = '/netpool/work/gpu-3/users/malyalasa/New_folder/tf_records'\n",
    "ds_loader = dataset_loader(tfrec_dir=params.get(\"dataset_dir\"), batch_size=32,normalize_coords=True,normalize_factor=1)\n",
    "#ds_train, ds_valid, ds_test = ds_loader.build_dataset()\n",
    "#ds_train, ds_valid, ds_test = ds_loader.build_scenario_dataset(consider_scenes=10,no_train_scene=8,no_valid_scene=1,no_test_scene=1)\n",
    "ds_train, ds_valid, ds_test = ds_loader.build_scenario_dataset(consider_scenes=10,no_train_scene=8,no_valid_scene=1,no_test_scene=1)\n"
   ],
   "outputs": [
    {
     "output_type": "stream",
     "name": "stdout",
     "text": [
      "Scenarios:['/bigpool/projects/yao_SCANGAN360/New_Folder/tf_records/scenario1', '/bigpool/projects/yao_SCANGAN360/New_Folder/tf_records/scenario2', '/bigpool/projects/yao_SCANGAN360/New_Folder/tf_records/scenario3', '/bigpool/projects/yao_SCANGAN360/New_Folder/tf_records/scenario4', '/bigpool/projects/yao_SCANGAN360/New_Folder/tf_records/scenario5', '/bigpool/projects/yao_SCANGAN360/New_Folder/tf_records/scenario_ph_11', '/bigpool/projects/yao_SCANGAN360/New_Folder/tf_records/scenario_ph_12', '/bigpool/projects/yao_SCANGAN360/New_Folder/tf_records/scenario_ph_13', '/bigpool/projects/yao_SCANGAN360/New_Folder/tf_records/scenario_ph_14', '/bigpool/projects/yao_SCANGAN360/New_Folder/tf_records/scenario_ph_15']\n",
      "Building Dataset.......\n",
      "\n",
      "Number of records, Train files:610, validation files:109, Test Files:98\n",
      "((TensorSpec(shape=(None, 1536, 1536), dtype=tf.int8, name=None),\n",
      "  TensorSpec(shape=(None, None), dtype=tf.float32, name=None),\n",
      "  TensorSpec(shape=(None, 25, 2), dtype=tf.float32, name=None),\n",
      "  TensorSpec(shape=(None, 25, 2), dtype=tf.float32, name=None),\n",
      "  TensorSpec(shape=(None, 3), dtype=tf.float32, name=None),\n",
      "  TensorSpec(shape=(None, 25, 2), dtype=tf.float32, name=None),\n",
      "  TensorSpec(shape=(None,), dtype=tf.string, name=None)),\n",
      " TensorSpec(shape=(None, 25, 2), dtype=tf.float32, name=None))\n"
     ]
    }
   ],
   "metadata": {}
  },
  {
   "cell_type": "code",
   "execution_count": 3,
   "source": [
    "def get_test_ds_size(ds_test):\n",
    "    num_of_samples=0\n",
    "    for input_batch, output_batch in ds_test:\n",
    "        for i in range(0,len(input_batch[0].numpy())):\n",
    "            num_of_samples+=1\n",
    "    return num_of_samples\n",
    "\n",
    "def get_np_test_ds(ds_test):\n",
    "\n",
    "    samples = get_test_ds_size(ds_test)\n",
    "    np_tst_gridmap = np.zeros(shape=(samples,1536,1536))\n",
    "    np_tst_grid_org_res = np.zeros(shape=(samples,3))\n",
    "    np_tst_left_bnd = np.zeros(shape=(samples,25,2))\n",
    "    np_tst_right_bnd = np.zeros(shape=(samples,25,2))\n",
    "    np_tst_car_odo = np.zeros(shape=(samples,3))\n",
    "    np_tst_init_path = np.zeros(shape=(samples,25,2))\n",
    "    np_tst_opt_path = np.zeros(shape=(samples,25,2))\n",
    "    list_tst_file_details = []\n",
    "\n",
    "    j=0\n",
    "    for input_batch, output_batch in ds_test:\n",
    "        \n",
    "        for i in range(0,len(input_batch[0].numpy())):\n",
    "            np_tst_gridmap[j]=input_batch[0][i].numpy()\n",
    "            np_tst_grid_org_res[j] = input_batch[1][i].numpy()\n",
    "            np_tst_left_bnd[j] = input_batch[2][i].numpy()\n",
    "            np_tst_right_bnd[j] = input_batch[3][i].numpy()\n",
    "            np_tst_car_odo[j] = input_batch[4][i].numpy()\n",
    "            np_tst_init_path[j] = input_batch[5][i].numpy()\n",
    "            list_tst_file_details.append(input_batch[6][i])\n",
    "\n",
    "            np_tst_opt_path[j] = output_batch[i].numpy()\n",
    "            j=j+1   \n",
    "    return np_tst_gridmap,np_tst_grid_org_res,np_tst_left_bnd,np_tst_right_bnd,np_tst_car_odo,np_tst_init_path,list_tst_file_details,np_tst_opt_path"
   ],
   "outputs": [],
   "metadata": {}
  },
  {
   "cell_type": "code",
   "execution_count": 4,
   "source": [
    "#get numpy arrays of input test data\n",
    "\n",
    "np_tst_gridmap,np_tst_grid_org_res,np_tst_left_bnd,np_tst_right_bnd,np_tst_car_odo,np_tst_init_path,list_tst_file_details,np_tst_opt_path =get_np_test_ds(ds_test)\n"
   ],
   "outputs": [],
   "metadata": {}
  },
  {
   "cell_type": "code",
   "execution_count": 146,
   "source": [
    "#plot all inputs on gridmap(also an input)\n",
    "\n",
    "def plot_scene(features,normalized_coords:bool=True,normalized_factor = 1):    \n",
    "    grid_map = features[\"grid_map\"]\n",
    "    grid_org = features[\"grid_org_res\"] #[x,y,resolution]\n",
    "    left_bnd = features[\"left_bnd\"]\n",
    "    right_bnd = features[\"right_bnd\"]\n",
    "    init_path = features[\"init_path\"]\n",
    "    opt_path = features[\"opt_path\"]\n",
    "    car_odo = features[\"car_odo\"]\n",
    "\n",
    "    #predict_path = features[\"predictions\"]\n",
    "    file_details=features[\"file_details\"]\n",
    "\n",
    "    #print(type(grid_map))\n",
    "    \n",
    "    plt.figure(figsize=(10, 10))\n",
    "    #ax=fig.add_subplot(1,1,1)\n",
    "    if normalized_coords:\n",
    "        #res = grid_org[2]\n",
    "            plt.plot(\n",
    "                left_bnd[:, 0]*normalized_factor,\n",
    "                left_bnd[:, 1]*normalized_factor,\n",
    "                \"-.\",\n",
    "                color=\"magenta\",\n",
    "                markersize=0.5,\n",
    "                linewidth=0.5,\n",
    "            )\n",
    "\n",
    "            plt.plot(\n",
    "                init_path[:, 0]*normalized_factor,\n",
    "                init_path[:, 1]*normalized_factor,\n",
    "                \"o-\",\n",
    "                color=\"lawngreen\",\n",
    "                markersize=1,\n",
    "                linewidth=1,\n",
    "            )\n",
    "            plt.plot(\n",
    "                opt_path[:, 0]*normalized_factor,\n",
    "                opt_path[:, 1]*normalized_factor,\n",
    "                \"--\",\n",
    "                color=\"yellow\",\n",
    "                markersize=1,\n",
    "                linewidth=1,\n",
    "            )\n",
    "            \"\"\"\n",
    "            plt.plot(\n",
    "                predict_path[:, 0]*normalized_factor,\n",
    "                predict_path[:, 1]*normalized_factor,\n",
    "                \"--\",\n",
    "                color=\"orange\",\n",
    "                markersize=1,\n",
    "                linewidth=1,\n",
    "            )\"\"\"\n",
    "\n",
    "            plt.plot(\n",
    "                right_bnd[:, 0]*normalized_factor,\n",
    "                right_bnd[:, 1]*normalized_factor,\n",
    "                \"-.\",\n",
    "                color=\"magenta\",\n",
    "                markersize=0.5,\n",
    "                linewidth=0.5,\n",
    "            )\n",
    "\n",
    "            plt.plot(\n",
    "                car_odo[0]*normalized_factor,\n",
    "                car_odo[1]*normalized_factor,\n",
    "                \"r*\",\n",
    "                color=\"red\",\n",
    "                markersize=8,\n",
    "            )\n",
    "\n",
    "    else:\n",
    "        res = grid_org[2]\n",
    "        plt.plot((left_bnd[:,0]-grid_org[0])/res,(left_bnd[:,1]-grid_org[1])/res,'-.', color='magenta',markersize=0.5, linewidth=0.5)\n",
    "\n",
    "        plt.plot((init_path[:,0]-grid_org[0])/res,(init_path[:,1]-grid_org[1])/res,'o-', color='lawngreen',markersize=1, linewidth=1)\n",
    "\n",
    "        plt.plot((opt_path[:,0]-grid_org[0])/res,(opt_path[:,1]-grid_org[1])/res,'--', color='yellow',markersize=1, linewidth=1)\n",
    "\n",
    "        #plt.plot((predict_path[:,0]-grid_org[0])/res,(predict_path[:,1]-grid_org[1])/res,'--', color='orange',markersize=1, linewidth=1)\n",
    "\n",
    "        plt.plot((right_bnd[:,0]-grid_org[0])/res,(right_bnd[:,1]-grid_org[1])/res, '-.',color='magenta',markersize=0.5, linewidth=0.5)\n",
    "\n",
    "        plt.plot((car_odo[0]-grid_org[0])/res,(car_odo[1]-grid_org[1])/res,'r*', color = 'red',markersize=8)\n",
    "\n",
    "\n",
    "    plt.legend(['Left bound', 'gt_init_path', 'gt_opt_path','predicted_path','right bound', 'car_centre'], loc='lower left')\n",
    "\n",
    "    plt.imshow(grid_map,origin=\"lower\",cmap='gray')\n",
    "    plt.colorbar()\n",
    "    plt.title(f\"{file_details}\\nTest Index: {features['testidx']}\")\n",
    "    #save_fig_dir = '/netpool/work/gpu-3/users/malyalasa/New_folder/rosbag2numpy/test_results/all_testset_results'\n",
    "    \n",
    "    #print(type(file_details))\n",
    "\n",
    "    #return ax,fig\n",
    "\n",
    "    \"\"\"\n",
    "    print((init_path[:,0]-grid_org[0])/res,(init_path[:,1]-grid_org[1])/res)\n",
    "    print((predict_path[:,0]-grid_org[0])/res,(predict_path[:,1]-grid_org[1])/res)\n",
    "    \"\"\"\n",
    "\n"
   ],
   "outputs": [],
   "metadata": {}
  },
  {
   "cell_type": "code",
   "execution_count": 156,
   "source": [
    "test_idx= 1400#1320#1180#80#143#120#400#1400#200#250#143#1400#320#143#143#250#12#250#10#15#143#12#785#1000#28#530#143#120#15#1300#530#320#50#1050\n",
    "#%matplotlib agg\n",
    "#for test_idx in trange(0,len(np_tst_gridmap)):\n",
    "test_data = {\n",
    "    \"grid_map\": np_tst_gridmap[test_idx],\n",
    "    \"grid_org_res\": np_tst_grid_org_res[test_idx],\n",
    "    \"left_bnd\": np_tst_left_bnd[test_idx],\n",
    "    \"right_bnd\": np_tst_right_bnd[test_idx],\n",
    "    \"car_odo\": np_tst_car_odo[test_idx],\n",
    "    \"init_path\": np_tst_init_path[test_idx],\n",
    "    \"opt_path\": np_tst_opt_path[test_idx],\n",
    "    #\"predictions\": predictions[test_idx],\n",
    "    \"file_details\": list_tst_file_details[test_idx],\n",
    "    \"testidx\": test_idx,\n",
    "}\n",
    "\n",
    "    #print(test_data[\"left_bnd\"])\n",
    "plot_scene(test_data,normalized_coords=True, normalized_factor = 1)\n",
    "\n",
    "#np.savez('anirush.npz',test_data[\"grid_map\"],test_data['car_odo'])\n",
    "#print(np.max(costmap))"
   ],
   "outputs": [
    {
     "output_type": "display_data",
     "data": {
      "text/plain": [
       "<Figure size 720x720 with 2 Axes>"
      ],
      "image/png": "[encoded data removed]"
     },
     "metadata": {
      "needs_background": "light"
     }
    }
   ],
   "metadata": {}
  },
  {
   "cell_type": "code",
   "execution_count": 157,
   "source": [
    "def calc_direction_cost(car_coords:ndarray,endpoint_unit_normal:ndarray,vector:ndarray):\n",
    "    direction = car_coords-vector\n",
    "    direction_unit = direction/np.linalg.norm(x=direction)\n",
    "\n",
    "    direction_cost = np.dot(direction_unit,endpoint_unit_normal)\n",
    "\n",
    "    return direction_cost\n",
    "\n",
    "def calc_costmap(gridmap:ndarray,car_odo:ndarray,initial_path:ndarray,include_dir_cost:bool,distance_mag:float=0.40)->ndarray:\n",
    "    \"\"\"Function to transfor grid map to cost map\n",
    "\n",
    "    Args:\n",
    "        gridmap (ndarray): Binary occupancy grid map\n",
    "        car_odo (ndarray): [description]\n",
    "        initial_path (ndarray): [description]\n",
    "        distance_mag (float, optional): lower it is larger cost considered for the occupied cells. Defaults to 0.40.\n",
    "\n",
    "    Returns:\n",
    "        ndarray: [description]\n",
    "    \"\"\"\n",
    "    \n",
    "    car_coords = car_odo[0:2]\n",
    "    end_coords = initial_path[-1]\n",
    "\n",
    "    # Initialize distance and direction costmap \n",
    "    dist_costmap = np.zeros(shape=(1536,1536))\n",
    "    dir_costmap =  np.zeros(shape=(1536,1536))\n",
    "\n",
    "    ################# calculate distance costmap ################\n",
    "    \n",
    "    # get occuppied cell indices\n",
    "    (y,x) = np.where(gridmap==1)\n",
    "    # create coordinate pairs of location of occupied cells\n",
    "    coords = np.array((x,y)).T\n",
    "\n",
    "    # eucledian difference\n",
    "    distance = np.square(coords-car_coords)\n",
    "    distance = np.sum(distance, axis=1)\n",
    "    distance = 1/(distance**distance_mag)\n",
    "\n",
    "    dist_costmap[(y,x)]=distance\n",
    "\n",
    "    ################# Direction cost map ######################\n",
    "    # end point direction\n",
    "    if include_dir_cost:\n",
    "        direction_vector = car_coords-end_coords\n",
    "\n",
    "        # unit vector between, car location and end point\n",
    "        end_dir_unit = direction_vector/np.linalg.norm(x=direction_vector)\n",
    "\n",
    "        # calculate dir cost for all occupied cell locations\n",
    "        direction_cost= np.asarray([calc_direction_cost(car_coords=car_coords,endpoint_unit_normal=end_dir_unit,vector=coord) for coord in coords])\n",
    "\n",
    "        # zero down all opposite directions to end point\n",
    "        direction_cost[np.where(direction_cost<0)]=0.0\n",
    "        #plt.hist(dir_cost)\n",
    "        dir_costmap[(y,x)] = direction_cost\n",
    "    else:\n",
    "        dir_costmap = np.ones(shape=(1536,1536))\n",
    "\n",
    "    # pointwise multiply distance cost and direction cost\n",
    "    costmap = dist_costmap*dir_costmap\n",
    "\n",
    "    # normalize cost map between [0,1]\n",
    "    costmap = costmap/np.max(costmap)\n",
    "\n",
    "    return costmap\n",
    "\n",
    "\n",
    "total_cost_map = calc_costmap(gridmap=test_data[\"grid_map\"],car_odo=test_data[\"car_odo\"],initial_path=test_data[\"init_path\"],include_dir_cost=True,distance_mag=0.23)\n",
    "\n",
    "car_coords = test_data[\"car_odo\"][0:2]\n",
    "end_coords = test_data[\"init_path\"][-1]\n",
    "\n",
    "plt.figure(figsize=(15,15))\n",
    "\n",
    "#plt.subplot(1,2,1)\n",
    "#plt.imshow(test_data[\"grid_map\"],origin=\"lower\",cmap = 'gray')\n",
    "#plt.subplot(1,2,2)\n",
    "\n",
    "plt.imshow(total_cost_map,origin=\"lower\",cmap='jet')\n",
    "\"\"\"\n",
    "plt.plot(\n",
    "    car_coords[0]*1,\n",
    "    car_coords[1]*1,\n",
    "    \"r*\",\n",
    "    color=\"red\",\n",
    "    markersize=8,\n",
    ")\n",
    "\n",
    "plt.plot(\n",
    "    end_coords[0]*1,\n",
    "    end_coords[1]*1,\n",
    "    \"r*\",\n",
    "    color=\"yellow\",\n",
    "    markersize=8,\n",
    ")\n",
    "\"\"\"\n",
    "plt.colorbar()"
   ],
   "outputs": [
    {
     "output_type": "execute_result",
     "data": {
      "text/plain": [
       "<matplotlib.colorbar.Colorbar at 0x7ff2382df0a0>"
      ]
     },
     "metadata": {},
     "execution_count": 157
    },
    {
     "output_type": "display_data",
     "data": {
      "text/plain": [
       "<Figure size 1080x1080 with 2 Axes>"
      ],
      "image/png": "[encoded data removed]"
     },
     "metadata": {
      "needs_background": "light"
     }
    }
   ],
   "metadata": {}
  },
  {
   "cell_type": "code",
   "execution_count": 113,
   "source": [
    "\n",
    "car_coords = test_data[\"car_odo\"][0:2]\n",
    "end_coords = test_data[\"init_path\"][-1]\n",
    "print(f'car odo :{test_data[\"car_odo\"]}, end coords: {end_coords}')\n",
    "costmap = np.zeros(shape=(1536,1536))\n",
    "dir_costmap = np.zeros(shape=(1536,1536))\n",
    "\n",
    "a = test_data[\"grid_map\"]\n",
    "#costmap = a\n",
    "\n",
    "# = np.argwhere(a>0)\n",
    "#print(xx,yy)\n",
    "#a[idx[0]]\n",
    "(y,x) = np.where(a==1)\n",
    "print(x,y)\n",
    "coords = np.array((x,y)).T\n",
    "print(coords[0:2])\n",
    "d = np.square(coords-car_coords)\n",
    "\n",
    "d= np.sum(d,axis=1)\n",
    "#d = np.sqrt(d)\n",
    "\n",
    "direction = car_coords-end_coords\n",
    "end_dir = direction/np.linalg.norm(x=direction)\n",
    "\n",
    "\n",
    "def calc_direction(car_coords,vector):\n",
    "    direction = car_coords-vector\n",
    "    direction_unit = direction/np.linalg.norm(x=direction)\n",
    "\n",
    "    direction_cost = np.dot(direction_unit,end_dir)\n",
    "\n",
    "    return direction_cost\n",
    "\n",
    "dir_cost=np.asarray([calc_direction(car_coords,coord) for coord in coords])\n",
    "\n",
    "dir_cost[np.where(dir_cost<0)]=0.0\n",
    "#plt.hist(dir_cost)\n",
    "dir_costmap[(y,x)] = dir_cost\n",
    "\n",
    "print(f\"dir cost:{np.min(dir_cost)}\")\n",
    "\n",
    "\n",
    "d = 1/(d**0.45)\n",
    "costmap[(y,x)]=d\n",
    "\n",
    "\n",
    "costmap = costmap*dir_costmap\n",
    "costmap = costmap/np.max(costmap)\n",
    "\n",
    "\n",
    "plt.figure(figsize=(15,15))\n",
    "\n",
    "#plt.subplot(1,2,1)\n",
    "plt.imshow(test_data[\"grid_map\"],origin=\"lower\")\n",
    "\"\"\"\n",
    "#plt.subplot(1,2,2)\n",
    "\"\"\"\n",
    "plt.imshow(costmap,origin=\"lower\",cmap='jet')\n",
    "plt.plot(\n",
    "    car_coords[0]*1,\n",
    "    car_coords[1]*1,\n",
    "    \"r*\",\n",
    "    color=\"red\",\n",
    "    markersize=8,\n",
    ")\n",
    "plt.plot(\n",
    "    end_coords[0],\n",
    "    end_coords[1],\n",
    "    \"r*\",\n",
    "    color=\"yellow\",\n",
    "    markersize=8,\n",
    ")\n",
    "\n",
    "plt.colorbar()\n"
   ],
   "outputs": [
    {
     "output_type": "stream",
     "name": "stdout",
     "text": [
      "car odo :[816.81329346 964.78674316   4.4669261 ], end coords: [790.31750488 832.28369141]\n",
      "[973 974 975 ... 748 749 750] [ 518  518  518 ... 1471 1471 1471]\n",
      "[[973 518]\n",
      " [974 518]]\n",
      "dir cost:0.0\n"
     ]
    },
    {
     "output_type": "execute_result",
     "data": {
      "text/plain": [
       "<matplotlib.colorbar.Colorbar at 0x7ff2f43c6c10>"
      ]
     },
     "metadata": {},
     "execution_count": 113
    },
    {
     "output_type": "display_data",
     "data": {
      "text/plain": [
       "<Figure size 1080x1080 with 2 Axes>"
      ],
      "image/png": "[encoded data removed]"
     },
     "metadata": {
      "needs_background": "light"
     }
    }
   ],
   "metadata": {}
  },
  {
   "cell_type": "code",
   "execution_count": 14,
   "source": [
    "plt.plot(predictions[test_idx][:,0],predictions[test_idx][:,1],'-o', color = 'orange', markersize=1, linewidth=1)\n",
    "plt.plot(np_tst_init_path[test_idx][:,0],np_tst_init_path[test_idx][:,1],'-o', color='lawngreen',markersize=2, linewidth=1)\n",
    "plt.plot(np_tst_opt_path[test_idx][:,0],np_tst_opt_path[test_idx][:,1],'-o', color='yellow',markersize=2, linewidth=1)\n",
    "plt.show()\n",
    "\n",
    "print(np_tst_init_path[test_idx])"
   ],
   "outputs": [
    {
     "output_type": "display_data",
     "data": {
      "text/plain": [
       "<Figure size 432x288 with 1 Axes>"
      ],
      "image/png": "[encoded data removed]",
      "image/svg+xml": "<?xml version=\"1.0\" encoding=\"utf-8\" standalone=\"no\"?>\n<!DOCTYPE svg PUBLIC \"-//W3C//DTD SVG 1.1//EN\"\n  \"http://www.w3.org/Graphics/SVG/1.1/DTD/svg11.dtd\">\n<!-- Created with matplotlib (https://matplotlib.org/) -->\n<svg height=\"248.518125pt\" version=\"1.1\" viewBox=\"0 0 375.2875 248.518125\" width=\"375.2875pt\" xmlns=\"http://www.w3.org/2000/svg\" xmlns:xlink=\"http://www.w3.org/1999/xlink\">\n <defs>\n  <style type=\"text/css\">\n*{stroke-linecap:butt;stroke-linejoin:round;}\n  </style>\n </defs>\n <g id=\"figure_1\">\n  <g id=\"patch_1\">\n   <path d=\"M 0 248.518125 \nL 375.2875 248.518125 \nL 375.2875 0 \nL 0 0 \nz\n\" style=\"fill:none;\"/>\n  </g>\n  <g id=\"axes_1\">\n   <g id=\"patch_2\">\n    <path d=\"M 33.2875 224.64 \nL 368.0875 224.64 \nL 368.0875 7.2 \nL 33.2875 7.2 \nz\n\" style=\"fill:#ffffff;\"/>\n   </g>\n   <g id=\"matplotlib.axis_1\">\n    <g id=\"xtick_1\">\n     <g id=\"line2d_1\">\n      <defs>\n       <path d=\"M 0 0 \nL 0 3.5 \n\" id=\"m3e58174b9e\" style=\"stroke:#000000;stroke-width:0.8;\"/>\n      </defs>\n      <g>\n       <use style=\"stroke:#000000;stroke-width:0.8;\" x=\"59.6536\" xlink:href=\"#m3e58174b9e\" y=\"224.64\"/>\n      </g>\n     </g>\n     <g id=\"text_1\">\n      <!-- 750 -->\n      <defs>\n       <path d=\"M 8.203125 72.90625 \nL 55.078125 72.90625 \nL 55.078125 68.703125 \nL 28.609375 0 \nL 18.3125 0 \nL 43.21875 64.59375 \nL 8.203125 64.59375 \nz\n\" id=\"DejaVuSans-55\"/>\n       <path d=\"M 10.796875 72.90625 \nL 49.515625 72.90625 \nL 49.515625 64.59375 \nL 19.828125 64.59375 \nL 19.828125 46.734375 \nQ 21.96875 47.46875 24.109375 47.828125 \nQ 26.265625 48.1875 28.421875 48.1875 \nQ 40.625 48.1875 47.75 41.5 \nQ 54.890625 34.8125 54.890625 23.390625 \nQ 54.890625 11.625 47.5625 5.09375 \nQ 40.234375 -1.421875 26.90625 -1.421875 \nQ 22.3125 -1.421875 17.546875 -0.640625 \nQ 12.796875 0.140625 7.71875 1.703125 \nL 7.71875 11.625 \nQ 12.109375 9.234375 16.796875 8.0625 \nQ 21.484375 6.890625 26.703125 6.890625 \nQ 35.15625 6.890625 40.078125 11.328125 \nQ 45.015625 15.765625 45.015625 23.390625 \nQ 45.015625 31 40.078125 35.4375 \nQ 35.15625 39.890625 26.703125 39.890625 \nQ 22.75 39.890625 18.8125 39.015625 \nQ 14.890625 38.140625 10.796875 36.28125 \nz\n\" id=\"DejaVuSans-53\"/>\n       <path d=\"M 31.78125 66.40625 \nQ 24.171875 66.40625 20.328125 58.90625 \nQ 16.5 51.421875 16.5 36.375 \nQ 16.5 21.390625 20.328125 13.890625 \nQ 24.171875 6.390625 31.78125 6.390625 \nQ 39.453125 6.390625 43.28125 13.890625 \nQ 47.125 21.390625 47.125 36.375 \nQ 47.125 51.421875 43.28125 58.90625 \nQ 39.453125 66.40625 31.78125 66.40625 \nz\nM 31.78125 74.21875 \nQ 44.046875 74.21875 50.515625 64.515625 \nQ 56.984375 54.828125 56.984375 36.375 \nQ 56.984375 17.96875 50.515625 8.265625 \nQ 44.046875 -1.421875 31.78125 -1.421875 \nQ 19.53125 -1.421875 13.0625 8.265625 \nQ 6.59375 17.96875 6.59375 36.375 \nQ 6.59375 54.828125 13.0625 64.515625 \nQ 19.53125 74.21875 31.78125 74.21875 \nz\n\" id=\"DejaVuSans-48\"/>\n      </defs>\n      <g transform=\"translate(50.10985 239.238438)scale(0.1 -0.1)\">\n       <use xlink:href=\"#DejaVuSans-55\"/>\n       <use x=\"63.623047\" xlink:href=\"#DejaVuSans-53\"/>\n       <use x=\"127.246094\" xlink:href=\"#DejaVuSans-48\"/>\n      </g>\n     </g>\n    </g>\n    <g id=\"xtick_2\">\n     <g id=\"line2d_2\">\n      <g>\n       <use style=\"stroke:#000000;stroke-width:0.8;\" x=\"129.577219\" xlink:href=\"#m3e58174b9e\" y=\"224.64\"/>\n      </g>\n     </g>\n     <g id=\"text_2\">\n      <!-- 760 -->\n      <defs>\n       <path d=\"M 33.015625 40.375 \nQ 26.375 40.375 22.484375 35.828125 \nQ 18.609375 31.296875 18.609375 23.390625 \nQ 18.609375 15.53125 22.484375 10.953125 \nQ 26.375 6.390625 33.015625 6.390625 \nQ 39.65625 6.390625 43.53125 10.953125 \nQ 47.40625 15.53125 47.40625 23.390625 \nQ 47.40625 31.296875 43.53125 35.828125 \nQ 39.65625 40.375 33.015625 40.375 \nz\nM 52.59375 71.296875 \nL 52.59375 62.3125 \nQ 48.875 64.0625 45.09375 64.984375 \nQ 41.3125 65.921875 37.59375 65.921875 \nQ 27.828125 65.921875 22.671875 59.328125 \nQ 17.53125 52.734375 16.796875 39.40625 \nQ 19.671875 43.65625 24.015625 45.921875 \nQ 28.375 48.1875 33.59375 48.1875 \nQ 44.578125 48.1875 50.953125 41.515625 \nQ 57.328125 34.859375 57.328125 23.390625 \nQ 57.328125 12.15625 50.6875 5.359375 \nQ 44.046875 -1.421875 33.015625 -1.421875 \nQ 20.359375 -1.421875 13.671875 8.265625 \nQ 6.984375 17.96875 6.984375 36.375 \nQ 6.984375 53.65625 15.1875 63.9375 \nQ 23.390625 74.21875 37.203125 74.21875 \nQ 40.921875 74.21875 44.703125 73.484375 \nQ 48.484375 72.75 52.59375 71.296875 \nz\n\" id=\"DejaVuSans-54\"/>\n      </defs>\n      <g transform=\"translate(120.033469 239.238438)scale(0.1 -0.1)\">\n       <use xlink:href=\"#DejaVuSans-55\"/>\n       <use x=\"63.623047\" xlink:href=\"#DejaVuSans-54\"/>\n       <use x=\"127.246094\" xlink:href=\"#DejaVuSans-48\"/>\n      </g>\n     </g>\n    </g>\n    <g id=\"xtick_3\">\n     <g id=\"line2d_3\">\n      <g>\n       <use style=\"stroke:#000000;stroke-width:0.8;\" x=\"199.500838\" xlink:href=\"#m3e58174b9e\" y=\"224.64\"/>\n      </g>\n     </g>\n     <g id=\"text_3\">\n      <!-- 770 -->\n      <g transform=\"translate(189.957088 239.238438)scale(0.1 -0.1)\">\n       <use xlink:href=\"#DejaVuSans-55\"/>\n       <use x=\"63.623047\" xlink:href=\"#DejaVuSans-55\"/>\n       <use x=\"127.246094\" xlink:href=\"#DejaVuSans-48\"/>\n      </g>\n     </g>\n    </g>\n    <g id=\"xtick_4\">\n     <g id=\"line2d_4\">\n      <g>\n       <use style=\"stroke:#000000;stroke-width:0.8;\" x=\"269.424458\" xlink:href=\"#m3e58174b9e\" y=\"224.64\"/>\n      </g>\n     </g>\n     <g id=\"text_4\">\n      <!-- 780 -->\n      <defs>\n       <path d=\"M 31.78125 34.625 \nQ 24.75 34.625 20.71875 30.859375 \nQ 16.703125 27.09375 16.703125 20.515625 \nQ 16.703125 13.921875 20.71875 10.15625 \nQ 24.75 6.390625 31.78125 6.390625 \nQ 38.8125 6.390625 42.859375 10.171875 \nQ 46.921875 13.96875 46.921875 20.515625 \nQ 46.921875 27.09375 42.890625 30.859375 \nQ 38.875 34.625 31.78125 34.625 \nz\nM 21.921875 38.8125 \nQ 15.578125 40.375 12.03125 44.71875 \nQ 8.5 49.078125 8.5 55.328125 \nQ 8.5 64.0625 14.71875 69.140625 \nQ 20.953125 74.21875 31.78125 74.21875 \nQ 42.671875 74.21875 48.875 69.140625 \nQ 55.078125 64.0625 55.078125 55.328125 \nQ 55.078125 49.078125 51.53125 44.71875 \nQ 48 40.375 41.703125 38.8125 \nQ 48.828125 37.15625 52.796875 32.3125 \nQ 56.78125 27.484375 56.78125 20.515625 \nQ 56.78125 9.90625 50.3125 4.234375 \nQ 43.84375 -1.421875 31.78125 -1.421875 \nQ 19.734375 -1.421875 13.25 4.234375 \nQ 6.78125 9.90625 6.78125 20.515625 \nQ 6.78125 27.484375 10.78125 32.3125 \nQ 14.796875 37.15625 21.921875 38.8125 \nz\nM 18.3125 54.390625 \nQ 18.3125 48.734375 21.84375 45.5625 \nQ 25.390625 42.390625 31.78125 42.390625 \nQ 38.140625 42.390625 41.71875 45.5625 \nQ 45.3125 48.734375 45.3125 54.390625 \nQ 45.3125 60.0625 41.71875 63.234375 \nQ 38.140625 66.40625 31.78125 66.40625 \nQ 25.390625 66.40625 21.84375 63.234375 \nQ 18.3125 60.0625 18.3125 54.390625 \nz\n\" id=\"DejaVuSans-56\"/>\n      </defs>\n      <g transform=\"translate(259.880708 239.238438)scale(0.1 -0.1)\">\n       <use xlink:href=\"#DejaVuSans-55\"/>\n       <use x=\"63.623047\" xlink:href=\"#DejaVuSans-56\"/>\n       <use x=\"127.246094\" xlink:href=\"#DejaVuSans-48\"/>\n      </g>\n     </g>\n    </g>\n    <g id=\"xtick_5\">\n     <g id=\"line2d_5\">\n      <g>\n       <use style=\"stroke:#000000;stroke-width:0.8;\" x=\"339.348077\" xlink:href=\"#m3e58174b9e\" y=\"224.64\"/>\n      </g>\n     </g>\n     <g id=\"text_5\">\n      <!-- 790 -->\n      <defs>\n       <path d=\"M 10.984375 1.515625 \nL 10.984375 10.5 \nQ 14.703125 8.734375 18.5 7.8125 \nQ 22.3125 6.890625 25.984375 6.890625 \nQ 35.75 6.890625 40.890625 13.453125 \nQ 46.046875 20.015625 46.78125 33.40625 \nQ 43.953125 29.203125 39.59375 26.953125 \nQ 35.25 24.703125 29.984375 24.703125 \nQ 19.046875 24.703125 12.671875 31.3125 \nQ 6.296875 37.9375 6.296875 49.421875 \nQ 6.296875 60.640625 12.9375 67.421875 \nQ 19.578125 74.21875 30.609375 74.21875 \nQ 43.265625 74.21875 49.921875 64.515625 \nQ 56.59375 54.828125 56.59375 36.375 \nQ 56.59375 19.140625 48.40625 8.859375 \nQ 40.234375 -1.421875 26.421875 -1.421875 \nQ 22.703125 -1.421875 18.890625 -0.6875 \nQ 15.09375 0.046875 10.984375 1.515625 \nz\nM 30.609375 32.421875 \nQ 37.25 32.421875 41.125 36.953125 \nQ 45.015625 41.5 45.015625 49.421875 \nQ 45.015625 57.28125 41.125 61.84375 \nQ 37.25 66.40625 30.609375 66.40625 \nQ 23.96875 66.40625 20.09375 61.84375 \nQ 16.21875 57.28125 16.21875 49.421875 \nQ 16.21875 41.5 20.09375 36.953125 \nQ 23.96875 32.421875 30.609375 32.421875 \nz\n\" id=\"DejaVuSans-57\"/>\n      </defs>\n      <g transform=\"translate(329.804327 239.238438)scale(0.1 -0.1)\">\n       <use xlink:href=\"#DejaVuSans-55\"/>\n       <use x=\"63.623047\" xlink:href=\"#DejaVuSans-57\"/>\n       <use x=\"127.246094\" xlink:href=\"#DejaVuSans-48\"/>\n      </g>\n     </g>\n    </g>\n   </g>\n   <g id=\"matplotlib.axis_2\">\n    <g id=\"ytick_1\">\n     <g id=\"line2d_6\">\n      <defs>\n       <path d=\"M 0 0 \nL -3.5 0 \n\" id=\"mc9cc862763\" style=\"stroke:#000000;stroke-width:0.8;\"/>\n      </defs>\n      <g>\n       <use style=\"stroke:#000000;stroke-width:0.8;\" x=\"33.2875\" xlink:href=\"#mc9cc862763\" y=\"212.939142\"/>\n      </g>\n     </g>\n     <g id=\"text_6\">\n      <!-- 600 -->\n      <g transform=\"translate(7.2 216.738361)scale(0.1 -0.1)\">\n       <use xlink:href=\"#DejaVuSans-54\"/>\n       <use x=\"63.623047\" xlink:href=\"#DejaVuSans-48\"/>\n       <use x=\"127.246094\" xlink:href=\"#DejaVuSans-48\"/>\n      </g>\n     </g>\n    </g>\n    <g id=\"ytick_2\">\n     <g id=\"line2d_7\">\n      <g>\n       <use style=\"stroke:#000000;stroke-width:0.8;\" x=\"33.2875\" xlink:href=\"#mc9cc862763\" y=\"184.457703\"/>\n      </g>\n     </g>\n     <g id=\"text_7\">\n      <!-- 625 -->\n      <defs>\n       <path d=\"M 19.1875 8.296875 \nL 53.609375 8.296875 \nL 53.609375 0 \nL 7.328125 0 \nL 7.328125 8.296875 \nQ 12.9375 14.109375 22.625 23.890625 \nQ 32.328125 33.6875 34.8125 36.53125 \nQ 39.546875 41.84375 41.421875 45.53125 \nQ 43.3125 49.21875 43.3125 52.78125 \nQ 43.3125 58.59375 39.234375 62.25 \nQ 35.15625 65.921875 28.609375 65.921875 \nQ 23.96875 65.921875 18.8125 64.3125 \nQ 13.671875 62.703125 7.8125 59.421875 \nL 7.8125 69.390625 \nQ 13.765625 71.78125 18.9375 73 \nQ 24.125 74.21875 28.421875 74.21875 \nQ 39.75 74.21875 46.484375 68.546875 \nQ 53.21875 62.890625 53.21875 53.421875 \nQ 53.21875 48.921875 51.53125 44.890625 \nQ 49.859375 40.875 45.40625 35.40625 \nQ 44.1875 33.984375 37.640625 27.21875 \nQ 31.109375 20.453125 19.1875 8.296875 \nz\n\" id=\"DejaVuSans-50\"/>\n      </defs>\n      <g transform=\"translate(7.2 188.256922)scale(0.1 -0.1)\">\n       <use xlink:href=\"#DejaVuSans-54\"/>\n       <use x=\"63.623047\" xlink:href=\"#DejaVuSans-50\"/>\n       <use x=\"127.246094\" xlink:href=\"#DejaVuSans-53\"/>\n      </g>\n     </g>\n    </g>\n    <g id=\"ytick_3\">\n     <g id=\"line2d_8\">\n      <g>\n       <use style=\"stroke:#000000;stroke-width:0.8;\" x=\"33.2875\" xlink:href=\"#mc9cc862763\" y=\"155.976265\"/>\n      </g>\n     </g>\n     <g id=\"text_8\">\n      <!-- 650 -->\n      <g transform=\"translate(7.2 159.775484)scale(0.1 -0.1)\">\n       <use xlink:href=\"#DejaVuSans-54\"/>\n       <use x=\"63.623047\" xlink:href=\"#DejaVuSans-53\"/>\n       <use x=\"127.246094\" xlink:href=\"#DejaVuSans-48\"/>\n      </g>\n     </g>\n    </g>\n    <g id=\"ytick_4\">\n     <g id=\"line2d_9\">\n      <g>\n       <use style=\"stroke:#000000;stroke-width:0.8;\" x=\"33.2875\" xlink:href=\"#mc9cc862763\" y=\"127.494826\"/>\n      </g>\n     </g>\n     <g id=\"text_9\">\n      <!-- 675 -->\n      <g transform=\"translate(7.2 131.294045)scale(0.1 -0.1)\">\n       <use xlink:href=\"#DejaVuSans-54\"/>\n       <use x=\"63.623047\" xlink:href=\"#DejaVuSans-55\"/>\n       <use x=\"127.246094\" xlink:href=\"#DejaVuSans-53\"/>\n      </g>\n     </g>\n    </g>\n    <g id=\"ytick_5\">\n     <g id=\"line2d_10\">\n      <g>\n       <use style=\"stroke:#000000;stroke-width:0.8;\" x=\"33.2875\" xlink:href=\"#mc9cc862763\" y=\"99.013387\"/>\n      </g>\n     </g>\n     <g id=\"text_10\">\n      <!-- 700 -->\n      <g transform=\"translate(7.2 102.812606)scale(0.1 -0.1)\">\n       <use xlink:href=\"#DejaVuSans-55\"/>\n       <use x=\"63.623047\" xlink:href=\"#DejaVuSans-48\"/>\n       <use x=\"127.246094\" xlink:href=\"#DejaVuSans-48\"/>\n      </g>\n     </g>\n    </g>\n    <g id=\"ytick_6\">\n     <g id=\"line2d_11\">\n      <g>\n       <use style=\"stroke:#000000;stroke-width:0.8;\" x=\"33.2875\" xlink:href=\"#mc9cc862763\" y=\"70.531949\"/>\n      </g>\n     </g>\n     <g id=\"text_11\">\n      <!-- 725 -->\n      <g transform=\"translate(7.2 74.331167)scale(0.1 -0.1)\">\n       <use xlink:href=\"#DejaVuSans-55\"/>\n       <use x=\"63.623047\" xlink:href=\"#DejaVuSans-50\"/>\n       <use x=\"127.246094\" xlink:href=\"#DejaVuSans-53\"/>\n      </g>\n     </g>\n    </g>\n    <g id=\"ytick_7\">\n     <g id=\"line2d_12\">\n      <g>\n       <use style=\"stroke:#000000;stroke-width:0.8;\" x=\"33.2875\" xlink:href=\"#mc9cc862763\" y=\"42.05051\"/>\n      </g>\n     </g>\n     <g id=\"text_12\">\n      <!-- 750 -->\n      <g transform=\"translate(7.2 45.849729)scale(0.1 -0.1)\">\n       <use xlink:href=\"#DejaVuSans-55\"/>\n       <use x=\"63.623047\" xlink:href=\"#DejaVuSans-53\"/>\n       <use x=\"127.246094\" xlink:href=\"#DejaVuSans-48\"/>\n      </g>\n     </g>\n    </g>\n    <g id=\"ytick_8\">\n     <g id=\"line2d_13\">\n      <g>\n       <use style=\"stroke:#000000;stroke-width:0.8;\" x=\"33.2875\" xlink:href=\"#mc9cc862763\" y=\"13.569071\"/>\n      </g>\n     </g>\n     <g id=\"text_13\">\n      <!-- 775 -->\n      <g transform=\"translate(7.2 17.36829)scale(0.1 -0.1)\">\n       <use xlink:href=\"#DejaVuSans-55\"/>\n       <use x=\"63.623047\" xlink:href=\"#DejaVuSans-55\"/>\n       <use x=\"127.246094\" xlink:href=\"#DejaVuSans-53\"/>\n      </g>\n     </g>\n    </g>\n   </g>\n   <g id=\"line2d_14\">\n    <path clip-path=\"url(#p78bfcf6684)\" d=\"M 48.505682 211.169969 \nL 60.572457 210.475665 \nL 100.941141 182.185446 \nL 76.512686 184.603587 \nL 103.987496 143.982075 \nL 123.330442 136.36169 \nL 114.575052 124.286075 \nL 169.675325 107.397889 \nL 237.033997 88.239671 \nL 214.739015 82.566121 \nL 200.714601 62.016791 \nL 244.115129 60.24741 \nL 287.816111 58.261288 \nL 236.627703 38.201066 \nL 297.489931 30.736022 \nL 352.869318 23.256168 \nL 259.55688 18.81533 \nL 314.829572 19.664836 \nL 321.264559 29.482658 \nL 238.966883 26.273072 \nL 299.138582 34.702911 \nL 224.664208 21.87034 \nL 312.747313 17.083636 \nL 237.861523 36.445939 \nL 305.443401 22.169548 \n\" style=\"fill:none;stroke:#ffa500;stroke-linecap:square;\"/>\n    <defs>\n     <path d=\"M 0 0.5 \nC 0.132602 0.5 0.25979 0.447317 0.353553 0.353553 \nC 0.447317 0.25979 0.5 0.132602 0.5 0 \nC 0.5 -0.132602 0.447317 -0.25979 0.353553 -0.353553 \nC 0.25979 -0.447317 0.132602 -0.5 0 -0.5 \nC -0.132602 -0.5 -0.25979 -0.447317 -0.353553 -0.353553 \nC -0.447317 -0.25979 -0.5 -0.132602 -0.5 0 \nC -0.5 0.132602 -0.447317 0.25979 -0.353553 0.353553 \nC -0.25979 0.447317 -0.132602 0.5 0 0.5 \nz\n\" id=\"m91ee7ad586\" style=\"stroke:#ffa500;\"/>\n    </defs>\n    <g clip-path=\"url(#p78bfcf6684)\">\n     <use style=\"fill:#ffa500;stroke:#ffa500;\" x=\"48.505682\" xlink:href=\"#m91ee7ad586\" y=\"211.169969\"/>\n     <use style=\"fill:#ffa500;stroke:#ffa500;\" x=\"60.572457\" xlink:href=\"#m91ee7ad586\" y=\"210.475665\"/>\n     <use style=\"fill:#ffa500;stroke:#ffa500;\" x=\"100.941141\" xlink:href=\"#m91ee7ad586\" y=\"182.185446\"/>\n     <use style=\"fill:#ffa500;stroke:#ffa500;\" x=\"76.512686\" xlink:href=\"#m91ee7ad586\" y=\"184.603587\"/>\n     <use style=\"fill:#ffa500;stroke:#ffa500;\" x=\"103.987496\" xlink:href=\"#m91ee7ad586\" y=\"143.982075\"/>\n     <use style=\"fill:#ffa500;stroke:#ffa500;\" x=\"123.330442\" xlink:href=\"#m91ee7ad586\" y=\"136.36169\"/>\n     <use style=\"fill:#ffa500;stroke:#ffa500;\" x=\"114.575052\" xlink:href=\"#m91ee7ad586\" y=\"124.286075\"/>\n     <use style=\"fill:#ffa500;stroke:#ffa500;\" x=\"169.675325\" xlink:href=\"#m91ee7ad586\" y=\"107.397889\"/>\n     <use style=\"fill:#ffa500;stroke:#ffa500;\" x=\"237.033997\" xlink:href=\"#m91ee7ad586\" y=\"88.239671\"/>\n     <use style=\"fill:#ffa500;stroke:#ffa500;\" x=\"214.739015\" xlink:href=\"#m91ee7ad586\" y=\"82.566121\"/>\n     <use style=\"fill:#ffa500;stroke:#ffa500;\" x=\"200.714601\" xlink:href=\"#m91ee7ad586\" y=\"62.016791\"/>\n     <use style=\"fill:#ffa500;stroke:#ffa500;\" x=\"244.115129\" xlink:href=\"#m91ee7ad586\" y=\"60.24741\"/>\n     <use style=\"fill:#ffa500;stroke:#ffa500;\" x=\"287.816111\" xlink:href=\"#m91ee7ad586\" y=\"58.261288\"/>\n     <use style=\"fill:#ffa500;stroke:#ffa500;\" x=\"236.627703\" xlink:href=\"#m91ee7ad586\" y=\"38.201066\"/>\n     <use style=\"fill:#ffa500;stroke:#ffa500;\" x=\"297.489931\" xlink:href=\"#m91ee7ad586\" y=\"30.736022\"/>\n     <use style=\"fill:#ffa500;stroke:#ffa500;\" x=\"352.869318\" xlink:href=\"#m91ee7ad586\" y=\"23.256168\"/>\n     <use style=\"fill:#ffa500;stroke:#ffa500;\" x=\"259.55688\" xlink:href=\"#m91ee7ad586\" y=\"18.81533\"/>\n     <use style=\"fill:#ffa500;stroke:#ffa500;\" x=\"314.829572\" xlink:href=\"#m91ee7ad586\" y=\"19.664836\"/>\n     <use style=\"fill:#ffa500;stroke:#ffa500;\" x=\"321.264559\" xlink:href=\"#m91ee7ad586\" y=\"29.482658\"/>\n     <use style=\"fill:#ffa500;stroke:#ffa500;\" x=\"238.966883\" xlink:href=\"#m91ee7ad586\" y=\"26.273072\"/>\n     <use style=\"fill:#ffa500;stroke:#ffa500;\" x=\"299.138582\" xlink:href=\"#m91ee7ad586\" y=\"34.702911\"/>\n     <use style=\"fill:#ffa500;stroke:#ffa500;\" x=\"224.664208\" xlink:href=\"#m91ee7ad586\" y=\"21.87034\"/>\n     <use style=\"fill:#ffa500;stroke:#ffa500;\" x=\"312.747313\" xlink:href=\"#m91ee7ad586\" y=\"17.083636\"/>\n     <use style=\"fill:#ffa500;stroke:#ffa500;\" x=\"237.861523\" xlink:href=\"#m91ee7ad586\" y=\"36.445939\"/>\n     <use style=\"fill:#ffa500;stroke:#ffa500;\" x=\"305.443401\" xlink:href=\"#m91ee7ad586\" y=\"22.169548\"/>\n    </g>\n   </g>\n   <g id=\"line2d_15\">\n    <path clip-path=\"url(#p78bfcf6684)\" d=\"M 167.091599 214.585864 \nL 165.37253 199.409416 \nL 163.824172 184.23248 \nL 162.659063 169.054711 \nL 161.760692 153.876454 \nL 161.365067 138.697572 \nL 161.612172 123.518828 \nL 162.330443 108.340502 \nL 164.067864 93.164332 \nL 166.946067 77.993585 \nL 170.792208 62.828679 \nL 177.688544 47.693047 \nL 190.206426 32.696694 \nL 207.543079 17.819801 \nL 207.543079 17.819801 \nL 207.543079 17.819801 \nL 207.543079 17.819801 \nL 207.543079 17.819801 \nL 207.543079 17.819801 \nL 207.543079 17.819801 \nL 207.543079 17.819801 \nL 207.543079 17.819801 \nL 207.543079 17.819801 \nL 207.543079 17.819801 \nL 207.543079 17.819801 \n\" style=\"fill:none;stroke:#7cfc00;stroke-linecap:square;\"/>\n    <defs>\n     <path d=\"M 0 1 \nC 0.265203 1 0.51958 0.894634 0.707107 0.707107 \nC 0.894634 0.51958 1 0.265203 1 0 \nC 1 -0.265203 0.894634 -0.51958 0.707107 -0.707107 \nC 0.51958 -0.894634 0.265203 -1 0 -1 \nC -0.265203 -1 -0.51958 -0.894634 -0.707107 -0.707107 \nC -0.894634 -0.51958 -1 -0.265203 -1 0 \nC -1 0.265203 -0.894634 0.51958 -0.707107 0.707107 \nC -0.51958 0.894634 -0.265203 1 0 1 \nz\n\" id=\"mdeacd6d1e9\" style=\"stroke:#7cfc00;\"/>\n    </defs>\n    <g clip-path=\"url(#p78bfcf6684)\">\n     <use style=\"fill:#7cfc00;stroke:#7cfc00;\" x=\"167.091599\" xlink:href=\"#mdeacd6d1e9\" y=\"214.585864\"/>\n     <use style=\"fill:#7cfc00;stroke:#7cfc00;\" x=\"165.37253\" xlink:href=\"#mdeacd6d1e9\" y=\"199.409416\"/>\n     <use style=\"fill:#7cfc00;stroke:#7cfc00;\" x=\"163.824172\" xlink:href=\"#mdeacd6d1e9\" y=\"184.23248\"/>\n     <use style=\"fill:#7cfc00;stroke:#7cfc00;\" x=\"162.659063\" xlink:href=\"#mdeacd6d1e9\" y=\"169.054711\"/>\n     <use style=\"fill:#7cfc00;stroke:#7cfc00;\" x=\"161.760692\" xlink:href=\"#mdeacd6d1e9\" y=\"153.876454\"/>\n     <use style=\"fill:#7cfc00;stroke:#7cfc00;\" x=\"161.365067\" xlink:href=\"#mdeacd6d1e9\" y=\"138.697572\"/>\n     <use style=\"fill:#7cfc00;stroke:#7cfc00;\" x=\"161.612172\" xlink:href=\"#mdeacd6d1e9\" y=\"123.518828\"/>\n     <use style=\"fill:#7cfc00;stroke:#7cfc00;\" x=\"162.330443\" xlink:href=\"#mdeacd6d1e9\" y=\"108.340502\"/>\n     <use style=\"fill:#7cfc00;stroke:#7cfc00;\" x=\"164.067864\" xlink:href=\"#mdeacd6d1e9\" y=\"93.164332\"/>\n     <use style=\"fill:#7cfc00;stroke:#7cfc00;\" x=\"166.946067\" xlink:href=\"#mdeacd6d1e9\" y=\"77.993585\"/>\n     <use style=\"fill:#7cfc00;stroke:#7cfc00;\" x=\"170.792208\" xlink:href=\"#mdeacd6d1e9\" y=\"62.828679\"/>\n     <use style=\"fill:#7cfc00;stroke:#7cfc00;\" x=\"177.688544\" xlink:href=\"#mdeacd6d1e9\" y=\"47.693047\"/>\n     <use style=\"fill:#7cfc00;stroke:#7cfc00;\" x=\"190.206426\" xlink:href=\"#mdeacd6d1e9\" y=\"32.696694\"/>\n     <use style=\"fill:#7cfc00;stroke:#7cfc00;\" x=\"207.543079\" xlink:href=\"#mdeacd6d1e9\" y=\"17.819801\"/>\n     <use style=\"fill:#7cfc00;stroke:#7cfc00;\" x=\"207.543079\" xlink:href=\"#mdeacd6d1e9\" y=\"17.819801\"/>\n     <use style=\"fill:#7cfc00;stroke:#7cfc00;\" x=\"207.543079\" xlink:href=\"#mdeacd6d1e9\" y=\"17.819801\"/>\n     <use style=\"fill:#7cfc00;stroke:#7cfc00;\" x=\"207.543079\" xlink:href=\"#mdeacd6d1e9\" y=\"17.819801\"/>\n     <use style=\"fill:#7cfc00;stroke:#7cfc00;\" x=\"207.543079\" xlink:href=\"#mdeacd6d1e9\" y=\"17.819801\"/>\n     <use style=\"fill:#7cfc00;stroke:#7cfc00;\" x=\"207.543079\" xlink:href=\"#mdeacd6d1e9\" y=\"17.819801\"/>\n     <use style=\"fill:#7cfc00;stroke:#7cfc00;\" x=\"207.543079\" xlink:href=\"#mdeacd6d1e9\" y=\"17.819801\"/>\n     <use style=\"fill:#7cfc00;stroke:#7cfc00;\" x=\"207.543079\" xlink:href=\"#mdeacd6d1e9\" y=\"17.819801\"/>\n     <use style=\"fill:#7cfc00;stroke:#7cfc00;\" x=\"207.543079\" xlink:href=\"#mdeacd6d1e9\" y=\"17.819801\"/>\n     <use style=\"fill:#7cfc00;stroke:#7cfc00;\" x=\"207.543079\" xlink:href=\"#mdeacd6d1e9\" y=\"17.819801\"/>\n     <use style=\"fill:#7cfc00;stroke:#7cfc00;\" x=\"207.543079\" xlink:href=\"#mdeacd6d1e9\" y=\"17.819801\"/>\n     <use style=\"fill:#7cfc00;stroke:#7cfc00;\" x=\"207.543079\" xlink:href=\"#mdeacd6d1e9\" y=\"17.819801\"/>\n    </g>\n   </g>\n   <g id=\"line2d_16\">\n    <path clip-path=\"url(#p78bfcf6684)\" d=\"M 146.866073 214.756364 \nL 124.921904 199.750345 \nL 111.51632 184.607481 \nL 105.632306 169.394179 \nL 102.377682 154.167735 \nL 100.568989 138.937467 \nL 100.361574 123.705182 \nL 103.722893 108.473036 \nL 111.183005 93.250624 \nL 120.925537 78.043998 \nL 132.10461 62.848636 \nL 148.352121 47.698958 \nL 170.51224 32.694955 \nL 197.49668 17.810761 \nL 197.49668 17.810761 \nL 197.49668 17.810761 \nL 197.49668 17.810761 \nL 197.49668 17.810761 \nL 197.49668 17.810761 \nL 197.49668 17.810761 \nL 197.49668 17.810761 \nL 197.49668 17.810761 \nL 197.49668 17.810761 \nL 197.49668 17.810761 \nL 197.49668 17.810761 \n\" style=\"fill:none;stroke:#ffff00;stroke-linecap:square;\"/>\n    <defs>\n     <path d=\"M 0 1 \nC 0.265203 1 0.51958 0.894634 0.707107 0.707107 \nC 0.894634 0.51958 1 0.265203 1 0 \nC 1 -0.265203 0.894634 -0.51958 0.707107 -0.707107 \nC 0.51958 -0.894634 0.265203 -1 0 -1 \nC -0.265203 -1 -0.51958 -0.894634 -0.707107 -0.707107 \nC -0.894634 -0.51958 -1 -0.265203 -1 0 \nC -1 0.265203 -0.894634 0.51958 -0.707107 0.707107 \nC -0.51958 0.894634 -0.265203 1 0 1 \nz\n\" id=\"ma2c94b191b\" style=\"stroke:#ffff00;\"/>\n    </defs>\n    <g clip-path=\"url(#p78bfcf6684)\">\n     <use style=\"fill:#ffff00;stroke:#ffff00;\" x=\"146.866073\" xlink:href=\"#ma2c94b191b\" y=\"214.756364\"/>\n     <use style=\"fill:#ffff00;stroke:#ffff00;\" x=\"124.921904\" xlink:href=\"#ma2c94b191b\" y=\"199.750345\"/>\n     <use style=\"fill:#ffff00;stroke:#ffff00;\" x=\"111.51632\" xlink:href=\"#ma2c94b191b\" y=\"184.607481\"/>\n     <use style=\"fill:#ffff00;stroke:#ffff00;\" x=\"105.632306\" xlink:href=\"#ma2c94b191b\" y=\"169.394179\"/>\n     <use style=\"fill:#ffff00;stroke:#ffff00;\" x=\"102.377682\" xlink:href=\"#ma2c94b191b\" y=\"154.167735\"/>\n     <use style=\"fill:#ffff00;stroke:#ffff00;\" x=\"100.568989\" xlink:href=\"#ma2c94b191b\" y=\"138.937467\"/>\n     <use style=\"fill:#ffff00;stroke:#ffff00;\" x=\"100.361574\" xlink:href=\"#ma2c94b191b\" y=\"123.705182\"/>\n     <use style=\"fill:#ffff00;stroke:#ffff00;\" x=\"103.722893\" xlink:href=\"#ma2c94b191b\" y=\"108.473036\"/>\n     <use style=\"fill:#ffff00;stroke:#ffff00;\" x=\"111.183005\" xlink:href=\"#ma2c94b191b\" y=\"93.250624\"/>\n     <use style=\"fill:#ffff00;stroke:#ffff00;\" x=\"120.925537\" xlink:href=\"#ma2c94b191b\" y=\"78.043998\"/>\n     <use style=\"fill:#ffff00;stroke:#ffff00;\" x=\"132.10461\" xlink:href=\"#ma2c94b191b\" y=\"62.848636\"/>\n     <use style=\"fill:#ffff00;stroke:#ffff00;\" x=\"148.352121\" xlink:href=\"#ma2c94b191b\" y=\"47.698958\"/>\n     <use style=\"fill:#ffff00;stroke:#ffff00;\" x=\"170.51224\" xlink:href=\"#ma2c94b191b\" y=\"32.694955\"/>\n     <use style=\"fill:#ffff00;stroke:#ffff00;\" x=\"197.49668\" xlink:href=\"#ma2c94b191b\" y=\"17.810761\"/>\n     <use style=\"fill:#ffff00;stroke:#ffff00;\" x=\"197.49668\" xlink:href=\"#ma2c94b191b\" y=\"17.810761\"/>\n     <use style=\"fill:#ffff00;stroke:#ffff00;\" x=\"197.49668\" xlink:href=\"#ma2c94b191b\" y=\"17.810761\"/>\n     <use style=\"fill:#ffff00;stroke:#ffff00;\" x=\"197.49668\" xlink:href=\"#ma2c94b191b\" y=\"17.810761\"/>\n     <use style=\"fill:#ffff00;stroke:#ffff00;\" x=\"197.49668\" xlink:href=\"#ma2c94b191b\" y=\"17.810761\"/>\n     <use style=\"fill:#ffff00;stroke:#ffff00;\" x=\"197.49668\" xlink:href=\"#ma2c94b191b\" y=\"17.810761\"/>\n     <use style=\"fill:#ffff00;stroke:#ffff00;\" x=\"197.49668\" xlink:href=\"#ma2c94b191b\" y=\"17.810761\"/>\n     <use style=\"fill:#ffff00;stroke:#ffff00;\" x=\"197.49668\" xlink:href=\"#ma2c94b191b\" y=\"17.810761\"/>\n     <use style=\"fill:#ffff00;stroke:#ffff00;\" x=\"197.49668\" xlink:href=\"#ma2c94b191b\" y=\"17.810761\"/>\n     <use style=\"fill:#ffff00;stroke:#ffff00;\" x=\"197.49668\" xlink:href=\"#ma2c94b191b\" y=\"17.810761\"/>\n     <use style=\"fill:#ffff00;stroke:#ffff00;\" x=\"197.49668\" xlink:href=\"#ma2c94b191b\" y=\"17.810761\"/>\n     <use style=\"fill:#ffff00;stroke:#ffff00;\" x=\"197.49668\" xlink:href=\"#ma2c94b191b\" y=\"17.810761\"/>\n    </g>\n   </g>\n   <g id=\"patch_3\">\n    <path d=\"M 33.2875 224.64 \nL 33.2875 7.2 \n\" style=\"fill:none;stroke:#000000;stroke-linecap:square;stroke-linejoin:miter;stroke-width:0.8;\"/>\n   </g>\n   <g id=\"patch_4\">\n    <path d=\"M 368.0875 224.64 \nL 368.0875 7.2 \n\" style=\"fill:none;stroke:#000000;stroke-linecap:square;stroke-linejoin:miter;stroke-width:0.8;\"/>\n   </g>\n   <g id=\"patch_5\">\n    <path d=\"M 33.2875 224.64 \nL 368.0875 224.64 \n\" style=\"fill:none;stroke:#000000;stroke-linecap:square;stroke-linejoin:miter;stroke-width:0.8;\"/>\n   </g>\n   <g id=\"patch_6\">\n    <path d=\"M 33.2875 7.2 \nL 368.0875 7.2 \n\" style=\"fill:none;stroke:#000000;stroke-linecap:square;stroke-linejoin:miter;stroke-width:0.8;\"/>\n   </g>\n  </g>\n </g>\n <defs>\n  <clipPath id=\"p78bfcf6684\">\n   <rect height=\"217.44\" width=\"334.8\" x=\"33.2875\" y=\"7.2\"/>\n  </clipPath>\n </defs>\n</svg>\n"
     },
     "metadata": {
      "needs_background": "light"
     }
    },
    {
     "output_type": "stream",
     "name": "stdout",
     "text": [
      "[[765.36505127 598.55456543]\n",
      " [765.11920166 611.87591553]\n",
      " [764.89776611 625.19769287]\n",
      " [764.73114014 638.52020264]\n",
      " [764.60266113 651.84313965]\n",
      " [764.54608154 665.16662598]\n",
      " [764.5814209  678.48999023]\n",
      " [764.68414307 691.81298828]\n",
      " [764.93261719 705.13409424]\n",
      " [765.34423828 718.45043945]\n",
      " [765.89428711 731.76165771]\n",
      " [766.8805542  745.04718018]\n",
      " [768.67077637 758.21044922]\n",
      " [771.15014648 771.26885986]\n",
      " [771.15014648 771.26885986]\n",
      " [771.15014648 771.26885986]\n",
      " [771.15014648 771.26885986]\n",
      " [771.15014648 771.26885986]\n",
      " [771.15014648 771.26885986]\n",
      " [771.15014648 771.26885986]\n",
      " [771.15014648 771.26885986]\n",
      " [771.15014648 771.26885986]\n",
      " [771.15014648 771.26885986]\n",
      " [771.15014648 771.26885986]\n",
      " [771.15014648 771.26885986]]\n"
     ]
    }
   ],
   "metadata": {}
  },
  {
   "cell_type": "markdown",
   "source": [
    "## Scenario based dataset creation"
   ],
   "metadata": {}
  },
  {
   "cell_type": "code",
   "execution_count": 1,
   "source": [
    "from glob import glob\n",
    "import random\n",
    "import numpy as np\n",
    "path ='/netpool/work/gpu-3/users/malyalasa/New_folder/tf_records'\n",
    "scenario_list = glob(f\"{path}/*\")\n",
    "scenario_list"
   ],
   "outputs": [
    {
     "output_type": "execute_result",
     "data": {
      "text/plain": [
       "['/netpool/work/gpu-3/users/malyalasa/New_folder/tf_records/scenario1',\n",
       " '/netpool/work/gpu-3/users/malyalasa/New_folder/tf_records/scenario2',\n",
       " '/netpool/work/gpu-3/users/malyalasa/New_folder/tf_records/scenario3',\n",
       " '/netpool/work/gpu-3/users/malyalasa/New_folder/tf_records/scenario4',\n",
       " '/netpool/work/gpu-3/users/malyalasa/New_folder/tf_records/scenario5',\n",
       " '/netpool/work/gpu-3/users/malyalasa/New_folder/tf_records/scenario6',\n",
       " '/netpool/work/gpu-3/users/malyalasa/New_folder/tf_records/scenario7',\n",
       " '/netpool/work/gpu-3/users/malyalasa/New_folder/tf_records/scenario8']"
      ]
     },
     "metadata": {},
     "execution_count": 1
    }
   ],
   "metadata": {}
  },
  {
   "cell_type": "code",
   "execution_count": 2,
   "source": [
    "random.Random(2021).shuffle(scenario_list)\n",
    "scenario_list\n"
   ],
   "outputs": [
    {
     "output_type": "execute_result",
     "data": {
      "text/plain": [
       "['/netpool/work/gpu-3/users/malyalasa/New_folder/tf_records/scenario2',\n",
       " '/netpool/work/gpu-3/users/malyalasa/New_folder/tf_records/scenario4',\n",
       " '/netpool/work/gpu-3/users/malyalasa/New_folder/tf_records/scenario1',\n",
       " '/netpool/work/gpu-3/users/malyalasa/New_folder/tf_records/scenario3',\n",
       " '/netpool/work/gpu-3/users/malyalasa/New_folder/tf_records/scenario5',\n",
       " '/netpool/work/gpu-3/users/malyalasa/New_folder/tf_records/scenario6',\n",
       " '/netpool/work/gpu-3/users/malyalasa/New_folder/tf_records/scenario8',\n",
       " '/netpool/work/gpu-3/users/malyalasa/New_folder/tf_records/scenario7']"
      ]
     },
     "metadata": {},
     "execution_count": 2
    }
   ],
   "metadata": {}
  },
  {
   "cell_type": "code",
   "execution_count": 10,
   "source": [
    "def collect_tfrec_paths(list_dir):\n",
    "    assert len(list_dir)>=1\n",
    "    if len(list_dir)>1 :\n",
    "        list_in_list= [glob(f\"{fold_path}/**/*.tfrec\", recursive=True) for fold_path in list_dir]\n",
    "        flat_list = (np.concatenate(list_in_list).tolist())\n",
    "    else:\n",
    "\n",
    "        flat_list=glob(f\"{list_dir[0]}/**/*.tfrec\", recursive=True)\n",
    "    return flat_list\n"
   ],
   "outputs": [],
   "metadata": {}
  },
  {
   "cell_type": "code",
   "execution_count": 11,
   "source": [
    "len(collect_tfrec_paths(scenario_list[0:6]))"
   ],
   "outputs": [
    {
     "output_type": "execute_result",
     "data": {
      "text/plain": [
       "450"
      ]
     },
     "metadata": {},
     "execution_count": 11
    }
   ],
   "metadata": {}
  },
  {
   "cell_type": "code",
   "execution_count": 12,
   "source": [
    "scenario_list[0]\n",
    "glob(f\"{scenario_list[0]}/**/*.tfrec\", recursive=True)"
   ],
   "outputs": [
    {
     "output_type": "execute_result",
     "data": {
      "text/plain": [
       "['/netpool/work/gpu-3/users/malyalasa/New_folder/tf_records/scenario1/2021-06-10_08-54-06/2021-06-10_08-54-07_0_file_00-16.tfrec',\n",
       " '/netpool/work/gpu-3/users/malyalasa/New_folder/tf_records/scenario1/2021-06-10_08-54-06/2021-06-10_08-54-07_0_file_01-16.tfrec',\n",
       " '/netpool/work/gpu-3/users/malyalasa/New_folder/tf_records/scenario1/2021-06-10_08-54-06/2021-06-10_08-54-07_0_file_02-16.tfrec',\n",
       " '/netpool/work/gpu-3/users/malyalasa/New_folder/tf_records/scenario1/2021-06-10_08-54-06/2021-06-10_08-54-07_0_file_03-16.tfrec',\n",
       " '/netpool/work/gpu-3/users/malyalasa/New_folder/tf_records/scenario1/2021-06-10_08-54-06/2021-06-10_08-54-07_0_file_04-16.tfrec',\n",
       " '/netpool/work/gpu-3/users/malyalasa/New_folder/tf_records/scenario1/2021-06-10_08-54-06/2021-06-10_08-54-07_0_file_05-15.tfrec',\n",
       " '/netpool/work/gpu-3/users/malyalasa/New_folder/tf_records/scenario1/2021-06-10_08-54-06/2021-06-10_08-55-07_1_file_00-16.tfrec',\n",
       " '/netpool/work/gpu-3/users/malyalasa/New_folder/tf_records/scenario1/2021-06-10_08-54-06/2021-06-10_08-55-07_1_file_01-16.tfrec',\n",
       " '/netpool/work/gpu-3/users/malyalasa/New_folder/tf_records/scenario1/2021-06-10_08-54-06/2021-06-10_08-55-07_1_file_02-16.tfrec',\n",
       " '/netpool/work/gpu-3/users/malyalasa/New_folder/tf_records/scenario1/2021-06-10_08-54-06/2021-06-10_08-55-07_1_file_03-16.tfrec',\n",
       " '/netpool/work/gpu-3/users/malyalasa/New_folder/tf_records/scenario1/2021-06-10_08-54-06/2021-06-10_08-55-07_1_file_04-16.tfrec',\n",
       " '/netpool/work/gpu-3/users/malyalasa/New_folder/tf_records/scenario1/2021-06-10_08-54-06/2021-06-10_08-55-07_1_file_05-12.tfrec',\n",
       " '/netpool/work/gpu-3/users/malyalasa/New_folder/tf_records/scenario1/2021-06-10_08-58-25/2021-06-10_08-58-27_0_file_00-16.tfrec',\n",
       " '/netpool/work/gpu-3/users/malyalasa/New_folder/tf_records/scenario1/2021-06-10_08-58-25/2021-06-10_08-58-27_0_file_01-16.tfrec',\n",
       " '/netpool/work/gpu-3/users/malyalasa/New_folder/tf_records/scenario1/2021-06-10_08-58-25/2021-06-10_08-58-27_0_file_02-16.tfrec',\n",
       " '/netpool/work/gpu-3/users/malyalasa/New_folder/tf_records/scenario1/2021-06-10_08-58-25/2021-06-10_08-58-27_0_file_03-16.tfrec',\n",
       " '/netpool/work/gpu-3/users/malyalasa/New_folder/tf_records/scenario1/2021-06-10_08-58-25/2021-06-10_08-58-27_0_file_04-16.tfrec',\n",
       " '/netpool/work/gpu-3/users/malyalasa/New_folder/tf_records/scenario1/2021-06-10_08-58-25/2021-06-10_08-58-27_0_file_05-16.tfrec',\n",
       " '/netpool/work/gpu-3/users/malyalasa/New_folder/tf_records/scenario1/2021-06-10_09-02-12/2021-06-10_09-02-13_0_file_00-16.tfrec',\n",
       " '/netpool/work/gpu-3/users/malyalasa/New_folder/tf_records/scenario1/2021-06-10_09-02-12/2021-06-10_09-02-13_0_file_01-16.tfrec',\n",
       " '/netpool/work/gpu-3/users/malyalasa/New_folder/tf_records/scenario1/2021-06-10_09-02-12/2021-06-10_09-02-13_0_file_02-16.tfrec',\n",
       " '/netpool/work/gpu-3/users/malyalasa/New_folder/tf_records/scenario1/2021-06-10_09-02-12/2021-06-10_09-02-13_0_file_03-16.tfrec',\n",
       " '/netpool/work/gpu-3/users/malyalasa/New_folder/tf_records/scenario1/2021-06-10_09-02-12/2021-06-10_09-02-13_0_file_04-16.tfrec']"
      ]
     },
     "metadata": {},
     "execution_count": 12
    }
   ],
   "metadata": {}
  },
  {
   "cell_type": "code",
   "execution_count": 13,
   "source": [
    "len(collect_tfrec_paths(scenario_list[6:7]))"
   ],
   "outputs": [
    {
     "output_type": "execute_result",
     "data": {
      "text/plain": [
       "86"
      ]
     },
     "metadata": {},
     "execution_count": 13
    }
   ],
   "metadata": {}
  },
  {
   "cell_type": "code",
   "execution_count": 15,
   "source": [
    "len(collect_tfrec_paths(scenario_list[7:8]))"
   ],
   "outputs": [
    {
     "output_type": "execute_result",
     "data": {
      "text/plain": [
       "47"
      ]
     },
     "metadata": {},
     "execution_count": 15
    }
   ],
   "metadata": {}
  },
  {
   "cell_type": "code",
   "execution_count": null,
   "source": [],
   "outputs": [],
   "metadata": {}
  }
 ],
 "metadata": {
  "interpreter": {
   "hash": "c8d0ec656e5d9378a37156be2b24f16488b2546b8a772b439e0e56117764b87a"
  },
  "kernelspec": {
   "name": "python3",
   "display_name": "Python 3.8.0 64-bit ('env_mt': conda)"
  },
  "language_info": {
   "codemirror_mode": {
    "name": "ipython",
    "version": 3
   },
   "file_extension": ".py",
   "mimetype": "text/x-python",
   "name": "python",
   "nbconvert_exporter": "python",
   "pygments_lexer": "ipython3",
   "version": "3.8.0"
  }
 },
 "nbformat": 4,
 "nbformat_minor": 2
}