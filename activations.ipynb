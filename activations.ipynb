{
 "metadata": {
  "language_info": {
   "codemirror_mode": {
    "name": "ipython",
    "version": 3
   },
   "file_extension": ".py",
   "mimetype": "text/x-python",
   "name": "python",
   "nbconvert_exporter": "python",
   "pygments_lexer": "ipython3",
   "version": "3.8.0"
  },
  "orig_nbformat": 4,
  "kernelspec": {
   "name": "python3",
   "display_name": "Python 3.8.0 64-bit ('env_mt': conda)"
  },
  "interpreter": {
   "hash": "c8d0ec656e5d9378a37156be2b24f16488b2546b8a772b439e0e56117764b87a"
  }
 },
 "nbformat": 4,
 "nbformat_minor": 2,
 "cells": [
  {
   "cell_type": "code",
   "execution_count": 1,
   "metadata": {},
   "outputs": [
    {
     "output_type": "stream",
     "name": "stdout",
     "text": [
      "Tensoflow Version: 2.3.0\n",
      "Keras Version: 2.4.0\n",
      "Num GPUs Available:  1\n"
     ]
    }
   ],
   "source": [
    "import tensorflow as tf \n",
    "from tensorflow import keras\n",
    "import numpy as np\n",
    "import keras2onnx\n",
    "import onnxruntime\n",
    "print(f\"Tensoflow Version: {tf.__version__}\")\n",
    "print(f\"Keras Version: {keras.__version__}\")\n",
    "from models import endpoint_in_model\n",
    "from losses import euclidean_distance_loss,endpoint_loss\n",
    "from data_processing.data_loader import dataset_loader\n",
    "from config import params\n",
    "\n",
    "from time import time\n",
    "import keract\n",
    "\n",
    "\n",
    "\n",
    "os.environ['CUDA_VISIBLE_DEVICES']=\"1\"\n",
    "print(\"Num GPUs Available: \", len(tf.config.list_physical_devices('GPU')))"
   ]
  },
  {
   "cell_type": "code",
   "execution_count": 2,
   "metadata": {},
   "outputs": [
    {
     "output_type": "stream",
     "name": "stdout",
     "text": [
      "Building Dataset.......\n",
      "\n",
      "Number of records, Train files:464, validation files:96, Test Files:23\n",
      "((TensorSpec(shape=(None, 1536, 1536), dtype=tf.int8, name=None),\n",
      "  TensorSpec(shape=(None, None), dtype=tf.float32, name=None),\n",
      "  TensorSpec(shape=(None, 25, 2), dtype=tf.float32, name=None),\n",
      "  TensorSpec(shape=(None, 25, 2), dtype=tf.float32, name=None),\n",
      "  TensorSpec(shape=(None, 3), dtype=tf.float32, name=None),\n",
      "  TensorSpec(shape=(None, 25, 2), dtype=tf.float32, name=None),\n",
      "  TensorSpec(shape=(None,), dtype=tf.string, name=None)),\n",
      " TensorSpec(shape=(None, 25, 2), dtype=tf.float32, name=None))\n"
     ]
    }
   ],
   "source": [
    "\"\"\"\n",
    "dataset_dir = '/netpool/work/gpu-3/users/malyalasa/New_folder/tf_records'\n",
    "ds_loader = dataset_loader(tfrec_dir=dataset_dir, batch_size=32)\n",
    "ds_train, ds_valid, ds_test = ds_loader.build_dataset()\n",
    "\"\"\"\n",
    "dataset_dir = '/netpool/work/gpu-3/users/malyalasa/New_folder/tf_records'\n",
    "ds_loader = dataset_loader(tfrec_dir=dataset_dir, batch_size=32)\n",
    "#ds_train, ds_valid, ds_test = ds_loader.build_dataset()\n",
    "ds_train, ds_valid, ds_test = ds_loader.build_scenario_dataset(consider_scenes=8,no_train_scene=6,no_valid_scene=1,no_test_scene=1)\n"
   ]
  },
  {
   "cell_type": "code",
   "execution_count": 3,
   "metadata": {},
   "outputs": [
    {
     "output_type": "stream",
     "name": "stdout",
     "text": [
      "Model: \"functional_1\"\n",
      "__________________________________________________________________________________________________\n",
      "Layer (type)                    Output Shape         Param #     Connected to                     \n",
      "==================================================================================================\n",
      "input_1 (InputLayer)            [(None, 1536, 1536,  0                                            \n",
      "__________________________________________________________________________________________________\n",
      "conv2d (Conv2D)                 (None, 767, 767, 16) 160         input_1[0][0]                    \n",
      "__________________________________________________________________________________________________\n",
      "leaky_re_lu (LeakyReLU)         (None, 767, 767, 16) 0           conv2d[0][0]                     \n",
      "__________________________________________________________________________________________________\n",
      "batch_normalization (BatchNorma (None, 767, 767, 16) 64          leaky_re_lu[0][0]                \n",
      "__________________________________________________________________________________________________\n",
      "average_pooling2d (AveragePooli (None, 191, 191, 16) 0           batch_normalization[0][0]        \n",
      "__________________________________________________________________________________________________\n",
      "conv2d_1 (Conv2D)               (None, 189, 189, 32) 4640        average_pooling2d[0][0]          \n",
      "__________________________________________________________________________________________________\n",
      "leaky_re_lu_1 (LeakyReLU)       (None, 189, 189, 32) 0           conv2d_1[0][0]                   \n",
      "__________________________________________________________________________________________________\n",
      "batch_normalization_1 (BatchNor (None, 189, 189, 32) 128         leaky_re_lu_1[0][0]              \n",
      "__________________________________________________________________________________________________\n",
      "conv2d_2 (Conv2D)               (None, 189, 189, 8)  264         batch_normalization_1[0][0]      \n",
      "__________________________________________________________________________________________________\n",
      "conv2d_3 (Conv2D)               (None, 189, 189, 1)  9           conv2d_2[0][0]                   \n",
      "__________________________________________________________________________________________________\n",
      "Initial_path (InputLayer)       [(None, 25, 2)]      0                                            \n",
      "__________________________________________________________________________________________________\n",
      "Left_boundary (InputLayer)      [(None, 25, 2)]      0                                            \n",
      "__________________________________________________________________________________________________\n",
      "Right_boundary (InputLayer)     [(None, 25, 2)]      0                                            \n",
      "__________________________________________________________________________________________________\n",
      "Grid_origin_res (InputLayer)    [(None, 3)]          0                                            \n",
      "__________________________________________________________________________________________________\n",
      "Car_loc (InputLayer)            [(None, 3)]          0                                            \n",
      "__________________________________________________________________________________________________\n",
      "flatten (Flatten)               (None, 35721)        0           conv2d_3[0][0]                   \n",
      "__________________________________________________________________________________________________\n",
      "reshape (Reshape)               (None, 50)           0           Initial_path[0][0]               \n",
      "__________________________________________________________________________________________________\n",
      "reshape_1 (Reshape)             (None, 50)           0           Left_boundary[0][0]              \n",
      "__________________________________________________________________________________________________\n",
      "reshape_2 (Reshape)             (None, 50)           0           Right_boundary[0][0]             \n",
      "__________________________________________________________________________________________________\n",
      "concatenate (Concatenate)       (None, 6)            0           Grid_origin_res[0][0]            \n",
      "                                                                 Car_loc[0][0]                    \n",
      "__________________________________________________________________________________________________\n",
      "concatenate_1 (Concatenate)     (None, 35877)        0           flatten[0][0]                    \n",
      "                                                                 reshape[0][0]                    \n",
      "                                                                 reshape_1[0][0]                  \n",
      "                                                                 reshape_2[0][0]                  \n",
      "                                                                 concatenate[0][0]                \n",
      "__________________________________________________________________________________________________\n",
      "dense (Dense)                   (None, 16)           574048      concatenate_1[0][0]              \n",
      "__________________________________________________________________________________________________\n",
      "batch_normalization_2 (BatchNor (None, 16)           64          dense[0][0]                      \n",
      "__________________________________________________________________________________________________\n",
      "dropout (Dropout)               (None, 16)           0           batch_normalization_2[0][0]      \n",
      "__________________________________________________________________________________________________\n",
      "dense_1 (Dense)                 (None, 50)           850         dropout[0][0]                    \n",
      "__________________________________________________________________________________________________\n",
      "custom_mask_layer (CustomMaskLa (None, 25, 2)        0           Initial_path[0][0]               \n",
      "__________________________________________________________________________________________________\n",
      "dropout_1 (Dropout)             (None, 50)           0           dense_1[0][0]                    \n",
      "__________________________________________________________________________________________________\n",
      "reshape_3 (Reshape)             (None, 50)           0           custom_mask_layer[0][0]          \n",
      "__________________________________________________________________________________________________\n",
      "add (Add)                       (None, 50)           0           dropout_1[0][0]                  \n",
      "                                                                 reshape_3[0][0]                  \n",
      "__________________________________________________________________________________________________\n",
      "dense_2 (Dense)                 (None, 50)           2550        add[0][0]                        \n",
      "__________________________________________________________________________________________________\n",
      "reshape_4 (Reshape)             (None, 25, 2)        0           dense_2[0][0]                    \n",
      "==================================================================================================\n",
      "Total params: 582,777\n",
      "Trainable params: 582,649\n",
      "Non-trainable params: 128\n",
      "__________________________________________________________________________________________________\n",
      "12/12 [==============================] - 1s 44ms/step - loss: 4.9201 - accuracy: 0.9338\n"
     ]
    }
   ],
   "source": [
    "# load model wwith CustomMaskLayer\n",
    "pp_model = tf.keras.models.load_model('/netpool/work/gpu-3/users/malyalasa/New_folder/wandb/latest-run/files/model-best.h5',compile=False,custom_objects={'CustomMaskLayer':endpoint_in_model.CustomMaskLayer})\n",
    "\n",
    "#pp_model = tf.keras.models.load_model('/netpool/work/gpu-3/users/malyalasa/New_folder/wandb/run-20210709_111150-1dpjz991/files/model-best.h5',compile=False,custom_objects={'CustomMaskLayer':endpoint_in_model.CustomMaskLayer})\n",
    "\n",
    "\n",
    "pp_model.summary()\n",
    "# Compile the model\n",
    "opt = tf.keras.optimizers.Adam(learning_rate=0.02)\n",
    "pp_model.compile(\n",
    "        optimizer=opt, \n",
    "        loss=[euclidean_distance_loss,endpoint_loss],\n",
    "        loss_weights=params.get(\"loss_weights\"), metrics=params.get(\"metric\"))\n",
    "\n",
    "# evaluate\n",
    "test_loss,test_accuracy = pp_model.evaluate(ds_test)\n"
   ]
  },
  {
   "cell_type": "code",
   "execution_count": 4,
   "metadata": {},
   "outputs": [
    {
     "output_type": "execute_result",
     "data": {
      "text/plain": [
       "array([[[ 352.27362, -666.91986],\n",
       "        [ 336.72354, -595.63116],\n",
       "        [ 330.86682, -522.6401 ],\n",
       "        [ 348.06293, -449.03418],\n",
       "        [ 381.0513 , -385.19705],\n",
       "        [ 401.53854, -361.48187],\n",
       "        [ 404.96503, -390.10413],\n",
       "        [ 402.79446, -428.60345],\n",
       "        [ 396.1076 , -466.89886],\n",
       "        [ 388.77612, -508.43182],\n",
       "        [ 381.21564, -548.4617 ],\n",
       "        [ 372.00912, -591.8673 ],\n",
       "        [ 359.3354 , -632.5618 ],\n",
       "        [ 352.51318, -652.2194 ],\n",
       "        [ 350.25333, -659.9084 ],\n",
       "        [ 348.1363 , -667.8056 ],\n",
       "        [ 346.98016, -673.402  ],\n",
       "        [ 346.9462 , -675.5555 ],\n",
       "        [ 347.44965, -676.85046],\n",
       "        [ 347.76608, -676.5613 ],\n",
       "        [ 347.5745 , -677.4424 ],\n",
       "        [ 347.5085 , -677.4831 ],\n",
       "        [ 347.5333 , -677.4007 ],\n",
       "        [ 347.5713 , -677.2248 ],\n",
       "        [ 347.67737, -677.6657 ]]], dtype=float32)"
      ]
     },
     "metadata": {},
     "execution_count": 4
    }
   ],
   "source": [
    "data = np.load('/netpool/work/gpu-3/users/malyalasa/New_folder/rosbag2numpy/dataset/sample_gridmap.npz')\n",
    "input_sample = [data[f'{file}'] for file in data.files]\n",
    "\n",
    "#print(len(input_sample))\n",
    "pp_model.predict(input_sample)"
   ]
  },
  {
   "cell_type": "code",
   "execution_count": 5,
   "metadata": {},
   "outputs": [],
   "source": [
    "activations = keract.get_activations(pp_model, input_sample, auto_compile=True)"
   ]
  },
  {
   "cell_type": "code",
   "execution_count": 6,
   "metadata": {},
   "outputs": [
    {
     "output_type": "stream",
     "name": "stdout",
     "text": [
      "input_1 (1, 1536, 1536, 1) \n",
      "Grid_origin_res (1, 3) \n",
      "Left_boundary (1, 25, 2) \n",
      "Right_boundary (1, 25, 2) \n",
      "Car_loc (1, 3) \n",
      "Initial_path (1, 25, 2) \n",
      "conv2d (1, 767, 767, 16) \n",
      "leaky_re_lu (1, 767, 767, 16) \n",
      "batch_normalization (1, 767, 767, 16) \n",
      "average_pooling2d (1, 191, 191, 16) \n",
      "conv2d_1 (1, 189, 189, 32) \n",
      "leaky_re_lu_1 (1, 189, 189, 32) \n",
      "batch_normalization_1 (1, 189, 189, 32) \n",
      "conv2d_2 (1, 189, 189, 8) \n",
      "conv2d_3 (1, 189, 189, 1) \n",
      "flatten (1, 35721) \n",
      "reshape (1, 50) \n",
      "reshape_1 (1, 50) \n",
      "reshape_2 (1, 50) \n",
      "concatenate (1, 6) \n",
      "concatenate_1 (1, 35877) \n",
      "dense (1, 16) \n",
      "batch_normalization_2 (1, 16) \n",
      "dropout (1, 16) \n",
      "dense_1 (1, 50) \n",
      "custom_mask_layer (1, 25, 2) \n",
      "dropout_1 (1, 50) \n",
      "reshape_3 (1, 50) \n",
      "add (1, 50) \n",
      "dense_2 (1, 50) \n",
      "reshape_4 (1, 25, 2) \n"
     ]
    }
   ],
   "source": [
    "activations_dir = '/netpool/work/gpu-3/users/malyalasa/New_folder/rosbag2numpy/logging/after_norm_acts1'\n",
    "\n",
    "keract.display_activations(activations, cmap=None, save=True, directory=activations_dir, data_format='channels_last', fig_size=(10, 10), reshape_1d_layers=False)\n"
   ]
  },
  {
   "cell_type": "code",
   "execution_count": null,
   "metadata": {},
   "outputs": [],
   "source": []
  }
 ]
}