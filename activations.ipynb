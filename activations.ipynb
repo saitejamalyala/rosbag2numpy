{
 "metadata": {
  "language_info": {
   "codemirror_mode": {
    "name": "ipython",
    "version": 3
   },
   "file_extension": ".py",
   "mimetype": "text/x-python",
   "name": "python",
   "nbconvert_exporter": "python",
   "pygments_lexer": "ipython3",
   "version": "3.8.0"
  },
  "orig_nbformat": 4,
  "kernelspec": {
   "name": "python3",
   "display_name": "Python 3.8.0 64-bit ('env_mt': conda)"
  },
  "interpreter": {
   "hash": "c8d0ec656e5d9378a37156be2b24f16488b2546b8a772b439e0e56117764b87a"
  }
 },
 "nbformat": 4,
 "nbformat_minor": 2,
 "cells": [
  {
   "cell_type": "code",
   "execution_count": 1,
   "metadata": {},
   "outputs": [
    {
     "output_type": "stream",
     "name": "stdout",
     "text": [
      "Tensoflow Version: 2.3.0\n",
      "Keras Version: 2.4.0\n",
      "Num GPUs Available:  1\n"
     ]
    }
   ],
   "source": [
    "import tensorflow as tf \n",
    "from tensorflow import keras\n",
    "import numpy as np\n",
    "import keras2onnx\n",
    "import onnxruntime\n",
    "print(f\"Tensoflow Version: {tf.__version__}\")\n",
    "print(f\"Keras Version: {keras.__version__}\")\n",
    "from models import endpoint_in_model\n",
    "from losses import euclidean_distance_loss,endpoint_loss\n",
    "from data_processing.data_loader import dataset_loader\n",
    "from config import params\n",
    "\n",
    "from time import time\n",
    "import keract\n",
    "\n",
    "\n",
    "\n",
    "os.environ['CUDA_VISIBLE_DEVICES']=\"1\"\n",
    "print(\"Num GPUs Available: \", len(tf.config.list_physical_devices('GPU')))"
   ]
  },
  {
   "cell_type": "code",
   "execution_count": 2,
   "metadata": {},
   "outputs": [
    {
     "output_type": "stream",
     "name": "stdout",
     "text": [
      "Number of records, Train files:408, validation files:88, Test Files:87\n",
      "Building Dataset.......\n",
      "\n",
      "((TensorSpec(shape=(None, 1536, 1536), dtype=tf.int8, name=None),\n",
      "  TensorSpec(shape=(None, None), dtype=tf.float32, name=None),\n",
      "  TensorSpec(shape=(None, 25, 2), dtype=tf.float32, name=None),\n",
      "  TensorSpec(shape=(None, 25, 2), dtype=tf.float32, name=None),\n",
      "  TensorSpec(shape=(None, None), dtype=tf.float32, name=None),\n",
      "  TensorSpec(shape=(None, 25, 2), dtype=tf.float32, name=None),\n",
      "  TensorSpec(shape=(None,), dtype=tf.string, name=None)),\n",
      " TensorSpec(shape=(None, 25, 2), dtype=tf.float32, name=None))\n"
     ]
    }
   ],
   "source": [
    "dataset_dir = '/netpool/work/gpu-3/users/malyalasa/New_folder/tf_records'\n",
    "ds_loader = dataset_loader(tfrec_dir=dataset_dir, batch_size=32)\n",
    "ds_train, ds_valid, ds_test = ds_loader.build_dataset()"
   ]
  },
  {
   "cell_type": "code",
   "execution_count": 3,
   "metadata": {},
   "outputs": [
    {
     "output_type": "stream",
     "name": "stdout",
     "text": [
      "Model: \"functional_1\"\n",
      "__________________________________________________________________________________________________\n",
      "Layer (type)                    Output Shape         Param #     Connected to                     \n",
      "==================================================================================================\n",
      "input_1 (InputLayer)            [(None, 1536, 1536,  0                                            \n",
      "__________________________________________________________________________________________________\n",
      "conv2d (Conv2D)                 (None, 765, 765, 16) 800         input_1[0][0]                    \n",
      "__________________________________________________________________________________________________\n",
      "re_lu (ReLU)                    (None, 765, 765, 16) 0           conv2d[0][0]                     \n",
      "__________________________________________________________________________________________________\n",
      "batch_normalization (BatchNorma (None, 765, 765, 16) 64          re_lu[0][0]                      \n",
      "__________________________________________________________________________________________________\n",
      "average_pooling2d (AveragePooli (None, 191, 191, 16) 0           batch_normalization[0][0]        \n",
      "__________________________________________________________________________________________________\n",
      "conv2d_1 (Conv2D)               (None, 191, 191, 8)  136         average_pooling2d[0][0]          \n",
      "__________________________________________________________________________________________________\n",
      "conv2d_2 (Conv2D)               (None, 191, 191, 2)  18          conv2d_1[0][0]                   \n",
      "__________________________________________________________________________________________________\n",
      "Initial_path (InputLayer)       [(None, 25, 2)]      0                                            \n",
      "__________________________________________________________________________________________________\n",
      "Left_boundary (InputLayer)      [(None, 25, 2)]      0                                            \n",
      "__________________________________________________________________________________________________\n",
      "Right_boundary (InputLayer)     [(None, 25, 2)]      0                                            \n",
      "__________________________________________________________________________________________________\n",
      "Grid_origin_res (InputLayer)    [(None, 3)]          0                                            \n",
      "__________________________________________________________________________________________________\n",
      "Car_loc (InputLayer)            [(None, 3)]          0                                            \n",
      "__________________________________________________________________________________________________\n",
      "flatten (Flatten)               (None, 72962)        0           conv2d_2[0][0]                   \n",
      "__________________________________________________________________________________________________\n",
      "reshape (Reshape)               (None, 50)           0           Initial_path[0][0]               \n",
      "__________________________________________________________________________________________________\n",
      "reshape_1 (Reshape)             (None, 50)           0           Left_boundary[0][0]              \n",
      "__________________________________________________________________________________________________\n",
      "reshape_2 (Reshape)             (None, 50)           0           Right_boundary[0][0]             \n",
      "__________________________________________________________________________________________________\n",
      "concatenate (Concatenate)       (None, 6)            0           Grid_origin_res[0][0]            \n",
      "                                                                 Car_loc[0][0]                    \n",
      "__________________________________________________________________________________________________\n",
      "concatenate_1 (Concatenate)     (None, 73118)        0           flatten[0][0]                    \n",
      "                                                                 reshape[0][0]                    \n",
      "                                                                 reshape_1[0][0]                  \n",
      "                                                                 reshape_2[0][0]                  \n",
      "                                                                 concatenate[0][0]                \n",
      "__________________________________________________________________________________________________\n",
      "dense (Dense)                   (None, 16)           1169904     concatenate_1[0][0]              \n",
      "__________________________________________________________________________________________________\n",
      "batch_normalization_1 (BatchNor (None, 16)           64          dense[0][0]                      \n",
      "__________________________________________________________________________________________________\n",
      "dense_1 (Dense)                 (None, 50)           850         batch_normalization_1[0][0]      \n",
      "__________________________________________________________________________________________________\n",
      "add (Add)                       (None, 50)           0           dense_1[0][0]                    \n",
      "                                                                 reshape[0][0]                    \n",
      "__________________________________________________________________________________________________\n",
      "dense_2 (Dense)                 (None, 50)           2550        add[0][0]                        \n",
      "__________________________________________________________________________________________________\n",
      "reshape_3 (Reshape)             (None, 25, 2)        0           dense_2[0][0]                    \n",
      "==================================================================================================\n",
      "Total params: 1,174,386\n",
      "Trainable params: 1,174,322\n",
      "Non-trainable params: 64\n",
      "__________________________________________________________________________________________________\n",
      "42/42 [==============================] - 1s 34ms/step - loss: 56.3177 - accuracy: 0.9947\n"
     ]
    }
   ],
   "source": [
    "# load model wwith CustomMaskLayer\n",
    "pp_model = tf.keras.models.load_model('/netpool/work/gpu-3/users/malyalasa/New_folder/wandb/latest-run/files/model-best.h5',compile=False,custom_objects={'CustomMaskLayer':endpoint_in_model.CustomMaskLayer})\n",
    "\n",
    "pp_model.summary()\n",
    "# Compile the model\n",
    "opt = tf.keras.optimizers.Adam(learning_rate=0.02)\n",
    "pp_model.compile(\n",
    "        optimizer=opt, \n",
    "        loss=[euclidean_distance_loss,endpoint_loss],\n",
    "        loss_weights=params.get(\"loss_weights\"), metrics=params.get(\"metric\"))\n",
    "\n",
    "# evaluate\n",
    "test_loss,test_accuracy = pp_model.evaluate(ds_test)\n"
   ]
  },
  {
   "cell_type": "code",
   "execution_count": 4,
   "metadata": {},
   "outputs": [
    {
     "output_type": "execute_result",
     "data": {
      "text/plain": [
       "array([[[  53.09721 , -848.1576  ],\n",
       "        [ -23.843918, -975.952   ],\n",
       "        [ -71.257385, -818.2038  ],\n",
       "        [ -62.6431  , -826.1478  ],\n",
       "        [ -31.1552  , -783.9839  ],\n",
       "        [ 118.8456  , -765.6037  ],\n",
       "        [ 269.877   , -511.67322 ],\n",
       "        [ 276.40176 , -735.5734  ],\n",
       "        [ 122.97023 , -423.0063  ],\n",
       "        [ 164.49922 , -673.63354 ],\n",
       "        [ 174.18005 , -681.5854  ],\n",
       "        [ 250.53789 , -669.09406 ],\n",
       "        [ 182.525   , -735.4793  ],\n",
       "        [ 318.42258 , -589.0727  ],\n",
       "        [ 337.98303 , -795.3982  ],\n",
       "        [ 274.6278  , -823.6943  ],\n",
       "        [ 200.51749 , -688.3573  ],\n",
       "        [ 272.91992 , -715.28546 ],\n",
       "        [ 199.0691  , -741.7165  ],\n",
       "        [ 280.45856 , -635.4147  ],\n",
       "        [ 353.952   , -556.41736 ],\n",
       "        [ 206.26997 , -735.1424  ],\n",
       "        [ 201.31079 , -799.86566 ],\n",
       "        [ 195.50462 , -694.6135  ],\n",
       "        [ 161.78111 , -722.82367 ]]], dtype=float32)"
      ]
     },
     "metadata": {},
     "execution_count": 4
    }
   ],
   "source": [
    "data = np.load('/netpool/work/gpu-3/users/malyalasa/New_folder/rosbag2numpy/dataset/sample_gridmap.npz')\n",
    "input_sample = [data[f'{file}'] for file in data.files]\n",
    "\n",
    "#print(len(input_sample))\n",
    "pp_model.predict(input_sample)"
   ]
  },
  {
   "cell_type": "code",
   "execution_count": 5,
   "metadata": {},
   "outputs": [],
   "source": [
    "activations = keract.get_activations(pp_model, input_sample, auto_compile=True)"
   ]
  },
  {
   "cell_type": "code",
   "execution_count": 6,
   "metadata": {},
   "outputs": [
    {
     "output_type": "stream",
     "name": "stdout",
     "text": [
      "input_1 (1, 1536, 1536, 1) \n",
      "Grid_origin_res (1, 3) \n",
      "Left_boundary (1, 25, 2) \n",
      "Right_boundary (1, 25, 2) \n",
      "Car_loc (1, 3) \n",
      "Initial_path (1, 25, 2) \n",
      "conv2d (1, 765, 765, 16) \n",
      "re_lu (1, 765, 765, 16) \n",
      "batch_normalization (1, 765, 765, 16) \n",
      "average_pooling2d (1, 191, 191, 16) \n",
      "conv2d_1 (1, 191, 191, 8) \n",
      "conv2d_2 (1, 191, 191, 2) \n",
      "flatten (1, 72962) \n",
      "reshape (1, 50) \n",
      "reshape_1 (1, 50) \n",
      "reshape_2 (1, 50) \n",
      "concatenate (1, 6) \n",
      "concatenate_1 (1, 73118) \n",
      "dense (1, 16) \n",
      "batch_normalization_1 (1, 16) \n",
      "dense_1 (1, 50) \n",
      "add (1, 50) \n",
      "dense_2 (1, 50) \n",
      "reshape_3 (1, 25, 2) \n"
     ]
    }
   ],
   "source": [
    "activations_dir = '/netpool/work/gpu-3/users/malyalasa/New_folder/rosbag2numpy/logging/act_newmodel'\n",
    "\n",
    "keract.display_activations(activations, cmap=None, save=True, directory=activations_dir, data_format='channels_last', fig_size=(10, 10), reshape_1d_layers=False)\n"
   ]
  },
  {
   "cell_type": "code",
   "execution_count": null,
   "metadata": {},
   "outputs": [],
   "source": []
  }
 ]
}