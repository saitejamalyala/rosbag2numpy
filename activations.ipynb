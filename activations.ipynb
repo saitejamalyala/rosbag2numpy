{
 "metadata": {
  "language_info": {
   "codemirror_mode": {
    "name": "ipython",
    "version": 3
   },
   "file_extension": ".py",
   "mimetype": "text/x-python",
   "name": "python",
   "nbconvert_exporter": "python",
   "pygments_lexer": "ipython3",
   "version": "3.8.0"
  },
  "orig_nbformat": 4,
  "kernelspec": {
   "name": "python3",
   "display_name": "Python 3.8.0 64-bit ('env_mt': conda)"
  },
  "interpreter": {
   "hash": "c8d0ec656e5d9378a37156be2b24f16488b2546b8a772b439e0e56117764b87a"
  }
 },
 "nbformat": 4,
 "nbformat_minor": 2,
 "cells": [
  {
   "cell_type": "code",
   "execution_count": 1,
   "source": [
    "import sys\n",
    "sys.path.append(\"../\")\n",
    "import tensorflow as tf \n",
    "from tensorflow import keras\n",
    "import numpy as np\n",
    "import keras2onnx\n",
    "import onnxruntime\n",
    "print(f\"Tensoflow Version: {tf.__version__}\")\n",
    "print(f\"Keras Version: {keras.__version__}\")\n",
    "from models import endpoint_in_model\n",
    "from losses import euclidean_distance_loss,endpoint_loss\n",
    "from data_processing.data_loader import dataset_loader\n",
    "from config import params\n",
    "\n",
    "from time import time\n",
    "import keract\n",
    "\n",
    "\n",
    "\n",
    "os.environ['CUDA_VISIBLE_DEVICES']=\"1\"\n",
    "print(\"Num GPUs Available: \", len(tf.config.list_physical_devices('GPU')))"
   ],
   "outputs": [
    {
     "output_type": "stream",
     "name": "stdout",
     "text": [
      "Tensoflow Version: 2.3.0\n",
      "Keras Version: 2.4.0\n",
      "Num GPUs Available:  1\n"
     ]
    }
   ],
   "metadata": {}
  },
  {
   "cell_type": "code",
   "execution_count": 3,
   "source": [
    "\"\"\"\n",
    "dataset_dir = '/netpool/work/gpu-3/users/malyalasa/New_folder/tf_records'\n",
    "ds_loader = dataset_loader(tfrec_dir=dataset_dir, batch_size=32)\n",
    "ds_train, ds_valid, ds_test = ds_loader.build_dataset()\n",
    "\"\"\"\n",
    "dataset_dir = '/netpool/work/gpu-3/users/malyalasa/New_folder/tf_records'\n",
    "ds_loader = dataset_loader(tfrec_dir=params.get(\"dataset_dir\"), batch_size=32)\n",
    "#ds_train, ds_valid, ds_test = ds_loader.build_dataset()\n",
    "ds_train, ds_valid, ds_test = ds_loader.build_scenario_dataset(consider_scenes=10,no_train_scene=8,no_valid_scene=1,no_test_scene=1)\n"
   ],
   "outputs": [
    {
     "output_type": "stream",
     "name": "stdout",
     "text": [
      "Scenarios:['/bigpool/projects/yao_SCANGAN360/New_Folder/tf_records/scenario1', '/bigpool/projects/yao_SCANGAN360/New_Folder/tf_records/scenario2', '/bigpool/projects/yao_SCANGAN360/New_Folder/tf_records/scenario3', '/bigpool/projects/yao_SCANGAN360/New_Folder/tf_records/scenario4', '/bigpool/projects/yao_SCANGAN360/New_Folder/tf_records/scenario5', '/bigpool/projects/yao_SCANGAN360/New_Folder/tf_records/scenario_ph_11', '/bigpool/projects/yao_SCANGAN360/New_Folder/tf_records/scenario_ph_12', '/bigpool/projects/yao_SCANGAN360/New_Folder/tf_records/scenario_ph_13', '/bigpool/projects/yao_SCANGAN360/New_Folder/tf_records/scenario_ph_14', '/bigpool/projects/yao_SCANGAN360/New_Folder/tf_records/scenario_ph_15']\n",
      "Building Dataset.......\n",
      "\n",
      "Number of records, Train files:610, validation files:109, Test Files:98\n",
      "((TensorSpec(shape=(None, 1536, 1536), dtype=tf.int8, name=None),\n",
      "  TensorSpec(shape=(None, None), dtype=tf.float32, name=None),\n",
      "  TensorSpec(shape=(None, 25, 2), dtype=tf.float32, name=None),\n",
      "  TensorSpec(shape=(None, 25, 2), dtype=tf.float32, name=None),\n",
      "  TensorSpec(shape=(None, 3), dtype=tf.float32, name=None),\n",
      "  TensorSpec(shape=(None, 25, 2), dtype=tf.float32, name=None),\n",
      "  TensorSpec(shape=(None,), dtype=tf.string, name=None)),\n",
      " TensorSpec(shape=(None, 25, 2), dtype=tf.float32, name=None))\n"
     ]
    }
   ],
   "metadata": {}
  },
  {
   "cell_type": "code",
   "execution_count": 5,
   "source": [
    "# load model wwith CustomMaskLayer\n",
    "pp_model = tf.keras.models.load_model('/netpool/work/gpu-3/users/malyalasa/New_folder/wandb/latest-run/files/model-best.h5',compile=False,custom_objects={'CustomMaskLayer':endpoint_in_model.CustomMaskLayer})\n",
    "\n",
    "#pp_model = tf.keras.models.load_model('/netpool/work/gpu-3/users/malyalasa/New_folder/wandb/run-20210709_111150-1dpjz991/files/model-best.h5',compile=False,custom_objects={'CustomMaskLayer':endpoint_in_model.CustomMaskLayer})\n",
    "\n",
    "\n",
    "pp_model.summary()\n",
    "# Compile the model\n",
    "opt = tf.keras.optimizers.Adam(learning_rate=0.02)\n",
    "pp_model.compile(\n",
    "        optimizer=opt, \n",
    "        loss=[euclidean_distance_loss,endpoint_loss],\n",
    "        loss_weights=params.get(\"loss_weights\"), metrics=params.get(\"metric\"))\n",
    "\n",
    "# evaluate\n",
    "test_loss,test_accuracy = pp_model.evaluate(ds_test)\n"
   ],
   "outputs": [
    {
     "output_type": "error",
     "ename": "OSError",
     "evalue": "SavedModel file does not exist at: /netpool/work/gpu-3/users/malyalasa/New_folder/wandb/latest-run/files/model-best.h5/{saved_model.pbtxt|saved_model.pb}",
     "traceback": [
      "\u001b[0;31m---------------------------------------------------------------------------\u001b[0m",
      "\u001b[0;31mOSError\u001b[0m                                   Traceback (most recent call last)",
      "\u001b[0;32m<ipython-input-5-ece8d183e35d>\u001b[0m in \u001b[0;36m<module>\u001b[0;34m\u001b[0m\n\u001b[1;32m      1\u001b[0m \u001b[0;31m# load model wwith CustomMaskLayer\u001b[0m\u001b[0;34m\u001b[0m\u001b[0;34m\u001b[0m\u001b[0;34m\u001b[0m\u001b[0m\n\u001b[0;32m----> 2\u001b[0;31m \u001b[0mpp_model\u001b[0m \u001b[0;34m=\u001b[0m \u001b[0mtf\u001b[0m\u001b[0;34m.\u001b[0m\u001b[0mkeras\u001b[0m\u001b[0;34m.\u001b[0m\u001b[0mmodels\u001b[0m\u001b[0;34m.\u001b[0m\u001b[0mload_model\u001b[0m\u001b[0;34m(\u001b[0m\u001b[0;34m'/netpool/work/gpu-3/users/malyalasa/New_folder/wandb/latest-run/files/model-best.h5'\u001b[0m\u001b[0;34m,\u001b[0m\u001b[0mcompile\u001b[0m\u001b[0;34m=\u001b[0m\u001b[0;32mFalse\u001b[0m\u001b[0;34m,\u001b[0m\u001b[0mcustom_objects\u001b[0m\u001b[0;34m=\u001b[0m\u001b[0;34m{\u001b[0m\u001b[0;34m'CustomMaskLayer'\u001b[0m\u001b[0;34m:\u001b[0m\u001b[0mendpoint_in_model\u001b[0m\u001b[0;34m.\u001b[0m\u001b[0mCustomMaskLayer\u001b[0m\u001b[0;34m}\u001b[0m\u001b[0;34m)\u001b[0m\u001b[0;34m\u001b[0m\u001b[0;34m\u001b[0m\u001b[0m\n\u001b[0m\u001b[1;32m      3\u001b[0m \u001b[0;34m\u001b[0m\u001b[0m\n\u001b[1;32m      4\u001b[0m \u001b[0;31m#pp_model = tf.keras.models.load_model('/netpool/work/gpu-3/users/malyalasa/New_folder/wandb/run-20210709_111150-1dpjz991/files/model-best.h5',compile=False,custom_objects={'CustomMaskLayer':endpoint_in_model.CustomMaskLayer})\u001b[0m\u001b[0;34m\u001b[0m\u001b[0;34m\u001b[0m\u001b[0;34m\u001b[0m\u001b[0m\n\u001b[1;32m      5\u001b[0m \u001b[0;34m\u001b[0m\u001b[0m\n",
      "\u001b[0;32m/netpool/work/gpu-3/users/malyalasa/anaconda3/envs/env_mt/lib/python3.8/site-packages/tensorflow/python/keras/saving/save.py\u001b[0m in \u001b[0;36mload_model\u001b[0;34m(filepath, custom_objects, compile, options)\u001b[0m\n\u001b[1;32m    184\u001b[0m     \u001b[0mfilepath\u001b[0m \u001b[0;34m=\u001b[0m \u001b[0mpath_to_string\u001b[0m\u001b[0;34m(\u001b[0m\u001b[0mfilepath\u001b[0m\u001b[0;34m)\u001b[0m\u001b[0;34m\u001b[0m\u001b[0;34m\u001b[0m\u001b[0m\n\u001b[1;32m    185\u001b[0m     \u001b[0;32mif\u001b[0m \u001b[0misinstance\u001b[0m\u001b[0;34m(\u001b[0m\u001b[0mfilepath\u001b[0m\u001b[0;34m,\u001b[0m \u001b[0msix\u001b[0m\u001b[0;34m.\u001b[0m\u001b[0mstring_types\u001b[0m\u001b[0;34m)\u001b[0m\u001b[0;34m:\u001b[0m\u001b[0;34m\u001b[0m\u001b[0;34m\u001b[0m\u001b[0m\n\u001b[0;32m--> 186\u001b[0;31m       \u001b[0mloader_impl\u001b[0m\u001b[0;34m.\u001b[0m\u001b[0mparse_saved_model\u001b[0m\u001b[0;34m(\u001b[0m\u001b[0mfilepath\u001b[0m\u001b[0;34m)\u001b[0m\u001b[0;34m\u001b[0m\u001b[0;34m\u001b[0m\u001b[0m\n\u001b[0m\u001b[1;32m    187\u001b[0m       \u001b[0;32mreturn\u001b[0m \u001b[0msaved_model_load\u001b[0m\u001b[0;34m.\u001b[0m\u001b[0mload\u001b[0m\u001b[0;34m(\u001b[0m\u001b[0mfilepath\u001b[0m\u001b[0;34m,\u001b[0m \u001b[0mcompile\u001b[0m\u001b[0;34m,\u001b[0m \u001b[0moptions\u001b[0m\u001b[0;34m)\u001b[0m\u001b[0;34m\u001b[0m\u001b[0;34m\u001b[0m\u001b[0m\n\u001b[1;32m    188\u001b[0m \u001b[0;34m\u001b[0m\u001b[0m\n",
      "\u001b[0;32m/netpool/work/gpu-3/users/malyalasa/anaconda3/envs/env_mt/lib/python3.8/site-packages/tensorflow/python/saved_model/loader_impl.py\u001b[0m in \u001b[0;36mparse_saved_model\u001b[0;34m(export_dir)\u001b[0m\n\u001b[1;32m    108\u001b[0m       \u001b[0;32mraise\u001b[0m \u001b[0mIOError\u001b[0m\u001b[0;34m(\u001b[0m\u001b[0;34m\"Cannot parse file %s: %s.\"\u001b[0m \u001b[0;34m%\u001b[0m \u001b[0;34m(\u001b[0m\u001b[0mpath_to_pbtxt\u001b[0m\u001b[0;34m,\u001b[0m \u001b[0mstr\u001b[0m\u001b[0;34m(\u001b[0m\u001b[0me\u001b[0m\u001b[0;34m)\u001b[0m\u001b[0;34m)\u001b[0m\u001b[0;34m)\u001b[0m\u001b[0;34m\u001b[0m\u001b[0;34m\u001b[0m\u001b[0m\n\u001b[1;32m    109\u001b[0m   \u001b[0;32melse\u001b[0m\u001b[0;34m:\u001b[0m\u001b[0;34m\u001b[0m\u001b[0;34m\u001b[0m\u001b[0m\n\u001b[0;32m--> 110\u001b[0;31m     raise IOError(\"SavedModel file does not exist at: %s/{%s|%s}\" %\n\u001b[0m\u001b[1;32m    111\u001b[0m                   (export_dir,\n\u001b[1;32m    112\u001b[0m                    \u001b[0mconstants\u001b[0m\u001b[0;34m.\u001b[0m\u001b[0mSAVED_MODEL_FILENAME_PBTXT\u001b[0m\u001b[0;34m,\u001b[0m\u001b[0;34m\u001b[0m\u001b[0;34m\u001b[0m\u001b[0m\n",
      "\u001b[0;31mOSError\u001b[0m: SavedModel file does not exist at: /netpool/work/gpu-3/users/malyalasa/New_folder/wandb/latest-run/files/model-best.h5/{saved_model.pbtxt|saved_model.pb}"
     ]
    }
   ],
   "metadata": {}
  },
  {
   "cell_type": "code",
   "execution_count": 5,
   "source": [
    "data = np.load('/netpool/work/gpu-3/users/malyalasa/New_folder/rosbag2numpy/dataset/sample_gridmap.npz')\n",
    "input_sample = [data[f'{file}'] for file in data.files]\n",
    "\n",
    "#print(len(input_sample))\n",
    "pp_model.predict(input_sample)"
   ],
   "outputs": [
    {
     "output_type": "execute_result",
     "data": {
      "text/plain": [
       "array([[[ 352.41058, -667.99963],\n",
       "        [ 338.91028, -594.2906 ],\n",
       "        [ 335.09494, -517.82385],\n",
       "        [ 356.2013 , -441.23682],\n",
       "        [ 392.94614, -374.8775 ],\n",
       "        [ 414.2722 , -351.64706],\n",
       "        [ 416.53925, -379.44757],\n",
       "        [ 413.40344, -419.11337],\n",
       "        [ 405.43573, -461.00156],\n",
       "        [ 397.44992, -503.15634],\n",
       "        [ 389.1074 , -543.16235],\n",
       "        [ 377.92828, -585.3933 ],\n",
       "        [ 363.03876, -624.7076 ],\n",
       "        [ 355.1357 , -644.1888 ],\n",
       "        [ 353.25412, -654.2156 ],\n",
       "        [ 350.88242, -662.4044 ],\n",
       "        [ 348.79312, -667.7455 ],\n",
       "        [ 348.62888, -672.538  ],\n",
       "        [ 348.3208 , -675.0437 ],\n",
       "        [ 347.99033, -676.7255 ],\n",
       "        [ 347.80084, -676.9148 ],\n",
       "        [ 348.0718 , -676.81464],\n",
       "        [ 347.82907, -677.1928 ],\n",
       "        [ 347.8195 , -677.03284],\n",
       "        [ 347.83392, -677.35364]]], dtype=float32)"
      ]
     },
     "metadata": {},
     "execution_count": 5
    }
   ],
   "metadata": {}
  },
  {
   "cell_type": "code",
   "execution_count": 6,
   "source": [
    "activations = keract.get_activations(pp_model, input_sample, auto_compile=True)"
   ],
   "outputs": [],
   "metadata": {}
  },
  {
   "cell_type": "code",
   "execution_count": 6,
   "source": [
    "activations_dir = '/netpool/work/gpu-3/users/malyalasa/New_folder/rosbag2numpy/logging/after_norm_and_coordconv'\n",
    "\n",
    "keract.display_activations(activations, cmap=None, save=True, directory=activations_dir, data_format='channels_last', fig_size=(10, 10), reshape_1d_layers=False)\n"
   ],
   "outputs": [
    {
     "output_type": "stream",
     "name": "stdout",
     "text": [
      "input_1 (1, 1536, 1536, 1) \n",
      "Grid_origin_res (1, 3) \n",
      "Left_boundary (1, 25, 2) \n",
      "Right_boundary (1, 25, 2) \n",
      "Car_loc (1, 3) \n",
      "Initial_path (1, 25, 2) \n",
      "conv2d (1, 767, 767, 16) \n",
      "leaky_re_lu (1, 767, 767, 16) \n",
      "batch_normalization (1, 767, 767, 16) \n",
      "average_pooling2d (1, 191, 191, 16) \n",
      "conv2d_1 (1, 189, 189, 32) \n",
      "leaky_re_lu_1 (1, 189, 189, 32) \n",
      "batch_normalization_1 (1, 189, 189, 32) \n",
      "conv2d_2 (1, 189, 189, 8) \n",
      "conv2d_3 (1, 189, 189, 1) \n",
      "flatten (1, 35721) \n",
      "reshape (1, 50) \n",
      "reshape_1 (1, 50) \n",
      "reshape_2 (1, 50) \n",
      "concatenate (1, 6) \n",
      "concatenate_1 (1, 35877) \n",
      "dense (1, 16) \n",
      "batch_normalization_2 (1, 16) \n",
      "dropout (1, 16) \n",
      "dense_1 (1, 50) \n",
      "custom_mask_layer (1, 25, 2) \n",
      "dropout_1 (1, 50) \n",
      "reshape_3 (1, 50) \n",
      "add (1, 50) \n",
      "dense_2 (1, 50) \n",
      "reshape_4 (1, 25, 2) \n"
     ]
    }
   ],
   "metadata": {}
  },
  {
   "cell_type": "code",
   "execution_count": null,
   "source": [],
   "outputs": [],
   "metadata": {}
  }
 ]
}