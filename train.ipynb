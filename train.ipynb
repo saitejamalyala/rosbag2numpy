{
 "cells": [
  {
   "cell_type": "code",
   "execution_count": 1,
   "source": [
    "import os\n",
    "import sys\n",
    "sys.path.append(\"../\")\n",
    "import tensorflow as tf\n",
    "from glob import glob\n",
    "from typing import List, Tuple\n",
    "#from .data_processing.data_loader import dataset_loader\n",
    "#from rosbag2numpy.data_processing.data_loader_costmap  import dataset_loader\n",
    "from rosbag2numpy.data_processing.data_loader_dual_costmap  import dataset_loader\n",
    "\n",
    "from matplotlib import pyplot as plt\n",
    "import numpy as np\n",
    "from numpy import ndarray\n",
    "from typing import Dict, List, Union\n",
    "from rosbag2numpy.config import params\n",
    "from rosbag2numpy.config import generalization_model_params as g_params\n",
    "import wandb\n",
    "from wandb.keras import WandbCallback\n",
    "from rosbag2numpy.losses import euclidean_distance_loss,endpoint_loss,costmap_loss_wrapper,loss_wrapper,distance_loss, costmap_loss\n",
    "from rosbag2numpy.models import conv1x1_endpoint_in_model,conv1x1_endpoint_in_model_costmapout\n",
    "import time\n",
    "import os\n",
    "from rosbag2numpy.train import get_np_test_ds\n",
    "from tensorflow.keras import backend as K\n",
    "\n",
    "print(tf.__version__)\n",
    "os.environ[\"CUDA_VISIBLE_DEVICES\"] = \"3\"\n"
   ],
   "outputs": [
    {
     "output_type": "stream",
     "name": "stdout",
     "text": [
      "2.3.0\n",
      "2.3.0\n"
     ]
    }
   ],
   "metadata": {}
  },
  {
   "cell_type": "code",
   "execution_count": 2,
   "source": [
    "ds_loader = dataset_loader(\n",
    "    tfrec_dir=params.get(\"dataset_dir\"),\n",
    "    batch_size=params.get(\"H_BATCH_SIZE\"),\n",
    "    shuffle_buffer=params.get(\"H_SHUFFLE_BUFFER\"),\n",
    "    normalize_coords=params.get(\"normalize_coords\"),\n",
    "    normalize_factor=params.get(\"normalize_factor\")\n",
    ")\n",
    "ds_train, ds_valid, ds_test = ds_loader.build_scenario_dataset(consider_scenes=10,no_train_scene=8,no_valid_scene=1,no_test_scene=1)\n",
    "\n",
    "start = time.time()\n",
    "#np_ds_test = get_np_test_ds(ds_test=ds_test)\n",
    "print(f\"Test dataset load time: {time.time() - start}\")"
   ],
   "outputs": [
    {
     "output_type": "stream",
     "name": "stdout",
     "text": [
      "Scenarios:['/bigpool/projects/yao_SCANGAN360/New_Folder/tf_records_w_costmap_dist_dir/scenario1', '/bigpool/projects/yao_SCANGAN360/New_Folder/tf_records_w_costmap_dist_dir/scenario2', '/bigpool/projects/yao_SCANGAN360/New_Folder/tf_records_w_costmap_dist_dir/scenario3', '/bigpool/projects/yao_SCANGAN360/New_Folder/tf_records_w_costmap_dist_dir/scenario4', '/bigpool/projects/yao_SCANGAN360/New_Folder/tf_records_w_costmap_dist_dir/scenario5', '/bigpool/projects/yao_SCANGAN360/New_Folder/tf_records_w_costmap_dist_dir/scenario_ph_11', '/bigpool/projects/yao_SCANGAN360/New_Folder/tf_records_w_costmap_dist_dir/scenario_ph_12', '/bigpool/projects/yao_SCANGAN360/New_Folder/tf_records_w_costmap_dist_dir/scenario_ph_13', '/bigpool/projects/yao_SCANGAN360/New_Folder/tf_records_w_costmap_dist_dir/scenario_ph_14', '/bigpool/projects/yao_SCANGAN360/New_Folder/tf_records_w_costmap_dist_dir/scenario_ph_15']\n",
      "Building Dataset.......\n",
      "\n",
      "Number of records, Train files:610, validation files:109, Test Files:98\n",
      "((TensorSpec(shape=(None, 1536, 1536), dtype=tf.float16, name=None),\n",
      "  TensorSpec(shape=(None, None), dtype=tf.float32, name=None),\n",
      "  TensorSpec(shape=(None, 25, 2), dtype=tf.float32, name=None),\n",
      "  TensorSpec(shape=(None, 25, 2), dtype=tf.float32, name=None),\n",
      "  TensorSpec(shape=(None, 3), dtype=tf.float32, name=None),\n",
      "  TensorSpec(shape=(None, 25, 2), dtype=tf.float32, name=None),\n",
      "  TensorSpec(shape=(None,), dtype=tf.string, name=None)),\n",
      " TensorSpec(shape=(None, 25, 2), dtype=tf.float32, name=None))\n",
      "Test dataset load time: 5.745887756347656e-05\n"
     ]
    }
   ],
   "metadata": {}
  },
  {
   "cell_type": "code",
   "execution_count": 3,
   "source": [
    "for X,Y in ds_train.take(1):\n",
    "    #print(X[-1])\n",
    "    # costmap, optimized path gt\n",
    "    print(Y.shape)\n",
    "    # costmap, grid org res, left bnd, right bnd, car odo, init path, filedetails, gt opt path cost\n",
    "    print(X[0].shape,X[1].shape,X[2].shape,X[3].shape,X[4].shape,X[5].shape,X[6].shape)\n",
    "\n",
    "\n",
    "X[0][0][:,:]"
   ],
   "outputs": [
    {
     "output_type": "stream",
     "name": "stdout",
     "text": [
      "(32, 25, 2)\n",
      "(32, 1536, 1536) (32, 3) (32, 25, 2) (32, 25, 2) (32, 3) (32, 25, 2) (32,)\n"
     ]
    },
    {
     "output_type": "execute_result",
     "data": {
      "text/plain": [
       "<tf.Tensor: shape=(1536, 1536), dtype=float16, numpy=\n",
       "array([[0., 0., 0., ..., 0., 0., 0.],\n",
       "       [0., 0., 0., ..., 0., 0., 0.],\n",
       "       [0., 0., 0., ..., 0., 0., 0.],\n",
       "       ...,\n",
       "       [0., 0., 0., ..., 0., 0., 0.],\n",
       "       [0., 0., 0., ..., 0., 0., 0.],\n",
       "       [0., 0., 0., ..., 0., 0., 0.]], dtype=float16)>"
      ]
     },
     "metadata": {},
     "execution_count": 3
    }
   ],
   "metadata": {}
  },
  {
   "cell_type": "code",
   "execution_count": 4,
   "source": [
    "from concurrent.futures import ProcessPoolExecutor, as_completed\n",
    "\n",
    "\n",
    "def conc_path_costmap_loss(y_true, y_pred):\n",
    "    batch_loss = []\n",
    "    #print(f'shapes: {type(y_true.shape[0]),y_pred.shape}')\n",
    "    assert y_true.shape[0] == y_pred.shape[0]\n",
    "\n",
    "    # range of batch size, last batch may not have samples mentioned in batch size\n",
    "    #for i in range(y_true.shape[0]):\n",
    "    #    batch_loss.append(ind_loss(y_true[i][:,:], y_pred[i][:,:])) \n",
    "\n",
    "    with ProcessPoolExecutor() as executor:\n",
    "        for i in range(y_true.shape[0]):\n",
    "            param_args = {'y_true':y_true[i][:,:],'y_pred': y_pred[i][:,:]}\n",
    "            results = {executor.submit(ind_loss,**param_args)}\n",
    "        for future in as_completed(results):\n",
    "            batch_loss.append(future.result())\n",
    "\n",
    "    executor.shutdown(wait=True)\n",
    "    #print(batch_loss)\n",
    "    #[batch_loss.append(result) for result in results]\n",
    "    return tf.convert_to_tensor(batch_loss)\n",
    "\n",
    "\n",
    "def path_costmap_loss(y_true, y_pred):\n",
    "    batch_loss = []\n",
    "    #print(f'shapes: {type(y_true.shape[0]),y_pred.shape}')\n",
    "    assert y_true.shape[0] == y_pred.shape[0]\n",
    "\n",
    "    # range of batch size, last batch may not have samples mentioned in batch size\n",
    "    for i in range(y_true.shape[0]):\n",
    "        #batch_loss.append(ind_loss(y_true[i][:,:], y_pred[i][:,:])) \n",
    "        batch_loss.append(ind_loss(y_true[i][:,:], y_pred[i][:,:])) \n",
    "\n",
    "    #print(batch_loss)\n",
    "    return tf.convert_to_tensor(batch_loss)\n",
    "\n",
    "def ind_loss(y_true, y_pred):\n",
    "    #assuming y true is cost map 1536,1536\n",
    "    # y_pred is a list of predicted points 25,2\n",
    "\n",
    "    costmap = y_true\n",
    "    valid_indices = tf.where(costmap > 0.35) # get indices\n",
    "    valid_costs = tf.gather_nd(costmap, valid_indices) # get respective values\n",
    "    valid_costs = tf.cast(valid_costs, dtype=tf.float32) #cast them to float32\n",
    "\n",
    "    \n",
    "    allcosts = tf.constant(0.0)\n",
    "    valid_indices = tf.cast(valid_indices, dtype=tf.float32)\n",
    "    #print(f\"valid_costs:{valid_costs.shape}, valid indices shape : {valid_indices.shape}\")\n",
    "\n",
    "    for i in range(25):\n",
    "\n",
    "        pred_dist  = K.sqrt(K.sum(K.square(valid_indices - y_pred[i]),axis=1))\n",
    "        inv_pred_dist = tf.math.reciprocal_no_nan(tf.math.pow(pred_dist,0.1))\n",
    "\n",
    "        # cost for one point in the path\n",
    "        cost_for_point = tf.reduce_sum(tf.multiply(inv_pred_dist,valid_costs))\n",
    "        pred_allcosts = tf.add(allcosts,cost_for_point) if i == 0 else tf.add(pred_allcosts,cost_for_point)\n",
    "    #print(pred_allcosts.shape)\n",
    "    \n",
    "    return K.mean(pred_allcosts)\n",
    " "
   ],
   "outputs": [],
   "metadata": {}
  },
  {
   "cell_type": "code",
   "execution_count": 5,
   "source": [
    "model = conv1x1_endpoint_in_model_costmapout.nn(full_skip= True,params=params)\n",
    "# Learning rate scheduler\n",
    "\n",
    "opt = conv1x1_endpoint_in_model_costmapout._get_optimizer(params.get(\"optimizer\"), lr=params.get(\"lr\"))\n",
    "\n",
    "model.compile(\n",
    "    optimizer=opt, \n",
    "    loss=path_costmap_loss,\n",
    "    loss_weights=[1]\n",
    ")\n",
    "\n",
    "#model.summary()"
   ],
   "outputs": [],
   "metadata": {}
  },
  {
   "cell_type": "code",
   "execution_count": 6,
   "source": [
    "from tqdm import tqdm\n",
    "from statistics import mean\n",
    "# [ip_gridmap,ip_grid_org_res,ip_left_bnd, ip_right_bnd, ip_car_odo, ip_init_path,ip_file_name,ip_gt_cost]\n",
    "\n",
    "#@tf.function(experimental_relax_shapes=True)\n",
    "def train_step(data,step):\n",
    "    #(costmap, grid_org_res, left_bnd, right_bnd, car_odo, init_path, filedetails),(gt_opt_path) = data\n",
    "    X,Y = data\n",
    "    if step==1:\n",
    "        print(X[0].shape,X[1].shape,X[2].shape,X[3].shape,X[4].shape,X[5].shape,X[6].shape)\n",
    "    with tf.GradientTape() as tape:\n",
    "\n",
    "        predictions = model(X,training=True)\n",
    "\n",
    "        cm_loss_pred = path_costmap_loss(X[0],predictions)\n",
    "        cm_loss_gt = path_costmap_loss(X[0],Y)\n",
    "\n",
    "        displacement_loss = euclidean_distance_loss(Y,predictions)\n",
    "        \n",
    "        path_cost_loss = tf.math.reduce_mean(tf.abs(cm_loss_pred-cm_loss_gt))\n",
    "\n",
    "        total_loss = 0.2*(path_cost_loss) + displacement_loss\n",
    "        #print(total_loss)\n",
    "\n",
    "        grads = tape.gradient(total_loss, model.trainable_weights)\n",
    "\n",
    "        opt.apply_gradients(zip(grads,model.trainable_weights))\n",
    "    return total_loss\n",
    "\n",
    "#@tf.function(experimental_relax_shapes=True)\n",
    "def train():\n",
    "    epochs = 30\n",
    "\n",
    "    for epoch in range(epochs):\n",
    "        print(f\"\\n Start of epoch: {epoch+1}\")\n",
    "\n",
    "        #iterate through the batches of dataset.\n",
    "        for step, (X_batch,Y_batch) in enumerate(tqdm(ds_train)):\n",
    "            loss_list = []\n",
    "            loss = train_step((X_batch,Y_batch),step)\n",
    "            loss_list.append(loss)\n",
    "        \n",
    "        print(f\"Loss at epoch {epoch+1} is {tf.math.reduce_mean(loss_list)}\")\n",
    "\n",
    "        if (epoch+1)==30:\n",
    "            model.save('trainmodel.h5')\n",
    "train()\n",
    "    "
   ],
   "outputs": [
    {
     "output_type": "stream",
     "name": "stderr",
     "text": [
      "0it [00:00, ?it/s]"
     ]
    },
    {
     "output_type": "stream",
     "name": "stdout",
     "text": [
      "\n",
      " Start of epoch: 1\n"
     ]
    },
    {
     "output_type": "stream",
     "name": "stderr",
     "text": [
      "1it [00:11, 11.91s/it]"
     ]
    },
    {
     "output_type": "stream",
     "name": "stdout",
     "text": [
      "(32, 1536, 1536) (32, 3) (32, 25, 2) (32, 25, 2) (32, 3) (32, 25, 2) (32,)\n"
     ]
    },
    {
     "output_type": "stream",
     "name": "stderr",
     "text": [
      "288it [16:11,  3.37s/it]\n",
      "0it [00:00, ?it/s]"
     ]
    },
    {
     "output_type": "stream",
     "name": "stdout",
     "text": [
      "Loss at epoch 1 is 4183.58203125\n",
      "\n",
      " Start of epoch: 2\n"
     ]
    },
    {
     "output_type": "stream",
     "name": "stderr",
     "text": [
      "1it [00:05,  5.62s/it]"
     ]
    },
    {
     "output_type": "stream",
     "name": "stdout",
     "text": [
      "(32, 1536, 1536) (32, 3) (32, 25, 2) (32, 25, 2) (32, 3) (32, 25, 2) (32,)\n"
     ]
    },
    {
     "output_type": "stream",
     "name": "stderr",
     "text": [
      "288it [16:01,  3.34s/it]\n",
      "0it [00:00, ?it/s]"
     ]
    },
    {
     "output_type": "stream",
     "name": "stdout",
     "text": [
      "Loss at epoch 2 is 4527.7353515625\n",
      "\n",
      " Start of epoch: 3\n"
     ]
    },
    {
     "output_type": "stream",
     "name": "stderr",
     "text": [
      "1it [00:05,  5.42s/it]"
     ]
    },
    {
     "output_type": "stream",
     "name": "stdout",
     "text": [
      "(32, 1536, 1536) (32, 3) (32, 25, 2) (32, 25, 2) (32, 3) (32, 25, 2) (32,)\n"
     ]
    },
    {
     "output_type": "stream",
     "name": "stderr",
     "text": [
      "288it [15:57,  3.33s/it]\n",
      "0it [00:00, ?it/s]"
     ]
    },
    {
     "output_type": "stream",
     "name": "stdout",
     "text": [
      "Loss at epoch 3 is 4553.74755859375\n",
      "\n",
      " Start of epoch: 4\n"
     ]
    },
    {
     "output_type": "stream",
     "name": "stderr",
     "text": [
      "1it [00:05,  5.29s/it]"
     ]
    },
    {
     "output_type": "stream",
     "name": "stdout",
     "text": [
      "(32, 1536, 1536) (32, 3) (32, 25, 2) (32, 25, 2) (32, 3) (32, 25, 2) (32,)\n"
     ]
    },
    {
     "output_type": "stream",
     "name": "stderr",
     "text": [
      "288it [16:03,  3.35s/it]\n",
      "0it [00:00, ?it/s]"
     ]
    },
    {
     "output_type": "stream",
     "name": "stdout",
     "text": [
      "Loss at epoch 4 is 4448.111328125\n",
      "\n",
      " Start of epoch: 5\n"
     ]
    },
    {
     "output_type": "stream",
     "name": "stderr",
     "text": [
      "1it [00:05,  5.34s/it]"
     ]
    },
    {
     "output_type": "stream",
     "name": "stdout",
     "text": [
      "(32, 1536, 1536) (32, 3) (32, 25, 2) (32, 25, 2) (32, 3) (32, 25, 2) (32,)\n"
     ]
    },
    {
     "output_type": "stream",
     "name": "stderr",
     "text": [
      "288it [16:01,  3.34s/it]\n",
      "0it [00:00, ?it/s]"
     ]
    },
    {
     "output_type": "stream",
     "name": "stdout",
     "text": [
      "Loss at epoch 5 is 4364.91064453125\n",
      "\n",
      " Start of epoch: 6\n"
     ]
    },
    {
     "output_type": "stream",
     "name": "stderr",
     "text": [
      "1it [00:05,  5.28s/it]"
     ]
    },
    {
     "output_type": "stream",
     "name": "stdout",
     "text": [
      "(32, 1536, 1536) (32, 3) (32, 25, 2) (32, 25, 2) (32, 3) (32, 25, 2) (32,)\n"
     ]
    },
    {
     "output_type": "stream",
     "name": "stderr",
     "text": [
      "288it [16:04,  3.35s/it]\n",
      "0it [00:00, ?it/s]"
     ]
    },
    {
     "output_type": "stream",
     "name": "stdout",
     "text": [
      "Loss at epoch 6 is 4558.6884765625\n",
      "\n",
      " Start of epoch: 7\n"
     ]
    },
    {
     "output_type": "stream",
     "name": "stderr",
     "text": [
      "1it [00:05,  5.13s/it]"
     ]
    },
    {
     "output_type": "stream",
     "name": "stdout",
     "text": [
      "(32, 1536, 1536) (32, 3) (32, 25, 2) (32, 25, 2) (32, 3) (32, 25, 2) (32,)\n"
     ]
    },
    {
     "output_type": "stream",
     "name": "stderr",
     "text": [
      "288it [15:59,  3.33s/it]\n",
      "0it [00:00, ?it/s]"
     ]
    },
    {
     "output_type": "stream",
     "name": "stdout",
     "text": [
      "Loss at epoch 7 is 4717.7314453125\n",
      "\n",
      " Start of epoch: 8\n"
     ]
    },
    {
     "output_type": "stream",
     "name": "stderr",
     "text": [
      "1it [00:05,  5.24s/it]"
     ]
    },
    {
     "output_type": "stream",
     "name": "stdout",
     "text": [
      "(32, 1536, 1536) (32, 3) (32, 25, 2) (32, 25, 2) (32, 3) (32, 25, 2) (32,)\n"
     ]
    },
    {
     "output_type": "stream",
     "name": "stderr",
     "text": [
      "288it [15:59,  3.33s/it]\n",
      "0it [00:00, ?it/s]"
     ]
    },
    {
     "output_type": "stream",
     "name": "stdout",
     "text": [
      "Loss at epoch 8 is 4661.6669921875\n",
      "\n",
      " Start of epoch: 9\n"
     ]
    },
    {
     "output_type": "stream",
     "name": "stderr",
     "text": [
      "1it [00:05,  5.30s/it]"
     ]
    },
    {
     "output_type": "stream",
     "name": "stdout",
     "text": [
      "(32, 1536, 1536) (32, 3) (32, 25, 2) (32, 25, 2) (32, 3) (32, 25, 2) (32,)\n"
     ]
    },
    {
     "output_type": "stream",
     "name": "stderr",
     "text": [
      "288it [15:58,  3.33s/it]\n",
      "0it [00:00, ?it/s]"
     ]
    },
    {
     "output_type": "stream",
     "name": "stdout",
     "text": [
      "Loss at epoch 9 is 4332.09814453125\n",
      "\n",
      " Start of epoch: 10\n"
     ]
    },
    {
     "output_type": "stream",
     "name": "stderr",
     "text": [
      "1it [00:05,  5.23s/it]"
     ]
    },
    {
     "output_type": "stream",
     "name": "stdout",
     "text": [
      "(32, 1536, 1536) (32, 3) (32, 25, 2) (32, 25, 2) (32, 3) (32, 25, 2) (32,)\n"
     ]
    },
    {
     "output_type": "stream",
     "name": "stderr",
     "text": [
      "288it [16:00,  3.34s/it]\n",
      "0it [00:00, ?it/s]"
     ]
    },
    {
     "output_type": "stream",
     "name": "stdout",
     "text": [
      "Loss at epoch 10 is 4408.9638671875\n",
      "\n",
      " Start of epoch: 11\n"
     ]
    },
    {
     "output_type": "stream",
     "name": "stderr",
     "text": [
      "1it [00:05,  5.41s/it]"
     ]
    },
    {
     "output_type": "stream",
     "name": "stdout",
     "text": [
      "(32, 1536, 1536) (32, 3) (32, 25, 2) (32, 25, 2) (32, 3) (32, 25, 2) (32,)\n"
     ]
    },
    {
     "output_type": "stream",
     "name": "stderr",
     "text": [
      "288it [16:00,  3.33s/it]\n",
      "0it [00:00, ?it/s]"
     ]
    },
    {
     "output_type": "stream",
     "name": "stdout",
     "text": [
      "Loss at epoch 11 is 4446.47265625\n",
      "\n",
      " Start of epoch: 12\n"
     ]
    },
    {
     "output_type": "stream",
     "name": "stderr",
     "text": [
      "1it [00:05,  5.21s/it]"
     ]
    },
    {
     "output_type": "stream",
     "name": "stdout",
     "text": [
      "(32, 1536, 1536) (32, 3) (32, 25, 2) (32, 25, 2) (32, 3) (32, 25, 2) (32,)\n"
     ]
    },
    {
     "output_type": "stream",
     "name": "stderr",
     "text": [
      "288it [16:01,  3.34s/it]\n",
      "0it [00:00, ?it/s]"
     ]
    },
    {
     "output_type": "stream",
     "name": "stdout",
     "text": [
      "Loss at epoch 12 is 4366.9775390625\n",
      "\n",
      " Start of epoch: 13\n"
     ]
    },
    {
     "output_type": "stream",
     "name": "stderr",
     "text": [
      "1it [00:05,  5.40s/it]"
     ]
    },
    {
     "output_type": "stream",
     "name": "stdout",
     "text": [
      "(32, 1536, 1536) (32, 3) (32, 25, 2) (32, 25, 2) (32, 3) (32, 25, 2) (32,)\n"
     ]
    },
    {
     "output_type": "stream",
     "name": "stderr",
     "text": [
      "288it [15:59,  3.33s/it]\n",
      "0it [00:00, ?it/s]"
     ]
    },
    {
     "output_type": "stream",
     "name": "stdout",
     "text": [
      "Loss at epoch 13 is 4551.64404296875\n",
      "\n",
      " Start of epoch: 14\n"
     ]
    },
    {
     "output_type": "stream",
     "name": "stderr",
     "text": [
      "1it [00:05,  5.38s/it]"
     ]
    },
    {
     "output_type": "stream",
     "name": "stdout",
     "text": [
      "(32, 1536, 1536) (32, 3) (32, 25, 2) (32, 25, 2) (32, 3) (32, 25, 2) (32,)\n"
     ]
    },
    {
     "output_type": "stream",
     "name": "stderr",
     "text": [
      "288it [16:00,  3.33s/it]\n",
      "0it [00:00, ?it/s]"
     ]
    },
    {
     "output_type": "stream",
     "name": "stdout",
     "text": [
      "Loss at epoch 14 is 4432.7236328125\n",
      "\n",
      " Start of epoch: 15\n"
     ]
    },
    {
     "output_type": "stream",
     "name": "stderr",
     "text": [
      "1it [00:05,  5.11s/it]"
     ]
    },
    {
     "output_type": "stream",
     "name": "stdout",
     "text": [
      "(32, 1536, 1536) (32, 3) (32, 25, 2) (32, 25, 2) (32, 3) (32, 25, 2) (32,)\n"
     ]
    },
    {
     "output_type": "stream",
     "name": "stderr",
     "text": [
      "288it [16:00,  3.33s/it]\n",
      "0it [00:00, ?it/s]"
     ]
    },
    {
     "output_type": "stream",
     "name": "stdout",
     "text": [
      "Loss at epoch 15 is 4545.5625\n",
      "\n",
      " Start of epoch: 16\n"
     ]
    },
    {
     "output_type": "stream",
     "name": "stderr",
     "text": [
      "1it [00:04,  4.98s/it]"
     ]
    },
    {
     "output_type": "stream",
     "name": "stdout",
     "text": [
      "(32, 1536, 1536) (32, 3) (32, 25, 2) (32, 25, 2) (32, 3) (32, 25, 2) (32,)\n"
     ]
    },
    {
     "output_type": "stream",
     "name": "stderr",
     "text": [
      "288it [15:57,  3.32s/it]\n",
      "0it [00:00, ?it/s]"
     ]
    },
    {
     "output_type": "stream",
     "name": "stdout",
     "text": [
      "Loss at epoch 16 is 4315.21142578125\n",
      "\n",
      " Start of epoch: 17\n"
     ]
    },
    {
     "output_type": "stream",
     "name": "stderr",
     "text": [
      "1it [00:04,  4.77s/it]"
     ]
    },
    {
     "output_type": "stream",
     "name": "stdout",
     "text": [
      "(32, 1536, 1536) (32, 3) (32, 25, 2) (32, 25, 2) (32, 3) (32, 25, 2) (32,)\n"
     ]
    },
    {
     "output_type": "stream",
     "name": "stderr",
     "text": [
      "288it [15:56,  3.32s/it]\n",
      "0it [00:00, ?it/s]"
     ]
    },
    {
     "output_type": "stream",
     "name": "stdout",
     "text": [
      "Loss at epoch 17 is 4446.6484375\n",
      "\n",
      " Start of epoch: 18\n"
     ]
    },
    {
     "output_type": "stream",
     "name": "stderr",
     "text": [
      "1it [00:05,  5.22s/it]"
     ]
    },
    {
     "output_type": "stream",
     "name": "stdout",
     "text": [
      "(32, 1536, 1536) (32, 3) (32, 25, 2) (32, 25, 2) (32, 3) (32, 25, 2) (32,)\n"
     ]
    },
    {
     "output_type": "stream",
     "name": "stderr",
     "text": [
      "288it [15:57,  3.33s/it]\n",
      "0it [00:00, ?it/s]"
     ]
    },
    {
     "output_type": "stream",
     "name": "stdout",
     "text": [
      "Loss at epoch 18 is 4483.44677734375\n",
      "\n",
      " Start of epoch: 19\n"
     ]
    },
    {
     "output_type": "stream",
     "name": "stderr",
     "text": [
      "1it [00:05,  5.06s/it]"
     ]
    },
    {
     "output_type": "stream",
     "name": "stdout",
     "text": [
      "(32, 1536, 1536) (32, 3) (32, 25, 2) (32, 25, 2) (32, 3) (32, 25, 2) (32,)\n"
     ]
    },
    {
     "output_type": "stream",
     "name": "stderr",
     "text": [
      "288it [15:58,  3.33s/it]\n",
      "0it [00:00, ?it/s]"
     ]
    },
    {
     "output_type": "stream",
     "name": "stdout",
     "text": [
      "Loss at epoch 19 is 4504.78369140625\n",
      "\n",
      " Start of epoch: 20\n"
     ]
    },
    {
     "output_type": "stream",
     "name": "stderr",
     "text": [
      "1it [00:04,  4.98s/it]"
     ]
    },
    {
     "output_type": "stream",
     "name": "stdout",
     "text": [
      "(32, 1536, 1536) (32, 3) (32, 25, 2) (32, 25, 2) (32, 3) (32, 25, 2) (32,)\n"
     ]
    },
    {
     "output_type": "stream",
     "name": "stderr",
     "text": [
      "288it [16:00,  3.34s/it]\n",
      "0it [00:00, ?it/s]"
     ]
    },
    {
     "output_type": "stream",
     "name": "stdout",
     "text": [
      "Loss at epoch 20 is 4413.255859375\n",
      "\n",
      " Start of epoch: 21\n"
     ]
    },
    {
     "output_type": "stream",
     "name": "stderr",
     "text": [
      "1it [00:05,  5.32s/it]"
     ]
    },
    {
     "output_type": "stream",
     "name": "stdout",
     "text": [
      "(32, 1536, 1536) (32, 3) (32, 25, 2) (32, 25, 2) (32, 3) (32, 25, 2) (32,)\n"
     ]
    },
    {
     "output_type": "stream",
     "name": "stderr",
     "text": [
      "288it [16:00,  3.34s/it]\n",
      "0it [00:00, ?it/s]"
     ]
    },
    {
     "output_type": "stream",
     "name": "stdout",
     "text": [
      "Loss at epoch 21 is 4538.0419921875\n",
      "\n",
      " Start of epoch: 22\n"
     ]
    },
    {
     "output_type": "stream",
     "name": "stderr",
     "text": [
      "1it [00:04,  4.91s/it]"
     ]
    },
    {
     "output_type": "stream",
     "name": "stdout",
     "text": [
      "(32, 1536, 1536) (32, 3) (32, 25, 2) (32, 25, 2) (32, 3) (32, 25, 2) (32,)\n"
     ]
    },
    {
     "output_type": "stream",
     "name": "stderr",
     "text": [
      "288it [16:01,  3.34s/it]\n",
      "0it [00:00, ?it/s]"
     ]
    },
    {
     "output_type": "stream",
     "name": "stdout",
     "text": [
      "Loss at epoch 22 is 4397.0810546875\n",
      "\n",
      " Start of epoch: 23\n"
     ]
    },
    {
     "output_type": "stream",
     "name": "stderr",
     "text": [
      "1it [00:04,  4.90s/it]"
     ]
    },
    {
     "output_type": "stream",
     "name": "stdout",
     "text": [
      "(32, 1536, 1536) (32, 3) (32, 25, 2) (32, 25, 2) (32, 3) (32, 25, 2) (32,)\n"
     ]
    },
    {
     "output_type": "stream",
     "name": "stderr",
     "text": [
      "288it [15:57,  3.33s/it]\n",
      "0it [00:00, ?it/s]"
     ]
    },
    {
     "output_type": "stream",
     "name": "stdout",
     "text": [
      "Loss at epoch 23 is 4445.201171875\n",
      "\n",
      " Start of epoch: 24\n"
     ]
    },
    {
     "output_type": "stream",
     "name": "stderr",
     "text": [
      "1it [00:05,  5.22s/it]"
     ]
    },
    {
     "output_type": "stream",
     "name": "stdout",
     "text": [
      "(32, 1536, 1536) (32, 3) (32, 25, 2) (32, 25, 2) (32, 3) (32, 25, 2) (32,)\n"
     ]
    },
    {
     "output_type": "stream",
     "name": "stderr",
     "text": [
      "288it [15:59,  3.33s/it]\n",
      "0it [00:00, ?it/s]"
     ]
    },
    {
     "output_type": "stream",
     "name": "stdout",
     "text": [
      "Loss at epoch 24 is 4259.1455078125\n",
      "\n",
      " Start of epoch: 25\n"
     ]
    },
    {
     "output_type": "stream",
     "name": "stderr",
     "text": [
      "1it [00:05,  5.22s/it]"
     ]
    },
    {
     "output_type": "stream",
     "name": "stdout",
     "text": [
      "(32, 1536, 1536) (32, 3) (32, 25, 2) (32, 25, 2) (32, 3) (32, 25, 2) (32,)\n"
     ]
    },
    {
     "output_type": "stream",
     "name": "stderr",
     "text": [
      "288it [15:54,  3.31s/it]\n",
      "0it [00:00, ?it/s]"
     ]
    },
    {
     "output_type": "stream",
     "name": "stdout",
     "text": [
      "Loss at epoch 25 is 4290.90966796875\n",
      "\n",
      " Start of epoch: 26\n"
     ]
    },
    {
     "output_type": "stream",
     "name": "stderr",
     "text": [
      "1it [00:05,  5.12s/it]"
     ]
    },
    {
     "output_type": "stream",
     "name": "stdout",
     "text": [
      "(32, 1536, 1536) (32, 3) (32, 25, 2) (32, 25, 2) (32, 3) (32, 25, 2) (32,)\n"
     ]
    },
    {
     "output_type": "stream",
     "name": "stderr",
     "text": [
      "288it [15:43,  3.28s/it]\n",
      "0it [00:00, ?it/s]"
     ]
    },
    {
     "output_type": "stream",
     "name": "stdout",
     "text": [
      "Loss at epoch 26 is 4321.7734375\n",
      "\n",
      " Start of epoch: 27\n"
     ]
    },
    {
     "output_type": "stream",
     "name": "stderr",
     "text": [
      "1it [00:05,  5.07s/it]"
     ]
    },
    {
     "output_type": "stream",
     "name": "stdout",
     "text": [
      "(32, 1536, 1536) (32, 3) (32, 25, 2) (32, 25, 2) (32, 3) (32, 25, 2) (32,)\n"
     ]
    },
    {
     "output_type": "stream",
     "name": "stderr",
     "text": [
      "288it [15:43,  3.27s/it]\n",
      "0it [00:00, ?it/s]"
     ]
    },
    {
     "output_type": "stream",
     "name": "stdout",
     "text": [
      "Loss at epoch 27 is 4428.54736328125\n",
      "\n",
      " Start of epoch: 28\n"
     ]
    },
    {
     "output_type": "stream",
     "name": "stderr",
     "text": [
      "1it [00:05,  5.08s/it]"
     ]
    },
    {
     "output_type": "stream",
     "name": "stdout",
     "text": [
      "(32, 1536, 1536) (32, 3) (32, 25, 2) (32, 25, 2) (32, 3) (32, 25, 2) (32,)\n"
     ]
    },
    {
     "output_type": "stream",
     "name": "stderr",
     "text": [
      "288it [15:42,  3.27s/it]\n",
      "0it [00:00, ?it/s]"
     ]
    },
    {
     "output_type": "stream",
     "name": "stdout",
     "text": [
      "Loss at epoch 28 is 4354.08642578125\n",
      "\n",
      " Start of epoch: 29\n"
     ]
    },
    {
     "output_type": "stream",
     "name": "stderr",
     "text": [
      "1it [00:04,  4.97s/it]"
     ]
    },
    {
     "output_type": "stream",
     "name": "stdout",
     "text": [
      "(32, 1536, 1536) (32, 3) (32, 25, 2) (32, 25, 2) (32, 3) (32, 25, 2) (32,)\n"
     ]
    },
    {
     "output_type": "stream",
     "name": "stderr",
     "text": [
      "288it [15:42,  3.27s/it]\n",
      "0it [00:00, ?it/s]"
     ]
    },
    {
     "output_type": "stream",
     "name": "stdout",
     "text": [
      "Loss at epoch 29 is 4292.083984375\n",
      "\n",
      " Start of epoch: 30\n"
     ]
    },
    {
     "output_type": "stream",
     "name": "stderr",
     "text": [
      "1it [00:05,  5.32s/it]"
     ]
    },
    {
     "output_type": "stream",
     "name": "stdout",
     "text": [
      "(32, 1536, 1536) (32, 3) (32, 25, 2) (32, 25, 2) (32, 3) (32, 25, 2) (32,)\n"
     ]
    },
    {
     "output_type": "stream",
     "name": "stderr",
     "text": [
      "288it [15:44,  3.28s/it]\n"
     ]
    },
    {
     "output_type": "stream",
     "name": "stdout",
     "text": [
      "Loss at epoch 30 is 4320.31640625\n"
     ]
    },
    {
     "output_type": "error",
     "ename": "TypeError",
     "evalue": "save() missing 1 required positional argument: 'filepath'",
     "traceback": [
      "\u001b[0;31m---------------------------------------------------------------------------\u001b[0m",
      "\u001b[0;31mTypeError\u001b[0m                                 Traceback (most recent call last)",
      "\u001b[0;32m<ipython-input-6-b5240594ce96>\u001b[0m in \u001b[0;36m<module>\u001b[0;34m\u001b[0m\n\u001b[1;32m     45\u001b[0m         \u001b[0;32mif\u001b[0m \u001b[0;34m(\u001b[0m\u001b[0mepoch\u001b[0m\u001b[0;34m+\u001b[0m\u001b[0;36m1\u001b[0m\u001b[0;34m)\u001b[0m\u001b[0;34m==\u001b[0m\u001b[0;36m30\u001b[0m\u001b[0;34m:\u001b[0m\u001b[0;34m\u001b[0m\u001b[0;34m\u001b[0m\u001b[0m\n\u001b[1;32m     46\u001b[0m             \u001b[0mmodel\u001b[0m\u001b[0;34m.\u001b[0m\u001b[0msave\u001b[0m\u001b[0;34m(\u001b[0m\u001b[0;34m)\u001b[0m\u001b[0;34m\u001b[0m\u001b[0;34m\u001b[0m\u001b[0m\n\u001b[0;32m---> 47\u001b[0;31m \u001b[0mtrain\u001b[0m\u001b[0;34m(\u001b[0m\u001b[0;34m)\u001b[0m\u001b[0;34m\u001b[0m\u001b[0;34m\u001b[0m\u001b[0m\n\u001b[0m\u001b[1;32m     48\u001b[0m \u001b[0;34m\u001b[0m\u001b[0m\n",
      "\u001b[0;32m<ipython-input-6-b5240594ce96>\u001b[0m in \u001b[0;36mtrain\u001b[0;34m()\u001b[0m\n\u001b[1;32m     44\u001b[0m \u001b[0;34m\u001b[0m\u001b[0m\n\u001b[1;32m     45\u001b[0m         \u001b[0;32mif\u001b[0m \u001b[0;34m(\u001b[0m\u001b[0mepoch\u001b[0m\u001b[0;34m+\u001b[0m\u001b[0;36m1\u001b[0m\u001b[0;34m)\u001b[0m\u001b[0;34m==\u001b[0m\u001b[0;36m30\u001b[0m\u001b[0;34m:\u001b[0m\u001b[0;34m\u001b[0m\u001b[0;34m\u001b[0m\u001b[0m\n\u001b[0;32m---> 46\u001b[0;31m             \u001b[0mmodel\u001b[0m\u001b[0;34m.\u001b[0m\u001b[0msave\u001b[0m\u001b[0;34m(\u001b[0m\u001b[0;34m)\u001b[0m\u001b[0;34m\u001b[0m\u001b[0;34m\u001b[0m\u001b[0m\n\u001b[0m\u001b[1;32m     47\u001b[0m \u001b[0mtrain\u001b[0m\u001b[0;34m(\u001b[0m\u001b[0;34m)\u001b[0m\u001b[0;34m\u001b[0m\u001b[0;34m\u001b[0m\u001b[0m\n\u001b[1;32m     48\u001b[0m \u001b[0;34m\u001b[0m\u001b[0m\n",
      "\u001b[0;31mTypeError\u001b[0m: save() missing 1 required positional argument: 'filepath'"
     ]
    }
   ],
   "metadata": {}
  },
  {
   "cell_type": "code",
   "execution_count": null,
   "source": [
    "history = model.fit(\n",
    "    ds_train,\n",
    "    epochs=1,\n",
    "    validation_data=ds_valid,\n",
    "    callbacks=[cb_reduce_lr],\n",
    ")\n"
   ],
   "outputs": [
    {
     "output_type": "stream",
     "name": "stdout",
     "text": [
      "y_true:Tensor(\"Cast:0\", shape=(None, 1536, 1536), dtype=float32)\n",
      "y_pred:Tensor(\"functional_1/reshape_3/Reshape:0\", shape=(None, 25, 2), dtype=float32)\n",
      "cost_gt_opt:Tensor(\"gt_opt_path_cost:0\", shape=(None, 1), dtype=float32)\n",
      "valid_costs:Tensor(\"pred_cost/GatherNd:0\", shape=(None,), dtype=float32)\n",
      "y_true:Tensor(\"IteratorGetNext:9\", shape=(None, 25, 2), dtype=float32)\n",
      "y_pred:Tensor(\"functional_1/reshape_3/Reshape:0\", shape=(None, 25, 2), dtype=float32)\n",
      "y_true:Tensor(\"Cast:0\", shape=(None, 1536, 1536), dtype=float32)\n",
      "y_pred:Tensor(\"functional_1/reshape_3/Reshape:0\", shape=(None, 25, 2), dtype=float32)\n",
      "cost_gt_opt:Tensor(\"gt_opt_path_cost:0\", shape=(None, 1), dtype=float32)\n",
      "valid_costs:Tensor(\"pred_cost/GatherNd:0\", shape=(None,), dtype=float32)\n",
      "y_true:Tensor(\"IteratorGetNext:9\", shape=(None, 25, 2), dtype=float32)\n",
      "y_pred:Tensor(\"functional_1/reshape_3/Reshape:0\", shape=(None, 25, 2), dtype=float32)\n"
     ]
    },
    {
     "output_type": "error",
     "ename": "_SymbolicException",
     "evalue": "Inputs to eager execution function cannot be Keras symbolic tensors, but found [<tf.Tensor 'gt_opt_path_cost:0' shape=(None, 1) dtype=float32>]",
     "traceback": [
      "\u001b[0;31m---------------------------------------------------------------------------\u001b[0m",
      "\u001b[0;31mTypeError\u001b[0m                                 Traceback (most recent call last)",
      "\u001b[0;32m/netpool/work/gpu-3/users/malyalasa/anaconda3/envs/env_mt/lib/python3.8/site-packages/tensorflow/python/eager/execute.py\u001b[0m in \u001b[0;36mquick_execute\u001b[0;34m(op_name, num_outputs, inputs, attrs, ctx, name)\u001b[0m\n\u001b[1;32m     58\u001b[0m     \u001b[0mctx\u001b[0m\u001b[0;34m.\u001b[0m\u001b[0mensure_initialized\u001b[0m\u001b[0;34m(\u001b[0m\u001b[0;34m)\u001b[0m\u001b[0;34m\u001b[0m\u001b[0;34m\u001b[0m\u001b[0m\n\u001b[0;32m---> 59\u001b[0;31m     tensors = pywrap_tfe.TFE_Py_Execute(ctx._handle, device_name, op_name,\n\u001b[0m\u001b[1;32m     60\u001b[0m                                         inputs, attrs, num_outputs)\n",
      "\u001b[0;31mTypeError\u001b[0m: An op outside of the function building code is being passed\na \"Graph\" tensor. It is possible to have Graph tensors\nleak out of the function building context by including a\ntf.init_scope in your function building code.\nFor example, the following function will fail:\n  @tf.function\n  def has_init_scope():\n    my_constant = tf.constant(1.)\n    with tf.init_scope():\n      added = my_constant * 2\nThe graph tensor has name: gt_opt_path_cost:0",
      "\nDuring handling of the above exception, another exception occurred:\n",
      "\u001b[0;31m_SymbolicException\u001b[0m                        Traceback (most recent call last)",
      "\u001b[0;32m<ipython-input-4-0673feef4cd4>\u001b[0m in \u001b[0;36m<module>\u001b[0;34m\u001b[0m\n\u001b[0;32m----> 1\u001b[0;31m history = model.fit(\n\u001b[0m\u001b[1;32m      2\u001b[0m     \u001b[0mds_train\u001b[0m\u001b[0;34m,\u001b[0m\u001b[0;34m\u001b[0m\u001b[0;34m\u001b[0m\u001b[0m\n\u001b[1;32m      3\u001b[0m     \u001b[0mepochs\u001b[0m\u001b[0;34m=\u001b[0m\u001b[0;36m1\u001b[0m\u001b[0;34m,\u001b[0m\u001b[0;34m\u001b[0m\u001b[0;34m\u001b[0m\u001b[0m\n\u001b[1;32m      4\u001b[0m     \u001b[0mvalidation_data\u001b[0m\u001b[0;34m=\u001b[0m\u001b[0mds_valid\u001b[0m\u001b[0;34m,\u001b[0m\u001b[0;34m\u001b[0m\u001b[0;34m\u001b[0m\u001b[0m\n\u001b[1;32m      5\u001b[0m     \u001b[0mcallbacks\u001b[0m\u001b[0;34m=\u001b[0m\u001b[0;34m[\u001b[0m\u001b[0mcb_reduce_lr\u001b[0m\u001b[0;34m]\u001b[0m\u001b[0;34m,\u001b[0m\u001b[0;34m\u001b[0m\u001b[0;34m\u001b[0m\u001b[0m\n",
      "\u001b[0;32m/netpool/work/gpu-3/users/malyalasa/anaconda3/envs/env_mt/lib/python3.8/site-packages/wandb/integration/keras/keras.py\u001b[0m in \u001b[0;36mnew_v2\u001b[0;34m(*args, **kwargs)\u001b[0m\n\u001b[1;32m    122\u001b[0m             \u001b[0;32mfor\u001b[0m \u001b[0mcbk\u001b[0m \u001b[0;32min\u001b[0m \u001b[0mcbks\u001b[0m\u001b[0;34m:\u001b[0m\u001b[0;34m\u001b[0m\u001b[0;34m\u001b[0m\u001b[0m\n\u001b[1;32m    123\u001b[0m                 \u001b[0mset_wandb_attrs\u001b[0m\u001b[0;34m(\u001b[0m\u001b[0mcbk\u001b[0m\u001b[0;34m,\u001b[0m \u001b[0mval_data\u001b[0m\u001b[0;34m)\u001b[0m\u001b[0;34m\u001b[0m\u001b[0;34m\u001b[0m\u001b[0m\n\u001b[0;32m--> 124\u001b[0;31m         \u001b[0;32mreturn\u001b[0m \u001b[0mold_v2\u001b[0m\u001b[0;34m(\u001b[0m\u001b[0;34m*\u001b[0m\u001b[0margs\u001b[0m\u001b[0;34m,\u001b[0m \u001b[0;34m**\u001b[0m\u001b[0mkwargs\u001b[0m\u001b[0;34m)\u001b[0m\u001b[0;34m\u001b[0m\u001b[0;34m\u001b[0m\u001b[0m\n\u001b[0m\u001b[1;32m    125\u001b[0m \u001b[0;34m\u001b[0m\u001b[0m\n\u001b[1;32m    126\u001b[0m     \u001b[0mtraining_arrays\u001b[0m\u001b[0;34m.\u001b[0m\u001b[0morig_fit_loop\u001b[0m \u001b[0;34m=\u001b[0m \u001b[0mold_arrays\u001b[0m\u001b[0;34m\u001b[0m\u001b[0;34m\u001b[0m\u001b[0m\n",
      "\u001b[0;32m/netpool/work/gpu-3/users/malyalasa/anaconda3/envs/env_mt/lib/python3.8/site-packages/tensorflow/python/keras/engine/training.py\u001b[0m in \u001b[0;36m_method_wrapper\u001b[0;34m(self, *args, **kwargs)\u001b[0m\n\u001b[1;32m    106\u001b[0m   \u001b[0;32mdef\u001b[0m \u001b[0m_method_wrapper\u001b[0m\u001b[0;34m(\u001b[0m\u001b[0mself\u001b[0m\u001b[0;34m,\u001b[0m \u001b[0;34m*\u001b[0m\u001b[0margs\u001b[0m\u001b[0;34m,\u001b[0m \u001b[0;34m**\u001b[0m\u001b[0mkwargs\u001b[0m\u001b[0;34m)\u001b[0m\u001b[0;34m:\u001b[0m\u001b[0;34m\u001b[0m\u001b[0;34m\u001b[0m\u001b[0m\n\u001b[1;32m    107\u001b[0m     \u001b[0;32mif\u001b[0m \u001b[0;32mnot\u001b[0m \u001b[0mself\u001b[0m\u001b[0;34m.\u001b[0m\u001b[0m_in_multi_worker_mode\u001b[0m\u001b[0;34m(\u001b[0m\u001b[0;34m)\u001b[0m\u001b[0;34m:\u001b[0m  \u001b[0;31m# pylint: disable=protected-access\u001b[0m\u001b[0;34m\u001b[0m\u001b[0;34m\u001b[0m\u001b[0m\n\u001b[0;32m--> 108\u001b[0;31m       \u001b[0;32mreturn\u001b[0m \u001b[0mmethod\u001b[0m\u001b[0;34m(\u001b[0m\u001b[0mself\u001b[0m\u001b[0;34m,\u001b[0m \u001b[0;34m*\u001b[0m\u001b[0margs\u001b[0m\u001b[0;34m,\u001b[0m \u001b[0;34m**\u001b[0m\u001b[0mkwargs\u001b[0m\u001b[0;34m)\u001b[0m\u001b[0;34m\u001b[0m\u001b[0;34m\u001b[0m\u001b[0m\n\u001b[0m\u001b[1;32m    109\u001b[0m \u001b[0;34m\u001b[0m\u001b[0m\n\u001b[1;32m    110\u001b[0m     \u001b[0;31m# Running inside `run_distribute_coordinator` already.\u001b[0m\u001b[0;34m\u001b[0m\u001b[0;34m\u001b[0m\u001b[0;34m\u001b[0m\u001b[0m\n",
      "\u001b[0;32m/netpool/work/gpu-3/users/malyalasa/anaconda3/envs/env_mt/lib/python3.8/site-packages/tensorflow/python/keras/engine/training.py\u001b[0m in \u001b[0;36mfit\u001b[0;34m(self, x, y, batch_size, epochs, verbose, callbacks, validation_split, validation_data, shuffle, class_weight, sample_weight, initial_epoch, steps_per_epoch, validation_steps, validation_batch_size, validation_freq, max_queue_size, workers, use_multiprocessing)\u001b[0m\n\u001b[1;32m   1096\u001b[0m                 batch_size=batch_size):\n\u001b[1;32m   1097\u001b[0m               \u001b[0mcallbacks\u001b[0m\u001b[0;34m.\u001b[0m\u001b[0mon_train_batch_begin\u001b[0m\u001b[0;34m(\u001b[0m\u001b[0mstep\u001b[0m\u001b[0;34m)\u001b[0m\u001b[0;34m\u001b[0m\u001b[0;34m\u001b[0m\u001b[0m\n\u001b[0;32m-> 1098\u001b[0;31m               \u001b[0mtmp_logs\u001b[0m \u001b[0;34m=\u001b[0m \u001b[0mtrain_function\u001b[0m\u001b[0;34m(\u001b[0m\u001b[0miterator\u001b[0m\u001b[0;34m)\u001b[0m\u001b[0;34m\u001b[0m\u001b[0;34m\u001b[0m\u001b[0m\n\u001b[0m\u001b[1;32m   1099\u001b[0m               \u001b[0;32mif\u001b[0m \u001b[0mdata_handler\u001b[0m\u001b[0;34m.\u001b[0m\u001b[0mshould_sync\u001b[0m\u001b[0;34m:\u001b[0m\u001b[0;34m\u001b[0m\u001b[0;34m\u001b[0m\u001b[0m\n\u001b[1;32m   1100\u001b[0m                 \u001b[0mcontext\u001b[0m\u001b[0;34m.\u001b[0m\u001b[0masync_wait\u001b[0m\u001b[0;34m(\u001b[0m\u001b[0;34m)\u001b[0m\u001b[0;34m\u001b[0m\u001b[0;34m\u001b[0m\u001b[0m\n",
      "\u001b[0;32m/netpool/work/gpu-3/users/malyalasa/anaconda3/envs/env_mt/lib/python3.8/site-packages/tensorflow/python/eager/def_function.py\u001b[0m in \u001b[0;36m__call__\u001b[0;34m(self, *args, **kwds)\u001b[0m\n\u001b[1;32m    778\u001b[0m       \u001b[0;32melse\u001b[0m\u001b[0;34m:\u001b[0m\u001b[0;34m\u001b[0m\u001b[0;34m\u001b[0m\u001b[0m\n\u001b[1;32m    779\u001b[0m         \u001b[0mcompiler\u001b[0m \u001b[0;34m=\u001b[0m \u001b[0;34m\"nonXla\"\u001b[0m\u001b[0;34m\u001b[0m\u001b[0;34m\u001b[0m\u001b[0m\n\u001b[0;32m--> 780\u001b[0;31m         \u001b[0mresult\u001b[0m \u001b[0;34m=\u001b[0m \u001b[0mself\u001b[0m\u001b[0;34m.\u001b[0m\u001b[0m_call\u001b[0m\u001b[0;34m(\u001b[0m\u001b[0;34m*\u001b[0m\u001b[0margs\u001b[0m\u001b[0;34m,\u001b[0m \u001b[0;34m**\u001b[0m\u001b[0mkwds\u001b[0m\u001b[0;34m)\u001b[0m\u001b[0;34m\u001b[0m\u001b[0;34m\u001b[0m\u001b[0m\n\u001b[0m\u001b[1;32m    781\u001b[0m \u001b[0;34m\u001b[0m\u001b[0m\n\u001b[1;32m    782\u001b[0m       \u001b[0mnew_tracing_count\u001b[0m \u001b[0;34m=\u001b[0m \u001b[0mself\u001b[0m\u001b[0;34m.\u001b[0m\u001b[0m_get_tracing_count\u001b[0m\u001b[0;34m(\u001b[0m\u001b[0;34m)\u001b[0m\u001b[0;34m\u001b[0m\u001b[0;34m\u001b[0m\u001b[0m\n",
      "\u001b[0;32m/netpool/work/gpu-3/users/malyalasa/anaconda3/envs/env_mt/lib/python3.8/site-packages/tensorflow/python/eager/def_function.py\u001b[0m in \u001b[0;36m_call\u001b[0;34m(self, *args, **kwds)\u001b[0m\n\u001b[1;32m    838\u001b[0m         \u001b[0;31m# Lifting succeeded, so variables are initialized and we can run the\u001b[0m\u001b[0;34m\u001b[0m\u001b[0;34m\u001b[0m\u001b[0;34m\u001b[0m\u001b[0m\n\u001b[1;32m    839\u001b[0m         \u001b[0;31m# stateless function.\u001b[0m\u001b[0;34m\u001b[0m\u001b[0;34m\u001b[0m\u001b[0;34m\u001b[0m\u001b[0m\n\u001b[0;32m--> 840\u001b[0;31m         \u001b[0;32mreturn\u001b[0m \u001b[0mself\u001b[0m\u001b[0;34m.\u001b[0m\u001b[0m_stateless_fn\u001b[0m\u001b[0;34m(\u001b[0m\u001b[0;34m*\u001b[0m\u001b[0margs\u001b[0m\u001b[0;34m,\u001b[0m \u001b[0;34m**\u001b[0m\u001b[0mkwds\u001b[0m\u001b[0;34m)\u001b[0m\u001b[0;34m\u001b[0m\u001b[0;34m\u001b[0m\u001b[0m\n\u001b[0m\u001b[1;32m    841\u001b[0m     \u001b[0;32melse\u001b[0m\u001b[0;34m:\u001b[0m\u001b[0;34m\u001b[0m\u001b[0;34m\u001b[0m\u001b[0m\n\u001b[1;32m    842\u001b[0m       \u001b[0mcanon_args\u001b[0m\u001b[0;34m,\u001b[0m \u001b[0mcanon_kwds\u001b[0m \u001b[0;34m=\u001b[0m\u001b[0;31m \u001b[0m\u001b[0;31m\\\u001b[0m\u001b[0;34m\u001b[0m\u001b[0;34m\u001b[0m\u001b[0m\n",
      "\u001b[0;32m/netpool/work/gpu-3/users/malyalasa/anaconda3/envs/env_mt/lib/python3.8/site-packages/tensorflow/python/eager/function.py\u001b[0m in \u001b[0;36m__call__\u001b[0;34m(self, *args, **kwargs)\u001b[0m\n\u001b[1;32m   2827\u001b[0m     \u001b[0;32mwith\u001b[0m \u001b[0mself\u001b[0m\u001b[0;34m.\u001b[0m\u001b[0m_lock\u001b[0m\u001b[0;34m:\u001b[0m\u001b[0;34m\u001b[0m\u001b[0;34m\u001b[0m\u001b[0m\n\u001b[1;32m   2828\u001b[0m       \u001b[0mgraph_function\u001b[0m\u001b[0;34m,\u001b[0m \u001b[0margs\u001b[0m\u001b[0;34m,\u001b[0m \u001b[0mkwargs\u001b[0m \u001b[0;34m=\u001b[0m \u001b[0mself\u001b[0m\u001b[0;34m.\u001b[0m\u001b[0m_maybe_define_function\u001b[0m\u001b[0;34m(\u001b[0m\u001b[0margs\u001b[0m\u001b[0;34m,\u001b[0m \u001b[0mkwargs\u001b[0m\u001b[0;34m)\u001b[0m\u001b[0;34m\u001b[0m\u001b[0;34m\u001b[0m\u001b[0m\n\u001b[0;32m-> 2829\u001b[0;31m     \u001b[0;32mreturn\u001b[0m \u001b[0mgraph_function\u001b[0m\u001b[0;34m.\u001b[0m\u001b[0m_filtered_call\u001b[0m\u001b[0;34m(\u001b[0m\u001b[0margs\u001b[0m\u001b[0;34m,\u001b[0m \u001b[0mkwargs\u001b[0m\u001b[0;34m)\u001b[0m  \u001b[0;31m# pylint: disable=protected-access\u001b[0m\u001b[0;34m\u001b[0m\u001b[0;34m\u001b[0m\u001b[0m\n\u001b[0m\u001b[1;32m   2830\u001b[0m \u001b[0;34m\u001b[0m\u001b[0m\n\u001b[1;32m   2831\u001b[0m   \u001b[0;34m@\u001b[0m\u001b[0mproperty\u001b[0m\u001b[0;34m\u001b[0m\u001b[0;34m\u001b[0m\u001b[0m\n",
      "\u001b[0;32m/netpool/work/gpu-3/users/malyalasa/anaconda3/envs/env_mt/lib/python3.8/site-packages/tensorflow/python/eager/function.py\u001b[0m in \u001b[0;36m_filtered_call\u001b[0;34m(self, args, kwargs, cancellation_manager)\u001b[0m\n\u001b[1;32m   1841\u001b[0m       \u001b[0;31m`\u001b[0m\u001b[0margs\u001b[0m\u001b[0;31m`\u001b[0m \u001b[0;32mand\u001b[0m\u001b[0;31m \u001b[0m\u001b[0;31m`\u001b[0m\u001b[0mkwargs\u001b[0m\u001b[0;31m`\u001b[0m\u001b[0;34m.\u001b[0m\u001b[0;34m\u001b[0m\u001b[0;34m\u001b[0m\u001b[0m\n\u001b[1;32m   1842\u001b[0m     \"\"\"\n\u001b[0;32m-> 1843\u001b[0;31m     return self._call_flat(\n\u001b[0m\u001b[1;32m   1844\u001b[0m         [t for t in nest.flatten((args, kwargs), expand_composites=True)\n\u001b[1;32m   1845\u001b[0m          if isinstance(t, (ops.Tensor,\n",
      "\u001b[0;32m/netpool/work/gpu-3/users/malyalasa/anaconda3/envs/env_mt/lib/python3.8/site-packages/tensorflow/python/eager/function.py\u001b[0m in \u001b[0;36m_call_flat\u001b[0;34m(self, args, captured_inputs, cancellation_manager)\u001b[0m\n\u001b[1;32m   1921\u001b[0m         and executing_eagerly):\n\u001b[1;32m   1922\u001b[0m       \u001b[0;31m# No tape is watching; skip to running the function.\u001b[0m\u001b[0;34m\u001b[0m\u001b[0;34m\u001b[0m\u001b[0;34m\u001b[0m\u001b[0m\n\u001b[0;32m-> 1923\u001b[0;31m       return self._build_call_outputs(self._inference_function.call(\n\u001b[0m\u001b[1;32m   1924\u001b[0m           ctx, args, cancellation_manager=cancellation_manager))\n\u001b[1;32m   1925\u001b[0m     forward_backward = self._select_forward_and_backward_functions(\n",
      "\u001b[0;32m/netpool/work/gpu-3/users/malyalasa/anaconda3/envs/env_mt/lib/python3.8/site-packages/tensorflow/python/eager/function.py\u001b[0m in \u001b[0;36mcall\u001b[0;34m(self, ctx, args, cancellation_manager)\u001b[0m\n\u001b[1;32m    543\u001b[0m       \u001b[0;32mwith\u001b[0m \u001b[0m_InterpolateFunctionError\u001b[0m\u001b[0;34m(\u001b[0m\u001b[0mself\u001b[0m\u001b[0;34m)\u001b[0m\u001b[0;34m:\u001b[0m\u001b[0;34m\u001b[0m\u001b[0;34m\u001b[0m\u001b[0m\n\u001b[1;32m    544\u001b[0m         \u001b[0;32mif\u001b[0m \u001b[0mcancellation_manager\u001b[0m \u001b[0;32mis\u001b[0m \u001b[0;32mNone\u001b[0m\u001b[0;34m:\u001b[0m\u001b[0;34m\u001b[0m\u001b[0;34m\u001b[0m\u001b[0m\n\u001b[0;32m--> 545\u001b[0;31m           outputs = execute.execute(\n\u001b[0m\u001b[1;32m    546\u001b[0m               \u001b[0mstr\u001b[0m\u001b[0;34m(\u001b[0m\u001b[0mself\u001b[0m\u001b[0;34m.\u001b[0m\u001b[0msignature\u001b[0m\u001b[0;34m.\u001b[0m\u001b[0mname\u001b[0m\u001b[0;34m)\u001b[0m\u001b[0;34m,\u001b[0m\u001b[0;34m\u001b[0m\u001b[0;34m\u001b[0m\u001b[0m\n\u001b[1;32m    547\u001b[0m               \u001b[0mnum_outputs\u001b[0m\u001b[0;34m=\u001b[0m\u001b[0mself\u001b[0m\u001b[0;34m.\u001b[0m\u001b[0m_num_outputs\u001b[0m\u001b[0;34m,\u001b[0m\u001b[0;34m\u001b[0m\u001b[0;34m\u001b[0m\u001b[0m\n",
      "\u001b[0;32m/netpool/work/gpu-3/users/malyalasa/anaconda3/envs/env_mt/lib/python3.8/site-packages/tensorflow/python/eager/execute.py\u001b[0m in \u001b[0;36mquick_execute\u001b[0;34m(op_name, num_outputs, inputs, attrs, ctx, name)\u001b[0m\n\u001b[1;32m     70\u001b[0m     ]\n\u001b[1;32m     71\u001b[0m     \u001b[0;32mif\u001b[0m \u001b[0mkeras_symbolic_tensors\u001b[0m\u001b[0;34m:\u001b[0m\u001b[0;34m\u001b[0m\u001b[0;34m\u001b[0m\u001b[0m\n\u001b[0;32m---> 72\u001b[0;31m       raise core._SymbolicException(\n\u001b[0m\u001b[1;32m     73\u001b[0m           \u001b[0;34m\"Inputs to eager execution function cannot be Keras symbolic \"\u001b[0m\u001b[0;34m\u001b[0m\u001b[0;34m\u001b[0m\u001b[0m\n\u001b[1;32m     74\u001b[0m           \"tensors, but found {}\".format(keras_symbolic_tensors))\n",
      "\u001b[0;31m_SymbolicException\u001b[0m: Inputs to eager execution function cannot be Keras symbolic tensors, but found [<tf.Tensor 'gt_opt_path_cost:0' shape=(None, 1) dtype=float32>]"
     ]
    }
   ],
   "metadata": {}
  },
  {
   "cell_type": "code",
   "execution_count": null,
   "source": [],
   "outputs": [],
   "metadata": {}
  }
 ],
 "metadata": {
  "orig_nbformat": 4,
  "language_info": {
   "name": "python",
   "version": "3.8.0",
   "mimetype": "text/x-python",
   "codemirror_mode": {
    "name": "ipython",
    "version": 3
   },
   "pygments_lexer": "ipython3",
   "nbconvert_exporter": "python",
   "file_extension": ".py"
  },
  "kernelspec": {
   "name": "python3",
   "display_name": "Python 3.8.0 64-bit ('env_mt': conda)"
  },
  "interpreter": {
   "hash": "c8d0ec656e5d9378a37156be2b24f16488b2546b8a772b439e0e56117764b87a"
  }
 },
 "nbformat": 4,
 "nbformat_minor": 2
}