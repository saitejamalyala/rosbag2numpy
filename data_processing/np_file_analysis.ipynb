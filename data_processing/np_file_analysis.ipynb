{
 "metadata": {
  "language_info": {
   "codemirror_mode": {
    "name": "ipython",
    "version": 3
   },
   "file_extension": ".py",
   "mimetype": "text/x-python",
   "name": "python",
   "nbconvert_exporter": "python",
   "pygments_lexer": "ipython3",
   "version": "3.7.8"
  },
  "orig_nbformat": 2,
  "kernelspec": {
   "name": "python3",
   "display_name": "Python 3.7.8 64-bit ('env_rosbag': venv)"
  },
  "metadata": {
   "interpreter": {
    "hash": "bbc9dda3e9e79c7f3242cc2df2a5d623228b80dc5b57011016029c4090ab57c9"
   }
  },
  "interpreter": {
   "hash": "bbc9dda3e9e79c7f3242cc2df2a5d623228b80dc5b57011016029c4090ab57c9"
  }
 },
 "nbformat": 4,
 "nbformat_minor": 2,
 "cells": [
  {
   "cell_type": "code",
   "execution_count": 15,
   "source": [
    "import numpy as np\r\n",
    "from glob import glob\r\n",
    "from typing import List\r\n",
    "from fnmatch import fnmatch\r\n",
    "import matplotlib.pyplot as plt"
   ],
   "outputs": [],
   "metadata": {}
  },
  {
   "cell_type": "code",
   "execution_count": 16,
   "source": [
    "#root_path = r'D:\\sd_dynObj'\r\n",
    "file_pattern = '*_grid.npz'\r\n",
    "root_path = r'D:\\npz_files\\scenario_ph_15'\r\n",
    "_MAX_LENGTH =25\r\n",
    "\r\n",
    "\r\n",
    "def get_all_bag_paths(root:str,pattern:str)->List[str]:\r\n",
    "    list_all_bags=[]\r\n",
    "    for path, subdirs, files in os.walk(root):\r\n",
    "        for name in files:\r\n",
    "            if fnmatch(name, pattern):\r\n",
    "                list_all_bags.append((os.path.join(path, name)))\r\n",
    "\r\n",
    "    return list_all_bags"
   ],
   "outputs": [],
   "metadata": {}
  },
  {
   "cell_type": "code",
   "execution_count": 17,
   "source": [
    "\r\n",
    "all_grid_paths=get_all_bag_paths(root_path,pattern=file_pattern)\r\n",
    "all_init_paths = get_all_bag_paths(root_path,pattern=\"*_init_path.npz\")\r\n",
    "all_opt_paths = get_all_bag_paths(root_path,pattern=\"*_opt_path.npz\")\r\n",
    "len(all_opt_paths)"
   ],
   "outputs": [
    {
     "output_type": "execute_result",
     "data": {
      "text/plain": [
       "15"
      ]
     },
     "metadata": {},
     "execution_count": 17
    }
   ],
   "metadata": {}
  },
  {
   "cell_type": "markdown",
   "source": [
    "## Check data imbalance- optimized paths vs non optimized paths"
   ],
   "metadata": {}
  },
  {
   "cell_type": "code",
   "execution_count": 18,
   "source": [
    "def check_imbalance(init_path_arr,opt_path_arr):\r\n",
    "    count=0\r\n",
    "    zero_paths = 0\r\n",
    "    assert len(opt_path_arr)==len(init_path_arr)\r\n",
    "    for i in range(len(init_path_arr)):\r\n",
    "        if np.array_equal(init_path_arr[i],opt_path_arr[i]):\r\n",
    "            count +=1\r\n",
    "            \r\n",
    "    if len(init_path_arr)>0:\r\n",
    "        print(f\"Paths that are not optimized: {count}, which is {count/len(init_path_arr)*100:.2f} % of total data\")\r\n",
    "        print(f\"Paths that are optimized: {(len(init_path_arr)-count)}, which is {((len(init_path_arr)-count)/len(init_path_arr))*100:.2f} % of total data\")\r\n",
    "        print(f\"Zero paths : {zero_paths}\\n\")\r\n",
    "    return count,len(init_path_arr)\r\n",
    "\r\n",
    "#check_imbalance(init,opt)"
   ],
   "outputs": [],
   "metadata": {}
  },
  {
   "cell_type": "code",
   "execution_count": 19,
   "source": [
    "acc_count =0\r\n",
    "acc_total_samples =0\r\n",
    "for i in range(len(all_grid_paths)):\r\n",
    "    #arr=np.load(all_grid_paths[i])\r\n",
    "    init = np.load(all_init_paths[i])\r\n",
    "    opt = np.load(all_opt_paths[i])\r\n",
    "    bag_name = (all_grid_paths[i].split('\\\\')[-1])\r\n",
    "    folder_name = (all_grid_paths[i].split('\\\\')[-2])\r\n",
    "    scene_name = (all_grid_paths[i].split('\\\\')[-3])\r\n",
    "    print(f\"Bag Name: {os.path.join(scene_name,folder_name,bag_name)} -->\")\r\n",
    "    cnt,samples=check_imbalance(init[\"init_path\"],opt[\"opt_path\"])\r\n",
    "    acc_count+=cnt\r\n",
    "    acc_total_samples+=samples\r\n",
    "    "
   ],
   "outputs": [
    {
     "output_type": "stream",
     "name": "stdout",
     "text": [
      "Bag Name: scenario_ph_15\\2021-07-22_16-00-03\\2021-07-22_16-00-03_0_nos49_grid.npz -->\n",
      "Paths that are not optimized: 43, which is 87.76 % of total data\n",
      "Paths that are optimized: 6, which is 12.24 % of total data\n",
      "Zero paths : 0\n",
      "\n",
      "Bag Name: scenario_ph_15\\2021-07-22_16-00-28\\2021-07-22_16-00-29_0_nos82_grid.npz -->\n",
      "Paths that are not optimized: 77, which is 93.90 % of total data\n",
      "Paths that are optimized: 5, which is 6.10 % of total data\n",
      "Zero paths : 0\n",
      "\n",
      "Bag Name: scenario_ph_15\\2021-07-22_16-01-29\\2021-07-22_16-01-30_0_nos114_grid.npz -->\n",
      "Paths that are not optimized: 108, which is 94.74 % of total data\n",
      "Paths that are optimized: 6, which is 5.26 % of total data\n",
      "Zero paths : 0\n",
      "\n",
      "Bag Name: scenario_ph_15\\2021-07-22_16-02-37\\2021-07-22_16-02-38_0_nos140_grid.npz -->\n",
      "Paths that are not optimized: 129, which is 92.14 % of total data\n",
      "Paths that are optimized: 11, which is 7.86 % of total data\n",
      "Zero paths : 0\n",
      "\n",
      "Bag Name: scenario_ph_15\\2021-07-22_16-03-45\\2021-07-22_16-03-46_0_nos78_grid.npz -->\n",
      "Paths that are not optimized: 71, which is 91.03 % of total data\n",
      "Paths that are optimized: 7, which is 8.97 % of total data\n",
      "Zero paths : 0\n",
      "\n",
      "Bag Name: scenario_ph_15\\2021-07-22_16-04-41\\2021-07-22_16-04-42_0_nos138_grid.npz -->\n",
      "Paths that are not optimized: 123, which is 89.13 % of total data\n",
      "Paths that are optimized: 15, which is 10.87 % of total data\n",
      "Zero paths : 0\n",
      "\n",
      "Bag Name: scenario_ph_15\\2021-07-22_16-06-58\\2021-07-22_16-06-59_0_nos126_grid.npz -->\n",
      "Paths that are not optimized: 114, which is 90.48 % of total data\n",
      "Paths that are optimized: 12, which is 9.52 % of total data\n",
      "Zero paths : 0\n",
      "\n",
      "Bag Name: scenario_ph_15\\2021-07-22_16-07-50\\2021-07-22_16-07-51_0_nos69_grid.npz -->\n",
      "Paths that are not optimized: 64, which is 92.75 % of total data\n",
      "Paths that are optimized: 5, which is 7.25 % of total data\n",
      "Zero paths : 0\n",
      "\n",
      "Bag Name: scenario_ph_15\\2021-07-22_16-08-17\\2021-07-22_16-08-18_0_nos79_grid.npz -->\n",
      "Paths that are not optimized: 72, which is 91.14 % of total data\n",
      "Paths that are optimized: 7, which is 8.86 % of total data\n",
      "Zero paths : 0\n",
      "\n",
      "Bag Name: scenario_ph_15\\2021-07-22_16-09-06\\2021-07-22_16-09-07_0_nos144_grid.npz -->\n",
      "Paths that are not optimized: 123, which is 85.42 % of total data\n",
      "Paths that are optimized: 21, which is 14.58 % of total data\n",
      "Zero paths : 0\n",
      "\n",
      "Bag Name: scenario_ph_15\\2021-07-22_16-12-14\\2021-07-22_16-12-15_0_nos156_grid.npz -->\n",
      "Paths that are not optimized: 146, which is 93.59 % of total data\n",
      "Paths that are optimized: 10, which is 6.41 % of total data\n",
      "Zero paths : 0\n",
      "\n",
      "Bag Name: scenario_ph_15\\2021-07-22_16-13-38\\2021-07-22_16-13-39_0_nos52_grid.npz -->\n",
      "Paths that are not optimized: 38, which is 73.08 % of total data\n",
      "Paths that are optimized: 14, which is 26.92 % of total data\n",
      "Zero paths : 0\n",
      "\n",
      "Bag Name: scenario_ph_15\\2021-07-22_16-13-57\\2021-07-22_16-13-58_0_nos47_grid.npz -->\n",
      "Paths that are not optimized: 41, which is 87.23 % of total data\n",
      "Paths that are optimized: 6, which is 12.77 % of total data\n",
      "Zero paths : 0\n",
      "\n",
      "Bag Name: scenario_ph_15\\2021-07-22_16-15-24\\2021-07-22_16-15-25_0_nos149_grid.npz -->\n",
      "Paths that are not optimized: 138, which is 92.62 % of total data\n",
      "Paths that are optimized: 11, which is 7.38 % of total data\n",
      "Zero paths : 0\n",
      "\n",
      "Bag Name: scenario_ph_15\\2021-07-22_16-16-14\\2021-07-22_16-16-15_0_nos35_grid.npz -->\n",
      "Paths that are not optimized: 27, which is 77.14 % of total data\n",
      "Paths that are optimized: 8, which is 22.86 % of total data\n",
      "Zero paths : 0\n",
      "\n"
     ]
    }
   ],
   "metadata": {}
  },
  {
   "cell_type": "code",
   "execution_count": 20,
   "source": [
    "print(f\"Total paths {acc_total_samples}, cases with optimized paths {acc_total_samples-acc_count}\")"
   ],
   "outputs": [
    {
     "output_type": "stream",
     "name": "stdout",
     "text": [
      "Total paths 1458, cases with optimized paths 144\n"
     ]
    }
   ],
   "metadata": {}
  },
  {
   "cell_type": "markdown",
   "source": [
    "## check memory occupied by grid after loading"
   ],
   "metadata": {}
  },
  {
   "cell_type": "code",
   "execution_count": 7,
   "source": [
    "data_sample_idx = 55\r\n",
    "import time\r\n",
    "from sys import getsizeof\r\n",
    "start = time.time()\r\n",
    "\r\n",
    "np_grid = np.load(all_grid_paths[data_sample_idx])\r\n",
    "print(np.shape(np_grid[\"grid_data\"]))\r\n",
    "\r\n",
    "print(\"Time taken to load grid data:\", time.time()-start)\r\n",
    "\r\n",
    "np.save(\"test\",np_grid[\"grid_data\"])\r\n",
    "\r\n",
    "sizeodgrid=np_grid[\"grid_data\"]\r\n",
    "print(getsizeof(sizeodgrid)/1024)"
   ],
   "outputs": [
    {
     "output_type": "stream",
     "name": "stdout",
     "text": [
      "(176, 1536, 1536)\n",
      "Time taken to load grid data: 4.025906324386597\n",
      "1622016.125\n"
     ]
    }
   ],
   "metadata": {}
  },
  {
   "cell_type": "code",
   "execution_count": 8,
   "source": [
    "import tensorflow as tf\r\n",
    "int_grid = (np_grid[\"grid_data\"]/127).astype(np.int8)\r\n",
    "sp_t = tf.sparse.from_dense(np_grid[\"grid_data\"])\r\n",
    "\r\n",
    "print(getsizeof(int_grid)/1024)\r\n",
    "print(getsizeof(sp_t)/1024)"
   ],
   "outputs": [
    {
     "output_type": "stream",
     "name": "stdout",
     "text": [
      "405504.125\n",
      "0.0546875\n"
     ]
    }
   ],
   "metadata": {}
  },
  {
   "cell_type": "markdown",
   "source": [
    "## visualize grids and paths"
   ],
   "metadata": {}
  },
  {
   "cell_type": "code",
   "execution_count": 7,
   "source": [
    "test_idx=10\r\n",
    "plt.figure(figsize=(25,10))\r\n",
    "plt.subplot(1,2,1)\r\n",
    "#plt.imshow(np_grid[\"grid_data\"][test_idx])\r\n",
    "plt.subplot(1,2,2)\r\n",
    "plt.plot(init[test_idx,:,0],init[test_idx,:,1],'o-', color='red')\r\n",
    "plt.plot(opt[test_idx,:,0],opt[test_idx,:,1],'o-', color='blue')"
   ],
   "outputs": [
    {
     "output_type": "error",
     "ename": "TypeError",
     "evalue": "not all arguments converted during string formatting",
     "traceback": [
      "\u001b[1;31m---------------------------------------------------------------------------\u001b[0m",
      "\u001b[1;31mTypeError\u001b[0m                                 Traceback (most recent call last)",
      "\u001b[1;32m<ipython-input-7-3ab9a0945f83>\u001b[0m in \u001b[0;36m<module>\u001b[1;34m\u001b[0m\n\u001b[0;32m      4\u001b[0m \u001b[1;31m#plt.imshow(np_grid[\"grid_data\"][test_idx])\u001b[0m\u001b[1;33m\u001b[0m\u001b[1;33m\u001b[0m\u001b[1;33m\u001b[0m\u001b[0m\n\u001b[0;32m      5\u001b[0m \u001b[0mplt\u001b[0m\u001b[1;33m.\u001b[0m\u001b[0msubplot\u001b[0m\u001b[1;33m(\u001b[0m\u001b[1;36m1\u001b[0m\u001b[1;33m,\u001b[0m\u001b[1;36m2\u001b[0m\u001b[1;33m,\u001b[0m\u001b[1;36m2\u001b[0m\u001b[1;33m)\u001b[0m\u001b[1;33m\u001b[0m\u001b[1;33m\u001b[0m\u001b[0m\n\u001b[1;32m----> 6\u001b[1;33m \u001b[0mplt\u001b[0m\u001b[1;33m.\u001b[0m\u001b[0mplot\u001b[0m\u001b[1;33m(\u001b[0m\u001b[0minit\u001b[0m\u001b[1;33m[\u001b[0m\u001b[0mtest_idx\u001b[0m\u001b[1;33m,\u001b[0m\u001b[1;33m:\u001b[0m\u001b[1;33m,\u001b[0m\u001b[1;36m0\u001b[0m\u001b[1;33m]\u001b[0m\u001b[1;33m,\u001b[0m\u001b[0minit\u001b[0m\u001b[1;33m[\u001b[0m\u001b[0mtest_idx\u001b[0m\u001b[1;33m,\u001b[0m\u001b[1;33m:\u001b[0m\u001b[1;33m,\u001b[0m\u001b[1;36m1\u001b[0m\u001b[1;33m]\u001b[0m\u001b[1;33m,\u001b[0m\u001b[1;34m'o-'\u001b[0m\u001b[1;33m,\u001b[0m \u001b[0mcolor\u001b[0m\u001b[1;33m=\u001b[0m\u001b[1;34m'red'\u001b[0m\u001b[1;33m)\u001b[0m\u001b[1;33m\u001b[0m\u001b[1;33m\u001b[0m\u001b[0m\n\u001b[0m\u001b[0;32m      7\u001b[0m \u001b[0mplt\u001b[0m\u001b[1;33m.\u001b[0m\u001b[0mplot\u001b[0m\u001b[1;33m(\u001b[0m\u001b[0mopt\u001b[0m\u001b[1;33m[\u001b[0m\u001b[0mtest_idx\u001b[0m\u001b[1;33m,\u001b[0m\u001b[1;33m:\u001b[0m\u001b[1;33m,\u001b[0m\u001b[1;36m0\u001b[0m\u001b[1;33m]\u001b[0m\u001b[1;33m,\u001b[0m\u001b[0mopt\u001b[0m\u001b[1;33m[\u001b[0m\u001b[0mtest_idx\u001b[0m\u001b[1;33m,\u001b[0m\u001b[1;33m:\u001b[0m\u001b[1;33m,\u001b[0m\u001b[1;36m1\u001b[0m\u001b[1;33m]\u001b[0m\u001b[1;33m,\u001b[0m\u001b[1;34m'o-'\u001b[0m\u001b[1;33m,\u001b[0m \u001b[0mcolor\u001b[0m\u001b[1;33m=\u001b[0m\u001b[1;34m'blue'\u001b[0m\u001b[1;33m)\u001b[0m\u001b[1;33m\u001b[0m\u001b[1;33m\u001b[0m\u001b[0m\n",
      "\u001b[1;32mc:\\Users\\Teja\\Documents\\_INFOTECH\\Thesis\\sample_Ros_bag\\env_rosbag\\lib\\site-packages\\numpy\\lib\\npyio.py\u001b[0m in \u001b[0;36m__getitem__\u001b[1;34m(self, key)\u001b[0m\n\u001b[0;32m    257\u001b[0m                 \u001b[1;32mreturn\u001b[0m \u001b[0mself\u001b[0m\u001b[1;33m.\u001b[0m\u001b[0mzip\u001b[0m\u001b[1;33m.\u001b[0m\u001b[0mread\u001b[0m\u001b[1;33m(\u001b[0m\u001b[0mkey\u001b[0m\u001b[1;33m)\u001b[0m\u001b[1;33m\u001b[0m\u001b[1;33m\u001b[0m\u001b[0m\n\u001b[0;32m    258\u001b[0m         \u001b[1;32melse\u001b[0m\u001b[1;33m:\u001b[0m\u001b[1;33m\u001b[0m\u001b[1;33m\u001b[0m\u001b[0m\n\u001b[1;32m--> 259\u001b[1;33m             \u001b[1;32mraise\u001b[0m \u001b[0mKeyError\u001b[0m\u001b[1;33m(\u001b[0m\u001b[1;34m\"%s is not a file in the archive\"\u001b[0m \u001b[1;33m%\u001b[0m \u001b[0mkey\u001b[0m\u001b[1;33m)\u001b[0m\u001b[1;33m\u001b[0m\u001b[1;33m\u001b[0m\u001b[0m\n\u001b[0m\u001b[0;32m    260\u001b[0m \u001b[1;33m\u001b[0m\u001b[0m\n\u001b[0;32m    261\u001b[0m \u001b[1;33m\u001b[0m\u001b[0m\n",
      "\u001b[1;31mTypeError\u001b[0m: not all arguments converted during string formatting"
     ]
    },
    {
     "output_type": "display_data",
     "data": {
      "text/plain": [
       "<Figure size 1800x720 with 2 Axes>"
      ],
      "image/png": "[encoded data removed]"
     },
     "metadata": {
      "needs_background": "light"
     }
    }
   ],
   "metadata": {}
  },
  {
   "cell_type": "code",
   "execution_count": 8,
   "source": [
    "#test_idx=38\r\n",
    "plt.plot(init[test_idx,:,0],init[test_idx,:,1],'o-', color='red')\r\n",
    "plt.plot(opt[test_idx,:,0],opt[test_idx,:,1],'o-', color='blue')"
   ],
   "outputs": [
    {
     "output_type": "error",
     "ename": "TypeError",
     "evalue": "not all arguments converted during string formatting",
     "traceback": [
      "\u001b[1;31m---------------------------------------------------------------------------\u001b[0m",
      "\u001b[1;31mTypeError\u001b[0m                                 Traceback (most recent call last)",
      "\u001b[1;32m<ipython-input-8-ef7e99397bea>\u001b[0m in \u001b[0;36m<module>\u001b[1;34m\u001b[0m\n\u001b[0;32m      1\u001b[0m \u001b[1;31m#test_idx=38\u001b[0m\u001b[1;33m\u001b[0m\u001b[1;33m\u001b[0m\u001b[1;33m\u001b[0m\u001b[0m\n\u001b[1;32m----> 2\u001b[1;33m \u001b[0mplt\u001b[0m\u001b[1;33m.\u001b[0m\u001b[0mplot\u001b[0m\u001b[1;33m(\u001b[0m\u001b[0minit\u001b[0m\u001b[1;33m[\u001b[0m\u001b[0mtest_idx\u001b[0m\u001b[1;33m,\u001b[0m\u001b[1;33m:\u001b[0m\u001b[1;33m,\u001b[0m\u001b[1;36m0\u001b[0m\u001b[1;33m]\u001b[0m\u001b[1;33m,\u001b[0m\u001b[0minit\u001b[0m\u001b[1;33m[\u001b[0m\u001b[0mtest_idx\u001b[0m\u001b[1;33m,\u001b[0m\u001b[1;33m:\u001b[0m\u001b[1;33m,\u001b[0m\u001b[1;36m1\u001b[0m\u001b[1;33m]\u001b[0m\u001b[1;33m,\u001b[0m\u001b[1;34m'o-'\u001b[0m\u001b[1;33m,\u001b[0m \u001b[0mcolor\u001b[0m\u001b[1;33m=\u001b[0m\u001b[1;34m'red'\u001b[0m\u001b[1;33m)\u001b[0m\u001b[1;33m\u001b[0m\u001b[1;33m\u001b[0m\u001b[0m\n\u001b[0m\u001b[0;32m      3\u001b[0m \u001b[0mplt\u001b[0m\u001b[1;33m.\u001b[0m\u001b[0mplot\u001b[0m\u001b[1;33m(\u001b[0m\u001b[0mopt\u001b[0m\u001b[1;33m[\u001b[0m\u001b[0mtest_idx\u001b[0m\u001b[1;33m,\u001b[0m\u001b[1;33m:\u001b[0m\u001b[1;33m,\u001b[0m\u001b[1;36m0\u001b[0m\u001b[1;33m]\u001b[0m\u001b[1;33m,\u001b[0m\u001b[0mopt\u001b[0m\u001b[1;33m[\u001b[0m\u001b[0mtest_idx\u001b[0m\u001b[1;33m,\u001b[0m\u001b[1;33m:\u001b[0m\u001b[1;33m,\u001b[0m\u001b[1;36m1\u001b[0m\u001b[1;33m]\u001b[0m\u001b[1;33m,\u001b[0m\u001b[1;34m'o-'\u001b[0m\u001b[1;33m,\u001b[0m \u001b[0mcolor\u001b[0m\u001b[1;33m=\u001b[0m\u001b[1;34m'blue'\u001b[0m\u001b[1;33m)\u001b[0m\u001b[1;33m\u001b[0m\u001b[1;33m\u001b[0m\u001b[0m\n",
      "\u001b[1;32mc:\\Users\\Teja\\Documents\\_INFOTECH\\Thesis\\sample_Ros_bag\\env_rosbag\\lib\\site-packages\\numpy\\lib\\npyio.py\u001b[0m in \u001b[0;36m__getitem__\u001b[1;34m(self, key)\u001b[0m\n\u001b[0;32m    257\u001b[0m                 \u001b[1;32mreturn\u001b[0m \u001b[0mself\u001b[0m\u001b[1;33m.\u001b[0m\u001b[0mzip\u001b[0m\u001b[1;33m.\u001b[0m\u001b[0mread\u001b[0m\u001b[1;33m(\u001b[0m\u001b[0mkey\u001b[0m\u001b[1;33m)\u001b[0m\u001b[1;33m\u001b[0m\u001b[1;33m\u001b[0m\u001b[0m\n\u001b[0;32m    258\u001b[0m         \u001b[1;32melse\u001b[0m\u001b[1;33m:\u001b[0m\u001b[1;33m\u001b[0m\u001b[1;33m\u001b[0m\u001b[0m\n\u001b[1;32m--> 259\u001b[1;33m             \u001b[1;32mraise\u001b[0m \u001b[0mKeyError\u001b[0m\u001b[1;33m(\u001b[0m\u001b[1;34m\"%s is not a file in the archive\"\u001b[0m \u001b[1;33m%\u001b[0m \u001b[0mkey\u001b[0m\u001b[1;33m)\u001b[0m\u001b[1;33m\u001b[0m\u001b[1;33m\u001b[0m\u001b[0m\n\u001b[0m\u001b[0;32m    260\u001b[0m \u001b[1;33m\u001b[0m\u001b[0m\n\u001b[0;32m    261\u001b[0m \u001b[1;33m\u001b[0m\u001b[0m\n",
      "\u001b[1;31mTypeError\u001b[0m: not all arguments converted during string formatting"
     ]
    }
   ],
   "metadata": {}
  },
  {
   "cell_type": "code",
   "execution_count": null,
   "source": [],
   "outputs": [],
   "metadata": {}
  }
 ]
}