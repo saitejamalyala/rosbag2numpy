{
 "metadata": {
  "language_info": {
   "codemirror_mode": {
    "name": "ipython",
    "version": 3
   },
   "file_extension": ".py",
   "mimetype": "text/x-python",
   "name": "python",
   "nbconvert_exporter": "python",
   "pygments_lexer": "ipython3",
   "version": "3.7.8"
  },
  "orig_nbformat": 2,
  "kernelspec": {
   "name": "python3",
   "display_name": "Python 3.7.8 64-bit ('env_rosbag': venv)"
  },
  "metadata": {
   "interpreter": {
    "hash": "bbc9dda3e9e79c7f3242cc2df2a5d623228b80dc5b57011016029c4090ab57c9"
   }
  },
  "interpreter": {
   "hash": "bbc9dda3e9e79c7f3242cc2df2a5d623228b80dc5b57011016029c4090ab57c9"
  }
 },
 "nbformat": 4,
 "nbformat_minor": 2,
 "cells": [
  {
   "cell_type": "code",
   "execution_count": 13,
   "source": [
    "import numpy as np\r\n",
    "from glob import glob\r\n",
    "from typing import List\r\n",
    "from fnmatch import fnmatch\r\n",
    "import matplotlib.pyplot as plt\r\n",
    "import os"
   ],
   "outputs": [],
   "metadata": {}
  },
  {
   "cell_type": "code",
   "execution_count": 22,
   "source": [
    "#root_path = r'D:\\sd_dynObj'\r\n",
    "file_pattern = '*_grid.npz'\r\n",
    "root_path = r'D:\\npz_files\\scenario3'\r\n",
    "_MAX_LENGTH =25\r\n",
    "\r\n",
    "\r\n",
    "def get_all_bag_paths(root:str,pattern:str)->List[str]:\r\n",
    "    list_all_bags=[]\r\n",
    "    for path, subdirs, files in os.walk(root):\r\n",
    "        for name in files:\r\n",
    "            if fnmatch(name, pattern):\r\n",
    "                list_all_bags.append((os.path.join(path, name)))\r\n",
    "\r\n",
    "    return list_all_bags"
   ],
   "outputs": [],
   "metadata": {}
  },
  {
   "cell_type": "code",
   "execution_count": 23,
   "source": [
    "\r\n",
    "all_grid_paths=get_all_bag_paths(root_path,pattern=file_pattern)\r\n",
    "all_init_paths = get_all_bag_paths(root_path,pattern=\"*_init_path.npz\")\r\n",
    "all_opt_paths = get_all_bag_paths(root_path,pattern=\"*_opt_path.npz\")\r\n",
    "len(all_opt_paths)"
   ],
   "outputs": [
    {
     "output_type": "execute_result",
     "data": {
      "text/plain": [
       "11"
      ]
     },
     "metadata": {},
     "execution_count": 23
    }
   ],
   "metadata": {}
  },
  {
   "cell_type": "markdown",
   "source": [
    "## Check data imbalance- optimized paths vs non optimized paths"
   ],
   "metadata": {}
  },
  {
   "cell_type": "code",
   "execution_count": 29,
   "source": [
    "def check_imbalance(init_path_arr,opt_path_arr):\r\n",
    "    count=0\r\n",
    "    zero_paths = 0\r\n",
    "    indices = []\r\n",
    "    assert len(opt_path_arr)==len(init_path_arr)\r\n",
    "    for i in range(len(init_path_arr)):\r\n",
    "        if np.array_equal(init_path_arr[i],opt_path_arr[i]):\r\n",
    "            count +=1\r\n",
    "        if not np.array_equal(init_path_arr[i],opt_path_arr[i]):\r\n",
    "            indices.append(i)\r\n",
    "        \r\n",
    "            \r\n",
    "    if len(init_path_arr)>0:\r\n",
    "        print(f\"Paths that are not optimized: {count}, which is {count/len(init_path_arr)*100:.2f} % of total data\")\r\n",
    "        print(f\"Paths that are optimized: {(len(init_path_arr)-count)}, which is {((len(init_path_arr)-count)/len(init_path_arr))*100:.2f} % of total data\")\r\n",
    "        print(f\"Zero paths : {zero_paths}\")\r\n",
    "        print(f\"Unequal path indixes:{indices}\\n\")\r\n",
    "    return count,len(init_path_arr)\r\n",
    "\r\n",
    "#check_imbalance(init,opt)"
   ],
   "outputs": [],
   "metadata": {}
  },
  {
   "cell_type": "code",
   "execution_count": 30,
   "source": [
    "acc_count =0\r\n",
    "acc_total_samples =0\r\n",
    "for i in range(len(all_grid_paths)):\r\n",
    "    #arr=np.load(all_grid_paths[i])\r\n",
    "    init = np.load(all_init_paths[i])\r\n",
    "    opt = np.load(all_opt_paths[i])\r\n",
    "    bag_name = (all_grid_paths[i].split('\\\\')[-1])\r\n",
    "    folder_name = (all_grid_paths[i].split('\\\\')[-2])\r\n",
    "    scene_name = (all_grid_paths[i].split('\\\\')[-3])\r\n",
    "    print(f\"Bag Name: {os.path.join(scene_name,folder_name,bag_name)} -->\")\r\n",
    "    cnt,samples=check_imbalance(init[\"init_path\"],opt[\"opt_path\"])\r\n",
    "    acc_count+=cnt\r\n",
    "    acc_total_samples+=samples\r\n",
    "    "
   ],
   "outputs": [
    {
     "output_type": "stream",
     "name": "stdout",
     "text": [
      "Bag Name: scenario3\\2021-06-10_11-12-21\\2021-06-10_11-12-22_0_nos96_grid.npz -->\n",
      "Paths that are not optimized: 86, which is 89.58 % of total data\n",
      "Paths that are optimized: 10, which is 10.42 % of total data\n",
      "Zero paths : 0\n",
      "Unequal path indixes:[0, 15, 16, 44, 45, 46, 47, 58, 66, 87]\n",
      "\n",
      "Bag Name: scenario3\\2021-06-10_11-12-21\\2021-06-10_11-13-23_1_nos188_grid.npz -->\n",
      "Paths that are not optimized: 183, which is 97.34 % of total data\n",
      "Paths that are optimized: 5, which is 2.66 % of total data\n",
      "Zero paths : 0\n",
      "Unequal path indixes:[34, 56, 85, 115, 144]\n",
      "\n",
      "Bag Name: scenario3\\2021-06-10_11-15-33\\2021-06-10_11-15-34_0_nos173_grid.npz -->\n",
      "Paths that are not optimized: 160, which is 92.49 % of total data\n",
      "Paths that are optimized: 13, which is 7.51 % of total data\n",
      "Zero paths : 0\n",
      "Unequal path indixes:[0, 37, 38, 39, 40, 58, 69, 71, 72, 105, 106, 107, 129]\n",
      "\n",
      "Bag Name: scenario3\\2021-06-10_11-15-33\\2021-06-10_11-16-34_1_nos65_grid.npz -->\n",
      "Paths that are not optimized: 62, which is 95.38 % of total data\n",
      "Paths that are optimized: 3, which is 4.62 % of total data\n",
      "Zero paths : 0\n",
      "Unequal path indixes:[9, 19, 31]\n",
      "\n",
      "Bag Name: scenario3\\2021-06-10_11-18-18\\2021-06-10_11-18-19_0_nos179_grid.npz -->\n",
      "Paths that are not optimized: 156, which is 87.15 % of total data\n",
      "Paths that are optimized: 23, which is 12.85 % of total data\n",
      "Zero paths : 0\n",
      "Unequal path indixes:[0, 26, 52, 79, 94, 95, 96, 97, 98, 105, 124, 128, 129, 143, 144, 150, 151, 152, 153, 154, 155, 156, 157]\n",
      "\n",
      "Bag Name: scenario3\\2021-06-10_11-20-31\\2021-06-10_11-20-32_0_nos125_grid.npz -->\n",
      "Paths that are not optimized: 107, which is 85.60 % of total data\n",
      "Paths that are optimized: 18, which is 14.40 % of total data\n",
      "Zero paths : 0\n",
      "Unequal path indixes:[0, 2, 5, 9, 10, 25, 26, 27, 28, 66, 89, 92, 93, 94, 107, 108, 111, 112]\n",
      "\n",
      "Bag Name: scenario3\\2021-06-10_11-21-14\\2021-06-10_11-21-15_0_nos97_grid.npz -->\n",
      "Paths that are not optimized: 81, which is 83.51 % of total data\n",
      "Paths that are optimized: 16, which is 16.49 % of total data\n",
      "Zero paths : 0\n",
      "Unequal path indixes:[0, 1, 2, 3, 18, 36, 59, 60, 61, 62, 63, 64, 65, 66, 93, 96]\n",
      "\n",
      "Bag Name: scenario3\\2021-06-10_11-23-43\\2021-06-10_11-23-44_0_nos182_grid.npz -->\n",
      "Paths that are not optimized: 169, which is 92.86 % of total data\n",
      "Paths that are optimized: 13, which is 7.14 % of total data\n",
      "Zero paths : 0\n",
      "Unequal path indixes:[0, 1, 2, 3, 4, 23, 24, 45, 73, 94, 119, 158, 159]\n",
      "\n",
      "Bag Name: scenario3\\2021-06-10_11-25-16\\2021-06-10_11-25-17_0_nos207_grid.npz -->\n",
      "Paths that are not optimized: 198, which is 95.65 % of total data\n",
      "Paths that are optimized: 9, which is 4.35 % of total data\n",
      "Zero paths : 0\n",
      "Unequal path indixes:[0, 29, 60, 86, 87, 109, 135, 163, 191]\n",
      "\n",
      "Bag Name: scenario3\\2021-06-10_11-33-23\\2021-06-10_11-33-24_0_nos191_grid.npz -->\n",
      "Paths that are not optimized: 176, which is 92.15 % of total data\n",
      "Paths that are optimized: 15, which is 7.85 % of total data\n",
      "Zero paths : 0\n",
      "Unequal path indixes:[0, 23, 47, 48, 76, 77, 78, 94, 95, 96, 97, 117, 118, 136, 163]\n",
      "\n",
      "Bag Name: scenario3\\2021-06-10_11-33-23\\2021-06-10_11-35-24_2_nos171_grid.npz -->\n",
      "Paths that are not optimized: 162, which is 94.74 % of total data\n",
      "Paths that are optimized: 9, which is 5.26 % of total data\n",
      "Zero paths : 0\n",
      "Unequal path indixes:[0, 23, 24, 49, 79, 109, 110, 139, 140]\n",
      "\n"
     ]
    }
   ],
   "metadata": {}
  },
  {
   "cell_type": "code",
   "execution_count": 20,
   "source": [
    "print(f\"Total paths {acc_total_samples}, cases with optimized paths {acc_total_samples-acc_count}\")"
   ],
   "outputs": [
    {
     "output_type": "stream",
     "name": "stdout",
     "text": [
      "Total paths 1458, cases with optimized paths 144\n"
     ]
    }
   ],
   "metadata": {}
  },
  {
   "cell_type": "markdown",
   "source": [
    "## check memory occupied by grid after loading"
   ],
   "metadata": {}
  },
  {
   "cell_type": "code",
   "execution_count": 7,
   "source": [
    "data_sample_idx = 55\r\n",
    "import time\r\n",
    "from sys import getsizeof\r\n",
    "start = time.time()\r\n",
    "\r\n",
    "np_grid = np.load(all_grid_paths[data_sample_idx])\r\n",
    "print(np.shape(np_grid[\"grid_data\"]))\r\n",
    "\r\n",
    "print(\"Time taken to load grid data:\", time.time()-start)\r\n",
    "\r\n",
    "np.save(\"test\",np_grid[\"grid_data\"])\r\n",
    "\r\n",
    "sizeodgrid=np_grid[\"grid_data\"]\r\n",
    "print(getsizeof(sizeodgrid)/1024)"
   ],
   "outputs": [
    {
     "output_type": "stream",
     "name": "stdout",
     "text": [
      "(176, 1536, 1536)\n",
      "Time taken to load grid data: 4.025906324386597\n",
      "1622016.125\n"
     ]
    }
   ],
   "metadata": {}
  },
  {
   "cell_type": "code",
   "execution_count": 8,
   "source": [
    "import tensorflow as tf\r\n",
    "int_grid = (np_grid[\"grid_data\"]/127).astype(np.int8)\r\n",
    "sp_t = tf.sparse.from_dense(np_grid[\"grid_data\"])\r\n",
    "\r\n",
    "print(getsizeof(int_grid)/1024)\r\n",
    "print(getsizeof(sp_t)/1024)"
   ],
   "outputs": [
    {
     "output_type": "stream",
     "name": "stdout",
     "text": [
      "405504.125\n",
      "0.0546875\n"
     ]
    }
   ],
   "metadata": {}
  },
  {
   "cell_type": "markdown",
   "source": [
    "## visualize grids and paths"
   ],
   "metadata": {}
  },
  {
   "cell_type": "code",
   "execution_count": 7,
   "source": [
    "test_idx=10\r\n",
    "plt.figure(figsize=(25,10))\r\n",
    "plt.subplot(1,2,1)\r\n",
    "#plt.imshow(np_grid[\"grid_data\"][test_idx])\r\n",
    "plt.subplot(1,2,2)\r\n",
    "plt.plot(init[test_idx,:,0],init[test_idx,:,1],'o-', color='red')\r\n",
    "plt.plot(opt[test_idx,:,0],opt[test_idx,:,1],'o-', color='blue')"
   ],
   "outputs": [
    {
     "output_type": "error",
     "ename": "TypeError",
     "evalue": "not all arguments converted during string formatting",
     "traceback": [
      "\u001b[1;31m---------------------------------------------------------------------------\u001b[0m",
      "\u001b[1;31mTypeError\u001b[0m                                 Traceback (most recent call last)",
      "\u001b[1;32m<ipython-input-7-3ab9a0945f83>\u001b[0m in \u001b[0;36m<module>\u001b[1;34m\u001b[0m\n\u001b[0;32m      4\u001b[0m \u001b[1;31m#plt.imshow(np_grid[\"grid_data\"][test_idx])\u001b[0m\u001b[1;33m\u001b[0m\u001b[1;33m\u001b[0m\u001b[1;33m\u001b[0m\u001b[0m\n\u001b[0;32m      5\u001b[0m \u001b[0mplt\u001b[0m\u001b[1;33m.\u001b[0m\u001b[0msubplot\u001b[0m\u001b[1;33m(\u001b[0m\u001b[1;36m1\u001b[0m\u001b[1;33m,\u001b[0m\u001b[1;36m2\u001b[0m\u001b[1;33m,\u001b[0m\u001b[1;36m2\u001b[0m\u001b[1;33m)\u001b[0m\u001b[1;33m\u001b[0m\u001b[1;33m\u001b[0m\u001b[0m\n\u001b[1;32m----> 6\u001b[1;33m \u001b[0mplt\u001b[0m\u001b[1;33m.\u001b[0m\u001b[0mplot\u001b[0m\u001b[1;33m(\u001b[0m\u001b[0minit\u001b[0m\u001b[1;33m[\u001b[0m\u001b[0mtest_idx\u001b[0m\u001b[1;33m,\u001b[0m\u001b[1;33m:\u001b[0m\u001b[1;33m,\u001b[0m\u001b[1;36m0\u001b[0m\u001b[1;33m]\u001b[0m\u001b[1;33m,\u001b[0m\u001b[0minit\u001b[0m\u001b[1;33m[\u001b[0m\u001b[0mtest_idx\u001b[0m\u001b[1;33m,\u001b[0m\u001b[1;33m:\u001b[0m\u001b[1;33m,\u001b[0m\u001b[1;36m1\u001b[0m\u001b[1;33m]\u001b[0m\u001b[1;33m,\u001b[0m\u001b[1;34m'o-'\u001b[0m\u001b[1;33m,\u001b[0m \u001b[0mcolor\u001b[0m\u001b[1;33m=\u001b[0m\u001b[1;34m'red'\u001b[0m\u001b[1;33m)\u001b[0m\u001b[1;33m\u001b[0m\u001b[1;33m\u001b[0m\u001b[0m\n\u001b[0m\u001b[0;32m      7\u001b[0m \u001b[0mplt\u001b[0m\u001b[1;33m.\u001b[0m\u001b[0mplot\u001b[0m\u001b[1;33m(\u001b[0m\u001b[0mopt\u001b[0m\u001b[1;33m[\u001b[0m\u001b[0mtest_idx\u001b[0m\u001b[1;33m,\u001b[0m\u001b[1;33m:\u001b[0m\u001b[1;33m,\u001b[0m\u001b[1;36m0\u001b[0m\u001b[1;33m]\u001b[0m\u001b[1;33m,\u001b[0m\u001b[0mopt\u001b[0m\u001b[1;33m[\u001b[0m\u001b[0mtest_idx\u001b[0m\u001b[1;33m,\u001b[0m\u001b[1;33m:\u001b[0m\u001b[1;33m,\u001b[0m\u001b[1;36m1\u001b[0m\u001b[1;33m]\u001b[0m\u001b[1;33m,\u001b[0m\u001b[1;34m'o-'\u001b[0m\u001b[1;33m,\u001b[0m \u001b[0mcolor\u001b[0m\u001b[1;33m=\u001b[0m\u001b[1;34m'blue'\u001b[0m\u001b[1;33m)\u001b[0m\u001b[1;33m\u001b[0m\u001b[1;33m\u001b[0m\u001b[0m\n",
      "\u001b[1;32mc:\\Users\\Teja\\Documents\\_INFOTECH\\Thesis\\sample_Ros_bag\\env_rosbag\\lib\\site-packages\\numpy\\lib\\npyio.py\u001b[0m in \u001b[0;36m__getitem__\u001b[1;34m(self, key)\u001b[0m\n\u001b[0;32m    257\u001b[0m                 \u001b[1;32mreturn\u001b[0m \u001b[0mself\u001b[0m\u001b[1;33m.\u001b[0m\u001b[0mzip\u001b[0m\u001b[1;33m.\u001b[0m\u001b[0mread\u001b[0m\u001b[1;33m(\u001b[0m\u001b[0mkey\u001b[0m\u001b[1;33m)\u001b[0m\u001b[1;33m\u001b[0m\u001b[1;33m\u001b[0m\u001b[0m\n\u001b[0;32m    258\u001b[0m         \u001b[1;32melse\u001b[0m\u001b[1;33m:\u001b[0m\u001b[1;33m\u001b[0m\u001b[1;33m\u001b[0m\u001b[0m\n\u001b[1;32m--> 259\u001b[1;33m             \u001b[1;32mraise\u001b[0m \u001b[0mKeyError\u001b[0m\u001b[1;33m(\u001b[0m\u001b[1;34m\"%s is not a file in the archive\"\u001b[0m \u001b[1;33m%\u001b[0m \u001b[0mkey\u001b[0m\u001b[1;33m)\u001b[0m\u001b[1;33m\u001b[0m\u001b[1;33m\u001b[0m\u001b[0m\n\u001b[0m\u001b[0;32m    260\u001b[0m \u001b[1;33m\u001b[0m\u001b[0m\n\u001b[0;32m    261\u001b[0m \u001b[1;33m\u001b[0m\u001b[0m\n",
      "\u001b[1;31mTypeError\u001b[0m: not all arguments converted during string formatting"
     ]
    },
    {
     "output_type": "display_data",
     "data": {
      "image/png": "[encoded data removed]",
      "text/plain": [
       "<Figure size 1800x720 with 2 Axes>"
      ]
     },
     "metadata": {
      "needs_background": "light"
     }
    }
   ],
   "metadata": {}
  },
  {
   "cell_type": "code",
   "execution_count": 8,
   "source": [
    "#test_idx=38\r\n",
    "plt.plot(init[test_idx,:,0],init[test_idx,:,1],'o-', color='red')\r\n",
    "plt.plot(opt[test_idx,:,0],opt[test_idx,:,1],'o-', color='blue')"
   ],
   "outputs": [
    {
     "output_type": "error",
     "ename": "TypeError",
     "evalue": "not all arguments converted during string formatting",
     "traceback": [
      "\u001b[1;31m---------------------------------------------------------------------------\u001b[0m",
      "\u001b[1;31mTypeError\u001b[0m                                 Traceback (most recent call last)",
      "\u001b[1;32m<ipython-input-8-ef7e99397bea>\u001b[0m in \u001b[0;36m<module>\u001b[1;34m\u001b[0m\n\u001b[0;32m      1\u001b[0m \u001b[1;31m#test_idx=38\u001b[0m\u001b[1;33m\u001b[0m\u001b[1;33m\u001b[0m\u001b[1;33m\u001b[0m\u001b[0m\n\u001b[1;32m----> 2\u001b[1;33m \u001b[0mplt\u001b[0m\u001b[1;33m.\u001b[0m\u001b[0mplot\u001b[0m\u001b[1;33m(\u001b[0m\u001b[0minit\u001b[0m\u001b[1;33m[\u001b[0m\u001b[0mtest_idx\u001b[0m\u001b[1;33m,\u001b[0m\u001b[1;33m:\u001b[0m\u001b[1;33m,\u001b[0m\u001b[1;36m0\u001b[0m\u001b[1;33m]\u001b[0m\u001b[1;33m,\u001b[0m\u001b[0minit\u001b[0m\u001b[1;33m[\u001b[0m\u001b[0mtest_idx\u001b[0m\u001b[1;33m,\u001b[0m\u001b[1;33m:\u001b[0m\u001b[1;33m,\u001b[0m\u001b[1;36m1\u001b[0m\u001b[1;33m]\u001b[0m\u001b[1;33m,\u001b[0m\u001b[1;34m'o-'\u001b[0m\u001b[1;33m,\u001b[0m \u001b[0mcolor\u001b[0m\u001b[1;33m=\u001b[0m\u001b[1;34m'red'\u001b[0m\u001b[1;33m)\u001b[0m\u001b[1;33m\u001b[0m\u001b[1;33m\u001b[0m\u001b[0m\n\u001b[0m\u001b[0;32m      3\u001b[0m \u001b[0mplt\u001b[0m\u001b[1;33m.\u001b[0m\u001b[0mplot\u001b[0m\u001b[1;33m(\u001b[0m\u001b[0mopt\u001b[0m\u001b[1;33m[\u001b[0m\u001b[0mtest_idx\u001b[0m\u001b[1;33m,\u001b[0m\u001b[1;33m:\u001b[0m\u001b[1;33m,\u001b[0m\u001b[1;36m0\u001b[0m\u001b[1;33m]\u001b[0m\u001b[1;33m,\u001b[0m\u001b[0mopt\u001b[0m\u001b[1;33m[\u001b[0m\u001b[0mtest_idx\u001b[0m\u001b[1;33m,\u001b[0m\u001b[1;33m:\u001b[0m\u001b[1;33m,\u001b[0m\u001b[1;36m1\u001b[0m\u001b[1;33m]\u001b[0m\u001b[1;33m,\u001b[0m\u001b[1;34m'o-'\u001b[0m\u001b[1;33m,\u001b[0m \u001b[0mcolor\u001b[0m\u001b[1;33m=\u001b[0m\u001b[1;34m'blue'\u001b[0m\u001b[1;33m)\u001b[0m\u001b[1;33m\u001b[0m\u001b[1;33m\u001b[0m\u001b[0m\n",
      "\u001b[1;32mc:\\Users\\Teja\\Documents\\_INFOTECH\\Thesis\\sample_Ros_bag\\env_rosbag\\lib\\site-packages\\numpy\\lib\\npyio.py\u001b[0m in \u001b[0;36m__getitem__\u001b[1;34m(self, key)\u001b[0m\n\u001b[0;32m    257\u001b[0m                 \u001b[1;32mreturn\u001b[0m \u001b[0mself\u001b[0m\u001b[1;33m.\u001b[0m\u001b[0mzip\u001b[0m\u001b[1;33m.\u001b[0m\u001b[0mread\u001b[0m\u001b[1;33m(\u001b[0m\u001b[0mkey\u001b[0m\u001b[1;33m)\u001b[0m\u001b[1;33m\u001b[0m\u001b[1;33m\u001b[0m\u001b[0m\n\u001b[0;32m    258\u001b[0m         \u001b[1;32melse\u001b[0m\u001b[1;33m:\u001b[0m\u001b[1;33m\u001b[0m\u001b[1;33m\u001b[0m\u001b[0m\n\u001b[1;32m--> 259\u001b[1;33m             \u001b[1;32mraise\u001b[0m \u001b[0mKeyError\u001b[0m\u001b[1;33m(\u001b[0m\u001b[1;34m\"%s is not a file in the archive\"\u001b[0m \u001b[1;33m%\u001b[0m \u001b[0mkey\u001b[0m\u001b[1;33m)\u001b[0m\u001b[1;33m\u001b[0m\u001b[1;33m\u001b[0m\u001b[0m\n\u001b[0m\u001b[0;32m    260\u001b[0m \u001b[1;33m\u001b[0m\u001b[0m\n\u001b[0;32m    261\u001b[0m \u001b[1;33m\u001b[0m\u001b[0m\n",
      "\u001b[1;31mTypeError\u001b[0m: not all arguments converted during string formatting"
     ]
    }
   ],
   "metadata": {}
  },
  {
   "cell_type": "code",
   "execution_count": null,
   "source": [],
   "outputs": [],
   "metadata": {}
  }
 ]
}