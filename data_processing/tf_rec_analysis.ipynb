{
 "cells": [
  {
   "cell_type": "code",
   "execution_count": 1,
   "source": [
    "import numpy as np\n",
    "import tensorflow as tf\n",
    "from glob import glob\n",
    "from typing import List,Dict\n",
    "from fnmatch import fnmatch\n",
    "import matplotlib.pyplot as plt\n",
    "import re\n",
    "import os\n",
    "print(tf.__version__)"
   ],
   "outputs": [
    {
     "output_type": "stream",
     "name": "stdout",
     "text": [
      "2.3.0\n"
     ]
    }
   ],
   "metadata": {}
  },
  {
   "cell_type": "code",
   "execution_count": 3,
   "source": [
    "\n",
    "# function to contruct back from tf record example\n",
    "def prepare_sample(example):\n",
    "    example[\"grid_map\"] = tf.io.decode_raw(example[\"grid_map\"], out_type=tf.float16)\n",
    "    example[\"grid_map\"] = tf.reshape(example[\"grid_map\"],[1536,1536])\n",
    "\n",
    "    example[\"grid_org_res\"] = tf.io.decode_raw(example[\"grid_org_res\"], out_type=tf.float32)\n",
    "    #example[\"grid_org_res\"] = tf.reshape(example[\"grid_org_res\"],[1,3])\n",
    "\n",
    "    example[\"left_bnd\"] = tf.io.decode_raw(example[\"left_bnd\"], out_type=tf.float32)\n",
    "    example[\"left_bnd\"] = tf.reshape(example[\"left_bnd\"],[25,2])\n",
    "\n",
    "    example[\"right_bnd\"] = tf.io.decode_raw(example[\"right_bnd\"], out_type=tf.float32)\n",
    "    example[\"right_bnd\"] = tf.reshape(example[\"right_bnd\"],[25,2])\n",
    "\n",
    "    example[\"car_odo\"] = tf.io.decode_raw(example[\"car_odo\"], out_type=tf.float32)\n",
    "    #example[\"car_odo\"] = tf.reshape(example[\"car_odo\"],[1,3])\n",
    "\n",
    "    example[\"init_path\"] = tf.io.decode_raw(example[\"init_path\"], out_type=tf.float32)\n",
    "    example[\"init_path\"] = tf.reshape(example[\"init_path\"],[25,2])\n",
    "\n",
    "    example[\"opt_path\"] = tf.io.decode_raw(example[\"opt_path\"], out_type=tf.float32)\n",
    "    example[\"opt_path\"] = tf.reshape(example[\"opt_path\"],[25,2])\n",
    "    return example\n",
    "\n",
    "\n",
    "def parse_tfrecord_fn_ds(example):\n",
    "\n",
    "    # Dict of feature and their description\n",
    "    feature_description = {\n",
    "\n",
    "        # model inputs\n",
    "        \"grid_map\": tf.io.FixedLenFeature([], tf.string),\n",
    "        \"grid_org_res\": tf.io.FixedLenFeature([], tf.string),\n",
    "        \"left_bnd\": tf.io.FixedLenFeature([], tf.string),\n",
    "        \"right_bnd\": tf.io.FixedLenFeature([], tf.string),\n",
    "        \"car_odo\": tf.io.FixedLenFeature([], tf.string),\n",
    "        \"init_path\": tf.io.FixedLenFeature([], tf.string),\n",
    "        \n",
    "        #model ouput\n",
    "        \"opt_path\": tf.io.FixedLenFeature([], tf.string),\n",
    "\n",
    "    }\n",
    "\n",
    "    # Parse a single Example proto\n",
    "    example = tf.io.parse_single_example(example, feature_description)\n",
    "    return example"
   ],
   "outputs": [],
   "metadata": {}
  },
  {
   "cell_type": "code",
   "execution_count": 8,
   "source": [
    "tfrecords_path = '/bigpool/projects/yao_SCANGAN360/New_Folder/tf_records_w_costmap_dist_dir/scenario_ph_15/2021-07-22_16-16-14/2021-07-22_16-16-15_0_file_01-16.tfrec'\n",
    "sample_raw_ds = tf.data.TFRecordDataset(tfrecords_path)\n",
    "\n",
    "parsed_dataset = sample_raw_ds.map(parse_tfrecord_fn_ds).map(prepare_sample)\n",
    "\n",
    "parsed_dataset.element_spec\n"
   ],
   "outputs": [
    {
     "output_type": "execute_result",
     "data": {
      "text/plain": [
       "{'car_odo': TensorSpec(shape=(None,), dtype=tf.float32, name=None),\n",
       " 'grid_map': TensorSpec(shape=(1536, 1536), dtype=tf.float16, name=None),\n",
       " 'grid_org_res': TensorSpec(shape=(None,), dtype=tf.float32, name=None),\n",
       " 'init_path': TensorSpec(shape=(25, 2), dtype=tf.float32, name=None),\n",
       " 'left_bnd': TensorSpec(shape=(25, 2), dtype=tf.float32, name=None),\n",
       " 'opt_path': TensorSpec(shape=(25, 2), dtype=tf.float32, name=None),\n",
       " 'right_bnd': TensorSpec(shape=(25, 2), dtype=tf.float32, name=None)}"
      ]
     },
     "metadata": {},
     "execution_count": 8
    }
   ],
   "metadata": {}
  },
  {
   "cell_type": "code",
   "execution_count": 13,
   "source": [
    "def plot_scene(features):    \n",
    "    grid_map = features[\"grid_map\"].numpy()\n",
    "    grid_org = features[\"grid_org_res\"].numpy()\n",
    "    left_bnd = features[\"left_bnd\"].numpy()\n",
    "    right_bnd = features[\"right_bnd\"].numpy()\n",
    "    init_path = features[\"init_path\"].numpy()\n",
    "    opt_path = features[\"opt_path\"].numpy()\n",
    "    car_odo = features[\"car_odo\"].numpy()\n",
    "\n",
    "    #print(type(grid_map))\n",
    "    plt.figure(figsize=(7, 7))\n",
    "    #ax=fig.add_subplot(1,1,1)\n",
    "\n",
    "    res = grid_org[2]\n",
    "    plt.plot((left_bnd[:,0]-grid_org[0])/res,(left_bnd[:,1]-grid_org[1])/res,'-.', color='magenta',markersize=0.5, linewidth=0.5)\n",
    "\n",
    "    plt.plot((init_path[:,0]-grid_org[0])/res,(init_path[:,1]-grid_org[1])/res,'o-', color='lawngreen',markersize=1, linewidth=1)\n",
    "    plt.plot((opt_path[:,0]-grid_org[0])/res,(opt_path[:,1]-grid_org[1])/res,'--', color='yellow',markersize=1, linewidth=1)\n",
    "\n",
    "    plt.plot((right_bnd[:,0]-grid_org[0])/res,(right_bnd[:,1]-grid_org[1])/res, '-.',color='magenta',markersize=0.5, linewidth=0.5)\n",
    "\n",
    "\n",
    "    plt.plot((car_odo[0]-grid_org[0])/res,(car_odo[1]-grid_org[1])/res,'r*', color = 'red',markersize=8)\n",
    "\n",
    "\n",
    "    plt.legend(['Left bound', 'gt_init_path', 'gt_opt_path','right bound', 'car_centre'], loc='lower left')\n",
    "\n",
    "    plt.imshow(grid_map.astype(float),origin=\"lower\",cmap='jet')\n",
    "\n",
    "    return plt"
   ],
   "outputs": [],
   "metadata": {}
  },
  {
   "cell_type": "code",
   "execution_count": 17,
   "source": [
    "for features in parsed_dataset.skip(10).take(1):\n",
    "    for key in features.keys():\n",
    "        #if key != \"grid_map\":\n",
    "        print(f\"{key}: {np.shape(features[key].numpy())}\")\n",
    "        if key == \"grid_map\":\n",
    "            print(f\"{key}: {features[key].numpy()}\")\n",
    "\n",
    "    _ = plot_scene(features=features)"
   ],
   "outputs": [
    {
     "output_type": "stream",
     "name": "stdout",
     "text": [
      "car_odo: (3,)\n",
      "grid_map: (1536, 1536)\n",
      "grid_map: [[nan nan nan ... nan nan nan]\n",
      " [nan nan nan ... nan nan nan]\n",
      " [nan nan nan ... nan nan nan]\n",
      " ...\n",
      " [nan nan nan ... nan nan nan]\n",
      " [nan nan nan ... nan nan nan]\n",
      " [nan nan nan ... nan nan nan]]\n",
      "grid_org_res: (3,)\n",
      "init_path: (25, 2)\n",
      "left_bnd: (25, 2)\n",
      "opt_path: (25, 2)\n",
      "right_bnd: (25, 2)\n"
     ]
    },
    {
     "output_type": "display_data",
     "data": {
      "text/plain": [
       "<Figure size 504x504 with 1 Axes>"
      ],
      "image/png": "[encoded data removed]"
     },
     "metadata": {
      "needs_background": "light"
     }
    }
   ],
   "metadata": {}
  },
  {
   "cell_type": "code",
   "execution_count": null,
   "source": [],
   "outputs": [],
   "metadata": {}
  }
 ],
 "metadata": {
  "orig_nbformat": 4,
  "language_info": {
   "name": "python",
   "version": "3.8.0",
   "mimetype": "text/x-python",
   "codemirror_mode": {
    "name": "ipython",
    "version": 3
   },
   "pygments_lexer": "ipython3",
   "nbconvert_exporter": "python",
   "file_extension": ".py"
  },
  "kernelspec": {
   "name": "python3",
   "display_name": "Python 3.8.0 64-bit ('env_mt': conda)"
  },
  "interpreter": {
   "hash": "c8d0ec656e5d9378a37156be2b24f16488b2546b8a772b439e0e56117764b87a"
  }
 },
 "nbformat": 4,
 "nbformat_minor": 2
}