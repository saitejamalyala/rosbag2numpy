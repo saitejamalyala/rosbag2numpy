{
 "metadata": {
  "language_info": {
   "codemirror_mode": {
    "name": "ipython",
    "version": 3
   },
   "file_extension": ".py",
   "mimetype": "text/x-python",
   "name": "python",
   "nbconvert_exporter": "python",
   "pygments_lexer": "ipython3",
   "version": "3.7.8"
  },
  "orig_nbformat": 4,
  "kernelspec": {
   "name": "python3",
   "display_name": "Python 3.7.8 64-bit ('env_rosbag': venv)"
  },
  "interpreter": {
   "hash": "bbc9dda3e9e79c7f3242cc2df2a5d623228b80dc5b57011016029c4090ab57c9"
  }
 },
 "nbformat": 4,
 "nbformat_minor": 2,
 "cells": [
  {
   "cell_type": "code",
   "execution_count": 2,
   "source": [
    "import numpy as np\r\n",
    "import tensorflow as tf\r\n",
    "from glob import glob\r\n",
    "from typing import List,Dict\r\n",
    "from fnmatch import fnmatch\r\n",
    "import matplotlib.pyplot as plt\r\n",
    "import re\r\n",
    "import os\r\n",
    "print(tf.__version__)"
   ],
   "outputs": [
    {
     "output_type": "stream",
     "name": "stdout",
     "text": [
      "2.4.1\n"
     ]
    }
   ],
   "metadata": {}
  },
  {
   "cell_type": "code",
   "execution_count": null,
   "source": [
    "#root_path = r'D:\\sd_dynObj'\r\n",
    "file_pattern = '*_grid.npz'\r\n",
    "source_path = r'D:\\npz_files'\r\n",
    "\r\n",
    "tfrec_tgt_path = r'D:\\tf_records'\r\n",
    "_MAX_LENGTH =25\r\n",
    "\r\n",
    "# function to get files of same pattern\r\n",
    "def get_all_bag_paths(root:str,pattern:str)->List[str]:\r\n",
    "    list_file_paths=[]\r\n",
    "    for path, subdirs, files in os.walk(root):\r\n",
    "        for name in files:\r\n",
    "            if fnmatch(name, pattern):\r\n",
    "                list_file_paths.append((os.path.join(path, name)))\r\n",
    "\r\n",
    "    return sorted(list_file_paths)"
   ],
   "outputs": [],
   "metadata": {}
  },
  {
   "cell_type": "code",
   "execution_count": null,
   "source": [
    "all_grid_paths = get_all_bag_paths(source_path,pattern=file_pattern)\r\n",
    "all_init_paths = get_all_bag_paths(source_path,pattern=\"*_init_path.npz\")\r\n",
    "all_opt_paths = get_all_bag_paths(source_path,pattern=\"*_opt_path.npz\")\r\n",
    "all_lr_bnd_paths = get_all_bag_paths(source_path,pattern=\"*_lr_bnd.npz\")\r\n",
    "all_odo_paths = get_all_bag_paths(source_path,pattern=\"*_odo.npz\")"
   ],
   "outputs": [],
   "metadata": {}
  },
  {
   "cell_type": "code",
   "execution_count": null,
   "source": [
    "#all_odo_paths"
   ],
   "outputs": [],
   "metadata": {}
  },
  {
   "cell_type": "code",
   "execution_count": null,
   "source": [
    "print(len(all_grid_paths),len(all_init_paths),len(all_opt_paths),len(all_lr_bnd_paths),len(all_odo_paths))\r\n"
   ],
   "outputs": [],
   "metadata": {}
  },
  {
   "cell_type": "code",
   "execution_count": null,
   "source": [
    "assert len(all_grid_paths)==len(all_init_paths)==len(all_opt_paths)==len(all_lr_bnd_paths)==len(all_odo_paths)"
   ],
   "outputs": [],
   "metadata": {}
  },
  {
   "cell_type": "code",
   "execution_count": null,
   "source": [
    "def load_npz_data(file_path:str,array_name:str):\r\n",
    "    return np.load(file_path)[array_name]\r\n",
    "\r\n",
    "def get_names(path:str)->Dict[str,str]:\r\n",
    "    list_split_path=path.split(os.sep)\r\n",
    "    scene_name = list_split_path[-3]\r\n",
    "    folder_name = list_split_path[-2]\r\n",
    "    file_name = list_split_path[-1]\r\n",
    "    file_prefix = re.split(\"_nos\",file_name)[0]\r\n",
    "\r\n",
    "    return scene_name,folder_name,file_name,file_prefix\r\n",
    "\r\n",
    "print(type(np.int8))"
   ],
   "outputs": [],
   "metadata": {}
  },
  {
   "cell_type": "code",
   "execution_count": null,
   "source": [
    "file_idx = 0\r\n",
    "\r\n",
    "\r\n",
    "# Grid map== grid origin(samples==x==y)== grid resolution\r\n",
    "in_grid_map = load_npz_data((all_grid_paths[file_idx]),\"grid_data\")\r\n",
    "in_grid_map = (in_grid_map/127).astype(np.int8)\r\n",
    "\r\n",
    "in_grid_org_res = load_npz_data((all_grid_paths[file_idx]),\"grid_org_res\")\r\n",
    "in_grid_org_res = in_grid_org_res.astype(np.float32)\r\n",
    "\r\n",
    "#Load paths(initial and optimal) and boundaries(left and right)\r\n",
    "in_init_path = load_npz_data((all_init_paths[file_idx]),\"init_path\")\r\n",
    "in_init_path = in_init_path.astype(np.float32)\r\n",
    "\r\n",
    "out_opt_path = load_npz_data((all_opt_paths[file_idx]),\"opt_path\")\r\n",
    "out_opt_path = out_opt_path.astype(np.float32)\r\n",
    "\r\n",
    "in_left_bnd = load_npz_data((all_lr_bnd_paths[file_idx]),\"left_bnd\")\r\n",
    "in_left_bnd = in_left_bnd.astype(np.float32)\r\n",
    "in_right_bnd = load_npz_data((all_lr_bnd_paths[file_idx]),\"right_bnd\")\r\n",
    "in_right_bnd = in_right_bnd.astype(np.float32)\r\n",
    "\r\n",
    "#Car odometry\r\n",
    "in_car_odo = load_npz_data((all_odo_paths[file_idx]),\"odo_data\")\r\n",
    "in_car_odo = in_car_odo.astype(np.float32)\r\n",
    "\r\n",
    "try:\r\n",
    "    assert (\r\n",
    "        len(in_grid_map)==len(in_grid_org_res)==len(in_init_path)==len(out_opt_path)==len(in_left_bnd)==len(in_right_bnd)==len(in_car_odo)\r\n",
    "    )\r\n",
    "\r\n",
    "except AssertionError:\r\n",
    "    print(f\"Assertion error, all inputs and outputs are not of equal length\")\r\n",
    "\r\n",
    "scene_name,folder_name,file_name,file_prefix = get_names(all_grid_paths[file_idx])\r\n",
    "\r\n",
    "print(f\"\\n \\\r\n",
    "Grid map:{np.shape(in_grid_map)}\\n \\\r\n",
    "Grid Orig resol:{np.shape(in_grid_org_res)}\\n \\\r\n",
    "Init path:{np.shape(in_init_path)}\\n \\\r\n",
    "Opt Path:{np.shape(out_opt_path)}\\n \\\r\n",
    "Left bnd:{np.shape(in_left_bnd)}\\n \\\r\n",
    "Right bnd{np.shape(in_right_bnd)}\\n \\\r\n",
    "Car x,y,theta:{np.shape(in_car_odo)}\\n\")\r\n",
    "\r\n",
    "\r\n",
    "print(f\"{scene_name}\\n{folder_name}\\n{file_name}\\n{file_prefix}\")"
   ],
   "outputs": [],
   "metadata": {}
  },
  {
   "cell_type": "code",
   "execution_count": null,
   "source": [
    "#print(type(((in_grid_map[0,0,0]/127))))\r\n",
    "print(np.unique(in_grid_map[0]))\r\n",
    "plt.figure(figsize=(10,10))\r\n",
    "\r\n",
    "#integer_grid_map  = (in_grid_map/127).astype(np.int8)\r\n",
    "print(type(in_grid_map[0,0,0]))\r\n",
    "plt.imshow(in_grid_map[0],origin='lower')"
   ],
   "outputs": [],
   "metadata": {}
  },
  {
   "cell_type": "code",
   "execution_count": null,
   "source": [
    "import re\r\n",
    "scene_name = all_grid_paths[file_idx].split(\"\\\\\")[-3]\r\n",
    "folder_name = all_grid_paths[file_idx].split(\"\\\\\")[-2]\r\n",
    "file_name = all_grid_paths[file_idx].split(\"\\\\\")[-1]\r\n",
    "file_prefix = re.split(\"_nos\",file_name)[0]\r\n",
    "print(f\"{file_prefix}\\n {file_name}\")"
   ],
   "outputs": [],
   "metadata": {}
  },
  {
   "cell_type": "markdown",
   "source": [
    "# Convert to tf records"
   ],
   "metadata": {}
  },
  {
   "cell_type": "markdown",
   "source": [
    "## tf.train.example (serialization of data)"
   ],
   "metadata": {}
  },
  {
   "cell_type": "code",
   "execution_count": null,
   "source": [
    "def gridmap_feature(value):\r\n",
    "    \"\"\"Returns a bytes_list from a string / byte.\"\"\"\r\n",
    "    return tf.train.Feature(\r\n",
    "        bytes_list=tf.train.BytesList(value=[value.tostring()])\r\n",
    "    )\r\n",
    "\r\n",
    "def bytes_feature(value):\r\n",
    "    \"\"\"Returns a bytes_list from a string / byte.\"\"\"\r\n",
    "    return tf.train.Feature(bytes_list=tf.train.BytesList(value=[value.tostring()]))\r\n",
    "\r\n",
    "\r\n",
    "def float_feature(value):\r\n",
    "    \"\"\"Returns a float_list from a float / double.\"\"\"\r\n",
    "    return tf.train.Feature(float_list=tf.train.FloatList(value=[value]))\r\n",
    "\r\n",
    "\r\n",
    "def int64_feature(value):\r\n",
    "    \"\"\"Returns an int64_list from a bool / enum / int / uint.\"\"\"\r\n",
    "    return tf.train.Feature(int64_list=tf.train.Int64List(value=[value]))\r\n",
    "\r\n",
    "\r\n",
    "def float_feature_list(value):\r\n",
    "    \"\"\"Returns a list of float_list from a float / double.\"\"\"\r\n",
    "    return tf.train.Feature(float_list=tf.train.FloatList(value=value))\r\n",
    "\r\n",
    "\r\n",
    "def create_example(grid_map,grid_org_res,left_bnd,right_bnd,car_odo,init_path, opt_path):\r\n",
    "    feature = {\r\n",
    "        # model inputs\r\n",
    "        \"grid_map\": gridmap_feature(grid_map),\r\n",
    "        \"grid_org_res\":bytes_feature(grid_org_res),\r\n",
    "        \"left_bnd\": bytes_feature(left_bnd),\r\n",
    "        \"right_bnd\": bytes_feature(right_bnd),\r\n",
    "        \"car_odo\": bytes_feature(car_odo),\r\n",
    "        \"init_path\": bytes_feature(init_path),\r\n",
    "        # model outputs\r\n",
    "        \"opt_path\": bytes_feature(opt_path),\r\n",
    "        \r\n",
    "\r\n",
    "    }\r\n",
    "    return tf.train.Example(features=tf.train.Features(feature=feature))"
   ],
   "outputs": [],
   "metadata": {}
  },
  {
   "cell_type": "code",
   "execution_count": null,
   "source": [
    "assert (\r\n",
    "        len(in_grid_map)==len(in_grid_org_res)==len(in_init_path)==len(out_opt_path)==len(in_left_bnd)==len(in_right_bnd)==len(in_car_odo)\r\n",
    "    )"
   ],
   "outputs": [],
   "metadata": {}
  },
  {
   "cell_type": "code",
   "execution_count": null,
   "source": [
    "\r\n",
    "current_tfrec_dir = os.path.join(tfrec_tgt_path,scene_name,folder_name)\r\n",
    "print(current_tfrec_dir)\r\n",
    "num_samples = 16 #samples per record\r\n",
    "\r\n",
    "num_tfrecods = len(in_grid_map) // num_samples\r\n",
    "\r\n",
    "if len(in_grid_map) % num_samples:\r\n",
    "    num_tfrecods += 1  # add one record if there are any remaining samples\r\n",
    "\r\n",
    "if not os.path.exists(current_tfrec_dir):\r\n",
    "    os.makedirs(current_tfrec_dir)"
   ],
   "outputs": [],
   "metadata": {}
  },
  {
   "cell_type": "code",
   "execution_count": null,
   "source": [
    "import time\r\n",
    "from tqdm import trange\r\n",
    "\r\n",
    "start = time.time()\r\n",
    "for tfrec_num in range(num_tfrecods):\r\n",
    "    samples = in_grid_map[(tfrec_num * num_samples) : ((tfrec_num + 1) * num_samples)]\r\n",
    "\r\n",
    "    with tf.io.TFRecordWriter(\r\n",
    "        f\"{current_tfrec_dir}/{file_prefix}_file_{tfrec_num:02d}-{len(samples)}.tfrec\"\r\n",
    "    ) as writer:\r\n",
    "        for i in range(len(samples)):\r\n",
    "            #print(np.shape(np_init_path[i]))\r\n",
    "            example = create_example(in_grid_map[i],in_grid_org_res[i],in_left_bnd[i],in_right_bnd[i],in_car_odo[i],in_init_path[i],out_opt_path[i])\r\n",
    "            writer.write(example.SerializeToString())\r\n",
    "\r\n",
    "print(f\"\\n Time taken: {time.time()-start}\")"
   ],
   "outputs": [],
   "metadata": {}
  },
  {
   "cell_type": "markdown",
   "source": [
    "# Reading sample from tf record file"
   ],
   "metadata": {}
  },
  {
   "cell_type": "code",
   "execution_count": 3,
   "source": [
    "\r\n",
    "# function to contruct back from tf record example\r\n",
    "def prepare_sample(example):\r\n",
    "    example[\"grid_map\"] = tf.io.decode_raw(example[\"grid_map\"], out_type=tf.float16)\r\n",
    "    example[\"grid_map\"] = tf.reshape(example[\"grid_map\"],[1536,1536])\r\n",
    "    print(example[\"grid_map\"])\r\n",
    "\r\n",
    "    example[\"grid_org_res\"] = tf.io.decode_raw(example[\"grid_org_res\"], out_type=tf.float32)\r\n",
    "    #example[\"grid_org_res\"] = tf.reshape(example[\"grid_org_res\"],[1,3])\r\n",
    "\r\n",
    "    example[\"left_bnd\"] = tf.io.decode_raw(example[\"left_bnd\"], out_type=tf.float32)\r\n",
    "    example[\"left_bnd\"] = tf.reshape(example[\"left_bnd\"],[25,2])\r\n",
    "\r\n",
    "    example[\"right_bnd\"] = tf.io.decode_raw(example[\"right_bnd\"], out_type=tf.float32)\r\n",
    "    example[\"right_bnd\"] = tf.reshape(example[\"right_bnd\"],[25,2])\r\n",
    "\r\n",
    "    example[\"car_odo\"] = tf.io.decode_raw(example[\"car_odo\"], out_type=tf.float32)\r\n",
    "    #example[\"car_odo\"] = tf.reshape(example[\"car_odo\"],[1,3])\r\n",
    "\r\n",
    "    example[\"init_path\"] = tf.io.decode_raw(example[\"init_path\"], out_type=tf.float32)\r\n",
    "    example[\"init_path\"] = tf.reshape(example[\"init_path\"],[25,2])\r\n",
    "\r\n",
    "    example[\"opt_path\"] = tf.io.decode_raw(example[\"opt_path\"], out_type=tf.float32)\r\n",
    "    example[\"opt_path\"] = tf.reshape(example[\"opt_path\"],[25,2])\r\n",
    "    return example\r\n",
    "\r\n",
    "\r\n",
    "def parse_tfrecord_fn_ds(example):\r\n",
    "\r\n",
    "    # Dict of feature and their description\r\n",
    "    feature_description = {\r\n",
    "\r\n",
    "        # model inputs\r\n",
    "        \"grid_map\": tf.io.FixedLenFeature([], tf.string),\r\n",
    "        \"grid_org_res\": tf.io.FixedLenFeature([], tf.string),\r\n",
    "        \"left_bnd\": tf.io.FixedLenFeature([], tf.string),\r\n",
    "        \"right_bnd\": tf.io.FixedLenFeature([], tf.string),\r\n",
    "        \"car_odo\": tf.io.FixedLenFeature([], tf.string),\r\n",
    "        \"init_path\": tf.io.FixedLenFeature([], tf.string),\r\n",
    "        \r\n",
    "        #model ouput\r\n",
    "        \"opt_path\": tf.io.FixedLenFeature([], tf.string),\r\n",
    "\r\n",
    "    }\r\n",
    "\r\n",
    "    # Parse a single Example proto\r\n",
    "    example = tf.io.parse_single_example(example, feature_description)\r\n",
    "    return example"
   ],
   "outputs": [],
   "metadata": {}
  },
  {
   "cell_type": "code",
   "execution_count": 31,
   "source": [
    "#rec_path = r\"D:\\tf_records_w_costmap_dist_dir\\scenario_ph_11\\2021-07-22_10-10-30\\2021-07-22_10-10-30_0_file_00-16.tfrec\"\r\n",
    "# #r\"D:\\tf_records\\scenario8\\2021-06-10_15-43-05\\2021-06-10_15-43-06_0_file_02-16.tfrec\"\r\n",
    "rec_path = r'D:\\tf_records_w_costmap_dist_dir\\scenario3\\2021-06-10_11-20-31\\2021-06-10_11-20-32_0_file_02-16.tfrec'\r\n",
    "#r'D:\\tf_records_w_costmap_dist_dir\\scenario3\\2021-06-10_11-12-21\\2021-06-10_11-13-23_1_file_10-16.tfrec'\r\n",
    "#r\"D:\\testingcostmap\\scenario_ph_15\\2021-07-22_16-16-14\\2021-07-22_16-16-15_0_file_01-16.tfrec\"\r\n",
    "#r\"D:\\tf_records\\scenario8\\2021-06-10_15-43-05\\2021-06-10_15-43-06_0_file_02-16.tfrec\"\r\n",
    "\r\n",
    "sample_raw_ds = tf.data.TFRecordDataset(rec_path)\r\n",
    "#(r\"D:\\tf_records\\scenario1\\2021-06-10_08-54-06\\2021-06-10_08-54-07_0_file_00-16.tfrec\")\r\n",
    "\r\n",
    "parsed_dataset = sample_raw_ds.map(parse_tfrecord_fn_ds).map(prepare_sample)\r\n",
    "\r\n",
    "parsed_dataset.element_spec"
   ],
   "outputs": [
    {
     "output_type": "stream",
     "name": "stdout",
     "text": [
      "Tensor(\"Reshape:0\", shape=(1536, 1536), dtype=float16)\n"
     ]
    },
    {
     "output_type": "execute_result",
     "data": {
      "text/plain": [
       "{'car_odo': TensorSpec(shape=(None,), dtype=tf.float32, name=None),\n",
       " 'grid_map': TensorSpec(shape=(1536, 1536), dtype=tf.float16, name=None),\n",
       " 'grid_org_res': TensorSpec(shape=(None,), dtype=tf.float32, name=None),\n",
       " 'init_path': TensorSpec(shape=(25, 2), dtype=tf.float32, name=None),\n",
       " 'left_bnd': TensorSpec(shape=(25, 2), dtype=tf.float32, name=None),\n",
       " 'opt_path': TensorSpec(shape=(25, 2), dtype=tf.float32, name=None),\n",
       " 'right_bnd': TensorSpec(shape=(25, 2), dtype=tf.float32, name=None)}"
      ]
     },
     "metadata": {},
     "execution_count": 31
    }
   ],
   "metadata": {}
  },
  {
   "cell_type": "code",
   "execution_count": 32,
   "source": [
    "def plot_scene(features):    \r\n",
    "    grid_map = features[\"grid_map\"].numpy()\r\n",
    "    grid_org = features[\"grid_org_res\"].numpy()\r\n",
    "    left_bnd = features[\"left_bnd\"].numpy()\r\n",
    "    right_bnd = features[\"right_bnd\"].numpy()\r\n",
    "    init_path = features[\"init_path\"].numpy()\r\n",
    "    opt_path = features[\"opt_path\"].numpy()\r\n",
    "    car_odo = features[\"car_odo\"].numpy()\r\n",
    "\r\n",
    "    #print(type(grid_map))\r\n",
    "    plt.figure(figsize=(15, 15))\r\n",
    "    #ax=fig.add_subplot(1,1,1)\r\n",
    "\r\n",
    "    res = grid_org[2]\r\n",
    "    plt.plot((left_bnd[:,0]-grid_org[0])/res,(left_bnd[:,1]-grid_org[1])/res,'-.', color='magenta',markersize=0.5, linewidth=0.5)\r\n",
    "\r\n",
    "    plt.plot((init_path[:,0]-grid_org[0])/res,(init_path[:,1]-grid_org[1])/res,'o-', color='lawngreen',markersize=1, linewidth=1)\r\n",
    "    plt.plot((opt_path[:,0]-grid_org[0])/res,(opt_path[:,1]-grid_org[1])/res,'--', color='yellow',markersize=1, linewidth=1)\r\n",
    "\r\n",
    "    plt.plot((right_bnd[:,0]-grid_org[0])/res,(right_bnd[:,1]-grid_org[1])/res, '-.',color='magenta',markersize=0.5, linewidth=0.5)\r\n",
    "\r\n",
    "\r\n",
    "    plt.plot((car_odo[0]-grid_org[0])/res,(car_odo[1]-grid_org[1])/res,'r*', color = 'red',markersize=8)\r\n",
    "\r\n",
    "\r\n",
    "    plt.legend(['Left bound', 'gt_init_path', 'gt_opt_path','right bound', 'car_centre'], loc='lower left')\r\n",
    "\r\n",
    "    plt.imshow(grid_map.astype(float),origin=\"lower\",cmap='jet')\r\n",
    "    plt.colorbar()\r\n",
    "\r\n",
    "    return plt\r\n"
   ],
   "outputs": [],
   "metadata": {}
  },
  {
   "cell_type": "code",
   "execution_count": 33,
   "source": [
    "for features in parsed_dataset.skip(10).take(1):\r\n",
    "    for key in features.keys():\r\n",
    "        #if key != \"grid_map\":\r\n",
    "        #print(f\"{key}: {np.shape(features[key].numpy())}\")\r\n",
    "        if key=='grid_map':\r\n",
    "            print(f\"{key}: {type(features[key])}\")\r\n",
    "            #griddat = features[key].numpy()\r\n",
    "            pass\r\n",
    "    _ = plot_scene(features=features)\r\n",
    "    #fig_plot.savefig(\"test.jpg\",dpi=500)\r\n",
    "    #plt.show()\r\n",
    "    #plt.imshow(image,origin=\"lower\")\r\n",
    "    #plot_paths(ax,)\r\n",
    "    #plt.plot(init_path[:,0],init_path[:,1],'o-', color='red')\r\n",
    "    #plt.show()"
   ],
   "outputs": [
    {
     "output_type": "stream",
     "name": "stdout",
     "text": [
      "grid_map: <class 'tensorflow.python.framework.ops.EagerTensor'>\n"
     ]
    },
    {
     "output_type": "display_data",
     "data": {
      "image/png": "[encoded data removed]",
      "text/plain": [
       "<Figure size 720x720 with 2 Axes>"
      ]
     },
     "metadata": {
      "needs_background": "light"
     }
    }
   ],
   "metadata": {}
  },
  {
   "cell_type": "code",
   "execution_count": null,
   "source": [
    "#plt.imshow(griddat)"
   ],
   "outputs": [],
   "metadata": {}
  }
 ]
}