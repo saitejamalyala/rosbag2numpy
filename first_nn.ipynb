{
 "metadata": {
  "language_info": {
   "codemirror_mode": {
    "name": "ipython",
    "version": 3
   },
   "file_extension": ".py",
   "mimetype": "text/x-python",
   "name": "python",
   "nbconvert_exporter": "python",
   "pygments_lexer": "ipython3",
   "version": "3.7.8"
  },
  "orig_nbformat": 2,
  "kernelspec": {
   "name": "python378jvsc74a57bd0bbc9dda3e9e79c7f3242cc2df2a5d623228b80dc5b57011016029c4090ab57c9",
   "display_name": "Python 3.7.8 64-bit ('env_rosbag')"
  }
 },
 "nbformat": 4,
 "nbformat_minor": 2,
 "cells": [
  {
   "cell_type": "code",
   "execution_count": 68,
   "metadata": {},
   "outputs": [],
   "source": [
    "import numpy as np \n",
    "from sklearn.model_selection import train_test_split\n",
    "import utils_config"
   ]
  },
  {
   "cell_type": "code",
   "execution_count": 60,
   "metadata": {},
   "outputs": [],
   "source": [
    "np.random.seed(2021)"
   ]
  },
  {
   "source": [
    "## Load Data"
   ],
   "cell_type": "markdown",
   "metadata": {}
  },
  {
   "cell_type": "code",
   "execution_count": 61,
   "metadata": {},
   "outputs": [],
   "source": [
    "np_grid_data = np.load(r'C:\\Users\\Teja\\Documents\\_INFOTECH\\Thesis\\sample_Ros_bag\\rosbag2numpy\\_np_griddata.npy')\n",
    "np_init_path = np.load(r'C:\\Users\\Teja\\Documents\\_INFOTECH\\Thesis\\sample_Ros_bag\\rosbag2numpy\\_np_initpath.npy')\n",
    "np_opt_path = np.load(r'C:\\Users\\Teja\\Documents\\_INFOTECH\\Thesis\\sample_Ros_bag\\rosbag2numpy\\_np_optpath.npy')"
   ]
  },
  {
   "cell_type": "code",
   "execution_count": 62,
   "metadata": {},
   "outputs": [
    {
     "output_type": "stream",
     "name": "stdout",
     "text": [
      "Shape of grid data: (227, 1536, 1536)\nShape of init path: (227, 25, 2)\nShape of opt path: (227, 25, 2)\n"
     ]
    }
   ],
   "source": [
    "print(\"Shape of grid data:\",np.shape(np_grid_data))\n",
    "print(\"Shape of init path:\",np.shape(np_init_path))\n",
    "print(\"Shape of opt path:\",np.shape(np_opt_path))"
   ]
  },
  {
   "source": [
    "## Check Data balance "
   ],
   "cell_type": "markdown",
   "metadata": {}
  },
  {
   "cell_type": "code",
   "execution_count": 63,
   "metadata": {},
   "outputs": [
    {
     "output_type": "stream",
     "name": "stdout",
     "text": [
      "Paths that are similar: 207, which is 0.9118942731277533 of total data\nPaths that are dissimalar: 20,which is 0.0881057268722467 of total data\n"
     ]
    }
   ],
   "source": [
    "# Check Data Balance\n",
    "count=0\n",
    "\n",
    "for i in range(len(np_opt_path)):\n",
    "    if np.array_equal(np_opt_path[i],np_init_path[i]):\n",
    "        count +=1\n",
    "\n",
    "print(\"Paths that are similar: {}, which is {} of total data\".format(count,(count/len(np_init_path))))\n",
    "print(\"Paths that are dissimalar: {},which is {} of total data\".format((len(np_init_path)-count),((len(np_init_path)-count)/len(np_init_path))))"
   ]
  },
  {
   "source": [
    "## Build Data set"
   ],
   "cell_type": "markdown",
   "metadata": {}
  },
  {
   "cell_type": "code",
   "execution_count": 64,
   "metadata": {},
   "outputs": [],
   "source": [
    "# Split dataset\n",
    "train_grid,test_grid,train_init_path,test_init_path,train_opt_path,test_opt_path = train_test_split(np_grid_data,np_init_path,np_opt_path,random_state=np.random.randint(1),test_size=0.25)"
   ]
  },
  {
   "cell_type": "code",
   "execution_count": 65,
   "metadata": {},
   "outputs": [
    {
     "output_type": "stream",
     "name": "stdout",
     "text": [
      "Shape of training grid data: (170, 1536, 1536)\nShape of training init path: (170, 25, 2)\nShape of training opt path: (170, 25, 2)\n-----------------------------------------------------\nShape of testing grid data: (57, 1536, 1536)\nShape of testing init path: (57, 25, 2)\nShape of testing opt path: (57, 25, 2)\n"
     ]
    }
   ],
   "source": [
    "'''print sizes and shapes of testing and training data'''\n",
    "\n",
    "print(\"Shape of training grid data:\",np.shape(train_grid))\n",
    "print(\"Shape of training init path:\",np.shape(train_init_path))\n",
    "print(\"Shape of training opt path:\",np.shape(train_opt_path))\n",
    "print(\"-----------------------------------------------------\")\n",
    "print(\"Shape of testing grid data:\",np.shape(test_grid))\n",
    "print(\"Shape of testing init path:\",np.shape(test_init_path))\n",
    "print(\"Shape of testing opt path:\",np.shape(test_opt_path))"
   ]
  },
  {
   "cell_type": "code",
   "execution_count": 66,
   "metadata": {},
   "outputs": [],
   "source": [
    "def build_dataset(grid,init_path,opt_path,data_set_type):\n",
    "    \n",
    "    ds = tf.data.Dataset.from_tensor_slices((grid,init_path,opt_path))\n",
    "    \n",
    "    if data_set_type=='train':\n",
    "        p_var = data_set_type\n",
    "        print(\"####### Buildling {} data set ########\".format(p_var))\n",
    "        ds = ds.shuffle(utils_config.N_SHUFFLE_BUFFER)\n",
    "        ds = ds.cache()\n",
    "        #ds = ds.map(parse_func, num_parallel_calls = AUTOTUNE)\n",
    "    '''    \n",
    "    if not data_set_type=='train':\n",
    "        print(\"Buildling {} data set\".format(data_set_type))\n",
    "        ds = ds.cache()\n",
    "        ds = ds.map(parse_func, AUTOTUNE)\n",
    "    else:\n",
    "        ds = ds.batch(util_constants.N_BATCH_SIZE).prefetch(AUTOTUNE)\n",
    "    '''\n",
    "    print(ds.element_spec)\n",
    "    \n",
    "    return ds\n",
    "\n"
   ]
  },
  {
   "cell_type": "code",
   "execution_count": 67,
   "metadata": {},
   "outputs": [
    {
     "output_type": "error",
     "ename": "NameError",
     "evalue": "name 'tf' is not defined",
     "traceback": [
      "\u001b[1;31m---------------------------------------------------------------------------\u001b[0m",
      "\u001b[1;31mNameError\u001b[0m                                 Traceback (most recent call last)",
      "\u001b[1;32m<ipython-input-67-4e3b7b250a60>\u001b[0m in \u001b[0;36m<module>\u001b[1;34m\u001b[0m\n\u001b[1;32m----> 1\u001b[1;33m \u001b[0mds_train\u001b[0m \u001b[1;33m=\u001b[0m \u001b[0mbuild_dataset\u001b[0m\u001b[1;33m(\u001b[0m\u001b[0mtrain_grid\u001b[0m\u001b[1;33m,\u001b[0m\u001b[0mtrain_init_path\u001b[0m\u001b[1;33m,\u001b[0m\u001b[0mtrain_opt_path\u001b[0m\u001b[1;33m,\u001b[0m\u001b[1;34m'train'\u001b[0m\u001b[1;33m)\u001b[0m\u001b[1;33m\u001b[0m\u001b[1;33m\u001b[0m\u001b[0m\n\u001b[0m",
      "\u001b[1;32m<ipython-input-66-e9585f77abf2>\u001b[0m in \u001b[0;36mbuild_dataset\u001b[1;34m(grid, init_path, opt_path, data_set_type)\u001b[0m\n\u001b[0;32m      1\u001b[0m \u001b[1;32mdef\u001b[0m \u001b[0mbuild_dataset\u001b[0m\u001b[1;33m(\u001b[0m\u001b[0mgrid\u001b[0m\u001b[1;33m,\u001b[0m\u001b[0minit_path\u001b[0m\u001b[1;33m,\u001b[0m\u001b[0mopt_path\u001b[0m\u001b[1;33m,\u001b[0m\u001b[0mdata_set_type\u001b[0m\u001b[1;33m)\u001b[0m\u001b[1;33m:\u001b[0m\u001b[1;33m\u001b[0m\u001b[1;33m\u001b[0m\u001b[0m\n\u001b[0;32m      2\u001b[0m \u001b[1;33m\u001b[0m\u001b[0m\n\u001b[1;32m----> 3\u001b[1;33m     \u001b[0mds\u001b[0m \u001b[1;33m=\u001b[0m \u001b[0mtf\u001b[0m\u001b[1;33m.\u001b[0m\u001b[0mdata\u001b[0m\u001b[1;33m.\u001b[0m\u001b[0mDataset\u001b[0m\u001b[1;33m.\u001b[0m\u001b[0mfrom_tensor_slices\u001b[0m\u001b[1;33m(\u001b[0m\u001b[1;33m(\u001b[0m\u001b[0mgrid\u001b[0m\u001b[1;33m,\u001b[0m\u001b[0minit_path\u001b[0m\u001b[1;33m,\u001b[0m\u001b[0mopt_path\u001b[0m\u001b[1;33m)\u001b[0m\u001b[1;33m)\u001b[0m\u001b[1;33m\u001b[0m\u001b[1;33m\u001b[0m\u001b[0m\n\u001b[0m\u001b[0;32m      4\u001b[0m \u001b[1;33m\u001b[0m\u001b[0m\n\u001b[0;32m      5\u001b[0m     \u001b[1;32mif\u001b[0m \u001b[0mdata_set_type\u001b[0m\u001b[1;33m==\u001b[0m\u001b[1;34m'train'\u001b[0m\u001b[1;33m:\u001b[0m\u001b[1;33m\u001b[0m\u001b[1;33m\u001b[0m\u001b[0m\n",
      "\u001b[1;31mNameError\u001b[0m: name 'tf' is not defined"
     ]
    }
   ],
   "source": [
    "ds_train = build_dataset(train_grid,train_init_path,train_opt_path,'train')"
   ]
  },
  {
   "cell_type": "code",
   "execution_count": null,
   "metadata": {},
   "outputs": [],
   "source": []
  }
 ]
}