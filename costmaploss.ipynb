{
 "cells": [
  {
   "cell_type": "code",
   "execution_count": 214,
   "source": [
    "import tensorflow as tf\n",
    "import numpy as np\n",
    "import os\n",
    "import matplotlib.pyplot as plt\n",
    "from tensorflow.keras import backend as K\n",
    "os.environ[\"CUDA_VISIBLE_DEVICES\"] = \"5\""
   ],
   "outputs": [],
   "metadata": {}
  },
  {
   "cell_type": "code",
   "execution_count": 215,
   "source": [
    "# function to contruct back from tf record example\n",
    "def prepare_sample(example):\n",
    "    example[\"grid_map\"] = tf.io.decode_raw(example[\"grid_map\"], out_type=tf.float16)\n",
    "    example[\"grid_map\"] = tf.reshape(example[\"grid_map\"],[1536,1536])\n",
    "    print(example[\"grid_map\"])\n",
    "\n",
    "    example[\"grid_org_res\"] = tf.io.decode_raw(example[\"grid_org_res\"], out_type=tf.float32)\n",
    "    #example[\"grid_org_res\"] = tf.reshape(example[\"grid_org_res\"],[1,3])\n",
    "\n",
    "    example[\"left_bnd\"] = tf.io.decode_raw(example[\"left_bnd\"], out_type=tf.float32)\n",
    "    example[\"left_bnd\"] = tf.reshape(example[\"left_bnd\"],[25,2])\n",
    "\n",
    "    example[\"right_bnd\"] = tf.io.decode_raw(example[\"right_bnd\"], out_type=tf.float32)\n",
    "    example[\"right_bnd\"] = tf.reshape(example[\"right_bnd\"],[25,2])\n",
    "\n",
    "    example[\"car_odo\"] = tf.io.decode_raw(example[\"car_odo\"], out_type=tf.float32)\n",
    "    #example[\"car_odo\"] = tf.reshape(example[\"car_odo\"],[1,3])\n",
    "\n",
    "    example[\"init_path\"] = tf.io.decode_raw(example[\"init_path\"], out_type=tf.float32)\n",
    "    example[\"init_path\"] = tf.reshape(example[\"init_path\"],[25,2])\n",
    "\n",
    "    example[\"opt_path\"] = tf.io.decode_raw(example[\"opt_path\"], out_type=tf.float32)\n",
    "    example[\"opt_path\"] = tf.reshape(example[\"opt_path\"],[25,2])\n",
    "    return example\n",
    "\n",
    "def parse_tfrecord_fn_ds(example):\n",
    "\n",
    "    # Dict of feature and their description\n",
    "    feature_description = {\n",
    "\n",
    "        # model inputs\n",
    "        \"grid_map\": tf.io.FixedLenFeature([], tf.string),\n",
    "        \"grid_org_res\": tf.io.FixedLenFeature([], tf.string),\n",
    "        \"left_bnd\": tf.io.FixedLenFeature([], tf.string),\n",
    "        \"right_bnd\": tf.io.FixedLenFeature([], tf.string),\n",
    "        \"car_odo\": tf.io.FixedLenFeature([], tf.string),\n",
    "        \"init_path\": tf.io.FixedLenFeature([], tf.string),\n",
    "        \n",
    "        #model ouput\n",
    "        \"opt_path\": tf.io.FixedLenFeature([], tf.string),\n",
    "\n",
    "    }\n",
    "\n",
    "    # Parse a single Example proto\n",
    "    example = tf.io.parse_single_example(example, feature_description)\n",
    "    return example"
   ],
   "outputs": [],
   "metadata": {}
  },
  {
   "cell_type": "code",
   "execution_count": 216,
   "source": [
    "#grid_path = '/netpool/work/gpu-3/users/malyalasa/New_folder/rosbag2numpy/dataset/2021-06-10_14-25-32/2021-06-10_14-25-32_0_nos43_grid.npz'\n",
    "#init_data_path = '/netpool/work/gpu-3/users/malyalasa/New_folder/rosbag2numpy/dataset/2021-06-10_14-25-32/2021-06-10_14-25-32_0_nos43_init_path.npz'\n",
    "#opt_data_path = '/netpool/work/gpu-3/users/malyalasa/New_folder/rosbag2numpy/dataset/2021-06-10_14-25-32/2021-06-10_14-25-32_0_nos43_opt_path.npz'\n",
    "\n",
    "## Load sample tfrecord (with costmap based grids)\n",
    "tf_rec_smaple_path = '/bigpool/projects/yao_SCANGAN360/New_Folder/tf_records_w_costmap_dist_dir/scenario5/2021-06-10_14-25-32/2021-06-10_14-25-32_0_file_02-11.tfrec'\n",
    "sample_raw_ds = tf.data.TFRecordDataset(tf_rec_smaple_path)\n",
    "parsed_dataset = sample_raw_ds.map(parse_tfrecord_fn_ds).map(prepare_sample)\n",
    "parsed_dataset.element_spec"
   ],
   "outputs": [
    {
     "output_type": "stream",
     "name": "stdout",
     "text": [
      "Tensor(\"Reshape:0\", shape=(1536, 1536), dtype=float16)\n"
     ]
    },
    {
     "output_type": "execute_result",
     "data": {
      "text/plain": [
       "{'car_odo': TensorSpec(shape=(None,), dtype=tf.float32, name=None),\n",
       " 'grid_map': TensorSpec(shape=(1536, 1536), dtype=tf.float16, name=None),\n",
       " 'grid_org_res': TensorSpec(shape=(None,), dtype=tf.float32, name=None),\n",
       " 'init_path': TensorSpec(shape=(25, 2), dtype=tf.float32, name=None),\n",
       " 'left_bnd': TensorSpec(shape=(25, 2), dtype=tf.float32, name=None),\n",
       " 'opt_path': TensorSpec(shape=(25, 2), dtype=tf.float32, name=None),\n",
       " 'right_bnd': TensorSpec(shape=(25, 2), dtype=tf.float32, name=None)}"
      ]
     },
     "metadata": {},
     "execution_count": 216
    }
   ],
   "metadata": {}
  },
  {
   "cell_type": "code",
   "execution_count": 217,
   "source": [
    "def plot_scene(features):    \n",
    "    grid_map = features[\"grid_map\"].numpy()\n",
    "    grid_org = features[\"grid_org_res\"].numpy()\n",
    "    left_bnd = features[\"left_bnd\"].numpy()\n",
    "    right_bnd = features[\"right_bnd\"].numpy()\n",
    "    init_path = features[\"init_path\"].numpy()\n",
    "    opt_path = features[\"opt_path\"].numpy()\n",
    "    car_odo = features[\"car_odo\"].numpy()\n",
    "\n",
    "    #print(type(grid_map))\n",
    "    plt.figure(figsize=(10, 10),dpi=200)\n",
    "    #ax=fig.add_subplot(1,1,1)\n",
    "\n",
    "    res = grid_org[2]\n",
    "    plt.plot((left_bnd[:,0]-grid_org[0])/res,(left_bnd[:,1]-grid_org[1])/res,'-.', color='magenta',markersize=0.5, linewidth=0.5)\n",
    "\n",
    "    plt.plot((init_path[:,0]-grid_org[0])/res,(init_path[:,1]-grid_org[1])/res,'o-', color='lawngreen',markersize=1, linewidth=1)\n",
    "    plt.plot((opt_path[:,0]-grid_org[0])/res,(opt_path[:,1]-grid_org[1])/res,'--', color='yellow',markersize=1, linewidth=1)\n",
    "\n",
    "    plt.plot((right_bnd[:,0]-grid_org[0])/res,(right_bnd[:,1]-grid_org[1])/res, '-.',color='magenta',markersize=0.5, linewidth=0.5)\n",
    "\n",
    "\n",
    "    plt.plot((car_odo[0]-grid_org[0])/res,(car_odo[1]-grid_org[1])/res,'r*', color = 'red',markersize=8)\n",
    "\n",
    "\n",
    "    plt.legend(['Left bound', 'gt_init_path', 'gt_opt_path','right bound', 'car_centre'], loc='lower left')\n",
    "\n",
    "    plt.imshow(grid_map.astype(float),origin=\"lower\",cmap='jet')\n",
    "    plt.colorbar()\n",
    "\n",
    "    return plt\n"
   ],
   "outputs": [],
   "metadata": {}
  },
  {
   "cell_type": "code",
   "execution_count": 218,
   "source": [
    "data_pp={}\n",
    "for features in parsed_dataset.skip(10).take(1):\n",
    "    for key in features.keys():\n",
    "        #if key != \"grid_map\":\n",
    "        print(f\"{key}: {np.shape(features[key].numpy())}\")\n",
    "        data_pp[key] = features[key]\n",
    "        if key=='grid_map':\n",
    "            print(f\"{key}: {type(features[key])}\")\n",
    "    #_ = plot_scene(features=features)"
   ],
   "outputs": [
    {
     "output_type": "stream",
     "name": "stdout",
     "text": [
      "car_odo: (3,)\n",
      "grid_map: (1536, 1536)\n",
      "grid_map: <class 'tensorflow.python.framework.ops.EagerTensor'>\n",
      "grid_org_res: (3,)\n",
      "init_path: (25, 2)\n",
      "left_bnd: (25, 2)\n",
      "opt_path: (25, 2)\n",
      "right_bnd: (25, 2)\n"
     ]
    }
   ],
   "metadata": {}
  },
  {
   "cell_type": "code",
   "execution_count": 239,
   "source": [
    "#plt.figure(figsize=(10, 10),dpi=100)\n",
    "#plt.imshow(data_pp['grid_map'].numpy().astype(float),origin=\"lower\",cmap='jet')\n",
    "gridmap_idx=tf.where(data_pp[\"grid_map\"] >0.35)\n",
    "gridmap_idx = tf.cast(gridmap_idx,tf.float32)\n",
    "print(data_pp[\"grid_map\"].shape)\n",
    "\n",
    "gridmap_idx"
   ],
   "outputs": [
    {
     "output_type": "stream",
     "name": "stdout",
     "text": [
      "(1536, 1536)\n"
     ]
    },
    {
     "output_type": "execute_result",
     "data": {
      "text/plain": [
       "<tf.Tensor: shape=(4311, 2), dtype=float32, numpy=\n",
       "array([[ 580.,  797.],\n",
       "       [ 580.,  798.],\n",
       "       [ 581.,  799.],\n",
       "       ...,\n",
       "       [1089.,  764.],\n",
       "       [1089.,  765.],\n",
       "       [1089.,  766.]], dtype=float32)>"
      ]
     },
     "metadata": {},
     "execution_count": 239
    }
   ],
   "metadata": {}
  },
  {
   "cell_type": "code",
   "execution_count": 220,
   "source": [
    "gridmap_idx_int = tf.cast(gridmap_idx,dtype=tf.int32)\n",
    "cost_gather = tf.gather_nd(data_pp[\"grid_map\"],gridmap_idx_int)\n",
    "cost_gather"
   ],
   "outputs": [
    {
     "output_type": "execute_result",
     "data": {
      "text/plain": [
       "<tf.Tensor: shape=(4311,), dtype=float16, numpy=array([0.3784, 0.361 , 0.3718, ..., 0.3855, 0.3855, 0.3855], dtype=float16)>"
      ]
     },
     "metadata": {},
     "execution_count": 220
    }
   ],
   "metadata": {}
  },
  {
   "cell_type": "code",
   "execution_count": 221,
   "source": [
    "gridmap_idx_int = tf.cast(gridmap_idx,dtype=tf.int32)\n",
    "#cost_gridmap_idx = tf.e(shape=gridmap_idx_int.shape[0])\n",
    "#data_pp['grid_map'][580,797]\n",
    "\n",
    "costs_tensor = tf.convert_to_tensor([data_pp['grid_map'][gridmap_idx_int[i][0],gridmap_idx_int[i][1]] for i in range(gridmap_idx_int.shape[0])])\n",
    "costs_tensor = tf.cast(costs_tensor,dtype=tf.float32)\n",
    "costs_tensor"
   ],
   "outputs": [
    {
     "output_type": "execute_result",
     "data": {
      "text/plain": [
       "<tf.Tensor: shape=(4311,), dtype=float32, numpy=\n",
       "array([0.37841797, 0.36108398, 0.37182617, ..., 0.38549805, 0.38549805,\n",
       "       0.38549805], dtype=float32)>"
      ]
     },
     "metadata": {},
     "execution_count": 221
    }
   ],
   "metadata": {}
  },
  {
   "cell_type": "code",
   "execution_count": 223,
   "source": [
    "\n",
    "tf_init_path =((data_pp[\"init_path\"]-data_pp[\"grid_org_res\"][:2])/data_pp[\"grid_org_res\"][2])\n",
    "tf_opt_path = ((data_pp[\"opt_path\"]-data_pp[\"grid_org_res\"][:2])/data_pp[\"grid_org_res\"][2])\n",
    "tf_grid_map = data_pp[\"grid_map\"]\n",
    "tf_init_path\n"
   ],
   "outputs": [
    {
     "output_type": "execute_result",
     "data": {
      "text/plain": [
       "<tf.Tensor: shape=(25, 2), dtype=float32, numpy=\n",
       "array([[758.3725 , 595.9519 ],\n",
       "       [754.65857, 608.59467],\n",
       "       [751.3653 , 621.3199 ],\n",
       "       [748.74347, 634.1666 ],\n",
       "       [746.93445, 647.146  ],\n",
       "       [745.99457, 660.248  ],\n",
       "       [746.01245, 673.4674 ],\n",
       "       [746.03217, 686.6876 ],\n",
       "       [746.10535, 699.9163 ],\n",
       "       [745.857  , 713.0991 ],\n",
       "       [744.3494 , 726.15814],\n",
       "       [742.813  , 739.01624],\n",
       "       [739.9198 , 751.6684 ],\n",
       "       [739.9198 , 751.6684 ],\n",
       "       [739.9198 , 751.6684 ],\n",
       "       [739.9198 , 751.6684 ],\n",
       "       [739.9198 , 751.6684 ],\n",
       "       [739.9198 , 751.6684 ],\n",
       "       [739.9198 , 751.6684 ],\n",
       "       [739.9198 , 751.6684 ],\n",
       "       [739.9198 , 751.6684 ],\n",
       "       [739.9198 , 751.6684 ],\n",
       "       [739.9198 , 751.6684 ],\n",
       "       [739.9198 , 751.6684 ],\n",
       "       [739.9198 , 751.6684 ]], dtype=float32)>"
      ]
     },
     "metadata": {},
     "execution_count": 223
    }
   ],
   "metadata": {}
  },
  {
   "cell_type": "markdown",
   "source": [
    "## calculate opt path cost with respect to grid"
   ],
   "metadata": {}
  },
  {
   "cell_type": "code",
   "execution_count": 238,
   "source": [
    "#(tf.square((gridmap_idx - tf_init_path[0])))\n",
    "\n",
    "# for one point in path\n",
    "#print(gridmap_idx,tf_init_path)\n",
    "diff_sqr = K.square(gridmap_idx - tf_opt_path[5])\n",
    "dist = K.sqrt(K.sum(diff_sqr, axis=1))\n",
    "inv_dist = tf.math.reciprocal_no_nan(tf.math.pow(dist,0.1))\n",
    "print(inv_dist,\"\\n\",dist)\n",
    "\n",
    "net_cost_for_point = tf.reduce_sum(tf.multiply(inv_dist,costs_tensor))\n",
    "net_cost_for_point"
   ],
   "outputs": [
    {
     "output_type": "stream",
     "name": "stdout",
     "text": [
      "tf.Tensor([0.58444273 0.5842698  0.58430403 ... 0.5553526  0.55530757 0.5552622 ], shape=(4311,), dtype=float32) \n",
      " tf.Tensor([215.07048 215.7077  215.58138 ... 358.35345 358.64426 358.93762], shape=(4311,), dtype=float32)\n"
     ]
    },
    {
     "output_type": "execute_result",
     "data": {
      "text/plain": [
       "<tf.Tensor: shape=(), dtype=float32, numpy=1624.811>"
      ]
     },
     "metadata": {},
     "execution_count": 238
    }
   ],
   "metadata": {}
  },
  {
   "cell_type": "markdown",
   "source": [
    "## calculate init path cost with respect to grid"
   ],
   "metadata": {}
  },
  {
   "cell_type": "code",
   "execution_count": 235,
   "source": [
    "init_diff_sqr = K.square(gridmap_idx - tf_init_path[5])\n",
    "init_dist = K.sqrt(K.sum(init_diff_sqr, axis=1))\n",
    "init_inv_dist = tf.math.reciprocal_no_nan(tf.math.pow(init_dist,0.1))\n",
    "print(init_inv_dist,\"\\n\",init_dist)\n",
    "\n",
    "init_net_cost_for_point = tf.reduce_sum(tf.multiply(init_inv_dist,costs_tensor))\n",
    "init_net_cost_for_point"
   ],
   "outputs": [
    {
     "output_type": "stream",
     "name": "stdout",
     "text": [
      "tf.Tensor([0.58444273 0.5842698  0.58430403 ... 0.5553526  0.55530757 0.5552622 ], shape=(4311,), dtype=float32) \n",
      " tf.Tensor([215.07048 215.7077  215.58138 ... 358.35345 358.64426 358.93762], shape=(4311,), dtype=float32)\n"
     ]
    },
    {
     "output_type": "execute_result",
     "data": {
      "text/plain": [
       "<tf.Tensor: shape=(), dtype=float32, numpy=1624.811>"
      ]
     },
     "metadata": {},
     "execution_count": 235
    }
   ],
   "metadata": {}
  },
  {
   "cell_type": "code",
   "execution_count": 210,
   "source": [
    "init_dist_0 = tf.sqrt(tf.reduce_sum(tf.square(gridmap_idx-tf_init_path[0]),axis=1))"
   ],
   "outputs": [],
   "metadata": {}
  }
 ],
 "metadata": {
  "orig_nbformat": 4,
  "language_info": {
   "name": "python",
   "version": "3.8.0",
   "mimetype": "text/x-python",
   "codemirror_mode": {
    "name": "ipython",
    "version": 3
   },
   "pygments_lexer": "ipython3",
   "nbconvert_exporter": "python",
   "file_extension": ".py"
  },
  "kernelspec": {
   "name": "python3",
   "display_name": "Python 3.8.0 64-bit ('env_mt': conda)"
  },
  "interpreter": {
   "hash": "c8d0ec656e5d9378a37156be2b24f16488b2546b8a772b439e0e56117764b87a"
  }
 },
 "nbformat": 4,
 "nbformat_minor": 2
}