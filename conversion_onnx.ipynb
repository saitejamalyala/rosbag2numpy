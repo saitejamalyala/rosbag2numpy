{
 "metadata": {
  "language_info": {
   "codemirror_mode": {
    "name": "ipython",
    "version": 3
   },
   "file_extension": ".py",
   "mimetype": "text/x-python",
   "name": "python",
   "nbconvert_exporter": "python",
   "pygments_lexer": "ipython3",
   "version": "3.8.0"
  },
  "orig_nbformat": 4,
  "kernelspec": {
   "name": "python3",
   "display_name": "Python 3.8.0 64-bit ('env_mt': conda)"
  },
  "interpreter": {
   "hash": "c8d0ec656e5d9378a37156be2b24f16488b2546b8a772b439e0e56117764b87a"
  }
 },
 "nbformat": 4,
 "nbformat_minor": 2,
 "cells": [
  {
   "cell_type": "code",
   "execution_count": 1,
   "metadata": {},
   "outputs": [
    {
     "output_type": "stream",
     "name": "stdout",
     "text": [
      "Tensoflow Version: 2.3.0\nKeras Version: 2.4.0\n"
     ]
    }
   ],
   "source": [
    "import tensorflow as tf \n",
    "from tensorflow import keras\n",
    "import numpy as np\n",
    "import keras2onnx\n",
    "import onnxruntime\n",
    "print(f\"Tensoflow Version: {tf.__version__}\")\n",
    "print(f\"Keras Version: {keras.__version__}\")\n",
    "from models import endpoint_in_model\n",
    "from time import time"
   ]
  },
  {
   "source": [
    "## Convert keras model to onnx\n",
    "\n",
    "* Load Kers model\n",
    "* Convert to onnx format\n",
    "* Perform inference on onnx model\n",
    "* Benchmark for time"
   ],
   "cell_type": "markdown",
   "metadata": {}
  },
  {
   "cell_type": "code",
   "execution_count": 2,
   "metadata": {},
   "outputs": [],
   "source": [
    "# Loading keras model\n",
    "\n",
    "pp_model=tf.keras.models.load_model('/netpool/work/gpu-3/users/malyalasa/New_folder/wandb/run-20210627_124548-3rs0bk0s/files/model-best.h5',compile=False,custom_objects={'CustomMaskLayer':endpoint_in_model.CustomMaskLayer})\n"
   ]
  },
  {
   "cell_type": "code",
   "execution_count": 10,
   "metadata": {},
   "outputs": [
    {
     "output_type": "stream",
     "name": "stdout",
     "text": [
      "(1, 1536, 1536)(1, 3)(1, 25, 2)(1, 25, 2)(1, 3)(1, 25, 2)\n"
     ]
    }
   ],
   "source": [
    "# Load test data from numpy array\n",
    "\n",
    "test_np_array_path = '/netpool/work/gpu-3/users/malyalasa/New_folder/rosbag2numpy/dataset/test_dataset_allscene.npz'\n",
    "\n",
    "np_data = np.load(test_np_array_path,allow_pickle=True,mmap_mode='r')\n",
    "np_tst_gridmap=np_data[\"np_tst_gridmap\"][0],\n",
    "np_tst_grid_org_res=np_data[\"np_tst_grid_org_res\"][0],\n",
    "np_tst_left_bnd=np_data[\"np_tst_left_bnd\"][0],\n",
    "np_tst_right_bnd=np_data[\"np_tst_right_bnd\"][0],\n",
    "np_tst_car_odo=np_data[\"np_tst_car_odo\"][0],\n",
    "np_tst_init_path=np_data[\"np_tst_init_path\"][0],\n",
    "list_tst_file_details=np_data[\"list_tst_file_details\"],\n",
    "np_tst_opt_path=np_data[\"np_tst_opt_path\"]\n",
    "print(\n",
    "    f\"{np.shape(np_tst_gridmap)}{np.shape(np_tst_grid_org_res)}{np.shape(np_tst_left_bnd)}{np.shape(np_tst_right_bnd)}{np.shape(np_tst_car_odo)}{np.shape(np_tst_init_path)}\"\n",
    ")\n",
    "\n",
    "np_data.close()"
   ]
  },
  {
   "cell_type": "code",
   "execution_count": 11,
   "metadata": {},
   "outputs": [
    {
     "output_type": "stream",
     "name": "stdout",
     "text": [
      "(1, 1536, 1536, 1)- index 0\n(1, 3)- index 1\n(1, 25, 2)- index 2\n(1, 25, 2)- index 3\n(1, 3)- index 4\n(1, 25, 2)- index 5\n<class 'numpy.ndarray'>\n<class 'numpy.ndarray'>\n<class 'numpy.ndarray'>\n<class 'numpy.ndarray'>\n<class 'numpy.ndarray'>\n<class 'numpy.ndarray'>\n"
     ]
    },
    {
     "output_type": "execute_result",
     "data": {
      "text/plain": [
       "[None, None, None, None, None, None]"
      ]
     },
     "metadata": {},
     "execution_count": 11
    }
   ],
   "source": [
    "np_tst_gridmap = np.reshape(np_tst_gridmap,newshape=(1536,1536,1))\n",
    "np_tst_grid_org_res = np.reshape(np_tst_grid_org_res,newshape=(3,))\n",
    "np_tst_car_odo = np.reshape(np_tst_car_odo,newshape=(3,))\n",
    "inputs = [np_tst_gridmap.astype(np.float32),\n",
    "            np_tst_grid_org_res.astype(np.float32), np_tst_left_bnd[0].astype(np.float32),\n",
    "            np_tst_right_bnd[0].astype(np.float32), np_tst_car_odo.astype(np.float32), \n",
    "            np_tst_init_path[0].astype(np.float32)]\n",
    "\n",
    "inputs = [np.expand_dims(input_p,axis=0) for input_p in inputs]\n",
    "\n",
    "[print(f\"{np.shape(input)}- index {i}\") for i,input in enumerate(inputs)]\n",
    "[print(type(input)) for input in inputs]"
   ]
  },
  {
   "cell_type": "code",
   "execution_count": 14,
   "metadata": {},
   "outputs": [],
   "source": [
    "#np.shape(np_tst_gridmap[0])\n",
    "np.savez(\"/netpool/work/gpu-3/users/malyalasa/New_folder/rosbag2numpy/dataset/sample_gridmap.npz\",input_1=inputs[0],Grid_origin_res=inputs[1],\n",
    "Left_boundary=inputs[2],Right_boundary=inputs[3],Car_loc=inputs[4],initial_path=inputs[5])\n"
   ]
  },
  {
   "cell_type": "code",
   "execution_count": 6,
   "metadata": {},
   "outputs": [
    {
     "output_type": "stream",
     "name": "stderr",
     "text": [
      "tf executing eager_mode: True\n",
      "tf.keras model eager_mode: False\n",
      "The ONNX operator number change on the optimization: 87 -> 39\n"
     ]
    }
   ],
   "source": [
    "# create onnxruntime session\n",
    "# convert to onnx format\n",
    "\n",
    "onnx_model = keras2onnx.convert_keras(pp_model, pp_model.name)\n",
    "content = onnx_model.SerializeToString()\n",
    "sess = onnxruntime.InferenceSession(content)"
   ]
  },
  {
   "cell_type": "code",
   "execution_count": 7,
   "metadata": {},
   "outputs": [
    {
     "output_type": "execute_result",
     "data": {
      "text/plain": [
       "'\\ninputs[0] = sess.get_inputs()[0].name\\ninputs[1] = sess.get_inputs()[1].name\\ninputs[2] = sess.get_inputs()[2].name\\ninputs[3] = sess.get_inputs()[3].name\\ninputs[4] = sess.get_inputs()[4].name\\ninputs[5] = sess.get_inputs()[5].name\\n\\n'"
      ]
     },
     "metadata": {},
     "execution_count": 7
    }
   ],
   "source": [
    "x = [np_tst_gridmap,np_tst_grid_org_res,np_tst_left_bnd,np_tst_right_bnd,np_tst_car_odo,np_tst_init_path]\n",
    "\n",
    "\n",
    "np_tst_gridmap = sess.get_inputs()[0].name\n",
    "np_tst_grid_org_res = sess.get_inputs()[1].name\n",
    "np_tst_left_bnd = sess.get_inputs()[2].name\n",
    "np_tst_right_bnd = sess.get_inputs()[3].name\n",
    "np_tst_car_odo = sess.get_inputs()[4].name\n",
    "np_tst_init_path = sess.get_inputs()[5].name\n",
    "\n",
    "#input_name_X = sess.get_inputs()[6].name\n",
    "\n",
    "\"\"\"\n",
    "inputs[0] = sess.get_inputs()[0].name\n",
    "inputs[1] = sess.get_inputs()[1].name\n",
    "inputs[2] = sess.get_inputs()[2].name\n",
    "inputs[3] = sess.get_inputs()[3].name\n",
    "inputs[4] = sess.get_inputs()[4].name\n",
    "inputs[5] = sess.get_inputs()[5].name\n",
    "\n",
    "\"\"\"\n"
   ]
  },
  {
   "cell_type": "code",
   "execution_count": 8,
   "metadata": {},
   "outputs": [
    {
     "output_type": "stream",
     "name": "stdout",
     "text": [
      "Latency for prediction:0.024233579635620117\n"
     ]
    }
   ],
   "source": [
    "#x = x if isinstance(x, list) else [x]\n",
    "\n",
    "#feed = dict([(input.name, x[n]) for n, input in enumerate(sess.get_inputs())])\n",
    "output_name = sess.get_outputs()[0].name\n",
    "\n",
    "start = time()\n",
    "pred_onnx = sess.run([output_name], {np_tst_gridmap:inputs[0],\n",
    "                            np_tst_grid_org_res:inputs[1],\n",
    "                            np_tst_left_bnd:inputs[2],\n",
    "                            np_tst_right_bnd:inputs[3],\n",
    "                            np_tst_car_odo:inputs[4],\n",
    "                            np_tst_init_path:inputs[5],})\n",
    "end = time()                            \n",
    "print(f\"Latency for prediction:{end-start}\")"
   ]
  },
  {
   "cell_type": "code",
   "execution_count": 13,
   "metadata": {},
   "outputs": [
    {
     "output_type": "stream",
     "name": "stdout",
     "text": [
      "[[ 352.15952 -668.8621 ]\n [ 351.0937  -670.61884]\n [ 349.85403 -672.3463 ]\n [ 348.70724 -674.0468 ]\n [ 348.0208  -675.7516 ]\n [ 347.5078  -676.9351 ]\n [ 347.2672  -677.4874 ]\n [ 347.26413 -677.4262 ]\n [ 347.3713  -677.1948 ]\n [ 347.36798 -677.3059 ]\n [ 347.48407 -677.4504 ]\n [ 347.2786  -677.55176]\n [ 347.27347 -677.3949 ]\n [ 347.40048 -677.50415]\n [ 347.3344  -677.27167]\n [ 347.5138  -677.21344]\n [ 347.4646  -677.01465]\n [ 347.55908 -677.16235]\n [ 347.6316  -677.1131 ]\n [ 347.7598  -677.245  ]\n [ 347.59314 -677.27155]\n [ 347.61435 -677.24207]\n [ 347.53418 -677.0556 ]\n [ 347.46274 -677.2111 ]\n [ 347.4775  -677.29553]]\n"
     ]
    }
   ],
   "source": [
    "\"\"\" Print predictions from onnx model \"\"\"\n",
    "print(pred_onnx[0][0])"
   ]
  },
  {
   "cell_type": "code",
   "execution_count": 58,
   "metadata": {},
   "outputs": [],
   "source": [
    "\"\"\" Save Model in ONNX format \"\"\"\n",
    "\n",
    "#temp_model_file = 'trained_models/run-20210627_124548-3rs0bk0s_model-best.onnx'\n",
    "#keras2onnx.save_model(onnx_model, temp_model_file)"
   ]
  },
  {
   "cell_type": "code",
   "execution_count": 26,
   "metadata": {},
   "outputs": [],
   "source": [
    "# visualize activations\n",
    "\n",
    "#np.savez(\"/netpool/work/gpu-3/users/malyalasa/New_folder/rosbag2numpy/dataset/sample_gridmap.npz\",input_1=inputs[0],Grid_origin_res=inputs[1],\n",
    "#Left_boundary=inputs[2],Right_boundary=inputs[3],Car_loc=inputs[4],initial_path=inputs[5])\n",
    "\n"
   ]
  },
  {
   "cell_type": "code",
   "execution_count": 7,
   "metadata": {},
   "outputs": [],
   "source": [
    "data = np.load('/netpool/work/gpu-3/users/malyalasa/New_folder/rosbag2numpy/dataset/sample_gridmap.npz')\n",
    "input_sample = [data[f'{file}'] for file in data.files]"
   ]
  },
  {
   "cell_type": "code",
   "execution_count": 13,
   "metadata": {},
   "outputs": [
    {
     "output_type": "execute_result",
     "data": {
      "text/plain": [
       "array([[[[0.],\n",
       "         [0.],\n",
       "         [0.],\n",
       "         ...,\n",
       "         [0.],\n",
       "         [0.],\n",
       "         [0.]],\n",
       "\n",
       "        [[0.],\n",
       "         [0.],\n",
       "         [0.],\n",
       "         ...,\n",
       "         [0.],\n",
       "         [0.],\n",
       "         [0.]],\n",
       "\n",
       "        [[0.],\n",
       "         [0.],\n",
       "         [0.],\n",
       "         ...,\n",
       "         [0.],\n",
       "         [0.],\n",
       "         [0.]],\n",
       "\n",
       "        ...,\n",
       "\n",
       "        [[0.],\n",
       "         [0.],\n",
       "         [0.],\n",
       "         ...,\n",
       "         [0.],\n",
       "         [0.],\n",
       "         [0.]],\n",
       "\n",
       "        [[0.],\n",
       "         [0.],\n",
       "         [0.],\n",
       "         ...,\n",
       "         [0.],\n",
       "         [0.],\n",
       "         [0.]],\n",
       "\n",
       "        [[0.],\n",
       "         [0.],\n",
       "         [0.],\n",
       "         ...,\n",
       "         [0.],\n",
       "         [0.],\n",
       "         [0.]]]], dtype=float32)"
      ]
     },
     "metadata": {},
     "execution_count": 13
    }
   ],
   "source": []
  },
  {
   "cell_type": "code",
   "execution_count": null,
   "metadata": {},
   "outputs": [],
   "source": []
  }
 ]
}