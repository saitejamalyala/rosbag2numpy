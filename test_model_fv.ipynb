{
 "cells": [
  {
   "cell_type": "code",
   "execution_count": 32,
   "source": [
    "import os\n",
    "import sys\n",
    "sys.path.append(\"../\")\n",
    "\n",
    "import tensorflow as tf\n",
    "from glob import glob\n",
    "from typing import List\n",
    "from matplotlib import pyplot as plt\n",
    "import numpy as np\n",
    "from numpy import ndarray\n",
    "from typing import Dict, List, Union\n",
    "from rosbag2numpy import config as params\n",
    "from rosbag2numpy.data_processing.data_loader_fv import dataset_loader\n",
    "import time\n",
    "from tqdm import trange\n",
    "from rosbag2numpy import SEED\n",
    "from typing import List\n",
    "print(tf.__version__)\n",
    "tf.random.set_seed(SEED)\n",
    "os.environ[\"CUDA_VISIBLE_DEVICES\"] = \"3\""
   ],
   "outputs": [
    {
     "output_type": "stream",
     "name": "stdout",
     "text": [
      "2.3.0\n"
     ]
    }
   ],
   "metadata": {}
  },
  {
   "cell_type": "markdown",
   "source": [
    "## Load data set"
   ],
   "metadata": {}
  },
  {
   "cell_type": "code",
   "execution_count": 4,
   "source": [
    "ds_loader = dataset_loader(\n",
    "    tfrec_dir=params.get(\"data_dir\"),\n",
    "    #'/bigpool/projects/yao_SCANGAN360/New_Folder/tf_records_w_bgm_fv_diff_unequal',#params.get(\"data_dir\"),\n",
    "    batch_size=32,\n",
    "    shuffle_buffer=3200,\n",
    "    normalize_coords=True,\n",
    "    normalize_factor=1536.0\n",
    ")\n",
    "ds_train, ds_valid, ds_test, ds_test_all = ds_loader.build_scenario_dataset(no_train_scene=8,no_valid_scene=1,no_test_scene=1)"
   ],
   "outputs": [
    {
     "output_type": "stream",
     "name": "stdout",
     "text": [
      "Scenarios:['/bigpool/projects/yao_SCANGAN360/New_Folder/tf_records_w_cm_fv_diff_unequal/scenario1', '/bigpool/projects/yao_SCANGAN360/New_Folder/tf_records_w_cm_fv_diff_unequal/scenario2', '/bigpool/projects/yao_SCANGAN360/New_Folder/tf_records_w_cm_fv_diff_unequal/scenario3', '/bigpool/projects/yao_SCANGAN360/New_Folder/tf_records_w_cm_fv_diff_unequal/scenario4', '/bigpool/projects/yao_SCANGAN360/New_Folder/tf_records_w_cm_fv_diff_unequal/scenario5', '/bigpool/projects/yao_SCANGAN360/New_Folder/tf_records_w_cm_fv_diff_unequal/scenario_ph_11', '/bigpool/projects/yao_SCANGAN360/New_Folder/tf_records_w_cm_fv_diff_unequal/scenario_ph_12', '/bigpool/projects/yao_SCANGAN360/New_Folder/tf_records_w_cm_fv_diff_unequal/scenario_ph_13', '/bigpool/projects/yao_SCANGAN360/New_Folder/tf_records_w_cm_fv_diff_unequal/scenario_ph_14', '/bigpool/projects/yao_SCANGAN360/New_Folder/tf_records_w_cm_fv_diff_unequal/scenario_ph_15']\n",
      "Test scenario:['/bigpool/projects/yao_SCANGAN360/New_Folder/tf_records_w_cm_fv_diff_unequal/scenario_ph_15']\n",
      "Building Dataset.......\n",
      "\n",
      "Number of records, Train files:91, validation files:13, Test Files:16 \n",
      "\n",
      "train,valid,test: (TensorSpec(shape=(None, 25, 1040), dtype=tf.float32, name=None), TensorSpec(shape=(None, 25, 2), dtype=tf.float32, name=None))\n",
      "Test set with all data: ((TensorSpec(shape=(None, 25, 1040), dtype=tf.float32, name=None), TensorSpec(shape=(None, 1536, 1536), dtype=tf.float16, name=None), TensorSpec(shape=(None, 25, 2), dtype=tf.float32, name=None), TensorSpec(shape=(None, 25, 2), dtype=tf.float32, name=None), TensorSpec(shape=(None, None), dtype=tf.float32, name=None), TensorSpec(shape=(None,), dtype=tf.string, name=None)), TensorSpec(shape=(None, 25, 2), dtype=tf.float32, name=None))\n"
     ]
    }
   ],
   "metadata": {}
  },
  {
   "cell_type": "markdown",
   "source": [
    "## Numpy data for test set and visual inspection"
   ],
   "metadata": {}
  },
  {
   "cell_type": "code",
   "execution_count": 5,
   "source": [
    "def _get_test_ds_size(ds_test) -> int:\n",
    "    \"\"\"get the size of test dataset\n",
    "\n",
    "    Args:\n",
    "        ds_test (tf.data.Dataset): [description]\n",
    "\n",
    "    Returns:\n",
    "        [int]: [Number of Samples inside dataset]\n",
    "    \"\"\"\n",
    "    num_of_samples = 0\n",
    "    # Looping through all batches in test dataset\n",
    "    for input_batch, output_batch in ds_test:\n",
    "        # Looping through all samples for a single (current) batch\n",
    "        #print(input_batch[0].numpy().shape)\n",
    "        for _ in range(0, len(input_batch[0].numpy())):\n",
    "            num_of_samples += 1\n",
    "    return num_of_samples\n",
    "\n",
    "def get_np_test_ds(ds_test) -> Dict[str, Union[ndarray, List]]:\n",
    "    \"\"\"Test dataset (in tf.data.Dataset build) to numpy arrays\n",
    "\n",
    "    Args:\n",
    "        ds_test ([type]): tf.data.Dataset\n",
    "\n",
    "    Returns:\n",
    "        Dict[str,Union[ndarray,List]]: dictionary of feature_vector,costmap,init_path,opt_path,car_odo,file_details,unequal_indices, diff_path\n",
    "    \"\"\"\n",
    "    samples = _get_test_ds_size(ds_test)\n",
    "    np_tst_feature_vector = np.zeros(shape=(samples,25,1040))\n",
    "    np_tst_costmap = np.zeros(shape=(samples, 1536, 1536)).astype(np.float16)\n",
    "    \n",
    "    #np_tst_left_bnd = np.zeros(shape=(samples, 25, 2))\n",
    "    #np_tst_right_bnd = np.zeros(shape=(samples, 25, 2))\n",
    "    np_tst_car_odo = np.zeros(shape=(samples, 2))\n",
    "    np_tst_init_path = np.zeros(shape=(samples, 25, 2))\n",
    "    np_tst_opt_path = np.zeros(shape=(samples, 25, 2))\n",
    "    list_tst_file_details = []\n",
    "\n",
    "    #list_unequal_indices = []\n",
    "\n",
    "    #output\n",
    "    np_tst_diff_path = np.zeros(shape=(samples, 25, 2))\n",
    "\n",
    "    j = 0\n",
    "    for input_batch, output_batch in ds_test:\n",
    "\n",
    "        for i in range(len(input_batch[0].numpy())):\n",
    "            np_tst_feature_vector[j] = input_batch[0][i].numpy()\n",
    "            np_tst_costmap[j] = input_batch[1][i].numpy().astype(np.float16)\n",
    "            #np_tst_grid_org_res[j] = input_batch[1][i].numpy()\n",
    "            #np_tst_left_bnd[j] = input_batch[2][i].numpy()\n",
    "            #np_tst_right_bnd[j] = input_batch[3][i].numpy()\n",
    "            np_tst_init_path[j] = input_batch[2][i].numpy()\n",
    "            np_tst_opt_path[j] = input_batch[3][i].numpy()\n",
    "            np_tst_car_odo[j] = input_batch[4][i].numpy()\n",
    "            list_tst_file_details.append(input_batch[5][i])\n",
    "            #list_unequal_indices.append(input_batch[6][i])\n",
    "\n",
    "            #np_tst_opt_path[j] = output_batch[i].numpy()\n",
    "            np_tst_diff_path[j] = output_batch[i].numpy()\n",
    "            j = j + 1\n",
    "\n",
    "    np_ds_test = {\n",
    "        \"feature_vector\": np_tst_feature_vector,\n",
    "        \"cost_map\": np_tst_costmap,\n",
    "        #\"grid_org_res\": np_tst_grid_org_res,\n",
    "        #\"left_bnd\": np_tst_left_bnd,\n",
    "        #\"right_bnd\": np_tst_right_bnd,\n",
    "        \"init_path\": np_tst_init_path,\n",
    "        \"opt_path\": np_tst_opt_path,\n",
    "        \"car_odo\": np_tst_car_odo,\n",
    "        \"file_details\": list_tst_file_details,\n",
    "        #\"unequal_indices\": list_unequal_indices,\n",
    "        \"diff_path\": np_tst_diff_path,\n",
    "\n",
    "    }\n",
    "\n",
    "    # np_tst_gridmap,np_tst_grid_org_res,np_tst_left_bnd,np_tst_right_bnd,np_tst_car_odo,np_tst_init_path,list_tst_file_details,np_tst_opt_path\n",
    "    return np_ds_test\n",
    "\n",
    "np_test_ds_all = get_np_test_ds(ds_test=ds_test_all)\n",
    "\n",
    "cost_map = np_test_ds_all[\"cost_map\"]\n",
    "feature_v = np_test_ds_all[\"feature_vector\"]\n",
    "init_path = np_test_ds_all[\"init_path\"]\n",
    "opt_path = np_test_ds_all[\"opt_path\"]\n",
    "car_odo = np_test_ds_all[\"car_odo\"]\n",
    "file_details = np_test_ds_all[\"file_details\"]\n",
    "diff_path = np_test_ds_all[\"diff_path\"]"
   ],
   "outputs": [],
   "metadata": {}
  },
  {
   "cell_type": "markdown",
   "source": [
    "## Load pretrained model"
   ],
   "metadata": {}
  },
  {
   "cell_type": "code",
   "execution_count": 73,
   "source": [
    "wandbmodel_path = '/netpool/work/gpu-3/users/malyalasa/New_folder/rosbag2numpy/wandb/run-20210925_083501-7b6nj1fr/files/model-best.h5'\n",
    "#'/netpool/work/gpu-3/users/malyalasa/New_folder/rosbag2numpy/wandb/run-20210925_083501-7b6nj1fr/files/model-best.h5' (breezy-sweep-15)\n",
    "#'/netpool/work/gpu-3/users/malyalasa/New_folder/rosbag2numpy/wandb/run-20210925_080546-xoxoxow6/files/model-best.h5' (prime-sweep-5)\n",
    "#'/netpool/work/gpu-3/users/malyalasa/New_folder/rosbag2numpy/wandb/run-20210924_031631-lhsjbn8r/files/model-best.h5' (laced-sweep-28)\n",
    "#'/netpool/work/gpu-3/users/malyalasa/New_folder/rosbag2numpy/wandb/run-20210922_162541-2bwn3ku4/files/model-best.h5'  (iconic-silence- , hybrid (2,2))\n",
    "#'/netpool/work/gpu-3/users/malyalasa/New_folder/wandb/run-20210922_010110-1sb0es02/files/model-best.h5' (quiet-meadow-14, LSTM (25,50))\n",
    "#'/netpool/work/gpu-3/users/malyalasa/New_folder/wandb/run-20210921_225739-3tq5o6wv/files/model-best.h5' (noble-ebergy-9,bidiLSTM)\n",
    "#'/netpool/work/gpu-3/users/malyalasa/New_folder/wandb/run-20210921_223929-2789gz0e/files/model-best.h5' (dark-energy-TDD-64)\n",
    "#'/netpool/work/gpu-3/users/malyalasa/New_folder/rosbag2numpy/wandb/run-20210922_154305-30js7pw0/files/model-best.h5' (divine-snow-LSTM(2,50))\n",
    "\n",
    "all_model_paths = ['/netpool/work/gpu-3/users/malyalasa/New_folder/rosbag2numpy/wandb/run-20210925_083501-7b6nj1fr/files/model-best.h5' , \n",
    "'/netpool/work/gpu-3/users/malyalasa/New_folder/rosbag2numpy/wandb/run-20210925_080546-xoxoxow6/files/model-best.h5' ,\n",
    "'/netpool/work/gpu-3/users/malyalasa/New_folder/rosbag2numpy/wandb/run-20210924_031631-lhsjbn8r/files/model-best.h5' ,\n",
    "'/netpool/work/gpu-3/users/malyalasa/New_folder/rosbag2numpy/wandb/run-20210922_162541-2bwn3ku4/files/model-best.h5'  ,\n",
    "'/netpool/work/gpu-3/users/malyalasa/New_folder/wandb/run-20210922_010110-1sb0es02/files/model-best.h5' ,\n",
    "'/netpool/work/gpu-3/users/malyalasa/New_folder/wandb/run-20210921_225739-3tq5o6wv/files/model-best.h5' ,\n",
    "'/netpool/work/gpu-3/users/malyalasa/New_folder/wandb/run-20210921_223929-2789gz0e/files/model-best.h5' ,\n",
    "'/netpool/work/gpu-3/users/malyalasa/New_folder/rosbag2numpy/wandb/run-20210922_154305-30js7pw0/files/model-best.h5' ]\n",
    "\n",
    "load_wandb  = tf.keras.models.load_model(wandbmodel_path)\n",
    "predictions = load_wandb.predict(feature_v)\n",
    "predicted_paths = init_path - predictions\n",
    "predicted_paths.shape\n",
    "np.shape(np.expand_dims(feature_v[0],axis=0))\n",
    "\n",
    "len(all_model_paths)\n"
   ],
   "outputs": [
    {
     "output_type": "execute_result",
     "data": {
      "text/plain": [
       "8"
      ]
     },
     "metadata": {},
     "execution_count": 73
    }
   ],
   "metadata": {}
  },
  {
   "cell_type": "markdown",
   "source": [
    "## profile predict function "
   ],
   "metadata": {}
  },
  {
   "cell_type": "code",
   "execution_count": 89,
   "source": [
    "def profile_predict():\n",
    "    load_wandb.predict(feature_v)\n",
    "\n",
    "%load_ext line_profiler\n",
    "\n",
    "%lprun -f profile_predict profile_predict()\n"
   ],
   "outputs": [
    {
     "output_type": "stream",
     "name": "stdout",
     "text": [
      "The line_profiler extension is already loaded. To reload it, use:\n",
      "  %reload_ext line_profiler\n"
     ]
    },
    {
     "output_type": "stream",
     "name": "stdout",
     "text": [
      "Timer unit: 1e-06 s\n",
      "\n",
      "Total time: 0.163236 s\n",
      "File: <ipython-input-89-bb3b8e5812e9>\n",
      "Function: profile_predict at line 1\n",
      "\n",
      "Line #      Hits         Time  Per Hit   % Time  Line Contents\n",
      "==============================================================\n",
      "     1                                           def profile_predict():\n",
      "     2         1     163236.0 163236.0    100.0      load_wandb.predict(feature_v)"
     ]
    }
   ],
   "metadata": {}
  },
  {
   "cell_type": "markdown",
   "source": [
    "## Saving keras model"
   ],
   "metadata": {}
  },
  {
   "cell_type": "code",
   "execution_count": 5,
   "source": [
    "# Saving keras models\n",
    "#step 1\n",
    "# serialize model to json(no weights, only structure)\n",
    "\"\"\"\n",
    "with open('best_model.json','w') as f:\n",
    "    f.write(pp_model.to_json())\n",
    "\"\"\"\n",
    "#step 2\n",
    "\"\"\"\n",
    "pp_model.save_weights('best_keras_weights.h5')\n",
    "\"\"\"\n",
    "\n",
    "#step 3\n",
    "# Load serialized model from json(contains no weights only structue)\n",
    "\n",
    "\"\"\"json_file = open('best_model.json', 'r')\n",
    "loaded_model_json = json_file.read()\n",
    "json_file.close()\n",
    "pp_model = tf.keras.models.model_from_json(loaded_model_json,custom_objects={'CustomMaskLayer':endpoint_in_model.CustomMaskLayer})\n",
    "\"\"\"\n",
    "#step4\n",
    "# load weights into model created from json\n",
    "\n",
    "\"\"\"pp_model.load_weights('/netpool/work/gpu-3/users/malyalasa/New_folder/rosbag2numpy/keras_weights.h5')\n",
    "\"\"\"\n",
    "\n",
    "\n",
    "\"\"\"\n",
    "opt = tf.keras.optimizers.Adam(learning_rate=0.02)\n",
    "pp_model.compile(\n",
    "        optimizer=opt, \n",
    "        loss=[euclidean_distance_loss,endpoint_loss],\n",
    "        loss_weights=params.get(\"loss_weights\"), metrics=params.get(\"metric\")\n",
    "    )#pp_model.summary()\n",
    "test_loss,test_accuracy = pp_model.evaluate(ds_test)\n",
    "\"\"\""
   ],
   "outputs": [
    {
     "output_type": "execute_result",
     "data": {
      "text/plain": [
       "'\\nopt = tf.keras.optimizers.Adam(learning_rate=0.02)\\npp_model.compile(\\n        optimizer=opt, \\n        loss=[euclidean_distance_loss,endpoint_loss],\\n        loss_weights=params.get(\"loss_weights\"), metrics=params.get(\"metric\")\\n    )#pp_model.summary()\\ntest_loss,test_accuracy = pp_model.evaluate(ds_test)\\n'"
      ]
     },
     "metadata": {},
     "execution_count": 5
    }
   ],
   "metadata": {}
  },
  {
   "cell_type": "markdown",
   "source": [
    "## Plotting individual sample"
   ],
   "metadata": {}
  },
  {
   "cell_type": "code",
   "execution_count": 54,
   "source": [
    "normalized_factor=1536\n",
    "idx=48\n",
    "plt.figure(figsize=(10,10),dpi=100)\n",
    "plt.imshow(cost_map[idx].astype(float),origin='lower',cmap='jet')\n",
    "plt.colorbar()\n",
    "plt.plot(\n",
    "    init_path[idx][:, 0]*normalized_factor,\n",
    "    init_path[idx][:, 1]*normalized_factor,\n",
    "    \"o-\",\n",
    "    color=\"lawngreen\",\n",
    "    markersize=1,\n",
    "    linewidth=1,\n",
    ")\n",
    "plt.plot(\n",
    "    opt_path[idx][:, 0]*normalized_factor,\n",
    "    opt_path[idx][:, 1]*normalized_factor,\n",
    "    \"--\",\n",
    "    color=\"yellow\",\n",
    "    markersize=1,\n",
    "    linewidth=1,\n",
    ")\n",
    "\n",
    "plt.plot(\n",
    "    predicted_paths[idx][:, 0]*normalized_factor,\n",
    "    predicted_paths[idx][:, 1]*normalized_factor,\n",
    "    \"--\",\n",
    "    color=\"orange\",\n",
    "    markersize=1,\n",
    "    linewidth=1,\n",
    ")\n",
    "plt.plot(car_odo[idx][0] *normalized_factor,car_odo[idx][1] *normalized_factor,\n",
    "    \"r*\",\n",
    "    color=\"red\",\n",
    "    markersize=8,\n",
    ")\n",
    "plt.legend(['gt_init_path', 'gt_opt_path', 'predicted path','car_centre'], loc='lower left')\n",
    "plt.title(f\"Test Index: {idx}\")\n",
    "plt.show()\n",
    "file_name = file_details[idx].numpy().decode('utf-8').replace(\"cm_fv_paths_odo_unequal.npz\",\"\")\n"
   ],
   "outputs": [
    {
     "output_type": "display_data",
     "data": {
      "image/png": "[encoded data removed]",
      "text/plain": [
       "<Figure size 1000x1000 with 2 Axes>"
      ]
     },
     "metadata": {
      "needs_background": "light"
     }
    }
   ],
   "metadata": {}
  },
  {
   "cell_type": "markdown",
   "source": [
    "## Metrics and evaluation\n",
    " * DTW (Dynamic time warp)\n",
    " * ADE (Average Displacement error)\n"
   ],
   "metadata": {}
  },
  {
   "cell_type": "code",
   "execution_count": 88,
   "source": [
    "from pydtw import dtw2d\n",
    "from tqdm import tqdm\n",
    "from pyts.metrics import dtw_multiscale\n",
    "from datetime import datetime\n",
    "\n",
    "def calc_dtw(optimized_path_gt:ndarray, predicted_paths_m:ndarray)->List:\n",
    "    all_cost = []\n",
    "    for index in trange(optimized_path_gt.shape[0]):\n",
    "        cost_matrix, cost, _,_ = dtw2d(optimized_path_gt[index],predicted_paths_m[index])\n",
    "        all_cost.append(cost)\n",
    "    return all_cost\n",
    "\n",
    "def ADE(optimized_path_gt:ndarray, predicted_paths_m:ndarray):\n",
    "    # batchsize,25,2\n",
    "    dist = np.mean(np.sqrt(np.sum((optimized_path_gt - predicted_paths_m)**2,axis=2)),axis=1)\n",
    "    #np.linalg.norm(optimized_path_gt - predicted_paths_m)\n",
    "    print(sum(dist)/len(dist))\n",
    "    return sum(dist)/len(dist)\n",
    "\n",
    "def eval_models(model_paths:List[str],opt_paths,save_results:bool=False):\n",
    "\n",
    "    for i,m_path in tqdm(enumerate(model_paths)):\n",
    "\n",
    "        load_wandb  = tf.keras.models.load_model(m_path)\n",
    "        predictions = load_wandb.predict(feature_v)\n",
    "        predicted_paths = init_path - predictions\n",
    "\n",
    "        scaled_opt_paths = opt_paths*1536\n",
    "        scaled_predicted_paths = predicted_paths*1536\n",
    "\n",
    "        dtw = calc_dtw(optimized_path_gt=scaled_opt_paths,predicted_paths_m=scaled_predicted_paths)\n",
    "        avg_de = ADE(optimized_path_gt=scaled_opt_paths,predicted_paths_m=scaled_predicted_paths)\n",
    "\n",
    "        print(f\"\\n Model: {m_path.split('/')[-3]}, DTW: {sum(dtw):.3f}, avg_DTW:{np.mean(dtw):.3f}, ADE: {avg_de}\")\n",
    "\n",
    "        if save_results:\n",
    "            file_path = '/netpool/work/gpu-3/users/malyalasa/New_folder/rosbag2numpy/test_results/metrics_results'\n",
    "            file_path = os.path.join(file_path,'all_results.txt')\n",
    "            with open(file_path, 'a') as f:\n",
    "                if i==0:\n",
    "                    f.write(f\"INFO: {datetime.now()}\\n\")\n",
    "                f.write(f\"Model: {m_path.split('/')[-3]}, DTW: {sum(dtw):.3f}, avg_DTW:{np.mean(dtw):.3f}, ADE: {avg_de:.3f} \\n\")\n",
    "                f.close()\n",
    "\n",
    "eval_models(model_paths=all_model_paths,opt_paths=opt_path)\n"
   ],
   "outputs": [
    {
     "output_type": "stream",
     "name": "stderr",
     "text": [
      "100%|██████████| 144/144 [00:00<00:00, 21613.16it/s]\n",
      "1it [00:02,  2.22s/it]"
     ]
    },
    {
     "output_type": "stream",
     "name": "stdout",
     "text": [
      "0.9156808206555083\n",
      "\n",
      " Model: run-20210925_083501-7b6nj1fr, DTW: 39412.427, avg_DTW:273.697, ADE: 0.9156808206555083\n"
     ]
    },
    {
     "output_type": "stream",
     "name": "stderr",
     "text": [
      "100%|██████████| 144/144 [00:00<00:00, 18131.54it/s]\n",
      "2it [00:03,  1.72s/it]"
     ]
    },
    {
     "output_type": "stream",
     "name": "stdout",
     "text": [
      "0.8791481510725991\n",
      "\n",
      " Model: run-20210925_080546-xoxoxow6, DTW: 38132.924, avg_DTW:264.812, ADE: 0.8791481510725991\n"
     ]
    },
    {
     "output_type": "stream",
     "name": "stderr",
     "text": [
      "100%|██████████| 144/144 [00:00<00:00, 19996.02it/s]\n",
      "3it [00:04,  1.49s/it]"
     ]
    },
    {
     "output_type": "stream",
     "name": "stdout",
     "text": [
      "0.8848795484882046\n",
      "\n",
      " Model: run-20210924_031631-lhsjbn8r, DTW: 38191.162, avg_DTW:265.216, ADE: 0.8848795484882046\n"
     ]
    },
    {
     "output_type": "stream",
     "name": "stderr",
     "text": [
      "100%|██████████| 144/144 [00:00<00:00, 16614.76it/s]\n",
      "4it [00:05,  1.19s/it]"
     ]
    },
    {
     "output_type": "stream",
     "name": "stdout",
     "text": [
      "1.1648235606022477\n",
      "\n",
      " Model: run-20210922_162541-2bwn3ku4, DTW: 49118.381, avg_DTW:341.100, ADE: 1.1648235606022477\n"
     ]
    },
    {
     "output_type": "stream",
     "name": "stderr",
     "text": [
      "100%|██████████| 144/144 [00:00<00:00, 16047.50it/s]\n",
      "5it [00:07,  1.30s/it]"
     ]
    },
    {
     "output_type": "stream",
     "name": "stdout",
     "text": [
      "0.8743614203129767\n",
      "\n",
      " Model: run-20210922_010110-1sb0es02, DTW: 38236.132, avg_DTW:265.529, ADE: 0.8743614203129767\n"
     ]
    },
    {
     "output_type": "stream",
     "name": "stderr",
     "text": [
      "100%|██████████| 144/144 [00:00<00:00, 12427.57it/s]\n",
      "100%|██████████| 144/144 [00:00<00:00, 16647.73it/s]\n",
      "7it [00:10,  1.33s/it]"
     ]
    },
    {
     "output_type": "stream",
     "name": "stdout",
     "text": [
      "1.1472980719916133\n",
      "\n",
      " Model: run-20210921_225739-3tq5o6wv, DTW: 51149.363, avg_DTW:355.204, ADE: 1.1472980719916133\n",
      "1.0942018039414247\n",
      "\n",
      " Model: run-20210921_223929-2789gz0e, DTW: 48197.471, avg_DTW:334.705, ADE: 1.0942018039414247\n"
     ]
    },
    {
     "output_type": "stream",
     "name": "stderr",
     "text": [
      "100%|██████████| 144/144 [00:00<00:00, 20202.70it/s]\n",
      "8it [00:12,  1.50s/it]"
     ]
    },
    {
     "output_type": "stream",
     "name": "stdout",
     "text": [
      "0.8610434090928311\n",
      "\n",
      " Model: run-20210922_154305-30js7pw0, DTW: 36286.785, avg_DTW:251.992, ADE: 0.8610434090928311\n"
     ]
    },
    {
     "output_type": "stream",
     "name": "stderr",
     "text": [
      "\n"
     ]
    }
   ],
   "metadata": {}
  },
  {
   "cell_type": "code",
   "execution_count": null,
   "source": [
    "print(f'optimized_paths: {scaled_opt_paths[0]}\\n')\n"
   ],
   "outputs": [],
   "metadata": {}
  },
  {
   "cell_type": "code",
   "execution_count": 33,
   "source": [
    "SAVE_ALL = False\n",
    "if SAVE_ALL:\n",
    "    model_name = wandbmodel_path.split(\"/\")[-3]#'bgm_LSTM_2_50'#wandbmodel_path.split(\"/\")[-3]\n",
    "    #'TDD_64_first'#wandbmodel_path.split(\"/\")[-3]#'TDD_4_2'\n",
    "    save_dir_root = '/netpool/work/gpu-3/users/malyalasa/New_folder/rosbag2numpy/test_results/feature_vec_res'\n",
    "\n",
    "    #%matplotlib agg\n",
    "    #idx= 23#35#23#54#50#25#122#82#42#48\n",
    "    normalized_factor=1536\n",
    "\n",
    "    for idx in trange(predicted_paths.shape[0]):\n",
    "\n",
    "        plt.figure(figsize=(10,10),dpi=200)\n",
    "        plt.imshow(cost_map[idx].astype(float),origin='lower',cmap='jet')\n",
    "        plt.colorbar()\n",
    "        plt.plot(\n",
    "            init_path[idx][:, 0]*normalized_factor,\n",
    "            init_path[idx][:, 1]*normalized_factor,\n",
    "            \"o-\",\n",
    "            color=\"lawngreen\",\n",
    "            markersize=1,\n",
    "            linewidth=1,\n",
    "        )\n",
    "        plt.plot(\n",
    "            opt_path[idx][:, 0]*normalized_factor,\n",
    "            opt_path[idx][:, 1]*normalized_factor,\n",
    "            \"--\",\n",
    "            color=\"yellow\",\n",
    "            markersize=1,\n",
    "            linewidth=1,\n",
    "        )\n",
    "        plt.plot(\n",
    "            predicted_paths[idx][:, 0]*normalized_factor,\n",
    "            predicted_paths[idx][:, 1]*normalized_factor,\n",
    "            \"--\",\n",
    "            color=\"orange\",\n",
    "            markersize=1,\n",
    "            linewidth=1,\n",
    "        )\n",
    "        plt.plot(car_odo[idx][0] *normalized_factor,car_odo[idx][1] *normalized_factor,\n",
    "            \"r*\",\n",
    "            color=\"red\",\n",
    "            markersize=8,\n",
    "        )\n",
    "        plt.legend(['gt_init_path', 'gt_opt_path', 'predicted path','car_centre'], loc='lower left')\n",
    "\n",
    "        file_name = file_details[idx].numpy().decode('utf-8').replace(\"cm_fv_paths_odo_unequal.npz\",\"\")\n",
    "        plt.title(f\"{file_name}\\nTest Index: {idx}\")\n",
    "\n",
    "        split_details = os.path.split(file_name)[0]\n",
    "        scene_name = os.path.split(split_details)[0]\n",
    "        \n",
    "        # directory t save \n",
    "        save_dir = os.path.join(save_dir_root,model_name,scene_name)\n",
    "\n",
    "        if not os.path.exists(save_dir):\n",
    "            os.makedirs(save_dir)\n",
    "        plt.savefig(f\"{save_dir}/Test_index_{idx}.png\",dpi=200)\n",
    "        plt.close()\n",
    "\n",
    "    "
   ],
   "outputs": [
    {
     "output_type": "stream",
     "name": "stderr",
     "text": [
      "100%|██████████| 144/144 [01:51<00:00,  1.29it/s]\n"
     ]
    }
   ],
   "metadata": {}
  },
  {
   "cell_type": "markdown",
   "source": [
    "## Save all plots from test set"
   ],
   "metadata": {}
  },
  {
   "cell_type": "markdown",
   "source": [
    "## Iteration robustness check"
   ],
   "metadata": {}
  },
  {
   "cell_type": "code",
   "execution_count": null,
   "source": [
    "def get_feature_vector_old(gridmap:ndarray,init_path:ndarray,offset)->ndarray:\n",
    "    feature_vector = np.zeros(shape=(init_path.shape[0],4*offset[0]*offset[1]))\n",
    "    # np.array(init_path.shape[0],4*offset[0]*offset[1])\n",
    "    for i in range(init_path.shape[0]):\n",
    "        x_l,y_l = (init_path[i].astype(int)) - offset\n",
    "        x_h,y_h = (init_path[i].astype(int)) + offset\n",
    "        cell = 0\n",
    "        #print(\"lower:\",(x_l,y_l))\n",
    "        #print(\"higher:\",(x_h,y_h))\n",
    "\n",
    "        for x in range(x_l,x_h):\n",
    "            for y in range(y_l,y_h):\n",
    "                #print(x,y)\n",
    "                #if cell<feature_vector.shape[1]:\n",
    "                    #gridmap[row][column]\n",
    "                feature_vector[i][cell] = gridmap[y][x]\n",
    "                cell+=1\n",
    "    return feature_vector\n",
    "\n",
    "# optimized version (matrix extraction)\n",
    "def get_feature_vector(gridmap:ndarray,init_path:ndarray,offset)->ndarray:\n",
    "    feature_vector = np.zeros(shape=(init_path.shape[0],4*offset[0]*offset[1]))\n",
    "    for i in range(init_path.shape[0]):\n",
    "        x_l,y_l = (init_path[i].astype(int)) - offset\n",
    "        x_h,y_h = (init_path[i].astype(int)) + offset\n",
    "        \n",
    "        # boundary box snip from costmap\n",
    "        feature_vector[i] = gridmap[y_l:y_h,x_l:x_h].flatten()\n",
    "        \n",
    "    return feature_vector\n",
    "\n",
    "\n",
    "idx=80\n",
    "sample_init = np_test_ds_all[\"init_path\"][idx]\n",
    "sample_opt = np_test_ds_all[\"opt_path\"][idx]\n",
    "sample_gm = np_test_ds_all[\"cost_map\"][idx]\n",
    "sample_odo = np_test_ds_all[\"car_odo\"][idx]\n",
    "sample_fv = np_test_ds_all[\"feature_vector\"][idx]\n",
    "sample_gt_diff = np_test_ds_all[\"diff_path\"][idx]\n",
    "sample_file_details = np_test_ds_all[\"file_details\"][idx]\n",
    "\n",
    "def iter_plot_sample(save,cost_map:ndarray,init_path:ndarray,opt_path:ndarray,predicted_path:ndarray,car_odo:ndarray,file_details,itn,idx):\n",
    "    norm_fac = 1536\n",
    "    plt.figure(figsize=(10,10),dpi=400)\n",
    "    \n",
    "    plt.imshow(cost_map.astype(float),origin='lower',cmap='jet')\n",
    "    plt.colorbar()\n",
    "    plt.plot(\n",
    "        init_path[:, 0]*norm_fac,\n",
    "        init_path[:, 1]*norm_fac,\n",
    "        \"o-\",\n",
    "        color=\"lawngreen\",\n",
    "        markersize=1,\n",
    "        linewidth=1,\n",
    "    )\n",
    "    plt.plot(\n",
    "        opt_path[:, 0]*norm_fac,\n",
    "        opt_path[:, 1]*norm_fac,\n",
    "        \"--\",\n",
    "        color=\"yellow\",\n",
    "        markersize=1,\n",
    "        linewidth=1,\n",
    "    )\n",
    "    plt.plot(\n",
    "        predicted_path[:, 0]*norm_fac,\n",
    "        predicted_path[:, 1]*norm_fac,\n",
    "        \"--\",\n",
    "        color=\"orange\",\n",
    "        markersize=1,\n",
    "        linewidth=1,\n",
    "    )\n",
    "    plt.plot(car_odo[0] *norm_fac,car_odo[1] *norm_fac,\n",
    "        \"r*\",\n",
    "        color=\"red\",\n",
    "        markersize=8,\n",
    "    )\n",
    "\n",
    "    file_name = file_details.numpy().decode('utf-8').replace(\"cm_fv_paths_odo_unequal.npz\",\"\")\n",
    "    plt.title(f\"{file_name}\\nTest_sample:{id}\\nTest iteration: {itn}\")\n",
    "    plt.legend(['gt_init_path', 'gt_opt_path', 'predicted_path','car_centre'], loc='lower left')\n",
    "    \n",
    "    split_details = os.path.split(file_name)[0]\n",
    "    scene_name = os.path.split(split_details)[0]\n",
    "    save_dir_root='/netpool/work/gpu-3/users/malyalasa/New_folder/rosbag2numpy/test_results/iter_results'\n",
    "    model_name = wandbmodel_path.split(\"/\")[-3]\n",
    "    # directory t save \n",
    "    save_dir = os.path.join(save_dir_root,model_name,scene_name)\n",
    "\n",
    "    if not os.path.exists(save_dir):\n",
    "        os.makedirs(save_dir)\n",
    "    if save:\n",
    "        plt.savefig(f\"{save_dir}/Test_index_{idx}_iter_{itn}.png\",dpi=300)\n",
    "        plt.close()\n",
    "    #plt.show()\n",
    "\n",
    "for itn in trange(5):\n",
    "    model_output = load_wandb.predict(np.expand_dims(sample_fv,axis=0))\n",
    "    pred_path = (sample_init -model_output)[0]\n",
    "    iter_plot_sample(save=False,cost_map=sample_gm,init_path=sample_init,opt_path=sample_opt, predicted_path=pred_path, car_odo=sample_odo, file_details = sample_file_details,itn=itn,idx=idx)\n",
    "\n",
    "    sample_init = pred_path\n",
    "    sample_fv = get_feature_vector(gridmap=sample_gm,init_path=sample_init*1536,offset=[13,20])\n"
   ],
   "outputs": [],
   "metadata": {}
  },
  {
   "cell_type": "markdown",
   "source": [
    "## Line profile of feature vector function"
   ],
   "metadata": {}
  },
  {
   "cell_type": "code",
   "execution_count": 141,
   "source": [
    "%load_ext line_profiler\n",
    "\n",
    "#%lprun -f get_feature_vector_new get_feature_vector_new(gridmap=sample_gm,init_path=sample_init*1536,offset=[13,20])\n"
   ],
   "outputs": [
    {
     "output_type": "stream",
     "name": "stdout",
     "text": [
      "The line_profiler extension is already loaded. To reload it, use:\n",
      "  %reload_ext line_profiler\n"
     ]
    },
    {
     "output_type": "stream",
     "name": "stdout",
     "text": [
      "Timer unit: 1e-06 s\n",
      "\n",
      "Total time: 0.001845 s\n",
      "File: <ipython-input-21-c68dd37fe6a3>\n",
      "Function: get_feature_vector_new at line 20\n",
      "\n",
      "Line #      Hits         Time  Per Hit   % Time  Line Contents\n",
      "==============================================================\n",
      "    20                                           def get_feature_vector_new(gridmap:ndarray,init_path:ndarray,offset)->ndarray:\n",
      "    21         1         49.0     49.0      2.7      feature_vector = np.zeros(shape=(init_path.shape[0],4*offset[0]*offset[1]))\n",
      "    22        26         32.0      1.2      1.7      for i in range(init_path.shape[0]):\n",
      "    23        25        248.0      9.9     13.4          x_l,y_l = (init_path[i].astype(int)) - offset\n",
      "    24        25        247.0      9.9     13.4          x_h,y_h = (init_path[i].astype(int)) + offset\n",
      "    25                                                   \n",
      "    26                                                   # boundary box snip from costmap\n",
      "    27        25       1268.0     50.7     68.7          feature_vector[i] = gridmap[y_l:y_h,x_l:x_h].flatten()\n",
      "    28                                                   \n",
      "    29         1          1.0      1.0      0.1      return feature_vector"
     ]
    }
   ],
   "metadata": {}
  }
 ],
 "metadata": {
  "interpreter": {
   "hash": "c8d0ec656e5d9378a37156be2b24f16488b2546b8a772b439e0e56117764b87a"
  },
  "kernelspec": {
   "name": "python3",
   "display_name": "Python 3.8.0 64-bit ('env_mt': conda)"
  },
  "language_info": {
   "codemirror_mode": {
    "name": "ipython",
    "version": 3
   },
   "file_extension": ".py",
   "mimetype": "text/x-python",
   "name": "python",
   "nbconvert_exporter": "python",
   "pygments_lexer": "ipython3",
   "version": "3.8.0"
  }
 },
 "nbformat": 4,
 "nbformat_minor": 2
}