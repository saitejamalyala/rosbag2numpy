{
 "metadata": {
  "language_info": {
   "codemirror_mode": {
    "name": "ipython",
    "version": 3
   },
   "file_extension": ".py",
   "mimetype": "text/x-python",
   "name": "python",
   "nbconvert_exporter": "python",
   "pygments_lexer": "ipython3",
   "version": "3.8.0"
  },
  "orig_nbformat": 4,
  "kernelspec": {
   "name": "python3",
   "display_name": "Python 3.8.0 64-bit ('env_mt': conda)"
  },
  "interpreter": {
   "hash": "c8d0ec656e5d9378a37156be2b24f16488b2546b8a772b439e0e56117764b87a"
  }
 },
 "nbformat": 4,
 "nbformat_minor": 2,
 "cells": [
  {
   "cell_type": "code",
   "execution_count": 1,
   "metadata": {},
   "outputs": [
    {
     "output_type": "stream",
     "name": "stdout",
     "text": [
      "2.3.0\nNum GPUs Available:  8\n"
     ]
    }
   ],
   "source": [
    "from tensorflow.keras import layers\n",
    "from tensorflow import keras\n",
    "import tensorflow.keras.backend as K\n",
    "import tensorflow as tf\n",
    "from glob import glob\n",
    "from tqdm import trange\n",
    "from typing import List,Tuple\n",
    "from data_processing.data_loader import dataset_loader\n",
    "from losses import euclidean_distance_loss,endpoint_loss\n",
    "from models import endpoint_in_model\n",
    "from matplotlib import pyplot as plt\n",
    "import numpy as np\n",
    "from config import params\n",
    "import json \n",
    "import os\n",
    "print(tf.__version__)\n",
    "print(\"Num GPUs Available: \", len(tf.config.list_physical_devices('GPU')))\n",
    "\n",
    "os.environ['CUDA_VISIBLE_DEVICES']=\"5,6,7\"\n",
    "sys.path.append(\"/netpool/work/gpu-3/users/malyalasa/New_folder/rosbag2numpy\")"
   ]
  },
  {
   "cell_type": "code",
   "execution_count": 2,
   "metadata": {},
   "outputs": [
    {
     "output_type": "stream",
     "name": "stdout",
     "text": [
      "Number of records, Train files:408, validation files:88, Test Files:87\n",
      "Building Dataset.......\n",
      "\n",
      "((TensorSpec(shape=(None, 1536, 1536), dtype=tf.int8, name=None),\n",
      "  TensorSpec(shape=(None, None), dtype=tf.float32, name=None),\n",
      "  TensorSpec(shape=(None, 25, 2), dtype=tf.float32, name=None),\n",
      "  TensorSpec(shape=(None, 25, 2), dtype=tf.float32, name=None),\n",
      "  TensorSpec(shape=(None, None), dtype=tf.float32, name=None),\n",
      "  TensorSpec(shape=(None, 25, 2), dtype=tf.float32, name=None),\n",
      "  TensorSpec(shape=(None,), dtype=tf.string, name=None)),\n",
      " TensorSpec(shape=(None, 25, 2), dtype=tf.float32, name=None))\n"
     ]
    }
   ],
   "source": [
    "dataset_dir='/netpool/work/gpu-3/users/malyalasa/New_folder/tf_records'\n",
    "ds_loader = dataset_loader(tfrec_dir=dataset_dir,batch_size=32)\n",
    "ds_train,ds_valid,ds_test= ds_loader.build_dataset()"
   ]
  },
  {
   "cell_type": "code",
   "execution_count": 3,
   "metadata": {},
   "outputs": [],
   "source": [
    "list_mask=[[1., 1.],\n",
    "       [0., 0.],\n",
    "       [0., 0.],\n",
    "       [0., 0.],\n",
    "       [0., 0.],\n",
    "       [0., 0.],\n",
    "       [0., 0.],\n",
    "       [0., 0.],\n",
    "       [0., 0.],\n",
    "       [0., 0.],\n",
    "       [0., 0.],\n",
    "       [0., 0.],\n",
    "       [0., 0.],\n",
    "       [0., 0.],\n",
    "       [0., 0.],\n",
    "       [0., 0.],\n",
    "       [0., 0.],\n",
    "       [0., 0.],\n",
    "       [0., 0.],\n",
    "       [0., 0.],\n",
    "       [0., 0.],\n",
    "       [0., 0.],\n",
    "       [0., 0.],\n",
    "       [0., 0.],\n",
    "       [1., 1.]]\n"
   ]
  },
  {
   "cell_type": "code",
   "execution_count": 4,
   "metadata": {},
   "outputs": [
    {
     "output_type": "stream",
     "name": "stdout",
     "text": [
      "Model: \"functional_1\"\n________________________________________________________________________________________________________________________\nLayer (type)                           Output Shape               Param #       Connected to                            \n========================================================================================================================\ninput_1 (InputLayer)                   [(None, 1536, 1536, 1)]    0                                                     \n________________________________________________________________________________________________________________________\nconv2d (Conv2D)                        (None, 765, 765, 16)       800           input_1[0][0]                           \n________________________________________________________________________________________________________________________\nre_lu (ReLU)                           (None, 765, 765, 16)       0             conv2d[0][0]                            \n________________________________________________________________________________________________________________________\nbatch_normalization (BatchNormalizatio (None, 765, 765, 16)       64            re_lu[0][0]                             \n________________________________________________________________________________________________________________________\naverage_pooling2d (AveragePooling2D)   (None, 191, 191, 16)       0             batch_normalization[0][0]               \n________________________________________________________________________________________________________________________\nconv2d_1 (Conv2D)                      (None, 94, 94, 32)         12832         average_pooling2d[0][0]                 \n________________________________________________________________________________________________________________________\nre_lu_1 (ReLU)                         (None, 94, 94, 32)         0             conv2d_1[0][0]                          \n________________________________________________________________________________________________________________________\nbatch_normalization_1 (BatchNormalizat (None, 94, 94, 32)         128           re_lu_1[0][0]                           \n________________________________________________________________________________________________________________________\naverage_pooling2d_1 (AveragePooling2D) (None, 23, 23, 32)         0             batch_normalization_1[0][0]             \n________________________________________________________________________________________________________________________\nconv2d_2 (Conv2D)                      (None, 11, 11, 64)         18496         average_pooling2d_1[0][0]               \n________________________________________________________________________________________________________________________\nbatch_normalization_2 (BatchNormalizat (None, 11, 11, 64)         256           conv2d_2[0][0]                          \n________________________________________________________________________________________________________________________\nre_lu_2 (ReLU)                         (None, 11, 11, 64)         0             batch_normalization_2[0][0]             \n________________________________________________________________________________________________________________________\naverage_pooling2d_2 (AveragePooling2D) (None, 5, 5, 64)           0             re_lu_2[0][0]                           \n________________________________________________________________________________________________________________________\nInitial_path (InputLayer)              [(None, 25, 2)]            0                                                     \n________________________________________________________________________________________________________________________\nLeft_boundary (InputLayer)             [(None, 25, 2)]            0                                                     \n________________________________________________________________________________________________________________________\nRight_boundary (InputLayer)            [(None, 25, 2)]            0                                                     \n________________________________________________________________________________________________________________________\nGrid_origin_res (InputLayer)           [(None, 3)]                0                                                     \n________________________________________________________________________________________________________________________\nCar_loc (InputLayer)                   [(None, 3)]                0                                                     \n________________________________________________________________________________________________________________________\nflatten (Flatten)                      (None, 1600)               0             average_pooling2d_2[0][0]               \n________________________________________________________________________________________________________________________\nreshape (Reshape)                      (None, 50)                 0             Initial_path[0][0]                      \n________________________________________________________________________________________________________________________\nreshape_1 (Reshape)                    (None, 50)                 0             Left_boundary[0][0]                     \n________________________________________________________________________________________________________________________\nreshape_2 (Reshape)                    (None, 50)                 0             Right_boundary[0][0]                    \n________________________________________________________________________________________________________________________\nconcatenate (Concatenate)              (None, 6)                  0             Grid_origin_res[0][0]                   \n                                                                                Car_loc[0][0]                           \n________________________________________________________________________________________________________________________\nconcatenate_1 (Concatenate)            (None, 1756)               0             flatten[0][0]                           \n                                                                                reshape[0][0]                           \n                                                                                reshape_1[0][0]                         \n                                                                                reshape_2[0][0]                         \n                                                                                concatenate[0][0]                       \n________________________________________________________________________________________________________________________\ndense (Dense)                          (None, 128)                224896        concatenate_1[0][0]                     \n________________________________________________________________________________________________________________________\nbatch_normalization_3 (BatchNormalizat (None, 128)                512           dense[0][0]                             \n________________________________________________________________________________________________________________________\nre_lu_3 (ReLU)                         (None, 128)                0             batch_normalization_3[0][0]             \n________________________________________________________________________________________________________________________\ndense_1 (Dense)                        (None, 96)                 12384         re_lu_3[0][0]                           \n________________________________________________________________________________________________________________________\nbatch_normalization_4 (BatchNormalizat (None, 96)                 384           dense_1[0][0]                           \n________________________________________________________________________________________________________________________\nre_lu_4 (ReLU)                         (None, 96)                 0             batch_normalization_4[0][0]             \n________________________________________________________________________________________________________________________\ndense_2 (Dense)                        (None, 64)                 6208          re_lu_4[0][0]                           \n________________________________________________________________________________________________________________________\nbatch_normalization_5 (BatchNormalizat (None, 64)                 256           dense_2[0][0]                           \n________________________________________________________________________________________________________________________\nre_lu_5 (ReLU)                         (None, 64)                 0             batch_normalization_5[0][0]             \n________________________________________________________________________________________________________________________\ndense_3 (Dense)                        (None, 50)                 3250          re_lu_5[0][0]                           \n________________________________________________________________________________________________________________________\nadd (Add)                              (None, 50)                 0             dense_3[0][0]                           \n                                                                                reshape[0][0]                           \n________________________________________________________________________________________________________________________\ndense_4 (Dense)                        (None, 50)                 2550          add[0][0]                               \n________________________________________________________________________________________________________________________\nreshape_3 (Reshape)                    (None, 25, 2)              0             dense_4[0][0]                           \n========================================================================================================================\nTotal params: 283,016\nTrainable params: 282,216\nNon-trainable params: 800\n________________________________________________________________________________________________________________________\n"
     ]
    }
   ],
   "source": [
    "pp_model = endpoint_in_model.nn()"
   ]
  },
  {
   "cell_type": "code",
   "execution_count": 5,
   "metadata": {},
   "outputs": [
    {
     "output_type": "stream",
     "name": "stdout",
     "text": [
      "42/42 [==============================] - 3s 79ms/step - loss: 0.2345 - accuracy: 1.0000\n"
     ]
    }
   ],
   "source": [
    "#pp_model=tf.keras.models.load_model('/netpool/work/gpu-3/users/malyalasa/New_folder/wandb/run-20210625_053926-21xquqgr/files/model-best.h5',compile=False)\n",
    "\n",
    "#pp_model.load_weights('/netpool/work/gpu-3/users/malyalasa/New_folder/wandb/run-20210629_204919-3446nhcb/files/model-best.h5')\n",
    "\n",
    "#pp_model.load_weights('/netpool/work/gpu-3/users/malyalasa/New_folder/rosbag2numpy/keras_weights.h5')\n",
    "#pp_model = tf.keras.models.load_model('/netpool/work/gpu-3/users/malyalasa/New_folder/wandb/latest-run/files/model-best.h5',compile=False,custom_objects={'CustomMaskLayer':endpoint_in_model.CustomMaskLayer})\n",
    "\n",
    "#best\n",
    "pp_model=tf.keras.models.load_model('/netpool/work/gpu-3/users/malyalasa/New_folder/wandb/run-20210627_124548-3rs0bk0s/files/model-best.h5',compile=False,custom_objects={'CustomMaskLayer':endpoint_in_model.CustomMaskLayer})\n",
    "\n",
    "#pp_model = tf.keras.models.load_model('/netpool/work/gpu-3/users/malyalasa/New_folder/wandb/run-20210629_204919-3446nhcb/files/model-best.h5',compile=False,custom_objects={'CustomMaskLayer':endpoint_in_model.CustomMaskLayer})\n",
    "\n",
    "opt = tf.keras.optimizers.Adam(learning_rate=0.02)\n",
    "pp_model.compile(\n",
    "        optimizer=opt, \n",
    "        loss=[euclidean_distance_loss,endpoint_loss],\n",
    "        loss_weights=params.get(\"loss_weights\"), metrics=params.get(\"metric\")\n",
    "    )#pp_model.summary()\n",
    "test_loss,test_accuracy = pp_model.evaluate(ds_test)"
   ]
  },
  {
   "cell_type": "code",
   "execution_count": 6,
   "metadata": {},
   "outputs": [
    {
     "output_type": "execute_result",
     "data": {
      "text/plain": [
       "\"\\npp_model.load_weights('/netpool/work/gpu-3/users/malyalasa/New_folder/rosbag2numpy/keras_weights.h5')\\n\""
      ]
     },
     "metadata": {},
     "execution_count": 6
    }
   ],
   "source": [
    "#step 1\n",
    "# serialize model to json(no weights, only structure)\n",
    "\"\"\"\n",
    "with open('best_model.json','w') as f:\n",
    "    f.write(pp_model.to_json())\n",
    "\"\"\"\n",
    "#step 2\n",
    "\"\"\"\n",
    "pp_model.save_weights('best_keras_weights.h5')\n",
    "\"\"\"\n",
    "\n",
    "#step 3\n",
    "# Load serialized model from json(contains no weights only structue)\n",
    "\"\"\"\n",
    "json_file = open('best_model.json', 'r')\n",
    "loaded_model_json = json_file.read()\n",
    "json_file.close()\n",
    "pp_model = tf.keras.models.model_from_json(loaded_model_json,custom_objects={'CustomMaskLayer':endpoint_in_model.CustomMaskLayer})\n",
    "\"\"\"\n",
    "#step4\n",
    "# load weights into model created from json\n",
    "\"\"\"\n",
    "pp_model.load_weights('/netpool/work/gpu-3/users/malyalasa/New_folder/rosbag2numpy/keras_weights.h5')\n",
    "\"\"\""
   ]
  },
  {
   "cell_type": "code",
   "execution_count": 7,
   "metadata": {},
   "outputs": [
    {
     "output_type": "stream",
     "name": "stdout",
     "text": [
      "CPU times: user 16.5 s, sys: 7 s, total: 23.5 s\nWall time: 1.57 s\n"
     ]
    },
    {
     "output_type": "execute_result",
     "data": {
      "text/plain": [
       "(1329, 25, 2)"
      ]
     },
     "metadata": {},
     "execution_count": 7
    }
   ],
   "source": [
    "%%time\n",
    "predictions = pp_model.predict(ds_test)\n",
    "np.shape(predictions)"
   ]
  },
  {
   "cell_type": "code",
   "execution_count": 8,
   "metadata": {},
   "outputs": [],
   "source": [
    "def get_test_ds_size(ds_test):\n",
    "    num_of_samples=0\n",
    "    for input_batch, output_batch in ds_test:\n",
    "        for i in range(0,len(input_batch[0].numpy())):\n",
    "            num_of_samples+=1\n",
    "    return num_of_samples\n",
    "\n",
    "def get_np_test_ds(ds_test):\n",
    "\n",
    "    samples = get_test_ds_size(ds_test)\n",
    "    np_tst_gridmap = np.zeros(shape=(samples,1536,1536))\n",
    "    np_tst_grid_org_res = np.zeros(shape=(samples,3))\n",
    "    np_tst_left_bnd = np.zeros(shape=(samples,25,2))\n",
    "    np_tst_right_bnd = np.zeros(shape=(samples,25,2))\n",
    "    np_tst_car_odo = np.zeros(shape=(samples,3))\n",
    "    np_tst_init_path = np.zeros(shape=(samples,25,2))\n",
    "    np_tst_opt_path = np.zeros(shape=(samples,25,2))\n",
    "    list_tst_file_details = []\n",
    "\n",
    "    j=0\n",
    "    for input_batch, output_batch in ds_test:\n",
    "        \n",
    "        for i in range(0,len(input_batch[0].numpy())):\n",
    "            np_tst_gridmap[j]=input_batch[0][i].numpy()\n",
    "            np_tst_grid_org_res[j] = input_batch[1][i].numpy()\n",
    "            np_tst_left_bnd[j] = input_batch[2][i].numpy()\n",
    "            np_tst_right_bnd[j] = input_batch[3][i].numpy()\n",
    "            np_tst_car_odo[j] = input_batch[4][i].numpy()\n",
    "            np_tst_init_path[j] = input_batch[5][i].numpy()\n",
    "            list_tst_file_details.append(input_batch[6][i])\n",
    "\n",
    "            np_tst_opt_path[j] = output_batch[i].numpy()\n",
    "            j=j+1   \n",
    "    return np_tst_gridmap,np_tst_grid_org_res,np_tst_left_bnd,np_tst_right_bnd,np_tst_car_odo,np_tst_init_path,list_tst_file_details,np_tst_opt_path"
   ]
  },
  {
   "cell_type": "code",
   "execution_count": 9,
   "metadata": {},
   "outputs": [],
   "source": [
    "np_tst_gridmap,np_tst_grid_org_res,np_tst_left_bnd,np_tst_right_bnd,np_tst_car_odo,np_tst_init_path,list_tst_file_details,np_tst_opt_path =get_np_test_ds(ds_test)\n"
   ]
  },
  {
   "cell_type": "code",
   "execution_count": 10,
   "metadata": {},
   "outputs": [],
   "source": [
    "def plot_scene(features):    \n",
    "    grid_map = features[\"grid_map\"]\n",
    "    grid_org = features[\"grid_org_res\"] #[x,y,resolution]\n",
    "    left_bnd = features[\"left_bnd\"]\n",
    "    right_bnd = features[\"right_bnd\"]\n",
    "    init_path = features[\"init_path\"]\n",
    "    opt_path = features[\"opt_path\"]\n",
    "    car_odo = features[\"car_odo\"]\n",
    "\n",
    "    predict_path = features[\"predictions\"]\n",
    "    file_details=features[\"file_details\"]\n",
    "\n",
    "    #print(type(grid_map))\n",
    "    \n",
    "    plt.figure(figsize=(10, 10))\n",
    "    #ax=fig.add_subplot(1,1,1)\n",
    "\n",
    "    res = grid_org[2]\n",
    "    plt.plot((left_bnd[:,0]-grid_org[0])/res,(left_bnd[:,1]-grid_org[1])/res,'-.', color='magenta',markersize=0.5, linewidth=0.5)\n",
    "\n",
    "    plt.plot((init_path[:,0]-grid_org[0])/res,(init_path[:,1]-grid_org[1])/res,'o-', color='lawngreen',markersize=1, linewidth=1)\n",
    "    plt.plot((opt_path[:,0]-grid_org[0])/res,(opt_path[:,1]-grid_org[1])/res,'--', color='yellow',markersize=1, linewidth=1)\n",
    "\n",
    "    plt.plot((predict_path[:,0]-grid_org[0])/res,(predict_path[:,1]-grid_org[1])/res,'--', color='orange',markersize=1, linewidth=1)\n",
    "\n",
    "    plt.plot((right_bnd[:,0]-grid_org[0])/res,(right_bnd[:,1]-grid_org[1])/res, '-.',color='magenta',markersize=0.5, linewidth=0.5)\n",
    "\n",
    "    plt.plot((car_odo[0]-grid_org[0])/res,(car_odo[1]-grid_org[1])/res,'r*', color = 'red',markersize=8)\n",
    "\n",
    "\n",
    "    plt.legend(['Left bound', 'gt_init_path', 'gt_opt_path','predicted_path','right bound', 'car_centre'], loc='lower left')\n",
    "\n",
    "    plt.imshow(grid_map,origin=\"lower\")\n",
    "\n",
    "    \n",
    "\n",
    "    plt.title(f\"{file_details}\\nTest Index: {features['testidx']}\")\n",
    "    #save_fig_dir = '/netpool/work/gpu-3/users/malyalasa/New_folder/rosbag2numpy/test_results/all_testset_results'\n",
    "    \n",
    "    root_dir = '/netpool/work/gpu-3/users/malyalasa/New_folder/rosbag2numpy/test_results/sorted'\n",
    "    scene_dir = os.path.split(file_details.numpy().decode(\"utf-8\"))[0]\n",
    "    scene_dir = os.path.split(scene_dir)[0]\n",
    "    save_dir=os.path.join(root_dir,scene_dir)\n",
    "    if not os.path.exists(save_dir):\n",
    "        os.makedirs(save_dir)\n",
    "    plt.savefig(f\"{save_dir}/Test_index_{features['testidx']}.png\",dpi=300)\n",
    "\n",
    "    plt.close()\n",
    "    #print(type(file_details))\n",
    "\n",
    "    #return ax,fig"
   ]
  },
  {
   "cell_type": "code",
   "execution_count": 11,
   "metadata": {},
   "outputs": [
    {
     "output_type": "stream",
     "name": "stdout",
     "text": [
      "5\n"
     ]
    }
   ],
   "source": [
    "print(len(predictions[0:5]))"
   ]
  },
  {
   "cell_type": "code",
   "execution_count": 12,
   "metadata": {},
   "outputs": [
    {
     "output_type": "stream",
     "name": "stderr",
     "text": [
      "100%|██████████| 1329/1329 [20:06<00:00,  1.10it/s]\n"
     ]
    }
   ],
   "source": [
    "test_idx= 143#12#785#1000#28#530#143#120#15#1300#530#320#50#1050\n",
    "#%matplotlib agg\n",
    "#for test_idx in trange(0,len(predictions)):\n",
    "test_data={}\n",
    "test_data[\"grid_map\"]= np_tst_gridmap[test_idx]\n",
    "test_data[\"grid_org_res\"]= np_tst_grid_org_res[test_idx]\n",
    "test_data[\"left_bnd\"]= np_tst_left_bnd[test_idx]\n",
    "test_data[\"right_bnd\"]= np_tst_right_bnd[test_idx]\n",
    "test_data[\"car_odo\"]= np_tst_car_odo[test_idx]\n",
    "test_data[\"init_path\"]= np_tst_init_path[test_idx]\n",
    "test_data[\"opt_path\"]= np_tst_opt_path[test_idx]\n",
    "test_data[\"predictions\"] = predictions[test_idx]\n",
    "test_data[\"file_details\"] = list_tst_file_details[test_idx]\n",
    "test_data[\"testidx\"] = test_idx\n",
    "#print(test_data[\"left_bnd\"])\n",
    "plot_scene(test_data)\n",
    "\n"
   ]
  },
  {
   "cell_type": "code",
   "execution_count": 58,
   "metadata": {},
   "outputs": [
    {
     "output_type": "display_data",
     "data": {
      "text/plain": "<Figure size 432x288 with 1 Axes>",
      "image/svg+xml": "<?xml version=\"1.0\" encoding=\"utf-8\" standalone=\"no\"?>\n<!DOCTYPE svg PUBLIC \"-//W3C//DTD SVG 1.1//EN\"\n  \"http://www.w3.org/Graphics/SVG/1.1/DTD/svg11.dtd\">\n<!-- Created with matplotlib (https://matplotlib.org/) -->\n<svg height=\"248.518125pt\" version=\"1.1\" viewBox=\"0 0 368.925 248.518125\" width=\"368.925pt\" xmlns=\"http://www.w3.org/2000/svg\" xmlns:xlink=\"http://www.w3.org/1999/xlink\">\n <defs>\n  <style type=\"text/css\">\n*{stroke-linecap:butt;stroke-linejoin:round;}\n  </style>\n </defs>\n <g id=\"figure_1\">\n  <g id=\"patch_1\">\n   <path d=\"M -0 248.518125 \nL 368.925 248.518125 \nL 368.925 0 \nL -0 0 \nz\n\" style=\"fill:none;\"/>\n  </g>\n  <g id=\"axes_1\">\n   <g id=\"patch_2\">\n    <path d=\"M 26.925 224.64 \nL 361.725 224.64 \nL 361.725 7.2 \nL 26.925 7.2 \nz\n\" style=\"fill:#ffffff;\"/>\n   </g>\n   <g id=\"matplotlib.axis_1\">\n    <g id=\"xtick_1\">\n     <g id=\"line2d_1\">\n      <defs>\n       <path d=\"M 0 0 \nL 0 3.5 \n\" id=\"m93f2c591e7\" style=\"stroke:#000000;stroke-width:0.8;\"/>\n      </defs>\n      <g>\n       <use style=\"stroke:#000000;stroke-width:0.8;\" x=\"37.206077\" xlink:href=\"#m93f2c591e7\" y=\"224.64\"/>\n      </g>\n     </g>\n     <g id=\"text_1\">\n      <!-- −1.00 -->\n      <defs>\n       <path d=\"M 10.59375 35.5 \nL 73.1875 35.5 \nL 73.1875 27.203125 \nL 10.59375 27.203125 \nz\n\" id=\"DejaVuSans-8722\"/>\n       <path d=\"M 12.40625 8.296875 \nL 28.515625 8.296875 \nL 28.515625 63.921875 \nL 10.984375 60.40625 \nL 10.984375 69.390625 \nL 28.421875 72.90625 \nL 38.28125 72.90625 \nL 38.28125 8.296875 \nL 54.390625 8.296875 \nL 54.390625 0 \nL 12.40625 0 \nz\n\" id=\"DejaVuSans-49\"/>\n       <path d=\"M 10.6875 12.40625 \nL 21 12.40625 \nL 21 0 \nL 10.6875 0 \nz\n\" id=\"DejaVuSans-46\"/>\n       <path d=\"M 31.78125 66.40625 \nQ 24.171875 66.40625 20.328125 58.90625 \nQ 16.5 51.421875 16.5 36.375 \nQ 16.5 21.390625 20.328125 13.890625 \nQ 24.171875 6.390625 31.78125 6.390625 \nQ 39.453125 6.390625 43.28125 13.890625 \nQ 47.125 21.390625 47.125 36.375 \nQ 47.125 51.421875 43.28125 58.90625 \nQ 39.453125 66.40625 31.78125 66.40625 \nz\nM 31.78125 74.21875 \nQ 44.046875 74.21875 50.515625 64.515625 \nQ 56.984375 54.828125 56.984375 36.375 \nQ 56.984375 17.96875 50.515625 8.265625 \nQ 44.046875 -1.421875 31.78125 -1.421875 \nQ 19.53125 -1.421875 13.0625 8.265625 \nQ 6.59375 17.96875 6.59375 36.375 \nQ 6.59375 54.828125 13.0625 64.515625 \nQ 19.53125 74.21875 31.78125 74.21875 \nz\n\" id=\"DejaVuSans-48\"/>\n      </defs>\n      <g transform=\"translate(21.883421 239.238438)scale(0.1 -0.1)\">\n       <use xlink:href=\"#DejaVuSans-8722\"/>\n       <use x=\"83.789062\" xlink:href=\"#DejaVuSans-49\"/>\n       <use x=\"147.412109\" xlink:href=\"#DejaVuSans-46\"/>\n       <use x=\"179.199219\" xlink:href=\"#DejaVuSans-48\"/>\n       <use x=\"242.822266\" xlink:href=\"#DejaVuSans-48\"/>\n      </g>\n     </g>\n    </g>\n    <g id=\"xtick_2\">\n     <g id=\"line2d_2\">\n      <g>\n       <use style=\"stroke:#000000;stroke-width:0.8;\" x=\"81.947595\" xlink:href=\"#m93f2c591e7\" y=\"224.64\"/>\n      </g>\n     </g>\n     <g id=\"text_2\">\n      <!-- −0.75 -->\n      <defs>\n       <path d=\"M 8.203125 72.90625 \nL 55.078125 72.90625 \nL 55.078125 68.703125 \nL 28.609375 0 \nL 18.3125 0 \nL 43.21875 64.59375 \nL 8.203125 64.59375 \nz\n\" id=\"DejaVuSans-55\"/>\n       <path d=\"M 10.796875 72.90625 \nL 49.515625 72.90625 \nL 49.515625 64.59375 \nL 19.828125 64.59375 \nL 19.828125 46.734375 \nQ 21.96875 47.46875 24.109375 47.828125 \nQ 26.265625 48.1875 28.421875 48.1875 \nQ 40.625 48.1875 47.75 41.5 \nQ 54.890625 34.8125 54.890625 23.390625 \nQ 54.890625 11.625 47.5625 5.09375 \nQ 40.234375 -1.421875 26.90625 -1.421875 \nQ 22.3125 -1.421875 17.546875 -0.640625 \nQ 12.796875 0.140625 7.71875 1.703125 \nL 7.71875 11.625 \nQ 12.109375 9.234375 16.796875 8.0625 \nQ 21.484375 6.890625 26.703125 6.890625 \nQ 35.15625 6.890625 40.078125 11.328125 \nQ 45.015625 15.765625 45.015625 23.390625 \nQ 45.015625 31 40.078125 35.4375 \nQ 35.15625 39.890625 26.703125 39.890625 \nQ 22.75 39.890625 18.8125 39.015625 \nQ 14.890625 38.140625 10.796875 36.28125 \nz\n\" id=\"DejaVuSans-53\"/>\n      </defs>\n      <g transform=\"translate(66.624939 239.238438)scale(0.1 -0.1)\">\n       <use xlink:href=\"#DejaVuSans-8722\"/>\n       <use x=\"83.789062\" xlink:href=\"#DejaVuSans-48\"/>\n       <use x=\"147.412109\" xlink:href=\"#DejaVuSans-46\"/>\n       <use x=\"179.199219\" xlink:href=\"#DejaVuSans-55\"/>\n       <use x=\"242.822266\" xlink:href=\"#DejaVuSans-53\"/>\n      </g>\n     </g>\n    </g>\n    <g id=\"xtick_3\">\n     <g id=\"line2d_3\">\n      <g>\n       <use style=\"stroke:#000000;stroke-width:0.8;\" x=\"126.689113\" xlink:href=\"#m93f2c591e7\" y=\"224.64\"/>\n      </g>\n     </g>\n     <g id=\"text_3\">\n      <!-- −0.50 -->\n      <g transform=\"translate(111.366457 239.238438)scale(0.1 -0.1)\">\n       <use xlink:href=\"#DejaVuSans-8722\"/>\n       <use x=\"83.789062\" xlink:href=\"#DejaVuSans-48\"/>\n       <use x=\"147.412109\" xlink:href=\"#DejaVuSans-46\"/>\n       <use x=\"179.199219\" xlink:href=\"#DejaVuSans-53\"/>\n       <use x=\"242.822266\" xlink:href=\"#DejaVuSans-48\"/>\n      </g>\n     </g>\n    </g>\n    <g id=\"xtick_4\">\n     <g id=\"line2d_4\">\n      <g>\n       <use style=\"stroke:#000000;stroke-width:0.8;\" x=\"171.430631\" xlink:href=\"#m93f2c591e7\" y=\"224.64\"/>\n      </g>\n     </g>\n     <g id=\"text_4\">\n      <!-- −0.25 -->\n      <defs>\n       <path d=\"M 19.1875 8.296875 \nL 53.609375 8.296875 \nL 53.609375 0 \nL 7.328125 0 \nL 7.328125 8.296875 \nQ 12.9375 14.109375 22.625 23.890625 \nQ 32.328125 33.6875 34.8125 36.53125 \nQ 39.546875 41.84375 41.421875 45.53125 \nQ 43.3125 49.21875 43.3125 52.78125 \nQ 43.3125 58.59375 39.234375 62.25 \nQ 35.15625 65.921875 28.609375 65.921875 \nQ 23.96875 65.921875 18.8125 64.3125 \nQ 13.671875 62.703125 7.8125 59.421875 \nL 7.8125 69.390625 \nQ 13.765625 71.78125 18.9375 73 \nQ 24.125 74.21875 28.421875 74.21875 \nQ 39.75 74.21875 46.484375 68.546875 \nQ 53.21875 62.890625 53.21875 53.421875 \nQ 53.21875 48.921875 51.53125 44.890625 \nQ 49.859375 40.875 45.40625 35.40625 \nQ 44.1875 33.984375 37.640625 27.21875 \nQ 31.109375 20.453125 19.1875 8.296875 \nz\n\" id=\"DejaVuSans-50\"/>\n      </defs>\n      <g transform=\"translate(156.107974 239.238438)scale(0.1 -0.1)\">\n       <use xlink:href=\"#DejaVuSans-8722\"/>\n       <use x=\"83.789062\" xlink:href=\"#DejaVuSans-48\"/>\n       <use x=\"147.412109\" xlink:href=\"#DejaVuSans-46\"/>\n       <use x=\"179.199219\" xlink:href=\"#DejaVuSans-50\"/>\n       <use x=\"242.822266\" xlink:href=\"#DejaVuSans-53\"/>\n      </g>\n     </g>\n    </g>\n    <g id=\"xtick_5\">\n     <g id=\"line2d_5\">\n      <g>\n       <use style=\"stroke:#000000;stroke-width:0.8;\" x=\"216.172148\" xlink:href=\"#m93f2c591e7\" y=\"224.64\"/>\n      </g>\n     </g>\n     <g id=\"text_5\">\n      <!-- 0.00 -->\n      <g transform=\"translate(205.039336 239.238438)scale(0.1 -0.1)\">\n       <use xlink:href=\"#DejaVuSans-48\"/>\n       <use x=\"63.623047\" xlink:href=\"#DejaVuSans-46\"/>\n       <use x=\"95.410156\" xlink:href=\"#DejaVuSans-48\"/>\n       <use x=\"159.033203\" xlink:href=\"#DejaVuSans-48\"/>\n      </g>\n     </g>\n    </g>\n    <g id=\"xtick_6\">\n     <g id=\"line2d_6\">\n      <g>\n       <use style=\"stroke:#000000;stroke-width:0.8;\" x=\"260.913666\" xlink:href=\"#m93f2c591e7\" y=\"224.64\"/>\n      </g>\n     </g>\n     <g id=\"text_6\">\n      <!-- 0.25 -->\n      <g transform=\"translate(249.780853 239.238438)scale(0.1 -0.1)\">\n       <use xlink:href=\"#DejaVuSans-48\"/>\n       <use x=\"63.623047\" xlink:href=\"#DejaVuSans-46\"/>\n       <use x=\"95.410156\" xlink:href=\"#DejaVuSans-50\"/>\n       <use x=\"159.033203\" xlink:href=\"#DejaVuSans-53\"/>\n      </g>\n     </g>\n    </g>\n    <g id=\"xtick_7\">\n     <g id=\"line2d_7\">\n      <g>\n       <use style=\"stroke:#000000;stroke-width:0.8;\" x=\"305.655184\" xlink:href=\"#m93f2c591e7\" y=\"224.64\"/>\n      </g>\n     </g>\n     <g id=\"text_7\">\n      <!-- 0.50 -->\n      <g transform=\"translate(294.522371 239.238438)scale(0.1 -0.1)\">\n       <use xlink:href=\"#DejaVuSans-48\"/>\n       <use x=\"63.623047\" xlink:href=\"#DejaVuSans-46\"/>\n       <use x=\"95.410156\" xlink:href=\"#DejaVuSans-53\"/>\n       <use x=\"159.033203\" xlink:href=\"#DejaVuSans-48\"/>\n      </g>\n     </g>\n    </g>\n    <g id=\"xtick_8\">\n     <g id=\"line2d_8\">\n      <g>\n       <use style=\"stroke:#000000;stroke-width:0.8;\" x=\"350.396701\" xlink:href=\"#m93f2c591e7\" y=\"224.64\"/>\n      </g>\n     </g>\n     <g id=\"text_8\">\n      <!-- 0.75 -->\n      <g transform=\"translate(339.263889 239.238438)scale(0.1 -0.1)\">\n       <use xlink:href=\"#DejaVuSans-48\"/>\n       <use x=\"63.623047\" xlink:href=\"#DejaVuSans-46\"/>\n       <use x=\"95.410156\" xlink:href=\"#DejaVuSans-55\"/>\n       <use x=\"159.033203\" xlink:href=\"#DejaVuSans-53\"/>\n      </g>\n     </g>\n    </g>\n   </g>\n   <g id=\"matplotlib.axis_2\">\n    <g id=\"ytick_1\">\n     <g id=\"line2d_9\">\n      <defs>\n       <path d=\"M 0 0 \nL -3.5 0 \n\" id=\"m6eb1cfd625\" style=\"stroke:#000000;stroke-width:0.8;\"/>\n      </defs>\n      <g>\n       <use style=\"stroke:#000000;stroke-width:0.8;\" x=\"26.925\" xlink:href=\"#m6eb1cfd625\" y=\"212.091304\"/>\n      </g>\n     </g>\n     <g id=\"text_9\">\n      <!-- 20 -->\n      <g transform=\"translate(7.2 215.890523)scale(0.1 -0.1)\">\n       <use xlink:href=\"#DejaVuSans-50\"/>\n       <use x=\"63.623047\" xlink:href=\"#DejaVuSans-48\"/>\n      </g>\n     </g>\n    </g>\n    <g id=\"ytick_2\">\n     <g id=\"line2d_10\">\n      <g>\n       <use style=\"stroke:#000000;stroke-width:0.8;\" x=\"26.925\" xlink:href=\"#m6eb1cfd625\" y=\"179.731625\"/>\n      </g>\n     </g>\n     <g id=\"text_10\">\n      <!-- 22 -->\n      <g transform=\"translate(7.2 183.530844)scale(0.1 -0.1)\">\n       <use xlink:href=\"#DejaVuSans-50\"/>\n       <use x=\"63.623047\" xlink:href=\"#DejaVuSans-50\"/>\n      </g>\n     </g>\n    </g>\n    <g id=\"ytick_3\">\n     <g id=\"line2d_11\">\n      <g>\n       <use style=\"stroke:#000000;stroke-width:0.8;\" x=\"26.925\" xlink:href=\"#m6eb1cfd625\" y=\"147.371946\"/>\n      </g>\n     </g>\n     <g id=\"text_11\">\n      <!-- 24 -->\n      <defs>\n       <path d=\"M 37.796875 64.3125 \nL 12.890625 25.390625 \nL 37.796875 25.390625 \nz\nM 35.203125 72.90625 \nL 47.609375 72.90625 \nL 47.609375 25.390625 \nL 58.015625 25.390625 \nL 58.015625 17.1875 \nL 47.609375 17.1875 \nL 47.609375 0 \nL 37.796875 0 \nL 37.796875 17.1875 \nL 4.890625 17.1875 \nL 4.890625 26.703125 \nz\n\" id=\"DejaVuSans-52\"/>\n      </defs>\n      <g transform=\"translate(7.2 151.171165)scale(0.1 -0.1)\">\n       <use xlink:href=\"#DejaVuSans-50\"/>\n       <use x=\"63.623047\" xlink:href=\"#DejaVuSans-52\"/>\n      </g>\n     </g>\n    </g>\n    <g id=\"ytick_4\">\n     <g id=\"line2d_12\">\n      <g>\n       <use style=\"stroke:#000000;stroke-width:0.8;\" x=\"26.925\" xlink:href=\"#m6eb1cfd625\" y=\"115.012266\"/>\n      </g>\n     </g>\n     <g id=\"text_12\">\n      <!-- 26 -->\n      <defs>\n       <path d=\"M 33.015625 40.375 \nQ 26.375 40.375 22.484375 35.828125 \nQ 18.609375 31.296875 18.609375 23.390625 \nQ 18.609375 15.53125 22.484375 10.953125 \nQ 26.375 6.390625 33.015625 6.390625 \nQ 39.65625 6.390625 43.53125 10.953125 \nQ 47.40625 15.53125 47.40625 23.390625 \nQ 47.40625 31.296875 43.53125 35.828125 \nQ 39.65625 40.375 33.015625 40.375 \nz\nM 52.59375 71.296875 \nL 52.59375 62.3125 \nQ 48.875 64.0625 45.09375 64.984375 \nQ 41.3125 65.921875 37.59375 65.921875 \nQ 27.828125 65.921875 22.671875 59.328125 \nQ 17.53125 52.734375 16.796875 39.40625 \nQ 19.671875 43.65625 24.015625 45.921875 \nQ 28.375 48.1875 33.59375 48.1875 \nQ 44.578125 48.1875 50.953125 41.515625 \nQ 57.328125 34.859375 57.328125 23.390625 \nQ 57.328125 12.15625 50.6875 5.359375 \nQ 44.046875 -1.421875 33.015625 -1.421875 \nQ 20.359375 -1.421875 13.671875 8.265625 \nQ 6.984375 17.96875 6.984375 36.375 \nQ 6.984375 53.65625 15.1875 63.9375 \nQ 23.390625 74.21875 37.203125 74.21875 \nQ 40.921875 74.21875 44.703125 73.484375 \nQ 48.484375 72.75 52.59375 71.296875 \nz\n\" id=\"DejaVuSans-54\"/>\n      </defs>\n      <g transform=\"translate(7.2 118.811485)scale(0.1 -0.1)\">\n       <use xlink:href=\"#DejaVuSans-50\"/>\n       <use x=\"63.623047\" xlink:href=\"#DejaVuSans-54\"/>\n      </g>\n     </g>\n    </g>\n    <g id=\"ytick_5\">\n     <g id=\"line2d_13\">\n      <g>\n       <use style=\"stroke:#000000;stroke-width:0.8;\" x=\"26.925\" xlink:href=\"#m6eb1cfd625\" y=\"82.652587\"/>\n      </g>\n     </g>\n     <g id=\"text_13\">\n      <!-- 28 -->\n      <defs>\n       <path d=\"M 31.78125 34.625 \nQ 24.75 34.625 20.71875 30.859375 \nQ 16.703125 27.09375 16.703125 20.515625 \nQ 16.703125 13.921875 20.71875 10.15625 \nQ 24.75 6.390625 31.78125 6.390625 \nQ 38.8125 6.390625 42.859375 10.171875 \nQ 46.921875 13.96875 46.921875 20.515625 \nQ 46.921875 27.09375 42.890625 30.859375 \nQ 38.875 34.625 31.78125 34.625 \nz\nM 21.921875 38.8125 \nQ 15.578125 40.375 12.03125 44.71875 \nQ 8.5 49.078125 8.5 55.328125 \nQ 8.5 64.0625 14.71875 69.140625 \nQ 20.953125 74.21875 31.78125 74.21875 \nQ 42.671875 74.21875 48.875 69.140625 \nQ 55.078125 64.0625 55.078125 55.328125 \nQ 55.078125 49.078125 51.53125 44.71875 \nQ 48 40.375 41.703125 38.8125 \nQ 48.828125 37.15625 52.796875 32.3125 \nQ 56.78125 27.484375 56.78125 20.515625 \nQ 56.78125 9.90625 50.3125 4.234375 \nQ 43.84375 -1.421875 31.78125 -1.421875 \nQ 19.734375 -1.421875 13.25 4.234375 \nQ 6.78125 9.90625 6.78125 20.515625 \nQ 6.78125 27.484375 10.78125 32.3125 \nQ 14.796875 37.15625 21.921875 38.8125 \nz\nM 18.3125 54.390625 \nQ 18.3125 48.734375 21.84375 45.5625 \nQ 25.390625 42.390625 31.78125 42.390625 \nQ 38.140625 42.390625 41.71875 45.5625 \nQ 45.3125 48.734375 45.3125 54.390625 \nQ 45.3125 60.0625 41.71875 63.234375 \nQ 38.140625 66.40625 31.78125 66.40625 \nQ 25.390625 66.40625 21.84375 63.234375 \nQ 18.3125 60.0625 18.3125 54.390625 \nz\n\" id=\"DejaVuSans-56\"/>\n      </defs>\n      <g transform=\"translate(7.2 86.451806)scale(0.1 -0.1)\">\n       <use xlink:href=\"#DejaVuSans-50\"/>\n       <use x=\"63.623047\" xlink:href=\"#DejaVuSans-56\"/>\n      </g>\n     </g>\n    </g>\n    <g id=\"ytick_6\">\n     <g id=\"line2d_14\">\n      <g>\n       <use style=\"stroke:#000000;stroke-width:0.8;\" x=\"26.925\" xlink:href=\"#m6eb1cfd625\" y=\"50.292908\"/>\n      </g>\n     </g>\n     <g id=\"text_14\">\n      <!-- 30 -->\n      <defs>\n       <path d=\"M 40.578125 39.3125 \nQ 47.65625 37.796875 51.625 33 \nQ 55.609375 28.21875 55.609375 21.1875 \nQ 55.609375 10.40625 48.1875 4.484375 \nQ 40.765625 -1.421875 27.09375 -1.421875 \nQ 22.515625 -1.421875 17.65625 -0.515625 \nQ 12.796875 0.390625 7.625 2.203125 \nL 7.625 11.71875 \nQ 11.71875 9.328125 16.59375 8.109375 \nQ 21.484375 6.890625 26.8125 6.890625 \nQ 36.078125 6.890625 40.9375 10.546875 \nQ 45.796875 14.203125 45.796875 21.1875 \nQ 45.796875 27.640625 41.28125 31.265625 \nQ 36.765625 34.90625 28.71875 34.90625 \nL 20.21875 34.90625 \nL 20.21875 43.015625 \nL 29.109375 43.015625 \nQ 36.375 43.015625 40.234375 45.921875 \nQ 44.09375 48.828125 44.09375 54.296875 \nQ 44.09375 59.90625 40.109375 62.90625 \nQ 36.140625 65.921875 28.71875 65.921875 \nQ 24.65625 65.921875 20.015625 65.03125 \nQ 15.375 64.15625 9.8125 62.3125 \nL 9.8125 71.09375 \nQ 15.4375 72.65625 20.34375 73.4375 \nQ 25.25 74.21875 29.59375 74.21875 \nQ 40.828125 74.21875 47.359375 69.109375 \nQ 53.90625 64.015625 53.90625 55.328125 \nQ 53.90625 49.265625 50.4375 45.09375 \nQ 46.96875 40.921875 40.578125 39.3125 \nz\n\" id=\"DejaVuSans-51\"/>\n      </defs>\n      <g transform=\"translate(7.2 54.092127)scale(0.1 -0.1)\">\n       <use xlink:href=\"#DejaVuSans-51\"/>\n       <use x=\"63.623047\" xlink:href=\"#DejaVuSans-48\"/>\n      </g>\n     </g>\n    </g>\n    <g id=\"ytick_7\">\n     <g id=\"line2d_15\">\n      <g>\n       <use style=\"stroke:#000000;stroke-width:0.8;\" x=\"26.925\" xlink:href=\"#m6eb1cfd625\" y=\"17.933229\"/>\n      </g>\n     </g>\n     <g id=\"text_15\">\n      <!-- 32 -->\n      <g transform=\"translate(7.2 21.732447)scale(0.1 -0.1)\">\n       <use xlink:href=\"#DejaVuSans-51\"/>\n       <use x=\"63.623047\" xlink:href=\"#DejaVuSans-50\"/>\n      </g>\n     </g>\n    </g>\n   </g>\n   <g id=\"line2d_16\">\n    <path clip-path=\"url(#p543d9af651)\" d=\"M 45.883425 17.083636 \nL 151.980607 47.952811 \nL 248.358436 78.688328 \nL 325.383088 110.413451 \nL 346.506818 142.507205 \nL 308.234621 175.487429 \nL 247.856085 203.322328 \nL 202.126522 214.756364 \nL 186.113692 214.179487 \nL 217.012292 208.196265 \nL 223.949616 206.338982 \nL 220.005404 205.90607 \nL 221.900125 206.579756 \nL 222.494886 205.990751 \nL 223.32049 205.590088 \nL 220.499424 205.135172 \nL 222.619607 204.900662 \nL 228.795478 204.381155 \nL 231.873 203.893558 \nL 232.236992 203.327543 \nL 235.848098 203.075196 \nL 236.232784 202.803469 \nL 234.42441 202.734897 \nL 236.955664 202.498103 \nL 236.280381 202.447708 \n\" style=\"fill:none;stroke:#ffa500;stroke-linecap:square;\"/>\n    <defs>\n     <path d=\"M 0 0.5 \nC 0.132602 0.5 0.25979 0.447317 0.353553 0.353553 \nC 0.447317 0.25979 0.5 0.132602 0.5 0 \nC 0.5 -0.132602 0.447317 -0.25979 0.353553 -0.353553 \nC 0.25979 -0.447317 0.132602 -0.5 0 -0.5 \nC -0.132602 -0.5 -0.25979 -0.447317 -0.353553 -0.353553 \nC -0.447317 -0.25979 -0.5 -0.132602 -0.5 0 \nC -0.5 0.132602 -0.447317 0.25979 -0.353553 0.353553 \nC -0.25979 0.447317 -0.132602 0.5 0 0.5 \nz\n\" id=\"mf8880dae0d\" style=\"stroke:#ffa500;\"/>\n    </defs>\n    <g clip-path=\"url(#p543d9af651)\">\n     <use style=\"fill:#ffa500;stroke:#ffa500;\" x=\"45.883425\" xlink:href=\"#mf8880dae0d\" y=\"17.083636\"/>\n     <use style=\"fill:#ffa500;stroke:#ffa500;\" x=\"151.980607\" xlink:href=\"#mf8880dae0d\" y=\"47.952811\"/>\n     <use style=\"fill:#ffa500;stroke:#ffa500;\" x=\"248.358436\" xlink:href=\"#mf8880dae0d\" y=\"78.688328\"/>\n     <use style=\"fill:#ffa500;stroke:#ffa500;\" x=\"325.383088\" xlink:href=\"#mf8880dae0d\" y=\"110.413451\"/>\n     <use style=\"fill:#ffa500;stroke:#ffa500;\" x=\"346.506818\" xlink:href=\"#mf8880dae0d\" y=\"142.507205\"/>\n     <use style=\"fill:#ffa500;stroke:#ffa500;\" x=\"308.234621\" xlink:href=\"#mf8880dae0d\" y=\"175.487429\"/>\n     <use style=\"fill:#ffa500;stroke:#ffa500;\" x=\"247.856085\" xlink:href=\"#mf8880dae0d\" y=\"203.322328\"/>\n     <use style=\"fill:#ffa500;stroke:#ffa500;\" x=\"202.126522\" xlink:href=\"#mf8880dae0d\" y=\"214.756364\"/>\n     <use style=\"fill:#ffa500;stroke:#ffa500;\" x=\"186.113692\" xlink:href=\"#mf8880dae0d\" y=\"214.179487\"/>\n     <use style=\"fill:#ffa500;stroke:#ffa500;\" x=\"217.012292\" xlink:href=\"#mf8880dae0d\" y=\"208.196265\"/>\n     <use style=\"fill:#ffa500;stroke:#ffa500;\" x=\"223.949616\" xlink:href=\"#mf8880dae0d\" y=\"206.338982\"/>\n     <use style=\"fill:#ffa500;stroke:#ffa500;\" x=\"220.005404\" xlink:href=\"#mf8880dae0d\" y=\"205.90607\"/>\n     <use style=\"fill:#ffa500;stroke:#ffa500;\" x=\"221.900125\" xlink:href=\"#mf8880dae0d\" y=\"206.579756\"/>\n     <use style=\"fill:#ffa500;stroke:#ffa500;\" x=\"222.494886\" xlink:href=\"#mf8880dae0d\" y=\"205.990751\"/>\n     <use style=\"fill:#ffa500;stroke:#ffa500;\" x=\"223.32049\" xlink:href=\"#mf8880dae0d\" y=\"205.590088\"/>\n     <use style=\"fill:#ffa500;stroke:#ffa500;\" x=\"220.499424\" xlink:href=\"#mf8880dae0d\" y=\"205.135172\"/>\n     <use style=\"fill:#ffa500;stroke:#ffa500;\" x=\"222.619607\" xlink:href=\"#mf8880dae0d\" y=\"204.900662\"/>\n     <use style=\"fill:#ffa500;stroke:#ffa500;\" x=\"228.795478\" xlink:href=\"#mf8880dae0d\" y=\"204.381155\"/>\n     <use style=\"fill:#ffa500;stroke:#ffa500;\" x=\"231.873\" xlink:href=\"#mf8880dae0d\" y=\"203.893558\"/>\n     <use style=\"fill:#ffa500;stroke:#ffa500;\" x=\"232.236992\" xlink:href=\"#mf8880dae0d\" y=\"203.327543\"/>\n     <use style=\"fill:#ffa500;stroke:#ffa500;\" x=\"235.848098\" xlink:href=\"#mf8880dae0d\" y=\"203.075196\"/>\n     <use style=\"fill:#ffa500;stroke:#ffa500;\" x=\"236.232784\" xlink:href=\"#mf8880dae0d\" y=\"202.803469\"/>\n     <use style=\"fill:#ffa500;stroke:#ffa500;\" x=\"234.42441\" xlink:href=\"#mf8880dae0d\" y=\"202.734897\"/>\n     <use style=\"fill:#ffa500;stroke:#ffa500;\" x=\"236.955664\" xlink:href=\"#mf8880dae0d\" y=\"202.498103\"/>\n     <use style=\"fill:#ffa500;stroke:#ffa500;\" x=\"236.280381\" xlink:href=\"#mf8880dae0d\" y=\"202.447708\"/>\n    </g>\n   </g>\n   <g id=\"line2d_17\">\n    <path clip-path=\"url(#p543d9af651)\" d=\"M 42.143182 17.122089 \nL 111.157166 47.683521 \nL 185.069903 78.181041 \nL 243.945603 108.882488 \nL 278.68002 139.887511 \nL 268.894952 171.140961 \nL 237.674284 202.458077 \nL 237.674284 202.458077 \nL 237.674284 202.458077 \nL 237.674284 202.458077 \nL 237.674284 202.458077 \nL 237.674284 202.458077 \nL 237.674284 202.458077 \nL 237.674284 202.458077 \nL 237.674284 202.458077 \nL 237.674284 202.458077 \nL 237.674284 202.458077 \nL 237.674284 202.458077 \nL 237.674284 202.458077 \nL 237.674284 202.458077 \nL 237.674284 202.458077 \nL 237.674284 202.458077 \nL 237.674284 202.458077 \nL 237.674284 202.458077 \nL 237.674284 202.458077 \n\" style=\"fill:none;stroke:#7cfc00;stroke-linecap:square;\"/>\n    <defs>\n     <path d=\"M 0 1 \nC 0.265203 1 0.51958 0.894634 0.707107 0.707107 \nC 0.894634 0.51958 1 0.265203 1 0 \nC 1 -0.265203 0.894634 -0.51958 0.707107 -0.707107 \nC 0.51958 -0.894634 0.265203 -1 0 -1 \nC -0.265203 -1 -0.51958 -0.894634 -0.707107 -0.707107 \nC -0.894634 -0.51958 -1 -0.265203 -1 0 \nC -1 0.265203 -0.894634 0.51958 -0.707107 0.707107 \nC -0.51958 0.894634 -0.265203 1 0 1 \nz\n\" id=\"m510a30a14e\" style=\"stroke:#7cfc00;\"/>\n    </defs>\n    <g clip-path=\"url(#p543d9af651)\">\n     <use style=\"fill:#7cfc00;stroke:#7cfc00;\" x=\"42.143182\" xlink:href=\"#m510a30a14e\" y=\"17.122089\"/>\n     <use style=\"fill:#7cfc00;stroke:#7cfc00;\" x=\"111.157166\" xlink:href=\"#m510a30a14e\" y=\"47.683521\"/>\n     <use style=\"fill:#7cfc00;stroke:#7cfc00;\" x=\"185.069903\" xlink:href=\"#m510a30a14e\" y=\"78.181041\"/>\n     <use style=\"fill:#7cfc00;stroke:#7cfc00;\" x=\"243.945603\" xlink:href=\"#m510a30a14e\" y=\"108.882488\"/>\n     <use style=\"fill:#7cfc00;stroke:#7cfc00;\" x=\"278.68002\" xlink:href=\"#m510a30a14e\" y=\"139.887511\"/>\n     <use style=\"fill:#7cfc00;stroke:#7cfc00;\" x=\"268.894952\" xlink:href=\"#m510a30a14e\" y=\"171.140961\"/>\n     <use style=\"fill:#7cfc00;stroke:#7cfc00;\" x=\"237.674284\" xlink:href=\"#m510a30a14e\" y=\"202.458077\"/>\n     <use style=\"fill:#7cfc00;stroke:#7cfc00;\" x=\"237.674284\" xlink:href=\"#m510a30a14e\" y=\"202.458077\"/>\n     <use style=\"fill:#7cfc00;stroke:#7cfc00;\" x=\"237.674284\" xlink:href=\"#m510a30a14e\" y=\"202.458077\"/>\n     <use style=\"fill:#7cfc00;stroke:#7cfc00;\" x=\"237.674284\" xlink:href=\"#m510a30a14e\" y=\"202.458077\"/>\n     <use style=\"fill:#7cfc00;stroke:#7cfc00;\" x=\"237.674284\" xlink:href=\"#m510a30a14e\" y=\"202.458077\"/>\n     <use style=\"fill:#7cfc00;stroke:#7cfc00;\" x=\"237.674284\" xlink:href=\"#m510a30a14e\" y=\"202.458077\"/>\n     <use style=\"fill:#7cfc00;stroke:#7cfc00;\" x=\"237.674284\" xlink:href=\"#m510a30a14e\" y=\"202.458077\"/>\n     <use style=\"fill:#7cfc00;stroke:#7cfc00;\" x=\"237.674284\" xlink:href=\"#m510a30a14e\" y=\"202.458077\"/>\n     <use style=\"fill:#7cfc00;stroke:#7cfc00;\" x=\"237.674284\" xlink:href=\"#m510a30a14e\" y=\"202.458077\"/>\n     <use style=\"fill:#7cfc00;stroke:#7cfc00;\" x=\"237.674284\" xlink:href=\"#m510a30a14e\" y=\"202.458077\"/>\n     <use style=\"fill:#7cfc00;stroke:#7cfc00;\" x=\"237.674284\" xlink:href=\"#m510a30a14e\" y=\"202.458077\"/>\n     <use style=\"fill:#7cfc00;stroke:#7cfc00;\" x=\"237.674284\" xlink:href=\"#m510a30a14e\" y=\"202.458077\"/>\n     <use style=\"fill:#7cfc00;stroke:#7cfc00;\" x=\"237.674284\" xlink:href=\"#m510a30a14e\" y=\"202.458077\"/>\n     <use style=\"fill:#7cfc00;stroke:#7cfc00;\" x=\"237.674284\" xlink:href=\"#m510a30a14e\" y=\"202.458077\"/>\n     <use style=\"fill:#7cfc00;stroke:#7cfc00;\" x=\"237.674284\" xlink:href=\"#m510a30a14e\" y=\"202.458077\"/>\n     <use style=\"fill:#7cfc00;stroke:#7cfc00;\" x=\"237.674284\" xlink:href=\"#m510a30a14e\" y=\"202.458077\"/>\n     <use style=\"fill:#7cfc00;stroke:#7cfc00;\" x=\"237.674284\" xlink:href=\"#m510a30a14e\" y=\"202.458077\"/>\n     <use style=\"fill:#7cfc00;stroke:#7cfc00;\" x=\"237.674284\" xlink:href=\"#m510a30a14e\" y=\"202.458077\"/>\n     <use style=\"fill:#7cfc00;stroke:#7cfc00;\" x=\"237.674284\" xlink:href=\"#m510a30a14e\" y=\"202.458077\"/>\n    </g>\n   </g>\n   <g id=\"line2d_18\">\n    <path clip-path=\"url(#p543d9af651)\" d=\"M 42.143182 17.122089 \nL 111.157166 47.683521 \nL 185.069903 78.181041 \nL 243.945603 108.882488 \nL 278.68002 139.887511 \nL 268.894952 171.140961 \nL 237.674284 202.458077 \nL 237.674284 202.458077 \nL 237.674284 202.458077 \nL 237.674284 202.458077 \nL 237.674284 202.458077 \nL 237.674284 202.458077 \nL 237.674284 202.458077 \nL 237.674284 202.458077 \nL 237.674284 202.458077 \nL 237.674284 202.458077 \nL 237.674284 202.458077 \nL 237.674284 202.458077 \nL 237.674284 202.458077 \nL 237.674284 202.458077 \nL 237.674284 202.458077 \nL 237.674284 202.458077 \nL 237.674284 202.458077 \nL 237.674284 202.458077 \nL 237.674284 202.458077 \n\" style=\"fill:none;stroke:#ffff00;stroke-linecap:square;\"/>\n    <defs>\n     <path d=\"M 0 1 \nC 0.265203 1 0.51958 0.894634 0.707107 0.707107 \nC 0.894634 0.51958 1 0.265203 1 0 \nC 1 -0.265203 0.894634 -0.51958 0.707107 -0.707107 \nC 0.51958 -0.894634 0.265203 -1 0 -1 \nC -0.265203 -1 -0.51958 -0.894634 -0.707107 -0.707107 \nC -0.894634 -0.51958 -1 -0.265203 -1 0 \nC -1 0.265203 -0.894634 0.51958 -0.707107 0.707107 \nC -0.51958 0.894634 -0.265203 1 0 1 \nz\n\" id=\"m08130f17da\" style=\"stroke:#ffff00;\"/>\n    </defs>\n    <g clip-path=\"url(#p543d9af651)\">\n     <use style=\"fill:#ffff00;stroke:#ffff00;\" x=\"42.143182\" xlink:href=\"#m08130f17da\" y=\"17.122089\"/>\n     <use style=\"fill:#ffff00;stroke:#ffff00;\" x=\"111.157166\" xlink:href=\"#m08130f17da\" y=\"47.683521\"/>\n     <use style=\"fill:#ffff00;stroke:#ffff00;\" x=\"185.069903\" xlink:href=\"#m08130f17da\" y=\"78.181041\"/>\n     <use style=\"fill:#ffff00;stroke:#ffff00;\" x=\"243.945603\" xlink:href=\"#m08130f17da\" y=\"108.882488\"/>\n     <use style=\"fill:#ffff00;stroke:#ffff00;\" x=\"278.68002\" xlink:href=\"#m08130f17da\" y=\"139.887511\"/>\n     <use style=\"fill:#ffff00;stroke:#ffff00;\" x=\"268.894952\" xlink:href=\"#m08130f17da\" y=\"171.140961\"/>\n     <use style=\"fill:#ffff00;stroke:#ffff00;\" x=\"237.674284\" xlink:href=\"#m08130f17da\" y=\"202.458077\"/>\n     <use style=\"fill:#ffff00;stroke:#ffff00;\" x=\"237.674284\" xlink:href=\"#m08130f17da\" y=\"202.458077\"/>\n     <use style=\"fill:#ffff00;stroke:#ffff00;\" x=\"237.674284\" xlink:href=\"#m08130f17da\" y=\"202.458077\"/>\n     <use style=\"fill:#ffff00;stroke:#ffff00;\" x=\"237.674284\" xlink:href=\"#m08130f17da\" y=\"202.458077\"/>\n     <use style=\"fill:#ffff00;stroke:#ffff00;\" x=\"237.674284\" xlink:href=\"#m08130f17da\" y=\"202.458077\"/>\n     <use style=\"fill:#ffff00;stroke:#ffff00;\" x=\"237.674284\" xlink:href=\"#m08130f17da\" y=\"202.458077\"/>\n     <use style=\"fill:#ffff00;stroke:#ffff00;\" x=\"237.674284\" xlink:href=\"#m08130f17da\" y=\"202.458077\"/>\n     <use style=\"fill:#ffff00;stroke:#ffff00;\" x=\"237.674284\" xlink:href=\"#m08130f17da\" y=\"202.458077\"/>\n     <use style=\"fill:#ffff00;stroke:#ffff00;\" x=\"237.674284\" xlink:href=\"#m08130f17da\" y=\"202.458077\"/>\n     <use style=\"fill:#ffff00;stroke:#ffff00;\" x=\"237.674284\" xlink:href=\"#m08130f17da\" y=\"202.458077\"/>\n     <use style=\"fill:#ffff00;stroke:#ffff00;\" x=\"237.674284\" xlink:href=\"#m08130f17da\" y=\"202.458077\"/>\n     <use style=\"fill:#ffff00;stroke:#ffff00;\" x=\"237.674284\" xlink:href=\"#m08130f17da\" y=\"202.458077\"/>\n     <use style=\"fill:#ffff00;stroke:#ffff00;\" x=\"237.674284\" xlink:href=\"#m08130f17da\" y=\"202.458077\"/>\n     <use style=\"fill:#ffff00;stroke:#ffff00;\" x=\"237.674284\" xlink:href=\"#m08130f17da\" y=\"202.458077\"/>\n     <use style=\"fill:#ffff00;stroke:#ffff00;\" x=\"237.674284\" xlink:href=\"#m08130f17da\" y=\"202.458077\"/>\n     <use style=\"fill:#ffff00;stroke:#ffff00;\" x=\"237.674284\" xlink:href=\"#m08130f17da\" y=\"202.458077\"/>\n     <use style=\"fill:#ffff00;stroke:#ffff00;\" x=\"237.674284\" xlink:href=\"#m08130f17da\" y=\"202.458077\"/>\n     <use style=\"fill:#ffff00;stroke:#ffff00;\" x=\"237.674284\" xlink:href=\"#m08130f17da\" y=\"202.458077\"/>\n     <use style=\"fill:#ffff00;stroke:#ffff00;\" x=\"237.674284\" xlink:href=\"#m08130f17da\" y=\"202.458077\"/>\n    </g>\n   </g>\n   <g id=\"patch_3\">\n    <path d=\"M 26.925 224.64 \nL 26.925 7.2 \n\" style=\"fill:none;stroke:#000000;stroke-linecap:square;stroke-linejoin:miter;stroke-width:0.8;\"/>\n   </g>\n   <g id=\"patch_4\">\n    <path d=\"M 361.725 224.64 \nL 361.725 7.2 \n\" style=\"fill:none;stroke:#000000;stroke-linecap:square;stroke-linejoin:miter;stroke-width:0.8;\"/>\n   </g>\n   <g id=\"patch_5\">\n    <path d=\"M 26.925 224.64 \nL 361.725 224.64 \n\" style=\"fill:none;stroke:#000000;stroke-linecap:square;stroke-linejoin:miter;stroke-width:0.8;\"/>\n   </g>\n   <g id=\"patch_6\">\n    <path d=\"M 26.925 7.2 \nL 361.725 7.2 \n\" style=\"fill:none;stroke:#000000;stroke-linecap:square;stroke-linejoin:miter;stroke-width:0.8;\"/>\n   </g>\n  </g>\n </g>\n <defs>\n  <clipPath id=\"p543d9af651\">\n   <rect height=\"217.44\" width=\"334.8\" x=\"26.925\" y=\"7.2\"/>\n  </clipPath>\n </defs>\n</svg>\n",
      "image/png": "[encoded data removed]"
     },
     "metadata": {
      "needs_background": "light"
     }
    },
    {
     "output_type": "stream",
     "name": "stdout",
     "text": [
      "[[-0.97241318 32.05013275]\n [-0.5867871  30.16127396]\n [-0.1737885  28.27636528]\n [ 0.15518838 26.37885284]\n [ 0.34927219 24.46257782]\n [ 0.29459664 22.53094864]\n [ 0.12014644 20.5953846 ]\n [ 0.12014644 20.5953846 ]\n [ 0.12014644 20.5953846 ]\n [ 0.12014644 20.5953846 ]\n [ 0.12014644 20.5953846 ]\n [ 0.12014644 20.5953846 ]\n [ 0.12014644 20.5953846 ]\n [ 0.12014644 20.5953846 ]\n [ 0.12014644 20.5953846 ]\n [ 0.12014644 20.5953846 ]\n [ 0.12014644 20.5953846 ]\n [ 0.12014644 20.5953846 ]\n [ 0.12014644 20.5953846 ]\n [ 0.12014644 20.5953846 ]\n [ 0.12014644 20.5953846 ]\n [ 0.12014644 20.5953846 ]\n [ 0.12014644 20.5953846 ]\n [ 0.12014644 20.5953846 ]\n [ 0.12014644 20.5953846 ]]\n"
     ]
    }
   ],
   "source": [
    "plt.plot(predictions[test_idx][:,0],predictions[test_idx][:,1],'-o', color = 'orange', markersize=1, linewidth=1)\n",
    "plt.plot(np_tst_init_path[test_idx][:,0],np_tst_init_path[test_idx][:,1],'-o', color='lawngreen',markersize=2, linewidth=1)\n",
    "plt.plot(np_tst_opt_path[test_idx][:,0],np_tst_opt_path[test_idx][:,1],'-o', color='yellow',markersize=2, linewidth=1)\n",
    "plt.show()\n",
    "\n",
    "print(np_tst_init_path[test_idx])"
   ]
  },
  {
   "source": [
    "## Scenario based dataset creation"
   ],
   "cell_type": "markdown",
   "metadata": {}
  },
  {
   "cell_type": "code",
   "execution_count": 1,
   "metadata": {},
   "outputs": [
    {
     "output_type": "execute_result",
     "data": {
      "text/plain": [
       "['/netpool/work/gpu-3/users/malyalasa/New_folder/tf_records/scenario1',\n",
       " '/netpool/work/gpu-3/users/malyalasa/New_folder/tf_records/scenario2',\n",
       " '/netpool/work/gpu-3/users/malyalasa/New_folder/tf_records/scenario3',\n",
       " '/netpool/work/gpu-3/users/malyalasa/New_folder/tf_records/scenario4',\n",
       " '/netpool/work/gpu-3/users/malyalasa/New_folder/tf_records/scenario5',\n",
       " '/netpool/work/gpu-3/users/malyalasa/New_folder/tf_records/scenario6',\n",
       " '/netpool/work/gpu-3/users/malyalasa/New_folder/tf_records/scenario7',\n",
       " '/netpool/work/gpu-3/users/malyalasa/New_folder/tf_records/scenario8']"
      ]
     },
     "metadata": {},
     "execution_count": 1
    }
   ],
   "source": [
    "from glob import glob\n",
    "import random\n",
    "import numpy as np\n",
    "path ='/netpool/work/gpu-3/users/malyalasa/New_folder/tf_records'\n",
    "scenario_list = glob(f\"{path}/*\")\n",
    "scenario_list"
   ]
  },
  {
   "cell_type": "code",
   "execution_count": 2,
   "metadata": {},
   "outputs": [
    {
     "output_type": "execute_result",
     "data": {
      "text/plain": [
       "['/netpool/work/gpu-3/users/malyalasa/New_folder/tf_records/scenario2',\n",
       " '/netpool/work/gpu-3/users/malyalasa/New_folder/tf_records/scenario4',\n",
       " '/netpool/work/gpu-3/users/malyalasa/New_folder/tf_records/scenario1',\n",
       " '/netpool/work/gpu-3/users/malyalasa/New_folder/tf_records/scenario3',\n",
       " '/netpool/work/gpu-3/users/malyalasa/New_folder/tf_records/scenario5',\n",
       " '/netpool/work/gpu-3/users/malyalasa/New_folder/tf_records/scenario6',\n",
       " '/netpool/work/gpu-3/users/malyalasa/New_folder/tf_records/scenario8',\n",
       " '/netpool/work/gpu-3/users/malyalasa/New_folder/tf_records/scenario7']"
      ]
     },
     "metadata": {},
     "execution_count": 2
    }
   ],
   "source": [
    "random.Random(2021).shuffle(scenario_list)\n",
    "scenario_list\n"
   ]
  },
  {
   "cell_type": "code",
   "execution_count": 10,
   "metadata": {},
   "outputs": [],
   "source": [
    "def collect_tfrec_paths(list_dir):\n",
    "    assert len(list_dir)>=1\n",
    "    if len(list_dir)>1 :\n",
    "        list_in_list= [glob(f\"{fold_path}/**/*.tfrec\", recursive=True) for fold_path in list_dir]\n",
    "        flat_list = (np.concatenate(list_in_list).tolist())\n",
    "    else:\n",
    "\n",
    "        flat_list=glob(f\"{list_dir[0]}/**/*.tfrec\", recursive=True)\n",
    "    return flat_list\n"
   ]
  },
  {
   "cell_type": "code",
   "execution_count": 11,
   "metadata": {},
   "outputs": [
    {
     "output_type": "execute_result",
     "data": {
      "text/plain": [
       "450"
      ]
     },
     "metadata": {},
     "execution_count": 11
    }
   ],
   "source": [
    "len(collect_tfrec_paths(scenario_list[0:6]))"
   ]
  },
  {
   "cell_type": "code",
   "execution_count": 12,
   "metadata": {},
   "outputs": [
    {
     "output_type": "execute_result",
     "data": {
      "text/plain": [
       "['/netpool/work/gpu-3/users/malyalasa/New_folder/tf_records/scenario1/2021-06-10_08-54-06/2021-06-10_08-54-07_0_file_00-16.tfrec',\n",
       " '/netpool/work/gpu-3/users/malyalasa/New_folder/tf_records/scenario1/2021-06-10_08-54-06/2021-06-10_08-54-07_0_file_01-16.tfrec',\n",
       " '/netpool/work/gpu-3/users/malyalasa/New_folder/tf_records/scenario1/2021-06-10_08-54-06/2021-06-10_08-54-07_0_file_02-16.tfrec',\n",
       " '/netpool/work/gpu-3/users/malyalasa/New_folder/tf_records/scenario1/2021-06-10_08-54-06/2021-06-10_08-54-07_0_file_03-16.tfrec',\n",
       " '/netpool/work/gpu-3/users/malyalasa/New_folder/tf_records/scenario1/2021-06-10_08-54-06/2021-06-10_08-54-07_0_file_04-16.tfrec',\n",
       " '/netpool/work/gpu-3/users/malyalasa/New_folder/tf_records/scenario1/2021-06-10_08-54-06/2021-06-10_08-54-07_0_file_05-15.tfrec',\n",
       " '/netpool/work/gpu-3/users/malyalasa/New_folder/tf_records/scenario1/2021-06-10_08-54-06/2021-06-10_08-55-07_1_file_00-16.tfrec',\n",
       " '/netpool/work/gpu-3/users/malyalasa/New_folder/tf_records/scenario1/2021-06-10_08-54-06/2021-06-10_08-55-07_1_file_01-16.tfrec',\n",
       " '/netpool/work/gpu-3/users/malyalasa/New_folder/tf_records/scenario1/2021-06-10_08-54-06/2021-06-10_08-55-07_1_file_02-16.tfrec',\n",
       " '/netpool/work/gpu-3/users/malyalasa/New_folder/tf_records/scenario1/2021-06-10_08-54-06/2021-06-10_08-55-07_1_file_03-16.tfrec',\n",
       " '/netpool/work/gpu-3/users/malyalasa/New_folder/tf_records/scenario1/2021-06-10_08-54-06/2021-06-10_08-55-07_1_file_04-16.tfrec',\n",
       " '/netpool/work/gpu-3/users/malyalasa/New_folder/tf_records/scenario1/2021-06-10_08-54-06/2021-06-10_08-55-07_1_file_05-12.tfrec',\n",
       " '/netpool/work/gpu-3/users/malyalasa/New_folder/tf_records/scenario1/2021-06-10_08-58-25/2021-06-10_08-58-27_0_file_00-16.tfrec',\n",
       " '/netpool/work/gpu-3/users/malyalasa/New_folder/tf_records/scenario1/2021-06-10_08-58-25/2021-06-10_08-58-27_0_file_01-16.tfrec',\n",
       " '/netpool/work/gpu-3/users/malyalasa/New_folder/tf_records/scenario1/2021-06-10_08-58-25/2021-06-10_08-58-27_0_file_02-16.tfrec',\n",
       " '/netpool/work/gpu-3/users/malyalasa/New_folder/tf_records/scenario1/2021-06-10_08-58-25/2021-06-10_08-58-27_0_file_03-16.tfrec',\n",
       " '/netpool/work/gpu-3/users/malyalasa/New_folder/tf_records/scenario1/2021-06-10_08-58-25/2021-06-10_08-58-27_0_file_04-16.tfrec',\n",
       " '/netpool/work/gpu-3/users/malyalasa/New_folder/tf_records/scenario1/2021-06-10_08-58-25/2021-06-10_08-58-27_0_file_05-16.tfrec',\n",
       " '/netpool/work/gpu-3/users/malyalasa/New_folder/tf_records/scenario1/2021-06-10_09-02-12/2021-06-10_09-02-13_0_file_00-16.tfrec',\n",
       " '/netpool/work/gpu-3/users/malyalasa/New_folder/tf_records/scenario1/2021-06-10_09-02-12/2021-06-10_09-02-13_0_file_01-16.tfrec',\n",
       " '/netpool/work/gpu-3/users/malyalasa/New_folder/tf_records/scenario1/2021-06-10_09-02-12/2021-06-10_09-02-13_0_file_02-16.tfrec',\n",
       " '/netpool/work/gpu-3/users/malyalasa/New_folder/tf_records/scenario1/2021-06-10_09-02-12/2021-06-10_09-02-13_0_file_03-16.tfrec',\n",
       " '/netpool/work/gpu-3/users/malyalasa/New_folder/tf_records/scenario1/2021-06-10_09-02-12/2021-06-10_09-02-13_0_file_04-16.tfrec']"
      ]
     },
     "metadata": {},
     "execution_count": 12
    }
   ],
   "source": [
    "scenario_list[0]\n",
    "glob(f\"{scenario_list[0]}/**/*.tfrec\", recursive=True)"
   ]
  },
  {
   "cell_type": "code",
   "execution_count": 13,
   "metadata": {},
   "outputs": [
    {
     "output_type": "execute_result",
     "data": {
      "text/plain": [
       "86"
      ]
     },
     "metadata": {},
     "execution_count": 13
    }
   ],
   "source": [
    "len(collect_tfrec_paths(scenario_list[6:7]))"
   ]
  },
  {
   "cell_type": "code",
   "execution_count": 15,
   "metadata": {},
   "outputs": [
    {
     "output_type": "execute_result",
     "data": {
      "text/plain": [
       "47"
      ]
     },
     "metadata": {},
     "execution_count": 15
    }
   ],
   "source": [
    "len(collect_tfrec_paths(scenario_list[7:8]))"
   ]
  },
  {
   "cell_type": "code",
   "execution_count": null,
   "metadata": {},
   "outputs": [],
   "source": []
  }
 ]
}