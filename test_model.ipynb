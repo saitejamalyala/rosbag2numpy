{
 "metadata": {
  "language_info": {
   "codemirror_mode": {
    "name": "ipython",
    "version": 3
   },
   "file_extension": ".py",
   "mimetype": "text/x-python",
   "name": "python",
   "nbconvert_exporter": "python",
   "pygments_lexer": "ipython3",
   "version": "3.8.0"
  },
  "orig_nbformat": 4,
  "kernelspec": {
   "name": "python3",
   "display_name": "Python 3.8.0 64-bit ('env_mt': conda)"
  },
  "interpreter": {
   "hash": "c8d0ec656e5d9378a37156be2b24f16488b2546b8a772b439e0e56117764b87a"
  }
 },
 "nbformat": 4,
 "nbformat_minor": 2,
 "cells": [
  {
   "cell_type": "code",
   "execution_count": 1,
   "metadata": {},
   "outputs": [
    {
     "output_type": "stream",
     "name": "stdout",
     "text": [
      "2.3.0\nNum GPUs Available:  8\n"
     ]
    }
   ],
   "source": [
    "from tensorflow.keras import layers\n",
    "from tensorflow import keras\n",
    "import tensorflow.keras.backend as K\n",
    "import tensorflow as tf\n",
    "from glob import glob\n",
    "from tqdm import trange\n",
    "from typing import List,Tuple\n",
    "from data_processing.data_loader import dataset_loader\n",
    "from losses import euclidean_distance_loss,endpoint_loss\n",
    "from models import endpoint_in_model\n",
    "from matplotlib import pyplot as plt\n",
    "import numpy as np\n",
    "from config import params\n",
    "print(tf.__version__)\n",
    "print(\"Num GPUs Available: \", len(tf.config.list_physical_devices('GPU')))\n",
    "\n",
    "os.environ['CUDA_VISIBLE_DEVICES']=\"5,6,7\""
   ]
  },
  {
   "cell_type": "code",
   "execution_count": 2,
   "metadata": {},
   "outputs": [
    {
     "output_type": "stream",
     "name": "stdout",
     "text": [
      "Number of records, Train files:408, validation files:88, Test Files:87\n",
      "Building Dataset.......\n",
      "\n",
      "((TensorSpec(shape=(None, 1536, 1536), dtype=tf.int8, name=None),\n",
      "  TensorSpec(shape=(None, None), dtype=tf.float32, name=None),\n",
      "  TensorSpec(shape=(None, 25, 2), dtype=tf.float32, name=None),\n",
      "  TensorSpec(shape=(None, 25, 2), dtype=tf.float32, name=None),\n",
      "  TensorSpec(shape=(None, None), dtype=tf.float32, name=None),\n",
      "  TensorSpec(shape=(None, 25, 2), dtype=tf.float32, name=None),\n",
      "  TensorSpec(shape=(None,), dtype=tf.string, name=None)),\n",
      " TensorSpec(shape=(None, 25, 2), dtype=tf.float32, name=None))\n"
     ]
    }
   ],
   "source": [
    "dataset_dir='/netpool/work/gpu-3/users/malyalasa/New_folder/tf_records'\n",
    "ds_loader = dataset_loader(tfrec_dir=dataset_dir,batch_size=32)\n",
    "ds_train,ds_valid,ds_test= ds_loader.build_dataset()"
   ]
  },
  {
   "cell_type": "code",
   "execution_count": 3,
   "metadata": {},
   "outputs": [],
   "source": [
    "list_mask=[[1., 1.],\n",
    "       [0., 0.],\n",
    "       [0., 0.],\n",
    "       [0., 0.],\n",
    "       [0., 0.],\n",
    "       [0., 0.],\n",
    "       [0., 0.],\n",
    "       [0., 0.],\n",
    "       [0., 0.],\n",
    "       [0., 0.],\n",
    "       [0., 0.],\n",
    "       [0., 0.],\n",
    "       [0., 0.],\n",
    "       [0., 0.],\n",
    "       [0., 0.],\n",
    "       [0., 0.],\n",
    "       [0., 0.],\n",
    "       [0., 0.],\n",
    "       [0., 0.],\n",
    "       [0., 0.],\n",
    "       [0., 0.],\n",
    "       [0., 0.],\n",
    "       [0., 0.],\n",
    "       [0., 0.],\n",
    "       [1., 1.]]\n"
   ]
  },
  {
   "cell_type": "code",
   "execution_count": 4,
   "metadata": {},
   "outputs": [
    {
     "output_type": "stream",
     "name": "stdout",
     "text": [
      "42/42 [==============================] - 1s 33ms/step - loss: 0.2345 - accuracy: 1.0000\n"
     ]
    }
   ],
   "source": [
    "#pp_model=tf.keras.models.load_model('/netpool/work/gpu-3/users/malyalasa/New_folder/wandb/run-20210625_053926-21xquqgr/files/model-best.h5',compile=False)\n",
    "#pp_model = nn()\n",
    "#pp_model.load_weights()\n",
    "pp_model = tf.keras.models.load_model('/netpool/work/gpu-3/users/malyalasa/New_folder/wandb/latest-run/files/model-best.h5',compile=False,custom_objects={'CustomMaskLayer':endpoint_in_model.CustomMaskLayer})\n",
    "#pp_model=tf.keras.models.load_model('/netpool/work/gpu-3/users/malyalasa/New_folder/wandb/run-20210625_053926-21xquqgr/files/model-best.h5',compile=False)\n",
    "opt = tf.keras.optimizers.Adam(learning_rate=0.02)\n",
    "pp_model.compile(\n",
    "        optimizer=opt, \n",
    "        loss=[euclidean_distance_loss,endpoint_loss],\n",
    "        loss_weights=params.get(\"loss_weights\"), metrics=params.get(\"metric\")\n",
    "    )#pp_model.summary()\n",
    "test_loss,test_accuracy = pp_model.evaluate(ds_test)"
   ]
  },
  {
   "cell_type": "code",
   "execution_count": 5,
   "metadata": {},
   "outputs": [
    {
     "output_type": "execute_result",
     "data": {
      "text/plain": [
       "(1329, 25, 2)"
      ]
     },
     "metadata": {},
     "execution_count": 5
    }
   ],
   "source": [
    "predictions = pp_model.predict(ds_test)\n",
    "np.shape(predictions)"
   ]
  },
  {
   "cell_type": "code",
   "execution_count": 6,
   "metadata": {},
   "outputs": [],
   "source": [
    "def get_test_ds_size(ds_test):\n",
    "    num_of_samples=0\n",
    "    for input_batch, output_batch in ds_test:\n",
    "        for i in range(0,len(input_batch[0].numpy())):\n",
    "            num_of_samples+=1\n",
    "    return num_of_samples\n",
    "\n",
    "def get_np_test_ds(ds_test):\n",
    "\n",
    "    samples = get_test_ds_size(ds_test)\n",
    "    np_tst_gridmap = np.zeros(shape=(samples,1536,1536))\n",
    "    np_tst_grid_org_res = np.zeros(shape=(samples,3))\n",
    "    np_tst_left_bnd = np.zeros(shape=(samples,25,2))\n",
    "    np_tst_right_bnd = np.zeros(shape=(samples,25,2))\n",
    "    np_tst_car_odo = np.zeros(shape=(samples,3))\n",
    "    np_tst_init_path = np.zeros(shape=(samples,25,2))\n",
    "    np_tst_opt_path = np.zeros(shape=(samples,25,2))\n",
    "    list_tst_file_details = []\n",
    "\n",
    "    j=0\n",
    "    for input_batch, output_batch in ds_test:\n",
    "        \n",
    "        for i in range(0,len(input_batch[0].numpy())):\n",
    "            np_tst_gridmap[j]=input_batch[0][i].numpy()\n",
    "            np_tst_grid_org_res[j] = input_batch[1][i].numpy()\n",
    "            np_tst_left_bnd[j] = input_batch[2][i].numpy()\n",
    "            np_tst_right_bnd[j] = input_batch[3][i].numpy()\n",
    "            np_tst_car_odo[j] = input_batch[4][i].numpy()\n",
    "            np_tst_init_path[j] = input_batch[5][i].numpy()\n",
    "            list_tst_file_details.append(input_batch[6][i])\n",
    "\n",
    "            np_tst_opt_path[j] = output_batch[i].numpy()\n",
    "            j=j+1   \n",
    "    return np_tst_gridmap,np_tst_grid_org_res,np_tst_left_bnd,np_tst_right_bnd,np_tst_car_odo,np_tst_init_path,list_tst_file_details,np_tst_opt_path"
   ]
  },
  {
   "cell_type": "code",
   "execution_count": 7,
   "metadata": {},
   "outputs": [],
   "source": [
    "np_tst_gridmap,np_tst_grid_org_res,np_tst_left_bnd,np_tst_right_bnd,np_tst_car_odo,np_tst_init_path,list_tst_file_details,np_tst_opt_path =get_np_test_ds(ds_test)\n"
   ]
  },
  {
   "cell_type": "code",
   "execution_count": 8,
   "metadata": {},
   "outputs": [],
   "source": [
    "def plot_scene(features):    \n",
    "    grid_map = features[\"grid_map\"]\n",
    "    grid_org = features[\"grid_org_res\"] #[x,y,resolution]\n",
    "    left_bnd = features[\"left_bnd\"]\n",
    "    right_bnd = features[\"right_bnd\"]\n",
    "    init_path = features[\"init_path\"]\n",
    "    opt_path = features[\"opt_path\"]\n",
    "    car_odo = features[\"car_odo\"]\n",
    "\n",
    "    predict_path = features[\"predictions\"]\n",
    "    file_details=features[\"file_details\"]\n",
    "\n",
    "    #print(type(grid_map))\n",
    "    \n",
    "    plt.figure(figsize=(10, 10))\n",
    "    #ax=fig.add_subplot(1,1,1)\n",
    "\n",
    "    res = grid_org[2]\n",
    "    plt.plot((left_bnd[:,0]-grid_org[0])/res,(left_bnd[:,1]-grid_org[1])/res,'-.', color='magenta',markersize=0.5, linewidth=0.5)\n",
    "\n",
    "    plt.plot((init_path[:,0]-grid_org[0])/res,(init_path[:,1]-grid_org[1])/res,'o-', color='lawngreen',markersize=1, linewidth=1)\n",
    "    plt.plot((opt_path[:,0]-grid_org[0])/res,(opt_path[:,1]-grid_org[1])/res,'--', color='yellow',markersize=1, linewidth=1)\n",
    "\n",
    "    plt.plot((predict_path[:,0]-grid_org[0])/res,(predict_path[:,1]-grid_org[1])/res,'--', color='orange',markersize=1, linewidth=1)\n",
    "\n",
    "    plt.plot((right_bnd[:,0]-grid_org[0])/res,(right_bnd[:,1]-grid_org[1])/res, '-.',color='magenta',markersize=0.5, linewidth=0.5)\n",
    "\n",
    "    plt.plot((car_odo[0]-grid_org[0])/res,(car_odo[1]-grid_org[1])/res,'r*', color = 'red',markersize=8)\n",
    "\n",
    "\n",
    "    plt.legend(['Left bound', 'gt_init_path', 'gt_opt_path','predicted_path','right bound', 'car_centre'], loc='lower left')\n",
    "\n",
    "    plt.imshow(grid_map,origin=\"lower\")\n",
    "\n",
    "    \n",
    "\n",
    "    plt.title(f\"{file_details}\\nTest Index: {features['testidx']}\")\n",
    "    save_fig_dir = '/netpool/work/gpu-3/users/malyalasa/New_folder/rosbag2numpy/test_results/all_testset_results'\n",
    "    \n",
    "    plt.savefig(f\"{save_fig_dir}/Test_index_{features['testidx']}.png\",dpi=300)\n",
    "\n",
    "    plt.close()\n",
    "    #print(type(file_details))\n",
    "\n",
    "    #return ax,fig"
   ]
  },
  {
   "cell_type": "code",
   "execution_count": 14,
   "metadata": {},
   "outputs": [
    {
     "output_type": "stream",
     "name": "stdout",
     "text": [
      "5\n"
     ]
    }
   ],
   "source": [
    "print(len(predictions[0:5]))"
   ]
  },
  {
   "cell_type": "code",
   "execution_count": 9,
   "metadata": {},
   "outputs": [
    {
     "output_type": "stream",
     "name": "stderr",
     "text": [
      "100%|██████████| 1329/1329 [19:59<00:00,  1.11it/s]\n"
     ]
    }
   ],
   "source": [
    "#test_idx= 856#12#785#1000#28#530#143#120#15#1300#530#320#50#1050\n",
    "%matplotlib agg\n",
    "for test_idx in trange(0,len(predictions)):\n",
    "    test_data={}\n",
    "    test_data[\"grid_map\"]= np_tst_gridmap[test_idx]\n",
    "    test_data[\"grid_org_res\"]= np_tst_grid_org_res[test_idx]\n",
    "    test_data[\"left_bnd\"]= np_tst_left_bnd[test_idx]\n",
    "    test_data[\"right_bnd\"]= np_tst_right_bnd[test_idx]\n",
    "    test_data[\"car_odo\"]= np_tst_car_odo[test_idx]\n",
    "    test_data[\"init_path\"]= np_tst_init_path[test_idx]\n",
    "    test_data[\"opt_path\"]= np_tst_opt_path[test_idx]\n",
    "    test_data[\"predictions\"] = predictions[test_idx]\n",
    "    test_data[\"file_details\"] = list_tst_file_details[test_idx]\n",
    "    test_data[\"testidx\"] = test_idx\n",
    "#print(test_data[\"left_bnd\"])\n",
    "    plot_scene(test_data)"
   ]
  },
  {
   "cell_type": "code",
   "execution_count": 11,
   "metadata": {},
   "outputs": [
    {
     "output_type": "display_data",
     "data": {
      "text/plain": "<Figure size 432x288 with 1 Axes>",
      "image/svg+xml": "<?xml version=\"1.0\" encoding=\"utf-8\" standalone=\"no\"?>\n<!DOCTYPE svg PUBLIC \"-//W3C//DTD SVG 1.1//EN\"\n  \"http://www.w3.org/Graphics/SVG/1.1/DTD/svg11.dtd\">\n<!-- Created with matplotlib (https://matplotlib.org/) -->\n<svg height=\"248.518125pt\" version=\"1.1\" viewBox=\"0 0 368.925 248.518125\" width=\"368.925pt\" xmlns=\"http://www.w3.org/2000/svg\" xmlns:xlink=\"http://www.w3.org/1999/xlink\">\n <defs>\n  <style type=\"text/css\">\n*{stroke-linecap:butt;stroke-linejoin:round;}\n  </style>\n </defs>\n <g id=\"figure_1\">\n  <g id=\"patch_1\">\n   <path d=\"M -0 248.518125 \nL 368.925 248.518125 \nL 368.925 0 \nL -0 0 \nz\n\" style=\"fill:none;\"/>\n  </g>\n  <g id=\"axes_1\">\n   <g id=\"patch_2\">\n    <path d=\"M 26.925 224.64 \nL 361.725 224.64 \nL 361.725 7.2 \nL 26.925 7.2 \nz\n\" style=\"fill:#ffffff;\"/>\n   </g>\n   <g id=\"matplotlib.axis_1\">\n    <g id=\"xtick_1\">\n     <g id=\"line2d_1\">\n      <defs>\n       <path d=\"M 0 0 \nL 0 3.5 \n\" id=\"m20ba09c14f\" style=\"stroke:#000000;stroke-width:0.8;\"/>\n      </defs>\n      <g>\n       <use style=\"stroke:#000000;stroke-width:0.8;\" x=\"37.597884\" xlink:href=\"#m20ba09c14f\" y=\"224.64\"/>\n      </g>\n     </g>\n     <g id=\"text_1\">\n      <!-- −2.0 -->\n      <defs>\n       <path d=\"M 10.59375 35.5 \nL 73.1875 35.5 \nL 73.1875 27.203125 \nL 10.59375 27.203125 \nz\n\" id=\"DejaVuSans-8722\"/>\n       <path d=\"M 19.1875 8.296875 \nL 53.609375 8.296875 \nL 53.609375 0 \nL 7.328125 0 \nL 7.328125 8.296875 \nQ 12.9375 14.109375 22.625 23.890625 \nQ 32.328125 33.6875 34.8125 36.53125 \nQ 39.546875 41.84375 41.421875 45.53125 \nQ 43.3125 49.21875 43.3125 52.78125 \nQ 43.3125 58.59375 39.234375 62.25 \nQ 35.15625 65.921875 28.609375 65.921875 \nQ 23.96875 65.921875 18.8125 64.3125 \nQ 13.671875 62.703125 7.8125 59.421875 \nL 7.8125 69.390625 \nQ 13.765625 71.78125 18.9375 73 \nQ 24.125 74.21875 28.421875 74.21875 \nQ 39.75 74.21875 46.484375 68.546875 \nQ 53.21875 62.890625 53.21875 53.421875 \nQ 53.21875 48.921875 51.53125 44.890625 \nQ 49.859375 40.875 45.40625 35.40625 \nQ 44.1875 33.984375 37.640625 27.21875 \nQ 31.109375 20.453125 19.1875 8.296875 \nz\n\" id=\"DejaVuSans-50\"/>\n       <path d=\"M 10.6875 12.40625 \nL 21 12.40625 \nL 21 0 \nL 10.6875 0 \nz\n\" id=\"DejaVuSans-46\"/>\n       <path d=\"M 31.78125 66.40625 \nQ 24.171875 66.40625 20.328125 58.90625 \nQ 16.5 51.421875 16.5 36.375 \nQ 16.5 21.390625 20.328125 13.890625 \nQ 24.171875 6.390625 31.78125 6.390625 \nQ 39.453125 6.390625 43.28125 13.890625 \nQ 47.125 21.390625 47.125 36.375 \nQ 47.125 51.421875 43.28125 58.90625 \nQ 39.453125 66.40625 31.78125 66.40625 \nz\nM 31.78125 74.21875 \nQ 44.046875 74.21875 50.515625 64.515625 \nQ 56.984375 54.828125 56.984375 36.375 \nQ 56.984375 17.96875 50.515625 8.265625 \nQ 44.046875 -1.421875 31.78125 -1.421875 \nQ 19.53125 -1.421875 13.0625 8.265625 \nQ 6.59375 17.96875 6.59375 36.375 \nQ 6.59375 54.828125 13.0625 64.515625 \nQ 19.53125 74.21875 31.78125 74.21875 \nz\n\" id=\"DejaVuSans-48\"/>\n      </defs>\n      <g transform=\"translate(25.456477 239.238437)scale(0.1 -0.1)\">\n       <use xlink:href=\"#DejaVuSans-8722\"/>\n       <use x=\"83.789062\" xlink:href=\"#DejaVuSans-50\"/>\n       <use x=\"147.412109\" xlink:href=\"#DejaVuSans-46\"/>\n       <use x=\"179.199219\" xlink:href=\"#DejaVuSans-48\"/>\n      </g>\n     </g>\n    </g>\n    <g id=\"xtick_2\">\n     <g id=\"line2d_2\">\n      <g>\n       <use style=\"stroke:#000000;stroke-width:0.8;\" x=\"97.252312\" xlink:href=\"#m20ba09c14f\" y=\"224.64\"/>\n      </g>\n     </g>\n     <g id=\"text_2\">\n      <!-- −1.5 -->\n      <defs>\n       <path d=\"M 12.40625 8.296875 \nL 28.515625 8.296875 \nL 28.515625 63.921875 \nL 10.984375 60.40625 \nL 10.984375 69.390625 \nL 28.421875 72.90625 \nL 38.28125 72.90625 \nL 38.28125 8.296875 \nL 54.390625 8.296875 \nL 54.390625 0 \nL 12.40625 0 \nz\n\" id=\"DejaVuSans-49\"/>\n       <path d=\"M 10.796875 72.90625 \nL 49.515625 72.90625 \nL 49.515625 64.59375 \nL 19.828125 64.59375 \nL 19.828125 46.734375 \nQ 21.96875 47.46875 24.109375 47.828125 \nQ 26.265625 48.1875 28.421875 48.1875 \nQ 40.625 48.1875 47.75 41.5 \nQ 54.890625 34.8125 54.890625 23.390625 \nQ 54.890625 11.625 47.5625 5.09375 \nQ 40.234375 -1.421875 26.90625 -1.421875 \nQ 22.3125 -1.421875 17.546875 -0.640625 \nQ 12.796875 0.140625 7.71875 1.703125 \nL 7.71875 11.625 \nQ 12.109375 9.234375 16.796875 8.0625 \nQ 21.484375 6.890625 26.703125 6.890625 \nQ 35.15625 6.890625 40.078125 11.328125 \nQ 45.015625 15.765625 45.015625 23.390625 \nQ 45.015625 31 40.078125 35.4375 \nQ 35.15625 39.890625 26.703125 39.890625 \nQ 22.75 39.890625 18.8125 39.015625 \nQ 14.890625 38.140625 10.796875 36.28125 \nz\n\" id=\"DejaVuSans-53\"/>\n      </defs>\n      <g transform=\"translate(85.110906 239.238437)scale(0.1 -0.1)\">\n       <use xlink:href=\"#DejaVuSans-8722\"/>\n       <use x=\"83.789062\" xlink:href=\"#DejaVuSans-49\"/>\n       <use x=\"147.412109\" xlink:href=\"#DejaVuSans-46\"/>\n       <use x=\"179.199219\" xlink:href=\"#DejaVuSans-53\"/>\n      </g>\n     </g>\n    </g>\n    <g id=\"xtick_3\">\n     <g id=\"line2d_3\">\n      <g>\n       <use style=\"stroke:#000000;stroke-width:0.8;\" x=\"156.906741\" xlink:href=\"#m20ba09c14f\" y=\"224.64\"/>\n      </g>\n     </g>\n     <g id=\"text_3\">\n      <!-- −1.0 -->\n      <g transform=\"translate(144.765335 239.238437)scale(0.1 -0.1)\">\n       <use xlink:href=\"#DejaVuSans-8722\"/>\n       <use x=\"83.789062\" xlink:href=\"#DejaVuSans-49\"/>\n       <use x=\"147.412109\" xlink:href=\"#DejaVuSans-46\"/>\n       <use x=\"179.199219\" xlink:href=\"#DejaVuSans-48\"/>\n      </g>\n     </g>\n    </g>\n    <g id=\"xtick_4\">\n     <g id=\"line2d_4\">\n      <g>\n       <use style=\"stroke:#000000;stroke-width:0.8;\" x=\"216.56117\" xlink:href=\"#m20ba09c14f\" y=\"224.64\"/>\n      </g>\n     </g>\n     <g id=\"text_4\">\n      <!-- −0.5 -->\n      <g transform=\"translate(204.419763 239.238437)scale(0.1 -0.1)\">\n       <use xlink:href=\"#DejaVuSans-8722\"/>\n       <use x=\"83.789062\" xlink:href=\"#DejaVuSans-48\"/>\n       <use x=\"147.412109\" xlink:href=\"#DejaVuSans-46\"/>\n       <use x=\"179.199219\" xlink:href=\"#DejaVuSans-53\"/>\n      </g>\n     </g>\n    </g>\n    <g id=\"xtick_5\">\n     <g id=\"line2d_5\">\n      <g>\n       <use style=\"stroke:#000000;stroke-width:0.8;\" x=\"276.215598\" xlink:href=\"#m20ba09c14f\" y=\"224.64\"/>\n      </g>\n     </g>\n     <g id=\"text_5\">\n      <!-- 0.0 -->\n      <g transform=\"translate(268.264036 239.238437)scale(0.1 -0.1)\">\n       <use xlink:href=\"#DejaVuSans-48\"/>\n       <use x=\"63.623047\" xlink:href=\"#DejaVuSans-46\"/>\n       <use x=\"95.410156\" xlink:href=\"#DejaVuSans-48\"/>\n      </g>\n     </g>\n    </g>\n    <g id=\"xtick_6\">\n     <g id=\"line2d_6\">\n      <g>\n       <use style=\"stroke:#000000;stroke-width:0.8;\" x=\"335.870027\" xlink:href=\"#m20ba09c14f\" y=\"224.64\"/>\n      </g>\n     </g>\n     <g id=\"text_6\">\n      <!-- 0.5 -->\n      <g transform=\"translate(327.918464 239.238437)scale(0.1 -0.1)\">\n       <use xlink:href=\"#DejaVuSans-48\"/>\n       <use x=\"63.623047\" xlink:href=\"#DejaVuSans-46\"/>\n       <use x=\"95.410156\" xlink:href=\"#DejaVuSans-53\"/>\n      </g>\n     </g>\n    </g>\n   </g>\n   <g id=\"matplotlib.axis_2\">\n    <g id=\"ytick_1\">\n     <g id=\"line2d_7\">\n      <defs>\n       <path d=\"M 0 0 \nL -3.5 0 \n\" id=\"m17dd3c06d0\" style=\"stroke:#000000;stroke-width:0.8;\"/>\n      </defs>\n      <g>\n       <use style=\"stroke:#000000;stroke-width:0.8;\" x=\"26.925\" xlink:href=\"#m17dd3c06d0\" y=\"224.236177\"/>\n      </g>\n     </g>\n     <g id=\"text_7\">\n      <!-- 5 -->\n      <g transform=\"translate(13.5625 228.035396)scale(0.1 -0.1)\">\n       <use xlink:href=\"#DejaVuSans-53\"/>\n      </g>\n     </g>\n    </g>\n    <g id=\"ytick_2\">\n     <g id=\"line2d_8\">\n      <g>\n       <use style=\"stroke:#000000;stroke-width:0.8;\" x=\"26.925\" xlink:href=\"#m17dd3c06d0\" y=\"193.069758\"/>\n      </g>\n     </g>\n     <g id=\"text_8\">\n      <!-- 10 -->\n      <g transform=\"translate(7.2 196.868977)scale(0.1 -0.1)\">\n       <use xlink:href=\"#DejaVuSans-49\"/>\n       <use x=\"63.623047\" xlink:href=\"#DejaVuSans-48\"/>\n      </g>\n     </g>\n    </g>\n    <g id=\"ytick_3\">\n     <g id=\"line2d_9\">\n      <g>\n       <use style=\"stroke:#000000;stroke-width:0.8;\" x=\"26.925\" xlink:href=\"#m17dd3c06d0\" y=\"161.903338\"/>\n      </g>\n     </g>\n     <g id=\"text_9\">\n      <!-- 15 -->\n      <g transform=\"translate(7.2 165.702557)scale(0.1 -0.1)\">\n       <use xlink:href=\"#DejaVuSans-49\"/>\n       <use x=\"63.623047\" xlink:href=\"#DejaVuSans-53\"/>\n      </g>\n     </g>\n    </g>\n    <g id=\"ytick_4\">\n     <g id=\"line2d_10\">\n      <g>\n       <use style=\"stroke:#000000;stroke-width:0.8;\" x=\"26.925\" xlink:href=\"#m17dd3c06d0\" y=\"130.736919\"/>\n      </g>\n     </g>\n     <g id=\"text_10\">\n      <!-- 20 -->\n      <g transform=\"translate(7.2 134.536138)scale(0.1 -0.1)\">\n       <use xlink:href=\"#DejaVuSans-50\"/>\n       <use x=\"63.623047\" xlink:href=\"#DejaVuSans-48\"/>\n      </g>\n     </g>\n    </g>\n    <g id=\"ytick_5\">\n     <g id=\"line2d_11\">\n      <g>\n       <use style=\"stroke:#000000;stroke-width:0.8;\" x=\"26.925\" xlink:href=\"#m17dd3c06d0\" y=\"99.5705\"/>\n      </g>\n     </g>\n     <g id=\"text_11\">\n      <!-- 25 -->\n      <g transform=\"translate(7.2 103.369718)scale(0.1 -0.1)\">\n       <use xlink:href=\"#DejaVuSans-50\"/>\n       <use x=\"63.623047\" xlink:href=\"#DejaVuSans-53\"/>\n      </g>\n     </g>\n    </g>\n    <g id=\"ytick_6\">\n     <g id=\"line2d_12\">\n      <g>\n       <use style=\"stroke:#000000;stroke-width:0.8;\" x=\"26.925\" xlink:href=\"#m17dd3c06d0\" y=\"68.40408\"/>\n      </g>\n     </g>\n     <g id=\"text_12\">\n      <!-- 30 -->\n      <defs>\n       <path d=\"M 40.578125 39.3125 \nQ 47.65625 37.796875 51.625 33 \nQ 55.609375 28.21875 55.609375 21.1875 \nQ 55.609375 10.40625 48.1875 4.484375 \nQ 40.765625 -1.421875 27.09375 -1.421875 \nQ 22.515625 -1.421875 17.65625 -0.515625 \nQ 12.796875 0.390625 7.625 2.203125 \nL 7.625 11.71875 \nQ 11.71875 9.328125 16.59375 8.109375 \nQ 21.484375 6.890625 26.8125 6.890625 \nQ 36.078125 6.890625 40.9375 10.546875 \nQ 45.796875 14.203125 45.796875 21.1875 \nQ 45.796875 27.640625 41.28125 31.265625 \nQ 36.765625 34.90625 28.71875 34.90625 \nL 20.21875 34.90625 \nL 20.21875 43.015625 \nL 29.109375 43.015625 \nQ 36.375 43.015625 40.234375 45.921875 \nQ 44.09375 48.828125 44.09375 54.296875 \nQ 44.09375 59.90625 40.109375 62.90625 \nQ 36.140625 65.921875 28.71875 65.921875 \nQ 24.65625 65.921875 20.015625 65.03125 \nQ 15.375 64.15625 9.8125 62.3125 \nL 9.8125 71.09375 \nQ 15.4375 72.65625 20.34375 73.4375 \nQ 25.25 74.21875 29.59375 74.21875 \nQ 40.828125 74.21875 47.359375 69.109375 \nQ 53.90625 64.015625 53.90625 55.328125 \nQ 53.90625 49.265625 50.4375 45.09375 \nQ 46.96875 40.921875 40.578125 39.3125 \nz\n\" id=\"DejaVuSans-51\"/>\n      </defs>\n      <g transform=\"translate(7.2 72.203299)scale(0.1 -0.1)\">\n       <use xlink:href=\"#DejaVuSans-51\"/>\n       <use x=\"63.623047\" xlink:href=\"#DejaVuSans-48\"/>\n      </g>\n     </g>\n    </g>\n    <g id=\"ytick_7\">\n     <g id=\"line2d_13\">\n      <g>\n       <use style=\"stroke:#000000;stroke-width:0.8;\" x=\"26.925\" xlink:href=\"#m17dd3c06d0\" y=\"37.237661\"/>\n      </g>\n     </g>\n     <g id=\"text_13\">\n      <!-- 35 -->\n      <g transform=\"translate(7.2 41.03688)scale(0.1 -0.1)\">\n       <use xlink:href=\"#DejaVuSans-51\"/>\n       <use x=\"63.623047\" xlink:href=\"#DejaVuSans-53\"/>\n      </g>\n     </g>\n    </g>\n   </g>\n   <g id=\"line2d_14\">\n    <path clip-path=\"url(#p5e69b3cb10)\" d=\"M 70.005641 214.756364 \nL 55.912557 202.609992 \nL 49.64884 189.948063 \nL 54.302957 177.848558 \nL 53.412344 165.158981 \nL 70.461365 153.288643 \nL 82.246855 140.759979 \nL 88.293177 129.931912 \nL 96.192748 118.753665 \nL 128.6242 105.831438 \nL 141.090389 92.779073 \nL 161.708887 79.074808 \nL 183.555475 67.054579 \nL 190.712407 56.03996 \nL 208.66605 46.337798 \nL 222.476198 36.518516 \nL 257.090433 29.880601 \nL 301.421899 22.551908 \nL 318.085922 18.831825 \nL 334.484307 17.083636 \nL 346.506818 18.160713 \nL 341.067999 17.913706 \nL 327.921995 18.499931 \nL 334.372961 19.4998 \nL 331.001944 19.540817 \n\" style=\"fill:none;stroke:#ffa500;stroke-linecap:square;\"/>\n    <defs>\n     <path d=\"M 0 0.5 \nC 0.132602 0.5 0.25979 0.447317 0.353553 0.353553 \nC 0.447317 0.25979 0.5 0.132602 0.5 0 \nC 0.5 -0.132602 0.447317 -0.25979 0.353553 -0.353553 \nC 0.25979 -0.447317 0.132602 -0.5 0 -0.5 \nC -0.132602 -0.5 -0.25979 -0.447317 -0.353553 -0.353553 \nC -0.447317 -0.25979 -0.5 -0.132602 -0.5 0 \nC -0.5 0.132602 -0.447317 0.25979 -0.353553 0.353553 \nC -0.25979 0.447317 -0.132602 0.5 0 0.5 \nz\n\" id=\"ma21df3610d\" style=\"stroke:#ffa500;\"/>\n    </defs>\n    <g clip-path=\"url(#p5e69b3cb10)\">\n     <use style=\"fill:#ffa500;stroke:#ffa500;\" x=\"70.005641\" xlink:href=\"#ma21df3610d\" y=\"214.756364\"/>\n     <use style=\"fill:#ffa500;stroke:#ffa500;\" x=\"55.912557\" xlink:href=\"#ma21df3610d\" y=\"202.609992\"/>\n     <use style=\"fill:#ffa500;stroke:#ffa500;\" x=\"49.64884\" xlink:href=\"#ma21df3610d\" y=\"189.948063\"/>\n     <use style=\"fill:#ffa500;stroke:#ffa500;\" x=\"54.302957\" xlink:href=\"#ma21df3610d\" y=\"177.848558\"/>\n     <use style=\"fill:#ffa500;stroke:#ffa500;\" x=\"53.412344\" xlink:href=\"#ma21df3610d\" y=\"165.158981\"/>\n     <use style=\"fill:#ffa500;stroke:#ffa500;\" x=\"70.461365\" xlink:href=\"#ma21df3610d\" y=\"153.288643\"/>\n     <use style=\"fill:#ffa500;stroke:#ffa500;\" x=\"82.246855\" xlink:href=\"#ma21df3610d\" y=\"140.759979\"/>\n     <use style=\"fill:#ffa500;stroke:#ffa500;\" x=\"88.293177\" xlink:href=\"#ma21df3610d\" y=\"129.931912\"/>\n     <use style=\"fill:#ffa500;stroke:#ffa500;\" x=\"96.192748\" xlink:href=\"#ma21df3610d\" y=\"118.753665\"/>\n     <use style=\"fill:#ffa500;stroke:#ffa500;\" x=\"128.6242\" xlink:href=\"#ma21df3610d\" y=\"105.831438\"/>\n     <use style=\"fill:#ffa500;stroke:#ffa500;\" x=\"141.090389\" xlink:href=\"#ma21df3610d\" y=\"92.779073\"/>\n     <use style=\"fill:#ffa500;stroke:#ffa500;\" x=\"161.708887\" xlink:href=\"#ma21df3610d\" y=\"79.074808\"/>\n     <use style=\"fill:#ffa500;stroke:#ffa500;\" x=\"183.555475\" xlink:href=\"#ma21df3610d\" y=\"67.054579\"/>\n     <use style=\"fill:#ffa500;stroke:#ffa500;\" x=\"190.712407\" xlink:href=\"#ma21df3610d\" y=\"56.03996\"/>\n     <use style=\"fill:#ffa500;stroke:#ffa500;\" x=\"208.66605\" xlink:href=\"#ma21df3610d\" y=\"46.337798\"/>\n     <use style=\"fill:#ffa500;stroke:#ffa500;\" x=\"222.476198\" xlink:href=\"#ma21df3610d\" y=\"36.518516\"/>\n     <use style=\"fill:#ffa500;stroke:#ffa500;\" x=\"257.090433\" xlink:href=\"#ma21df3610d\" y=\"29.880601\"/>\n     <use style=\"fill:#ffa500;stroke:#ffa500;\" x=\"301.421899\" xlink:href=\"#ma21df3610d\" y=\"22.551908\"/>\n     <use style=\"fill:#ffa500;stroke:#ffa500;\" x=\"318.085922\" xlink:href=\"#ma21df3610d\" y=\"18.831825\"/>\n     <use style=\"fill:#ffa500;stroke:#ffa500;\" x=\"334.484307\" xlink:href=\"#ma21df3610d\" y=\"17.083636\"/>\n     <use style=\"fill:#ffa500;stroke:#ffa500;\" x=\"346.506818\" xlink:href=\"#ma21df3610d\" y=\"18.160713\"/>\n     <use style=\"fill:#ffa500;stroke:#ffa500;\" x=\"341.067999\" xlink:href=\"#ma21df3610d\" y=\"17.913706\"/>\n     <use style=\"fill:#ffa500;stroke:#ffa500;\" x=\"327.921995\" xlink:href=\"#ma21df3610d\" y=\"18.499931\"/>\n     <use style=\"fill:#ffa500;stroke:#ffa500;\" x=\"334.372961\" xlink:href=\"#ma21df3610d\" y=\"19.4998\"/>\n     <use style=\"fill:#ffa500;stroke:#ffa500;\" x=\"331.001944\" xlink:href=\"#ma21df3610d\" y=\"19.540817\"/>\n    </g>\n   </g>\n   <g id=\"line2d_15\">\n    <path clip-path=\"url(#p5e69b3cb10)\" d=\"M 57.424133 214.590722 \nL 72.868931 202.3886 \nL 89.582467 190.190915 \nL 107.091323 177.996279 \nL 124.968377 165.803094 \nL 143.31121 153.611787 \nL 161.947609 141.421699 \nL 180.745534 129.232277 \nL 199.762603 117.043782 \nL 218.868739 104.85568 \nL 238.019964 92.667756 \nL 257.174745 80.479855 \nL 276.215283 68.291467 \nL 295.138497 56.10258 \nL 313.485454 43.911291 \nL 330.273833 31.714367 \nL 345.698448 19.512473 \nL 345.698448 19.512473 \nL 345.698448 19.512473 \nL 345.698448 19.512473 \nL 345.698448 19.512473 \nL 345.698448 19.512473 \nL 345.698448 19.512473 \nL 345.698448 19.512473 \nL 345.698448 19.512473 \n\" style=\"fill:none;stroke:#7cfc00;stroke-linecap:square;\"/>\n    <defs>\n     <path d=\"M 0 1 \nC 0.265203 1 0.51958 0.894634 0.707107 0.707107 \nC 0.894634 0.51958 1 0.265203 1 0 \nC 1 -0.265203 0.894634 -0.51958 0.707107 -0.707107 \nC 0.51958 -0.894634 0.265203 -1 0 -1 \nC -0.265203 -1 -0.51958 -0.894634 -0.707107 -0.707107 \nC -0.894634 -0.51958 -1 -0.265203 -1 0 \nC -1 0.265203 -0.894634 0.51958 -0.707107 0.707107 \nC -0.51958 0.894634 -0.265203 1 0 1 \nz\n\" id=\"m7d66d88a7f\" style=\"stroke:#7cfc00;\"/>\n    </defs>\n    <g clip-path=\"url(#p5e69b3cb10)\">\n     <use style=\"fill:#7cfc00;stroke:#7cfc00;\" x=\"57.424133\" xlink:href=\"#m7d66d88a7f\" y=\"214.590722\"/>\n     <use style=\"fill:#7cfc00;stroke:#7cfc00;\" x=\"72.868931\" xlink:href=\"#m7d66d88a7f\" y=\"202.3886\"/>\n     <use style=\"fill:#7cfc00;stroke:#7cfc00;\" x=\"89.582467\" xlink:href=\"#m7d66d88a7f\" y=\"190.190915\"/>\n     <use style=\"fill:#7cfc00;stroke:#7cfc00;\" x=\"107.091323\" xlink:href=\"#m7d66d88a7f\" y=\"177.996279\"/>\n     <use style=\"fill:#7cfc00;stroke:#7cfc00;\" x=\"124.968377\" xlink:href=\"#m7d66d88a7f\" y=\"165.803094\"/>\n     <use style=\"fill:#7cfc00;stroke:#7cfc00;\" x=\"143.31121\" xlink:href=\"#m7d66d88a7f\" y=\"153.611787\"/>\n     <use style=\"fill:#7cfc00;stroke:#7cfc00;\" x=\"161.947609\" xlink:href=\"#m7d66d88a7f\" y=\"141.421699\"/>\n     <use style=\"fill:#7cfc00;stroke:#7cfc00;\" x=\"180.745534\" xlink:href=\"#m7d66d88a7f\" y=\"129.232277\"/>\n     <use style=\"fill:#7cfc00;stroke:#7cfc00;\" x=\"199.762603\" xlink:href=\"#m7d66d88a7f\" y=\"117.043782\"/>\n     <use style=\"fill:#7cfc00;stroke:#7cfc00;\" x=\"218.868739\" xlink:href=\"#m7d66d88a7f\" y=\"104.85568\"/>\n     <use style=\"fill:#7cfc00;stroke:#7cfc00;\" x=\"238.019964\" xlink:href=\"#m7d66d88a7f\" y=\"92.667756\"/>\n     <use style=\"fill:#7cfc00;stroke:#7cfc00;\" x=\"257.174745\" xlink:href=\"#m7d66d88a7f\" y=\"80.479855\"/>\n     <use style=\"fill:#7cfc00;stroke:#7cfc00;\" x=\"276.215283\" xlink:href=\"#m7d66d88a7f\" y=\"68.291467\"/>\n     <use style=\"fill:#7cfc00;stroke:#7cfc00;\" x=\"295.138497\" xlink:href=\"#m7d66d88a7f\" y=\"56.10258\"/>\n     <use style=\"fill:#7cfc00;stroke:#7cfc00;\" x=\"313.485454\" xlink:href=\"#m7d66d88a7f\" y=\"43.911291\"/>\n     <use style=\"fill:#7cfc00;stroke:#7cfc00;\" x=\"330.273833\" xlink:href=\"#m7d66d88a7f\" y=\"31.714367\"/>\n     <use style=\"fill:#7cfc00;stroke:#7cfc00;\" x=\"345.698448\" xlink:href=\"#m7d66d88a7f\" y=\"19.512473\"/>\n     <use style=\"fill:#7cfc00;stroke:#7cfc00;\" x=\"345.698448\" xlink:href=\"#m7d66d88a7f\" y=\"19.512473\"/>\n     <use style=\"fill:#7cfc00;stroke:#7cfc00;\" x=\"345.698448\" xlink:href=\"#m7d66d88a7f\" y=\"19.512473\"/>\n     <use style=\"fill:#7cfc00;stroke:#7cfc00;\" x=\"345.698448\" xlink:href=\"#m7d66d88a7f\" y=\"19.512473\"/>\n     <use style=\"fill:#7cfc00;stroke:#7cfc00;\" x=\"345.698448\" xlink:href=\"#m7d66d88a7f\" y=\"19.512473\"/>\n     <use style=\"fill:#7cfc00;stroke:#7cfc00;\" x=\"345.698448\" xlink:href=\"#m7d66d88a7f\" y=\"19.512473\"/>\n     <use style=\"fill:#7cfc00;stroke:#7cfc00;\" x=\"345.698448\" xlink:href=\"#m7d66d88a7f\" y=\"19.512473\"/>\n     <use style=\"fill:#7cfc00;stroke:#7cfc00;\" x=\"345.698448\" xlink:href=\"#m7d66d88a7f\" y=\"19.512473\"/>\n     <use style=\"fill:#7cfc00;stroke:#7cfc00;\" x=\"345.698448\" xlink:href=\"#m7d66d88a7f\" y=\"19.512473\"/>\n    </g>\n   </g>\n   <g id=\"line2d_16\">\n    <path clip-path=\"url(#p5e69b3cb10)\" d=\"M 42.143182 214.527277 \nL 42.307042 202.261708 \nL 43.908649 190.000833 \nL 47.163647 177.744612 \nL 52.219228 165.49276 \nL 59.348056 153.246199 \nL 67.702299 141.002932 \nL 76.210631 128.76033 \nL 84.92872 116.518619 \nL 93.725489 104.277278 \nL 102.557118 92.036091 \nL 111.380669 79.794892 \nL 120.077196 67.553181 \nL 130.710019 55.315882 \nL 157.760673 43.135793 \nL 220.000797 31.139817 \nL 290.564337 19.225234 \nL 290.564337 19.225234 \nL 290.564337 19.225234 \nL 290.564337 19.225234 \nL 290.564337 19.225234 \nL 290.564337 19.225234 \nL 290.564337 19.225234 \nL 290.564337 19.225234 \nL 290.564337 19.225234 \n\" style=\"fill:none;stroke:#ffff00;stroke-linecap:square;\"/>\n    <defs>\n     <path d=\"M 0 1 \nC 0.265203 1 0.51958 0.894634 0.707107 0.707107 \nC 0.894634 0.51958 1 0.265203 1 0 \nC 1 -0.265203 0.894634 -0.51958 0.707107 -0.707107 \nC 0.51958 -0.894634 0.265203 -1 0 -1 \nC -0.265203 -1 -0.51958 -0.894634 -0.707107 -0.707107 \nC -0.894634 -0.51958 -1 -0.265203 -1 0 \nC -1 0.265203 -0.894634 0.51958 -0.707107 0.707107 \nC -0.51958 0.894634 -0.265203 1 0 1 \nz\n\" id=\"mf46cd59e04\" style=\"stroke:#ffff00;\"/>\n    </defs>\n    <g clip-path=\"url(#p5e69b3cb10)\">\n     <use style=\"fill:#ffff00;stroke:#ffff00;\" x=\"42.143182\" xlink:href=\"#mf46cd59e04\" y=\"214.527277\"/>\n     <use style=\"fill:#ffff00;stroke:#ffff00;\" x=\"42.307042\" xlink:href=\"#mf46cd59e04\" y=\"202.261708\"/>\n     <use style=\"fill:#ffff00;stroke:#ffff00;\" x=\"43.908649\" xlink:href=\"#mf46cd59e04\" y=\"190.000833\"/>\n     <use style=\"fill:#ffff00;stroke:#ffff00;\" x=\"47.163647\" xlink:href=\"#mf46cd59e04\" y=\"177.744612\"/>\n     <use style=\"fill:#ffff00;stroke:#ffff00;\" x=\"52.219228\" xlink:href=\"#mf46cd59e04\" y=\"165.49276\"/>\n     <use style=\"fill:#ffff00;stroke:#ffff00;\" x=\"59.348056\" xlink:href=\"#mf46cd59e04\" y=\"153.246199\"/>\n     <use style=\"fill:#ffff00;stroke:#ffff00;\" x=\"67.702299\" xlink:href=\"#mf46cd59e04\" y=\"141.002932\"/>\n     <use style=\"fill:#ffff00;stroke:#ffff00;\" x=\"76.210631\" xlink:href=\"#mf46cd59e04\" y=\"128.76033\"/>\n     <use style=\"fill:#ffff00;stroke:#ffff00;\" x=\"84.92872\" xlink:href=\"#mf46cd59e04\" y=\"116.518619\"/>\n     <use style=\"fill:#ffff00;stroke:#ffff00;\" x=\"93.725489\" xlink:href=\"#mf46cd59e04\" y=\"104.277278\"/>\n     <use style=\"fill:#ffff00;stroke:#ffff00;\" x=\"102.557118\" xlink:href=\"#mf46cd59e04\" y=\"92.036091\"/>\n     <use style=\"fill:#ffff00;stroke:#ffff00;\" x=\"111.380669\" xlink:href=\"#mf46cd59e04\" y=\"79.794892\"/>\n     <use style=\"fill:#ffff00;stroke:#ffff00;\" x=\"120.077196\" xlink:href=\"#mf46cd59e04\" y=\"67.553181\"/>\n     <use style=\"fill:#ffff00;stroke:#ffff00;\" x=\"130.710019\" xlink:href=\"#mf46cd59e04\" y=\"55.315882\"/>\n     <use style=\"fill:#ffff00;stroke:#ffff00;\" x=\"157.760673\" xlink:href=\"#mf46cd59e04\" y=\"43.135793\"/>\n     <use style=\"fill:#ffff00;stroke:#ffff00;\" x=\"220.000797\" xlink:href=\"#mf46cd59e04\" y=\"31.139817\"/>\n     <use style=\"fill:#ffff00;stroke:#ffff00;\" x=\"290.564337\" xlink:href=\"#mf46cd59e04\" y=\"19.225234\"/>\n     <use style=\"fill:#ffff00;stroke:#ffff00;\" x=\"290.564337\" xlink:href=\"#mf46cd59e04\" y=\"19.225234\"/>\n     <use style=\"fill:#ffff00;stroke:#ffff00;\" x=\"290.564337\" xlink:href=\"#mf46cd59e04\" y=\"19.225234\"/>\n     <use style=\"fill:#ffff00;stroke:#ffff00;\" x=\"290.564337\" xlink:href=\"#mf46cd59e04\" y=\"19.225234\"/>\n     <use style=\"fill:#ffff00;stroke:#ffff00;\" x=\"290.564337\" xlink:href=\"#mf46cd59e04\" y=\"19.225234\"/>\n     <use style=\"fill:#ffff00;stroke:#ffff00;\" x=\"290.564337\" xlink:href=\"#mf46cd59e04\" y=\"19.225234\"/>\n     <use style=\"fill:#ffff00;stroke:#ffff00;\" x=\"290.564337\" xlink:href=\"#mf46cd59e04\" y=\"19.225234\"/>\n     <use style=\"fill:#ffff00;stroke:#ffff00;\" x=\"290.564337\" xlink:href=\"#mf46cd59e04\" y=\"19.225234\"/>\n     <use style=\"fill:#ffff00;stroke:#ffff00;\" x=\"290.564337\" xlink:href=\"#mf46cd59e04\" y=\"19.225234\"/>\n    </g>\n   </g>\n   <g id=\"patch_3\">\n    <path d=\"M 26.925 224.64 \nL 26.925 7.2 \n\" style=\"fill:none;stroke:#000000;stroke-linecap:square;stroke-linejoin:miter;stroke-width:0.8;\"/>\n   </g>\n   <g id=\"patch_4\">\n    <path d=\"M 361.725 224.64 \nL 361.725 7.2 \n\" style=\"fill:none;stroke:#000000;stroke-linecap:square;stroke-linejoin:miter;stroke-width:0.8;\"/>\n   </g>\n   <g id=\"patch_5\">\n    <path d=\"M 26.925 224.64 \nL 361.725 224.64 \n\" style=\"fill:none;stroke:#000000;stroke-linecap:square;stroke-linejoin:miter;stroke-width:0.8;\"/>\n   </g>\n   <g id=\"patch_6\">\n    <path d=\"M 26.925 7.2 \nL 361.725 7.2 \n\" style=\"fill:none;stroke:#000000;stroke-linecap:square;stroke-linejoin:miter;stroke-width:0.8;\"/>\n   </g>\n  </g>\n </g>\n <defs>\n  <clipPath id=\"p5e69b3cb10\">\n   <rect height=\"217.44\" width=\"334.8\" x=\"26.925\" y=\"7.2\"/>\n  </clipPath>\n </defs>\n</svg>\n",
      "image/png": "[encoded data removed]"
     },
     "metadata": {
      "needs_background": "light"
     }
    }
   ],
   "source": [
    "plt.plot(predictions[test_idx][:,0],predictions[test_idx][:,1],'-o', color = 'orange', markersize=1, linewidth=1)\n",
    "plt.plot(np_tst_init_path[test_idx][:,0],np_tst_init_path[test_idx][:,1],'-o', color='lawngreen',markersize=2, linewidth=1)\n",
    "plt.plot(np_tst_opt_path[test_idx][:,0],np_tst_opt_path[test_idx][:,1],'-o', color='yellow',markersize=2, linewidth=1)\n",
    "plt.show()"
   ]
  },
  {
   "cell_type": "code",
   "execution_count": null,
   "metadata": {},
   "outputs": [],
   "source": []
  }
 ]
}