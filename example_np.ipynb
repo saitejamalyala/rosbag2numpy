{
 "metadata": {
  "language_info": {
   "codemirror_mode": {
    "name": "ipython",
    "version": 3
   },
   "file_extension": ".py",
   "mimetype": "text/x-python",
   "name": "python",
   "nbconvert_exporter": "python",
   "pygments_lexer": "ipython3",
   "version": "3.7.8"
  },
  "orig_nbformat": 2,
  "kernelspec": {
   "name": "python378jvsc74a57bd0bbc9dda3e9e79c7f3242cc2df2a5d623228b80dc5b57011016029c4090ab57c9",
   "display_name": "Python 3.7.8 64-bit ('env_rosbag')"
  },
  "metadata": {
   "interpreter": {
    "hash": "bbc9dda3e9e79c7f3242cc2df2a5d623228b80dc5b57011016029c4090ab57c9"
   }
  }
 },
 "nbformat": 4,
 "nbformat_minor": 2,
 "cells": [
  {
   "cell_type": "code",
   "execution_count": 11,
   "metadata": {},
   "outputs": [],
   "source": [
    "import bagpy\n",
    "import pandas as pd \n",
    "from matplotlib import pyplot as plt \n",
    "import numpy as np\n",
    "from tqdm import tqdm"
   ]
  },
  {
   "cell_type": "code",
   "execution_count": 2,
   "metadata": {},
   "outputs": [
    {
     "output_type": "stream",
     "name": "stdout",
     "text": [
      "[INFO]  Data folder C:\\Users\\Teja\\Documents\\_INFOTECH\\Thesis\\sample_Ros_bag\\2021-03-12_11-41-55_0\\2021-03-12_11-41-55_0 already exists. Not creating.\n"
     ]
    }
   ],
   "source": [
    "from bagpy import bagreader\n",
    "\n",
    "b = bagreader(r'C:\\Users\\Teja\\Documents\\_INFOTECH\\Thesis\\sample_Ros_bag\\2021-03-12_11-41-55_0\\2021-03-12_11-41-55_0.bag')\n",
    "\n"
   ]
  },
  {
   "cell_type": "code",
   "execution_count": 3,
   "metadata": {},
   "outputs": [
    {
     "output_type": "stream",
     "name": "stdout",
     "text": [
      "len\npathing_msgs 227\ngrid_msgs 746\nodom_msgs 5222\nimage_msgs 1315\n"
     ]
    }
   ],
   "source": [
    "bag = b.reader\n",
    "\n",
    "\n",
    "topic_list = ['/em/fused_grid', '/sensorik/axis_front/image/compressed', '/vehicle/odometry', '/function/pathing_mlteleop']\n",
    "\n",
    "\n",
    "pathing_msgs = []\n",
    "grid_msgs = []\n",
    "grid_seqs = []\n",
    "odom_msgs = []\n",
    "odom_seqs = []\n",
    "image_msgs = []\n",
    "image_seqs = []\n",
    "count = 0\n",
    "for topic, msg, t in bag.read_messages(topics=topic_list):\n",
    "    if topic == \"/function/pathing_mlteleop\":\n",
    "        pathing_msgs.append(msg)\n",
    "\n",
    "    if topic == \"/em/fused_grid\":\n",
    "        grid_msgs.append(msg)\n",
    "        grid_seqs.append(msg.header.seq)\n",
    "        \n",
    "    if topic == \"/vehicle/odometry\":\n",
    "        odom_msgs.append(msg)\n",
    "        odom_seqs.append(msg.header.seq)\n",
    "    if topic == \"/sensorik/axis_front/image/compressed\":\n",
    "        image_msgs.append(msg)\n",
    "        image_seqs.append(msg.header.seq)\n",
    "    if count==10000:\n",
    "        break\n",
    "    else: count +=1\n",
    "bag.close()\n",
    "\n",
    "print('len')\n",
    "print('pathing_msgs',len(pathing_msgs))\n",
    "print('grid_msgs',len(grid_msgs))\n",
    "print('odom_msgs',len(odom_msgs))\n",
    "print('image_msgs',len(image_msgs))\n",
    "\n",
    "\n"
   ]
  },
  {
   "cell_type": "code",
   "execution_count": 14,
   "metadata": {},
   "outputs": [],
   "source": [
    "_READ_ROSBAG =1\n",
    "_MAX_LENGTH = 25\n",
    "_ZERO_PADDING = 1\n",
    "\n",
    "class np_maker():\n",
    "\n",
    "    def __init__(self,pathing_msgs,max_length):\n",
    "        self.pathing_msgs = pathing_msgs\n",
    "        self.max_length = max_length\n",
    "        self.extract_msg_cnt = 220\n",
    "\n",
    "    @staticmethod\n",
    "    def __np_reshape_frm_list(list_path,new_shape):\n",
    "        return np.reshape((np.asarray(list_path)),new_shape)\n",
    "    \n",
    "    @staticmethod\n",
    "    def __np_hstack_list(self,list1,list2,new_shape):\n",
    "        assert len(list1)==len(list2)\n",
    "        np_list1 = self.__np_reshape_frm_list(list1,new_shape)\n",
    "        np_list2 = self.__np_reshape_frm_list(list2,new_shape)\n",
    "        return np.hstack((np_list1,np_list2))\n",
    "    \n",
    "    @staticmethod\n",
    "    def __padd_values(n,val):\n",
    "        listofzeros = [val] * n\n",
    "        return listofzeros\n",
    "    \n",
    "    @staticmethod\n",
    "    def __padded_path(self,unpadded_path):\n",
    "        padded_path = unpadded_path.extend(self.__padd_values(self.max_length-len(unpadded_path),0))\n",
    "        return padded_path\n",
    "\n",
    "    @staticmethod\n",
    "    def __construct_path(list_of_points):\n",
    "        path_x = [] \n",
    "        path_y = []\n",
    "        for path in list_of_points:\n",
    "            path_x.append(path.point.x)\n",
    "            path_y.append(path.point.y)\n",
    "\n",
    "        return path_x,path_y  \n",
    "\n",
    "    @staticmethod\n",
    "    def __assert_all_lengths(self,path1_x,path1_y,path2_x,path2_y):\n",
    "        # check if every path is as long as the maximum length\n",
    "        assert len(path1_x)==self.max_length \n",
    "        assert len(path1_y)==self.max_length \n",
    "        assert len(path2_x)==self.max_length \n",
    "        assert len(path2_y)==self.max_length\n",
    "\n",
    "    def create_np_path(self):\n",
    "\n",
    "        list_all_init_path = []\n",
    "        list_all_opt_path = []\n",
    "        print(\"Converting path data to numpy........ \")\n",
    "        for i,examplary_pathing_msg in enumerate(tqdm(self.pathing_msgs)):\n",
    "\n",
    "            init_path_x,init_path_y = self.__construct_path(examplary_pathing_msg.path_options[0].reference_path)\n",
    "\n",
    "            opt_path_x,opt_path_y = self.__construct_path(examplary_pathing_msg.path_options[2].reference_path)\n",
    "\n",
    "            if _ZERO_PADDING:\n",
    "                if len(init_path_x)<self.max_length:\n",
    "                    init_path_x.extend(self.__padd_values(self.max_length-len(init_path_x),0))\n",
    "                    #init_path_x = self.__padded_path(self,init_path_x)\n",
    "                    init_path_y.extend(self.__padd_values(self.max_length-len(init_path_y),0))\n",
    "            \n",
    "                if len(opt_path_x)<self.max_length:\n",
    "                    opt_path_x.extend(self.__padd_values(self.max_length-len(opt_path_x),0))\n",
    "                    opt_path_y.extend(self.__padd_values(self.max_length-len(opt_path_y),0))\n",
    "            \n",
    "            #check for length\n",
    "            self.__assert_all_lengths(self,init_path_x,init_path_y,opt_path_x,opt_path_y)\n",
    "\n",
    "            #pair x and y and \n",
    "            np_init_path = self.__np_hstack_list(self,init_path_x,init_path_y,new_shape=(self.max_length,1))\n",
    "            np_opt_path = self.__np_hstack_list(self,opt_path_x,opt_path_y,new_shape=(self.max_length,1))\n",
    "            \n",
    "            # append paths from all pathing messages\n",
    "            list_all_init_path.append(np_init_path)\n",
    "            list_all_opt_path.append(np_opt_path)\n",
    "\n",
    "        # Convert the all paths appended list to numpy array\n",
    "        np_all_initp = np.asarray(list_all_init_path)\n",
    "        np_all_optp = np.asarray(list_all_opt_path)        \n",
    "\n",
    "        return np_all_initp,np_all_optp\n",
    "\n",
    "    def create_np_grid(self):\n",
    "\n",
    "        list_all_grid_data =[]\n",
    "        print(\"Converting grid data to numpy........ \")\n",
    "        for i,examplary_pathing_msg in enumerate(tqdm(self.pathing_msgs)):\n",
    "\n",
    "            #get sequences aligning with pathing messages\n",
    "            grid_seq = examplary_pathing_msg.path_options[1].reference_path[0].left_boundaries.lane\n",
    "\n",
    "            \"\"\"\n",
    "            grid is saved as vector in grid_msg.data\n",
    "            grid_msg.info gives information about properties, i.e. width, height, resolution, position in odometry frame\n",
    "            \"\"\"\n",
    "            grid_idx = grid_seqs.index(grid_seq)\n",
    "            grid_msg = grid_msgs[grid_idx]\n",
    "\n",
    "            grid_data = np.asarray(grid_msg.data)\n",
    "            grid_data = grid_data.reshape(grid_msg.info.width, grid_msg.info.height)\n",
    "            \n",
    "            # append grid data\n",
    "            list_all_grid_data.append(grid_data) \n",
    "\n",
    "        #converted appended grids to np array\n",
    "        np_all_grid_data = np.asarray(list_all_grid_data)\n",
    "\n",
    "        return np_all_grid_data\n",
    "\n",
    "    def create_np_img(self):\n",
    "        list_all_img_data =[]\n",
    "        print(\"Converting grid data to numpy........ \")\n",
    "        for i,examplary_pathing_msg in enumerate(tqdm(self.pathing_msgs[0:2])):\n",
    "\n",
    "            image_seq = examplary_pathing_msg.path_options[1].reference_path[0].left_boundaries.road\n",
    "            image_idx = image_seqs.index(image_seq)\n",
    "            image_msg = image_msgs[image_idx]\n",
    "            # Convert compressed image to RAW\n",
    "            bridge = CvBridge()\n",
    "            img = bridge.compressed_imgmsg_to_cv2(image_msg)\n",
    "            list_all_img_data.append(img)\n",
    "\n",
    "        np_all_img_data = np.asarray(list_all_img_data)\n",
    "\n",
    "        return np_all_img_data\n",
    "\n"
   ]
  },
  {
   "cell_type": "code",
   "execution_count": 16,
   "metadata": {},
   "outputs": [
    {
     "output_type": "stream",
     "name": "stderr",
     "text": [
      "100%|██████████| 227/227 [00:00<00:00, 13330.72it/s]\n",
      "  0%|          | 1/227 [00:00<00:29,  7.69it/s]Converting path data to numpy........ \n",
      "Converting grid data to numpy........ \n",
      "100%|██████████| 227/227 [00:28<00:00,  7.83it/s]\n",
      "(227, 25, 2)\n",
      "(227, 1536, 1536)\n"
     ]
    }
   ],
   "source": [
    "convert_2_np = np_maker(pathing_msgs,25)\n",
    "np_init_path,np_opt_path = convert_2_np.create_np_path()\n",
    "np_grid_data = convert_2_np.create_np_grid()\n",
    "print(np.shape(np_init_path))\n",
    "print(np.shape(np_grid_data))"
   ]
  },
  {
   "source": [
    "#np.save('_np_initpath',np_init_path)\n",
    "#np.save('_np_optpath',np_opt_path)\n",
    "#np.save('_np_griddata',np_grid_data)"
   ],
   "cell_type": "code",
   "metadata": {},
   "execution_count": null,
   "outputs": []
  },
  {
   "cell_type": "code",
   "execution_count": 22,
   "metadata": {},
   "outputs": [],
   "source": [
    "np_grid_data = np.load('_np_griddata.npy',allow_pickle=True)"
   ]
  },
  {
   "cell_type": "code",
   "execution_count": 27,
   "metadata": {},
   "outputs": [
    {
     "output_type": "execute_result",
     "data": {
      "text/plain": [
       "<matplotlib.image.AxesImage at 0x217872f6c48>"
      ]
     },
     "metadata": {},
     "execution_count": 27
    },
    {
     "output_type": "display_data",
     "data": {
      "text/plain": "<Figure size 288x288 with 1 Axes>",
      "image/svg+xml": "<?xml version=\"1.0\" encoding=\"utf-8\" standalone=\"no\"?>\r\n<!DOCTYPE svg PUBLIC \"-//W3C//DTD SVG 1.1//EN\"\r\n  \"http://www.w3.org/Graphics/SVG/1.1/DTD/svg11.dtd\">\r\n<!-- Created with matplotlib (https://matplotlib.org/) -->\r\n<svg height=\"257.778125pt\" version=\"1.1\" viewBox=\"0 0 270.05 257.778125\" width=\"270.05pt\" xmlns=\"http://www.w3.org/2000/svg\" xmlns:xlink=\"http://www.w3.org/1999/xlink\">\r\n <defs>\r\n  <style type=\"text/css\">\r\n*{stroke-linecap:butt;stroke-linejoin:round;}\r\n  </style>\r\n </defs>\r\n <g id=\"figure_1\">\r\n  <g id=\"patch_1\">\r\n   <path d=\"M 0 257.778125 \r\nL 270.05 257.778125 \r\nL 270.05 0 \r\nL 0 0 \r\nz\r\n\" style=\"fill:none;\"/>\r\n  </g>\r\n  <g id=\"axes_1\">\r\n   <g id=\"patch_2\">\r\n    <path d=\"M 39.65 247.078125 \r\nL 262.85 247.078125 \r\nL 262.85 23.878125 \r\nL 39.65 23.878125 \r\nz\r\n\" style=\"fill:#ffffff;\"/>\r\n   </g>\r\n   <g clip-path=\"url(#p1d87b072be)\">\r\n    <image height=\"224\" id=\"image527743efba\" transform=\"scale(1 -1)translate(0 -224)\" width=\"224\" x=\"39.65\" xlink:href=\"data:image/png;base64,\r\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\" y=\"-23.078125\"/>\r\n   </g>\r\n   <g id=\"matplotlib.axis_1\">\r\n    <g id=\"xtick_1\">\r\n     <g id=\"line2d_1\">\r\n      <defs>\r\n       <path d=\"M 0 0 \r\nL 0 3.5 \r\n\" id=\"m3e20a3348d\" style=\"stroke:#000000;stroke-width:0.8;\"/>\r\n      </defs>\r\n      <g>\r\n       <use style=\"stroke:#000000;stroke-width:0.8;\" x=\"39.722656\" xlink:href=\"#m3e20a3348d\" y=\"247.078125\"/>\r\n      </g>\r\n     </g>\r\n     <g id=\"line2d_2\">\r\n      <defs>\r\n       <path d=\"M 0 0 \r\nL 0 -3.5 \r\n\" id=\"mf4fbd2cd0b\" style=\"stroke:#000000;stroke-width:0.8;\"/>\r\n      </defs>\r\n      <g>\r\n       <use style=\"stroke:#000000;stroke-width:0.8;\" x=\"39.722656\" xlink:href=\"#mf4fbd2cd0b\" y=\"23.878125\"/>\r\n      </g>\r\n     </g>\r\n     <g id=\"text_1\">\r\n      <!-- 0 -->\r\n      <defs>\r\n       <path d=\"M 31.78125 66.40625 \r\nQ 24.171875 66.40625 20.328125 58.90625 \r\nQ 16.5 51.421875 16.5 36.375 \r\nQ 16.5 21.390625 20.328125 13.890625 \r\nQ 24.171875 6.390625 31.78125 6.390625 \r\nQ 39.453125 6.390625 43.28125 13.890625 \r\nQ 47.125 21.390625 47.125 36.375 \r\nQ 47.125 51.421875 43.28125 58.90625 \r\nQ 39.453125 66.40625 31.78125 66.40625 \r\nz\r\nM 31.78125 74.21875 \r\nQ 44.046875 74.21875 50.515625 64.515625 \r\nQ 56.984375 54.828125 56.984375 36.375 \r\nQ 56.984375 17.96875 50.515625 8.265625 \r\nQ 44.046875 -1.421875 31.78125 -1.421875 \r\nQ 19.53125 -1.421875 13.0625 8.265625 \r\nQ 6.59375 17.96875 6.59375 36.375 \r\nQ 6.59375 54.828125 13.0625 64.515625 \r\nQ 19.53125 74.21875 31.78125 74.21875 \r\nz\r\n\" id=\"DejaVuSans-48\"/>\r\n      </defs>\r\n      <g transform=\"translate(36.541406 14.798438)scale(0.1 -0.1)\">\r\n       <use xlink:href=\"#DejaVuSans-48\"/>\r\n      </g>\r\n     </g>\r\n    </g>\r\n    <g id=\"xtick_2\">\r\n     <g id=\"line2d_3\">\r\n      <g>\r\n       <use style=\"stroke:#000000;stroke-width:0.8;\" x=\"68.785156\" xlink:href=\"#m3e20a3348d\" y=\"247.078125\"/>\r\n      </g>\r\n     </g>\r\n     <g id=\"line2d_4\">\r\n      <g>\r\n       <use style=\"stroke:#000000;stroke-width:0.8;\" x=\"68.785156\" xlink:href=\"#mf4fbd2cd0b\" y=\"23.878125\"/>\r\n      </g>\r\n     </g>\r\n     <g id=\"text_2\">\r\n      <!-- 200 -->\r\n      <defs>\r\n       <path d=\"M 19.1875 8.296875 \r\nL 53.609375 8.296875 \r\nL 53.609375 0 \r\nL 7.328125 0 \r\nL 7.328125 8.296875 \r\nQ 12.9375 14.109375 22.625 23.890625 \r\nQ 32.328125 33.6875 34.8125 36.53125 \r\nQ 39.546875 41.84375 41.421875 45.53125 \r\nQ 43.3125 49.21875 43.3125 52.78125 \r\nQ 43.3125 58.59375 39.234375 62.25 \r\nQ 35.15625 65.921875 28.609375 65.921875 \r\nQ 23.96875 65.921875 18.8125 64.3125 \r\nQ 13.671875 62.703125 7.8125 59.421875 \r\nL 7.8125 69.390625 \r\nQ 13.765625 71.78125 18.9375 73 \r\nQ 24.125 74.21875 28.421875 74.21875 \r\nQ 39.75 74.21875 46.484375 68.546875 \r\nQ 53.21875 62.890625 53.21875 53.421875 \r\nQ 53.21875 48.921875 51.53125 44.890625 \r\nQ 49.859375 40.875 45.40625 35.40625 \r\nQ 44.1875 33.984375 37.640625 27.21875 \r\nQ 31.109375 20.453125 19.1875 8.296875 \r\nz\r\n\" id=\"DejaVuSans-50\"/>\r\n      </defs>\r\n      <g transform=\"translate(59.241406 14.798438)scale(0.1 -0.1)\">\r\n       <use xlink:href=\"#DejaVuSans-50\"/>\r\n       <use x=\"63.623047\" xlink:href=\"#DejaVuSans-48\"/>\r\n       <use x=\"127.246094\" xlink:href=\"#DejaVuSans-48\"/>\r\n      </g>\r\n     </g>\r\n    </g>\r\n    <g id=\"xtick_3\">\r\n     <g id=\"line2d_5\">\r\n      <g>\r\n       <use style=\"stroke:#000000;stroke-width:0.8;\" x=\"97.847656\" xlink:href=\"#m3e20a3348d\" y=\"247.078125\"/>\r\n      </g>\r\n     </g>\r\n     <g id=\"line2d_6\">\r\n      <g>\r\n       <use style=\"stroke:#000000;stroke-width:0.8;\" x=\"97.847656\" xlink:href=\"#mf4fbd2cd0b\" y=\"23.878125\"/>\r\n      </g>\r\n     </g>\r\n     <g id=\"text_3\">\r\n      <!-- 400 -->\r\n      <defs>\r\n       <path d=\"M 37.796875 64.3125 \r\nL 12.890625 25.390625 \r\nL 37.796875 25.390625 \r\nz\r\nM 35.203125 72.90625 \r\nL 47.609375 72.90625 \r\nL 47.609375 25.390625 \r\nL 58.015625 25.390625 \r\nL 58.015625 17.1875 \r\nL 47.609375 17.1875 \r\nL 47.609375 0 \r\nL 37.796875 0 \r\nL 37.796875 17.1875 \r\nL 4.890625 17.1875 \r\nL 4.890625 26.703125 \r\nz\r\n\" id=\"DejaVuSans-52\"/>\r\n      </defs>\r\n      <g transform=\"translate(88.303906 14.798438)scale(0.1 -0.1)\">\r\n       <use xlink:href=\"#DejaVuSans-52\"/>\r\n       <use x=\"63.623047\" xlink:href=\"#DejaVuSans-48\"/>\r\n       <use x=\"127.246094\" xlink:href=\"#DejaVuSans-48\"/>\r\n      </g>\r\n     </g>\r\n    </g>\r\n    <g id=\"xtick_4\">\r\n     <g id=\"line2d_7\">\r\n      <g>\r\n       <use style=\"stroke:#000000;stroke-width:0.8;\" x=\"126.910156\" xlink:href=\"#m3e20a3348d\" y=\"247.078125\"/>\r\n      </g>\r\n     </g>\r\n     <g id=\"line2d_8\">\r\n      <g>\r\n       <use style=\"stroke:#000000;stroke-width:0.8;\" x=\"126.910156\" xlink:href=\"#mf4fbd2cd0b\" y=\"23.878125\"/>\r\n      </g>\r\n     </g>\r\n     <g id=\"text_4\">\r\n      <!-- 600 -->\r\n      <defs>\r\n       <path d=\"M 33.015625 40.375 \r\nQ 26.375 40.375 22.484375 35.828125 \r\nQ 18.609375 31.296875 18.609375 23.390625 \r\nQ 18.609375 15.53125 22.484375 10.953125 \r\nQ 26.375 6.390625 33.015625 6.390625 \r\nQ 39.65625 6.390625 43.53125 10.953125 \r\nQ 47.40625 15.53125 47.40625 23.390625 \r\nQ 47.40625 31.296875 43.53125 35.828125 \r\nQ 39.65625 40.375 33.015625 40.375 \r\nz\r\nM 52.59375 71.296875 \r\nL 52.59375 62.3125 \r\nQ 48.875 64.0625 45.09375 64.984375 \r\nQ 41.3125 65.921875 37.59375 65.921875 \r\nQ 27.828125 65.921875 22.671875 59.328125 \r\nQ 17.53125 52.734375 16.796875 39.40625 \r\nQ 19.671875 43.65625 24.015625 45.921875 \r\nQ 28.375 48.1875 33.59375 48.1875 \r\nQ 44.578125 48.1875 50.953125 41.515625 \r\nQ 57.328125 34.859375 57.328125 23.390625 \r\nQ 57.328125 12.15625 50.6875 5.359375 \r\nQ 44.046875 -1.421875 33.015625 -1.421875 \r\nQ 20.359375 -1.421875 13.671875 8.265625 \r\nQ 6.984375 17.96875 6.984375 36.375 \r\nQ 6.984375 53.65625 15.1875 63.9375 \r\nQ 23.390625 74.21875 37.203125 74.21875 \r\nQ 40.921875 74.21875 44.703125 73.484375 \r\nQ 48.484375 72.75 52.59375 71.296875 \r\nz\r\n\" id=\"DejaVuSans-54\"/>\r\n      </defs>\r\n      <g transform=\"translate(117.366406 14.798438)scale(0.1 -0.1)\">\r\n       <use xlink:href=\"#DejaVuSans-54\"/>\r\n       <use x=\"63.623047\" xlink:href=\"#DejaVuSans-48\"/>\r\n       <use x=\"127.246094\" xlink:href=\"#DejaVuSans-48\"/>\r\n      </g>\r\n     </g>\r\n    </g>\r\n    <g id=\"xtick_5\">\r\n     <g id=\"line2d_9\">\r\n      <g>\r\n       <use style=\"stroke:#000000;stroke-width:0.8;\" x=\"155.972656\" xlink:href=\"#m3e20a3348d\" y=\"247.078125\"/>\r\n      </g>\r\n     </g>\r\n     <g id=\"line2d_10\">\r\n      <g>\r\n       <use style=\"stroke:#000000;stroke-width:0.8;\" x=\"155.972656\" xlink:href=\"#mf4fbd2cd0b\" y=\"23.878125\"/>\r\n      </g>\r\n     </g>\r\n     <g id=\"text_5\">\r\n      <!-- 800 -->\r\n      <defs>\r\n       <path d=\"M 31.78125 34.625 \r\nQ 24.75 34.625 20.71875 30.859375 \r\nQ 16.703125 27.09375 16.703125 20.515625 \r\nQ 16.703125 13.921875 20.71875 10.15625 \r\nQ 24.75 6.390625 31.78125 6.390625 \r\nQ 38.8125 6.390625 42.859375 10.171875 \r\nQ 46.921875 13.96875 46.921875 20.515625 \r\nQ 46.921875 27.09375 42.890625 30.859375 \r\nQ 38.875 34.625 31.78125 34.625 \r\nz\r\nM 21.921875 38.8125 \r\nQ 15.578125 40.375 12.03125 44.71875 \r\nQ 8.5 49.078125 8.5 55.328125 \r\nQ 8.5 64.0625 14.71875 69.140625 \r\nQ 20.953125 74.21875 31.78125 74.21875 \r\nQ 42.671875 74.21875 48.875 69.140625 \r\nQ 55.078125 64.0625 55.078125 55.328125 \r\nQ 55.078125 49.078125 51.53125 44.71875 \r\nQ 48 40.375 41.703125 38.8125 \r\nQ 48.828125 37.15625 52.796875 32.3125 \r\nQ 56.78125 27.484375 56.78125 20.515625 \r\nQ 56.78125 9.90625 50.3125 4.234375 \r\nQ 43.84375 -1.421875 31.78125 -1.421875 \r\nQ 19.734375 -1.421875 13.25 4.234375 \r\nQ 6.78125 9.90625 6.78125 20.515625 \r\nQ 6.78125 27.484375 10.78125 32.3125 \r\nQ 14.796875 37.15625 21.921875 38.8125 \r\nz\r\nM 18.3125 54.390625 \r\nQ 18.3125 48.734375 21.84375 45.5625 \r\nQ 25.390625 42.390625 31.78125 42.390625 \r\nQ 38.140625 42.390625 41.71875 45.5625 \r\nQ 45.3125 48.734375 45.3125 54.390625 \r\nQ 45.3125 60.0625 41.71875 63.234375 \r\nQ 38.140625 66.40625 31.78125 66.40625 \r\nQ 25.390625 66.40625 21.84375 63.234375 \r\nQ 18.3125 60.0625 18.3125 54.390625 \r\nz\r\n\" id=\"DejaVuSans-56\"/>\r\n      </defs>\r\n      <g transform=\"translate(146.428906 14.798438)scale(0.1 -0.1)\">\r\n       <use xlink:href=\"#DejaVuSans-56\"/>\r\n       <use x=\"63.623047\" xlink:href=\"#DejaVuSans-48\"/>\r\n       <use x=\"127.246094\" xlink:href=\"#DejaVuSans-48\"/>\r\n      </g>\r\n     </g>\r\n    </g>\r\n    <g id=\"xtick_6\">\r\n     <g id=\"line2d_11\">\r\n      <g>\r\n       <use style=\"stroke:#000000;stroke-width:0.8;\" x=\"185.035156\" xlink:href=\"#m3e20a3348d\" y=\"247.078125\"/>\r\n      </g>\r\n     </g>\r\n     <g id=\"line2d_12\">\r\n      <g>\r\n       <use style=\"stroke:#000000;stroke-width:0.8;\" x=\"185.035156\" xlink:href=\"#mf4fbd2cd0b\" y=\"23.878125\"/>\r\n      </g>\r\n     </g>\r\n     <g id=\"text_6\">\r\n      <!-- 1000 -->\r\n      <defs>\r\n       <path d=\"M 12.40625 8.296875 \r\nL 28.515625 8.296875 \r\nL 28.515625 63.921875 \r\nL 10.984375 60.40625 \r\nL 10.984375 69.390625 \r\nL 28.421875 72.90625 \r\nL 38.28125 72.90625 \r\nL 38.28125 8.296875 \r\nL 54.390625 8.296875 \r\nL 54.390625 0 \r\nL 12.40625 0 \r\nz\r\n\" id=\"DejaVuSans-49\"/>\r\n      </defs>\r\n      <g transform=\"translate(172.310156 14.798438)scale(0.1 -0.1)\">\r\n       <use xlink:href=\"#DejaVuSans-49\"/>\r\n       <use x=\"63.623047\" xlink:href=\"#DejaVuSans-48\"/>\r\n       <use x=\"127.246094\" xlink:href=\"#DejaVuSans-48\"/>\r\n       <use x=\"190.869141\" xlink:href=\"#DejaVuSans-48\"/>\r\n      </g>\r\n     </g>\r\n    </g>\r\n    <g id=\"xtick_7\">\r\n     <g id=\"line2d_13\">\r\n      <g>\r\n       <use style=\"stroke:#000000;stroke-width:0.8;\" x=\"214.097656\" xlink:href=\"#m3e20a3348d\" y=\"247.078125\"/>\r\n      </g>\r\n     </g>\r\n     <g id=\"line2d_14\">\r\n      <g>\r\n       <use style=\"stroke:#000000;stroke-width:0.8;\" x=\"214.097656\" xlink:href=\"#mf4fbd2cd0b\" y=\"23.878125\"/>\r\n      </g>\r\n     </g>\r\n     <g id=\"text_7\">\r\n      <!-- 1200 -->\r\n      <g transform=\"translate(201.372656 14.798438)scale(0.1 -0.1)\">\r\n       <use xlink:href=\"#DejaVuSans-49\"/>\r\n       <use x=\"63.623047\" xlink:href=\"#DejaVuSans-50\"/>\r\n       <use x=\"127.246094\" xlink:href=\"#DejaVuSans-48\"/>\r\n       <use x=\"190.869141\" xlink:href=\"#DejaVuSans-48\"/>\r\n      </g>\r\n     </g>\r\n    </g>\r\n    <g id=\"xtick_8\">\r\n     <g id=\"line2d_15\">\r\n      <g>\r\n       <use style=\"stroke:#000000;stroke-width:0.8;\" x=\"243.160156\" xlink:href=\"#m3e20a3348d\" y=\"247.078125\"/>\r\n      </g>\r\n     </g>\r\n     <g id=\"line2d_16\">\r\n      <g>\r\n       <use style=\"stroke:#000000;stroke-width:0.8;\" x=\"243.160156\" xlink:href=\"#mf4fbd2cd0b\" y=\"23.878125\"/>\r\n      </g>\r\n     </g>\r\n     <g id=\"text_8\">\r\n      <!-- 1400 -->\r\n      <g transform=\"translate(230.435156 14.798438)scale(0.1 -0.1)\">\r\n       <use xlink:href=\"#DejaVuSans-49\"/>\r\n       <use x=\"63.623047\" xlink:href=\"#DejaVuSans-52\"/>\r\n       <use x=\"127.246094\" xlink:href=\"#DejaVuSans-48\"/>\r\n       <use x=\"190.869141\" xlink:href=\"#DejaVuSans-48\"/>\r\n      </g>\r\n     </g>\r\n    </g>\r\n   </g>\r\n   <g id=\"matplotlib.axis_2\">\r\n    <g id=\"ytick_1\">\r\n     <g id=\"line2d_17\">\r\n      <defs>\r\n       <path d=\"M 0 0 \r\nL -3.5 0 \r\n\" id=\"m22ba1f59e7\" style=\"stroke:#000000;stroke-width:0.8;\"/>\r\n      </defs>\r\n      <g>\r\n       <use style=\"stroke:#000000;stroke-width:0.8;\" x=\"39.65\" xlink:href=\"#m22ba1f59e7\" y=\"23.950781\"/>\r\n      </g>\r\n     </g>\r\n     <g id=\"text_9\">\r\n      <!-- 0 -->\r\n      <g transform=\"translate(26.2875 27.75)scale(0.1 -0.1)\">\r\n       <use xlink:href=\"#DejaVuSans-48\"/>\r\n      </g>\r\n     </g>\r\n    </g>\r\n    <g id=\"ytick_2\">\r\n     <g id=\"line2d_18\">\r\n      <g>\r\n       <use style=\"stroke:#000000;stroke-width:0.8;\" x=\"39.65\" xlink:href=\"#m22ba1f59e7\" y=\"53.013281\"/>\r\n      </g>\r\n     </g>\r\n     <g id=\"text_10\">\r\n      <!-- 200 -->\r\n      <g transform=\"translate(13.5625 56.8125)scale(0.1 -0.1)\">\r\n       <use xlink:href=\"#DejaVuSans-50\"/>\r\n       <use x=\"63.623047\" xlink:href=\"#DejaVuSans-48\"/>\r\n       <use x=\"127.246094\" xlink:href=\"#DejaVuSans-48\"/>\r\n      </g>\r\n     </g>\r\n    </g>\r\n    <g id=\"ytick_3\">\r\n     <g id=\"line2d_19\">\r\n      <g>\r\n       <use style=\"stroke:#000000;stroke-width:0.8;\" x=\"39.65\" xlink:href=\"#m22ba1f59e7\" y=\"82.075781\"/>\r\n      </g>\r\n     </g>\r\n     <g id=\"text_11\">\r\n      <!-- 400 -->\r\n      <g transform=\"translate(13.5625 85.875)scale(0.1 -0.1)\">\r\n       <use xlink:href=\"#DejaVuSans-52\"/>\r\n       <use x=\"63.623047\" xlink:href=\"#DejaVuSans-48\"/>\r\n       <use x=\"127.246094\" xlink:href=\"#DejaVuSans-48\"/>\r\n      </g>\r\n     </g>\r\n    </g>\r\n    <g id=\"ytick_4\">\r\n     <g id=\"line2d_20\">\r\n      <g>\r\n       <use style=\"stroke:#000000;stroke-width:0.8;\" x=\"39.65\" xlink:href=\"#m22ba1f59e7\" y=\"111.138281\"/>\r\n      </g>\r\n     </g>\r\n     <g id=\"text_12\">\r\n      <!-- 600 -->\r\n      <g transform=\"translate(13.5625 114.9375)scale(0.1 -0.1)\">\r\n       <use xlink:href=\"#DejaVuSans-54\"/>\r\n       <use x=\"63.623047\" xlink:href=\"#DejaVuSans-48\"/>\r\n       <use x=\"127.246094\" xlink:href=\"#DejaVuSans-48\"/>\r\n      </g>\r\n     </g>\r\n    </g>\r\n    <g id=\"ytick_5\">\r\n     <g id=\"line2d_21\">\r\n      <g>\r\n       <use style=\"stroke:#000000;stroke-width:0.8;\" x=\"39.65\" xlink:href=\"#m22ba1f59e7\" y=\"140.200781\"/>\r\n      </g>\r\n     </g>\r\n     <g id=\"text_13\">\r\n      <!-- 800 -->\r\n      <g transform=\"translate(13.5625 144)scale(0.1 -0.1)\">\r\n       <use xlink:href=\"#DejaVuSans-56\"/>\r\n       <use x=\"63.623047\" xlink:href=\"#DejaVuSans-48\"/>\r\n       <use x=\"127.246094\" xlink:href=\"#DejaVuSans-48\"/>\r\n      </g>\r\n     </g>\r\n    </g>\r\n    <g id=\"ytick_6\">\r\n     <g id=\"line2d_22\">\r\n      <g>\r\n       <use style=\"stroke:#000000;stroke-width:0.8;\" x=\"39.65\" xlink:href=\"#m22ba1f59e7\" y=\"169.263281\"/>\r\n      </g>\r\n     </g>\r\n     <g id=\"text_14\">\r\n      <!-- 1000 -->\r\n      <g transform=\"translate(7.2 173.0625)scale(0.1 -0.1)\">\r\n       <use xlink:href=\"#DejaVuSans-49\"/>\r\n       <use x=\"63.623047\" xlink:href=\"#DejaVuSans-48\"/>\r\n       <use x=\"127.246094\" xlink:href=\"#DejaVuSans-48\"/>\r\n       <use x=\"190.869141\" xlink:href=\"#DejaVuSans-48\"/>\r\n      </g>\r\n     </g>\r\n    </g>\r\n    <g id=\"ytick_7\">\r\n     <g id=\"line2d_23\">\r\n      <g>\r\n       <use style=\"stroke:#000000;stroke-width:0.8;\" x=\"39.65\" xlink:href=\"#m22ba1f59e7\" y=\"198.325781\"/>\r\n      </g>\r\n     </g>\r\n     <g id=\"text_15\">\r\n      <!-- 1200 -->\r\n      <g transform=\"translate(7.2 202.125)scale(0.1 -0.1)\">\r\n       <use xlink:href=\"#DejaVuSans-49\"/>\r\n       <use x=\"63.623047\" xlink:href=\"#DejaVuSans-50\"/>\r\n       <use x=\"127.246094\" xlink:href=\"#DejaVuSans-48\"/>\r\n       <use x=\"190.869141\" xlink:href=\"#DejaVuSans-48\"/>\r\n      </g>\r\n     </g>\r\n    </g>\r\n    <g id=\"ytick_8\">\r\n     <g id=\"line2d_24\">\r\n      <g>\r\n       <use style=\"stroke:#000000;stroke-width:0.8;\" x=\"39.65\" xlink:href=\"#m22ba1f59e7\" y=\"227.388281\"/>\r\n      </g>\r\n     </g>\r\n     <g id=\"text_16\">\r\n      <!-- 1400 -->\r\n      <g transform=\"translate(7.2 231.1875)scale(0.1 -0.1)\">\r\n       <use xlink:href=\"#DejaVuSans-49\"/>\r\n       <use x=\"63.623047\" xlink:href=\"#DejaVuSans-52\"/>\r\n       <use x=\"127.246094\" xlink:href=\"#DejaVuSans-48\"/>\r\n       <use x=\"190.869141\" xlink:href=\"#DejaVuSans-48\"/>\r\n      </g>\r\n     </g>\r\n    </g>\r\n   </g>\r\n   <g id=\"patch_3\">\r\n    <path d=\"M 39.65 247.078125 \r\nL 39.65 23.878125 \r\n\" style=\"fill:none;stroke:#000000;stroke-linecap:square;stroke-linejoin:miter;stroke-width:0.8;\"/>\r\n   </g>\r\n   <g id=\"patch_4\">\r\n    <path d=\"M 262.85 247.078125 \r\nL 262.85 23.878125 \r\n\" style=\"fill:none;stroke:#000000;stroke-linecap:square;stroke-linejoin:miter;stroke-width:0.8;\"/>\r\n   </g>\r\n   <g id=\"patch_5\">\r\n    <path d=\"M 39.65 247.078125 \r\nL 262.85 247.078125 \r\n\" style=\"fill:none;stroke:#000000;stroke-linecap:square;stroke-linejoin:miter;stroke-width:0.8;\"/>\r\n   </g>\r\n   <g id=\"patch_6\">\r\n    <path d=\"M 39.65 23.878125 \r\nL 262.85 23.878125 \r\n\" style=\"fill:none;stroke:#000000;stroke-linecap:square;stroke-linejoin:miter;stroke-width:0.8;\"/>\r\n   </g>\r\n  </g>\r\n </g>\r\n <defs>\r\n  <clipPath id=\"p1d87b072be\">\r\n   <rect height=\"223.2\" width=\"223.2\" x=\"39.65\" y=\"23.878125\"/>\r\n  </clipPath>\r\n </defs>\r\n</svg>\r\n",
      "image/png": "[encoded data removed]"
     },
     "metadata": {
      "needs_background": "light"
     }
    }
   ],
   "source": [
    "from matplotlib import pyplot as plt \n",
    "plt.matshow(np_grid_data[0])"
   ]
  },
  {
   "cell_type": "code",
   "execution_count": 13,
   "metadata": {},
   "outputs": [
    {
     "output_type": "stream",
     "name": "stdout",
     "text": [
      "examplary_pathing_msg\n"
     ]
    }
   ],
   "source": [
    "# Example for a single pathing_msg:\n",
    "init_path_x = []\n",
    "init_path_y = []\n",
    "opt_path_x = []\n",
    "opt_path_y = []\n",
    "\n",
    "grid_msg = None\n",
    "image_msg = None\n",
    "odom_msg = None\n",
    "\n",
    "max_length = 25\n",
    "np_init_paths = np.empty((1,max_length,2))\n",
    "\n",
    "for examplary_pathing_msg in pathing_msgs[0:1]:\n",
    "    #examplary_pathing_msg = pathing_msgs[0]\n",
    "    \n",
    "    print(\"examplary_pathing_msg\")\n",
    "    #print(examplary_pathing_msg)\n",
    "\n",
    "    '''\n",
    "    for init_path in examplary_pathing_msg.path_options[0].reference_path:\n",
    "        init_path_x.append(init_path.point.x)\n",
    "        init_path_y.append(init_path.point.y)\n",
    "    '''\n",
    "    init_path_x, init_path_y = construct_path(examplary_pathing_msg.path_options[0].reference_path)\n",
    "    init_path_x = padd_w_value(init_path_x,0,25)\n",
    "    opt_path_x, opt_path_y = construct_path(examplary_pathing_msg.path_options[2].reference_path)\n",
    "\n",
    "    '''\n",
    "    for opt_path in examplary_pathing_msg.path_options[2].reference_path:\n",
    "        opt_path_x.append(opt_path.point.x)\n",
    "        opt_path_y.append(opt_path.point.y)\n",
    "    '''\n",
    "    # corresponding occupancy grid, camera and odometry sequences (ID's):\n",
    "    # this saving method is a workaround for the corresponding ID's\n",
    "    grid_seq = examplary_pathing_msg.path_options[1].reference_path[0].left_boundaries.lane\n",
    "    image_seq = examplary_pathing_msg.path_options[1].reference_path[0].left_boundaries.road\n",
    "    odom_seq = examplary_pathing_msg.path_options[1].reference_path[0].left_boundaries.obstacle\n",
    "\n",
    "    # corresponding occupancy grid, camera and odometry messages:\n",
    "    \"\"\"\n",
    "    grid is saved as vector in grid_msg.data\n",
    "    grid_msg.info gives information about properties, i.e. width, height, resolution, position in odometry frame\n",
    "    \"\"\"\n",
    "    grid_idx = grid_seqs.index(grid_seq)\n",
    "    grid_msg = grid_msgs[grid_idx]\n",
    "    # print('grid_msg.info')\n",
    "    # print(grid_msg.info)\n",
    "\n",
    "    \"\"\"\n",
    "    1280x720, RGB Image\n",
    "    \"\"\"\n",
    "    image_idx = image_seqs.index(image_seq)\n",
    "    image_msg = image_msgs[image_idx]\n",
    "    # Convert compressed image to RAW\n",
    "    #bridge = CvBridge()\n",
    "    #img = bridge.compressed_imgmsg_to_cv2(image_msg)\n",
    "    # print(img.shape)\n",
    "\n",
    "    \"\"\"\n",
    "    odom_msg provides information about the current position in the odometry frame (pos_x, pos_y, heading)\n",
    "    the idea is to provide the NN information for the correlation between camera image, the corresponding car position and the path to be optimized/predicted\n",
    "    \"\"\"\n",
    "    odom_idx = odom_seqs.index(odom_seq)\n",
    "    odom_msg = odom_msgs[odom_idx]"
   ]
  },
  {
   "cell_type": "code",
   "execution_count": null,
   "metadata": {},
   "outputs": [],
   "source": []
  }
 ]
}