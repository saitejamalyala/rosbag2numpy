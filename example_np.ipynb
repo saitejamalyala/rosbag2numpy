{
 "metadata": {
  "language_info": {
   "codemirror_mode": {
    "name": "ipython",
    "version": 3
   },
   "file_extension": ".py",
   "mimetype": "text/x-python",
   "name": "python",
   "nbconvert_exporter": "python",
   "pygments_lexer": "ipython3",
   "version": "3.7.8"
  },
  "orig_nbformat": 2,
  "kernelspec": {
   "name": "python378jvsc74a57bd0bbc9dda3e9e79c7f3242cc2df2a5d623228b80dc5b57011016029c4090ab57c9",
   "display_name": "Python 3.7.8 64-bit ('env_rosbag')"
  },
  "metadata": {
   "interpreter": {
    "hash": "bbc9dda3e9e79c7f3242cc2df2a5d623228b80dc5b57011016029c4090ab57c9"
   }
  }
 },
 "nbformat": 4,
 "nbformat_minor": 2,
 "cells": [
  {
   "cell_type": "code",
   "execution_count": 1,
   "metadata": {},
   "outputs": [],
   "source": [
    "import bagpy\n",
    "import pandas as pd \n",
    "from matplotlib import pyplot as plt \n",
    "import numpy as np"
   ]
  },
  {
   "cell_type": "code",
   "execution_count": 2,
   "metadata": {},
   "outputs": [
    {
     "output_type": "stream",
     "name": "stdout",
     "text": [
      "[INFO]  Data folder C:\\Users\\Teja\\Documents\\_INFOTECH\\Thesis\\sample_Ros_bag\\2021-03-12_11-41-55_0\\2021-03-12_11-41-55_0 already exists. Not creating.\n"
     ]
    }
   ],
   "source": [
    "from bagpy import bagreader\n",
    "\n",
    "b = bagreader(r'C:\\Users\\Teja\\Documents\\_INFOTECH\\Thesis\\sample_Ros_bag\\2021-03-12_11-41-55_0\\2021-03-12_11-41-55_0.bag')\n",
    "\n"
   ]
  },
  {
   "cell_type": "code",
   "execution_count": 3,
   "metadata": {},
   "outputs": [
    {
     "output_type": "stream",
     "name": "stdout",
     "text": [
      "len\npathing_msgs 227\ngrid_msgs 746\nodom_msgs 5222\nimage_msgs 1315\n"
     ]
    }
   ],
   "source": [
    "bag = b.reader\n",
    "\n",
    "\n",
    "topic_list = ['/em/fused_grid', '/sensorik/axis_front/image/compressed', '/vehicle/odometry', '/function/pathing_mlteleop']\n",
    "\n",
    "\n",
    "pathing_msgs = []\n",
    "grid_msgs = []\n",
    "grid_seqs = []\n",
    "odom_msgs = []\n",
    "odom_seqs = []\n",
    "image_msgs = []\n",
    "image_seqs = []\n",
    "count = 0\n",
    "for topic, msg, t in bag.read_messages(topics=topic_list):\n",
    "    if topic == \"/function/pathing_mlteleop\":\n",
    "        pathing_msgs.append(msg)\n",
    "\n",
    "    if topic == \"/em/fused_grid\":\n",
    "        grid_msgs.append(msg)\n",
    "        grid_seqs.append(msg.header.seq)\n",
    "        \n",
    "    if topic == \"/vehicle/odometry\":\n",
    "        odom_msgs.append(msg)\n",
    "        odom_seqs.append(msg.header.seq)\n",
    "    if topic == \"/sensorik/axis_front/image/compressed\":\n",
    "        image_msgs.append(msg)\n",
    "        image_seqs.append(msg.header.seq)\n",
    "    if count==10000:\n",
    "        break\n",
    "    else: count +=1\n",
    "bag.close()\n",
    "\n",
    "print('len')\n",
    "print('pathing_msgs',len(pathing_msgs))\n",
    "print('grid_msgs',len(grid_msgs))\n",
    "print('odom_msgs',len(odom_msgs))\n",
    "print('image_msgs',len(image_msgs))\n",
    "\n",
    "\n"
   ]
  },
  {
   "cell_type": "code",
   "execution_count": 12,
   "metadata": {},
   "outputs": [],
   "source": [
    "\n",
    "def construct_path(list_of_points):\n",
    "    path_x = []\n",
    "    path_y = []\n",
    "    for path in list_of_points:\n",
    "        path_x.append(path.point.x)\n",
    "        path_y.append(path.point.y)\n",
    "    return path_x,path_y\n",
    "    \n",
    "\n",
    "def padd_w_value(list_values,value,max_len):\n",
    "    list_values = list_values.append([value]*(max_len-len(list_values)))\n",
    "\n",
    "    return list_values\n",
    "    "
   ]
  },
  {
   "cell_type": "code",
   "execution_count": 13,
   "metadata": {},
   "outputs": [
    {
     "output_type": "stream",
     "name": "stdout",
     "text": [
      "examplary_pathing_msg\n"
     ]
    }
   ],
   "source": [
    "# Example for a single pathing_msg:\n",
    "init_path_x = []\n",
    "init_path_y = []\n",
    "opt_path_x = []\n",
    "opt_path_y = []\n",
    "\n",
    "grid_msg = None\n",
    "image_msg = None\n",
    "odom_msg = None\n",
    "\n",
    "max_length = 25\n",
    "np_init_paths = np.empty((1,max_length,2))\n",
    "\n",
    "for examplary_pathing_msg in pathing_msgs[0:1]:\n",
    "    #examplary_pathing_msg = pathing_msgs[0]\n",
    "    \n",
    "    print(\"examplary_pathing_msg\")\n",
    "    #print(examplary_pathing_msg)\n",
    "\n",
    "    '''\n",
    "    for init_path in examplary_pathing_msg.path_options[0].reference_path:\n",
    "        init_path_x.append(init_path.point.x)\n",
    "        init_path_y.append(init_path.point.y)\n",
    "    '''\n",
    "    init_path_x, init_path_y = construct_path(examplary_pathing_msg.path_options[0].reference_path)\n",
    "    init_path_x = padd_w_value(init_path_x,0,25)\n",
    "    opt_path_x, opt_path_y = construct_path(examplary_pathing_msg.path_options[2].reference_path)\n",
    "\n",
    "    '''\n",
    "    for opt_path in examplary_pathing_msg.path_options[2].reference_path:\n",
    "        opt_path_x.append(opt_path.point.x)\n",
    "        opt_path_y.append(opt_path.point.y)\n",
    "    '''\n",
    "    # corresponding occupancy grid, camera and odometry sequences (ID's):\n",
    "    # this saving method is a workaround for the corresponding ID's\n",
    "    grid_seq = examplary_pathing_msg.path_options[1].reference_path[0].left_boundaries.lane\n",
    "    image_seq = examplary_pathing_msg.path_options[1].reference_path[0].left_boundaries.road\n",
    "    odom_seq = examplary_pathing_msg.path_options[1].reference_path[0].left_boundaries.obstacle\n",
    "\n",
    "    # corresponding occupancy grid, camera and odometry messages:\n",
    "    \"\"\"\n",
    "    grid is saved as vector in grid_msg.data\n",
    "    grid_msg.info gives information about properties, i.e. width, height, resolution, position in odometry frame\n",
    "    \"\"\"\n",
    "    grid_idx = grid_seqs.index(grid_seq)\n",
    "    grid_msg = grid_msgs[grid_idx]\n",
    "    # print('grid_msg.info')\n",
    "    # print(grid_msg.info)\n",
    "\n",
    "    \"\"\"\n",
    "    1280x720, RGB Image\n",
    "    \"\"\"\n",
    "    image_idx = image_seqs.index(image_seq)\n",
    "    image_msg = image_msgs[image_idx]\n",
    "    # Convert compressed image to RAW\n",
    "    #bridge = CvBridge()\n",
    "    #img = bridge.compressed_imgmsg_to_cv2(image_msg)\n",
    "    # print(img.shape)\n",
    "\n",
    "    \"\"\"\n",
    "    odom_msg provides information about the current position in the odometry frame (pos_x, pos_y, heading)\n",
    "    the idea is to provide the NN information for the correlation between camera image, the corresponding car position and the path to be optimized/predicted\n",
    "    \"\"\"\n",
    "    odom_idx = odom_seqs.index(odom_seq)\n",
    "    odom_msg = odom_msgs[odom_idx]"
   ]
  },
  {
   "cell_type": "code",
   "execution_count": 14,
   "metadata": {},
   "outputs": [
    {
     "output_type": "stream",
     "name": "stdout",
     "text": [
      "None\n15\n15\n[-6.57004452795753, -6.378483879163629, -6.180362328252016, -5.973425002693801, -5.762831703165546, -5.548582429667249, -5.327442452104359, -5.102593165955435, -4.874034571220477, -4.637300025642181, -4.395037053777732, -4.147245655627131, -3.8818057128616013, -3.59091470041624, -3.274572618291046]\n"
     ]
    }
   ],
   "source": [
    "print((init_path_x))\n",
    "print(len(init_path_y))\n",
    "\n",
    "print(len(opt_path_x))\n",
    "print(opt_path_y)"
   ]
  },
  {
   "cell_type": "code",
   "execution_count": null,
   "metadata": {},
   "outputs": [],
   "source": [
    "class np_maker(pathing_msgs):\n",
    "\n",
    "    def __init__(self):\n",
    "        self.pathing_msgs = pathing_msgs\n",
    "        \n",
    "    def get_grid_data_numpy():\n",
    "\n",
    "\n",
    "    def construct_path(list_of_points):\n",
    "        path_x = []\n",
    "        path_y = []\n",
    "        for path in list_of_points:\n",
    "            path_x.append(path.point.x)\n",
    "            path_y.append(path.point.y)\n",
    "        return path_x,path_y\n",
    "        \n",
    "\n",
    "    def get_path_data_numpy(self):\n",
    "\n",
    "        for examplary_pathing_msg in self.pathing_msgs:\n",
    "            init_path_x, init_path_y = construct_path(examplary_pathing_msg.path_options[0].reference_path)\n",
    "            opt_path_x, opt_path_y = construct_path(examplary_pathing_msg.path_options[2].reference_path)\n",
    "\n",
    "        \n"
   ]
  }
 ]
}