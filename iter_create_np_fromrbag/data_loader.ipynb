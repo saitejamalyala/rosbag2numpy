{
 "metadata": {
  "language_info": {
   "codemirror_mode": {
    "name": "ipython",
    "version": 3
   },
   "file_extension": ".py",
   "mimetype": "text/x-python",
   "name": "python",
   "nbconvert_exporter": "python",
   "pygments_lexer": "ipython3",
   "version": "3.7.8"
  },
  "orig_nbformat": 4,
  "kernelspec": {
   "name": "python3",
   "display_name": "Python 3.7.8 64-bit ('env_rosbag': venv)"
  },
  "interpreter": {
   "hash": "bbc9dda3e9e79c7f3242cc2df2a5d623228b80dc5b57011016029c4090ab57c9"
  }
 },
 "nbformat": 4,
 "nbformat_minor": 2,
 "cells": [
  {
   "cell_type": "code",
   "execution_count": 55,
   "metadata": {},
   "outputs": [
    {
     "output_type": "stream",
     "name": "stdout",
     "text": [
      "2.4.1\n"
     ]
    }
   ],
   "source": [
    "import tensorflow as tf\n",
    "import random\n",
    "from glob import glob\n",
    "from typing import List,Tuple\n",
    "from pathlib import Path\n",
    "from sklearn.model_selection import train_test_split\n",
    "AUTOTUNE = tf.data.experimental.AUTOTUNE\n",
    "print(tf.__version__)"
   ]
  },
  {
   "cell_type": "code",
   "execution_count": 90,
   "metadata": {},
   "outputs": [],
   "source": [
    "\n",
    "# function to contruct back from tf record example\n",
    "def prepare_sample(example):\n",
    "    example[\"grid_map\"] = tf.io.decode_raw(example[\"grid_map\"], out_type=tf.int8)\n",
    "    example[\"grid_map\"] = tf.reshape(example[\"grid_map\"],[1536,1536])\n",
    "\n",
    "    example[\"grid_org_res\"] = tf.io.decode_raw(example[\"grid_org_res\"], out_type=tf.float32)\n",
    "    #example[\"grid_org_res\"] = tf.reshape(example[\"grid_org_res\"],[1,3])\n",
    "\n",
    "    example[\"left_bnd\"] = tf.io.decode_raw(example[\"left_bnd\"], out_type=tf.float32)\n",
    "    example[\"left_bnd\"] = tf.reshape(example[\"left_bnd\"],[25,2])\n",
    "\n",
    "    example[\"right_bnd\"] = tf.io.decode_raw(example[\"right_bnd\"], out_type=tf.float32)\n",
    "    example[\"right_bnd\"] = tf.reshape(example[\"right_bnd\"],[25,2])\n",
    "\n",
    "    example[\"car_odo\"] = tf.io.decode_raw(example[\"car_odo\"], out_type=tf.float32)\n",
    "    #example[\"car_odo\"] = tf.reshape(example[\"car_odo\"],[1,3])\n",
    "\n",
    "    example[\"init_path\"] = tf.io.decode_raw(example[\"init_path\"], out_type=tf.float32)\n",
    "    example[\"init_path\"] = tf.reshape(example[\"init_path\"],[25,2])\n",
    "\n",
    "    example[\"opt_path\"] = tf.io.decode_raw(example[\"opt_path\"], out_type=tf.float32)\n",
    "    example[\"opt_path\"] = tf.reshape(example[\"opt_path\"],[25,2])\n",
    "\n",
    "    return (example[\"grid_map\"],example[\"grid_org_res\"],example[\"left_bnd\"],example[\"right_bnd\"],example[\"car_odo\"],example[\"init_path\"]),example[\"opt_path\"]\n",
    "\n",
    "\n",
    "def parse_tfrecord_fn_ds(example):\n",
    "\n",
    "    # Dict of feature and their description\n",
    "    feature_description = {\n",
    "\n",
    "        # model inputs\n",
    "        \"grid_map\": tf.io.FixedLenFeature([], tf.string),\n",
    "        \"grid_org_res\": tf.io.FixedLenFeature([], tf.string),\n",
    "        \"left_bnd\": tf.io.FixedLenFeature([], tf.string),\n",
    "        \"right_bnd\": tf.io.FixedLenFeature([], tf.string),\n",
    "        \"car_odo\": tf.io.FixedLenFeature([], tf.string),\n",
    "        \"init_path\": tf.io.FixedLenFeature([], tf.string),\n",
    "        \n",
    "        #model ouput\n",
    "        \"opt_path\": tf.io.FixedLenFeature([], tf.string),\n",
    "\n",
    "    }\n",
    "\n",
    "    # Parse a single Example proto\n",
    "    example = tf.io.parse_single_example(example, feature_description)\n",
    "    return example"
   ]
  },
  {
   "cell_type": "code",
   "execution_count": 91,
   "metadata": {},
   "outputs": [],
   "source": [
    "def get_dataset(filenames, batch_size, data_set_name:str):\n",
    "    try:\n",
    "        assert data_set_name in (\"train\",\"valid\",\"test\")\n",
    "        dataset = (\n",
    "            tf.data.TFRecordDataset(filenames, num_parallel_reads=AUTOTUNE)\n",
    "            .map(parse_tfrecord_fn_ds, num_parallel_calls=AUTOTUNE)\n",
    "            .map(prepare_sample, num_parallel_calls=AUTOTUNE)\n",
    "            )\n",
    "        if data_set_name=='train':\n",
    "            dataset = dataset.shuffle(batch_size * 10)\n",
    "\n",
    "        dataset = dataset.batch(batch_size).prefetch(AUTOTUNE)\n",
    "\n",
    "    except AssertionError as Err:\n",
    "        print(f\"Build failed,{Err}\")\n",
    "\n",
    "    return dataset\n",
    "\n",
    "def shuffle_nd_split(list_paths:List[Path],train_size:float=0.7)->Tuple[List[Path],List[Path],List[Path]]:\n",
    "    list_train,list_test= train_test_split(list_paths,test_size=1-train_size)\n",
    "    list_test,list_valid= train_test_split(list_test,test_size=0.5)\n",
    "\n",
    "    return list_train,list_valid,list_test\n"
   ]
  },
  {
   "cell_type": "code",
   "execution_count": 92,
   "metadata": {},
   "outputs": [],
   "source": [
    "tfrecords_dir = r'D:\\tf_records'\n",
    "tfrec_paths = glob(f\"{tfrecords_dir}/**/*.tfrec\",recursive=True)\n",
    "#random.shuffle(tfrec_paths)\n",
    "\n",
    "ds_train,ds_valid,ds_test = shuffle_nd_split(tfrec_paths,train_size=0.7)"
   ]
  },
  {
   "cell_type": "code",
   "execution_count": 93,
   "metadata": {},
   "outputs": [
    {
     "output_type": "stream",
     "name": "stdout",
     "text": [
      "408 88 87\n"
     ]
    }
   ],
   "source": [
    "print(len(ds_train),len(ds_valid),len(ds_test))"
   ]
  },
  {
   "cell_type": "code",
   "execution_count": 94,
   "metadata": {},
   "outputs": [],
   "source": [
    "ds_train= get_dataset(ds_train,batch_size=16,data_set_name='train')\n",
    "ds_test= get_dataset(ds_test,batch_size=16,data_set_name='test')\n",
    "ds_valid= get_dataset(ds_valid,batch_size=16,data_set_name='valid')"
   ]
  },
  {
   "cell_type": "code",
   "execution_count": 95,
   "metadata": {},
   "outputs": [
    {
     "output_type": "execute_result",
     "data": {
      "text/plain": [
       "((TensorSpec(shape=(None, 1536, 1536), dtype=tf.int8, name=None),\n",
       "  TensorSpec(shape=(None, None), dtype=tf.float32, name=None),\n",
       "  TensorSpec(shape=(None, 25, 2), dtype=tf.float32, name=None),\n",
       "  TensorSpec(shape=(None, 25, 2), dtype=tf.float32, name=None),\n",
       "  TensorSpec(shape=(None, None), dtype=tf.float32, name=None),\n",
       "  TensorSpec(shape=(None, 25, 2), dtype=tf.float32, name=None)),\n",
       " TensorSpec(shape=(None, 25, 2), dtype=tf.float32, name=None))"
      ]
     },
     "metadata": {},
     "execution_count": 95
    }
   ],
   "source": [
    "ds_train.element_spec"
   ]
  },
  {
   "cell_type": "code",
   "execution_count": 97,
   "metadata": {},
   "outputs": [],
   "source": [
    "from tensorflow.keras import layers\n",
    "from tensorflow import keras\n",
    "import tensorflow.keras.backend as K\n",
    "\n",
    "\n",
    "def euclidean_distance_loss(y_true, y_pred):\n",
    "    \"\"\"\n",
    "    Euclidean distance loss\n",
    "    https://en.wikipedia.org/wiki/Euclidean_distance\n",
    "    :param y_true: TensorFlow tensor\n",
    "    :param y_p red: TensorFlow tensor of the same shape as y_true\n",
    "    :return: float\n",
    "    \"\"\"\n",
    "    #original euclidean distance loss =  K.sqrt(K.sum(K.square(y_pred - y_true), axis=-1))\n",
    "    loss = K.mean(K.sqrt(K.sum(K.square(y_pred - y_true), axis=-1)))\n",
    "    return loss\n",
    "\n",
    "\n",
    "#(example[\"grid_map\"],example[\"grid_org_res\"],example[\"left_bnd\"],example[\"right_bnd\"],example#[\"car_odo\"],example[\"init_path\"])\n",
    "\n",
    "def nn():\n",
    "\n",
    "    # Grid Map input\n",
    "    ip_gridmap = layers.Input(shape=(1536,1536,1))\n",
    "\n",
    "    #CNN - branch1\n",
    "    x_A = layers.Conv2D(16,kernel_size=7,strides=2)(ip_gridmap)\n",
    "    x_A = layers.BatchNormalization()(x_A)\n",
    "    x_A = layers.ReLU()(x_A)\n",
    "    x_A = layers.AvgPool2D(pool_size=(4,4))(x_A)\n",
    "\n",
    "    x_A = layers.Conv2D(32,kernel_size=5,strides=2)(x_A)\n",
    "    x_A = layers.BatchNormalization()(x_A)\n",
    "    x_A = layers.ReLU()(x_A)\n",
    "    x_A = layers.AvgPool2D(pool_size=(4,4))(x_A)\n",
    "\n",
    "    \n",
    "    x_A = layers.Conv2D(64,kernel_size=3,strides=2)(x_A)\n",
    "    x_A = layers.BatchNormalization()(x_A)\n",
    "    x_A = layers.ReLU()(x_A)\n",
    "    x_A = layers.AvgPool2D(pool_size=(2,2))(x_A)\n",
    "\n",
    "\n",
    "    x_A = layers.Flatten()(x_A)\n",
    "\n",
    "\n",
    "    # Other inputs\n",
    "    ip_grid_org_res = layers.Input(shape=(3,))\n",
    "    ip_left_bnd = layers.Input(shape=(25,2))\n",
    "    ip_right_bnd = layers.Input(shape=(25,2))\n",
    "    ip_car_odo = layers.Input(shape=(3,))\n",
    "    ip_init_path = layers.Input(shape=(25,2))\n",
    "    #branch 2\n",
    "    x_B = layers.Conv1D(2,kernel_size=3,padding='same')(ip_init_path)\n",
    "    #branch 3\n",
    "    x_C = layers.Conv1D(2,kernel_size=3,padding='same')(ip_left_bnd)\n",
    "    #branch 4\n",
    "    x_D = layers.Conv1D(2,kernel_size=3,padding='same')(ip_right_bnd)\n",
    "    # branch 5\n",
    "    conc_grid_orgres_car_odo = layers.concatenate([ip_grid_org_res,ip_car_odo])\n",
    "\n",
    "\n",
    "    reshape_init_path = layers.Reshape((50,))(x_B)\n",
    "    reshape_left_bnd = layers.Reshape((50,))(x_C)\n",
    "    reshape_right_bnd = layers.Reshape((50,))(x_D)\n",
    "\n",
    "    \n",
    "    #concatenate feature\n",
    "    concat_feat = layers.concatenate([x_A, reshape_init_path, reshape_left_bnd, reshape_right_bnd, conc_grid_orgres_car_odo])\n",
    "\n",
    "    #concat_feat = layers.Lambda(lambda x: tf.expand_dims(x, -1))(concat_feat)\n",
    "\n",
    "    #FC\n",
    "    #output = layers.Convolution1D(50,kernel_size=3,padding='valid',activation='relu')(concat_feat)\n",
    "    \n",
    "    output = layers.Dense(50, activation='linear')(concat_feat)\n",
    "\n",
    "    output = layers.Dropout(0.6)(output)\n",
    "    \n",
    "    output = layers.Dense(50, activation='linear')(output)\n",
    "    \n",
    "    output = layers.Reshape((25,2))(output)\n",
    "    \n",
    "    nn_fun = keras.models.Model(inputs = [ip_gridmap,ip_grid_org_res,ip_left_bnd, ip_right_bnd, ip_car_odo, ip_init_path], outputs= output)\n",
    "    \n",
    "    return nn_fun"
   ]
  },
  {
   "cell_type": "code",
   "execution_count": 98,
   "metadata": {},
   "outputs": [
    {
     "output_type": "stream",
     "name": "stdout",
     "text": [
      "Model: \"model\"\n__________________________________________________________________________________________________\nLayer (type)                    Output Shape         Param #     Connected to                     \n==================================================================================================\ninput_1 (InputLayer)            [(None, 1536, 1536,  0                                            \n__________________________________________________________________________________________________\nconv2d (Conv2D)                 (None, 765, 765, 16) 800         input_1[0][0]                    \n__________________________________________________________________________________________________\nbatch_normalization (BatchNorma (None, 765, 765, 16) 64          conv2d[0][0]                     \n__________________________________________________________________________________________________\nre_lu (ReLU)                    (None, 765, 765, 16) 0           batch_normalization[0][0]        \n__________________________________________________________________________________________________\naverage_pooling2d (AveragePooli (None, 191, 191, 16) 0           re_lu[0][0]                      \n__________________________________________________________________________________________________\nconv2d_1 (Conv2D)               (None, 94, 94, 32)   12832       average_pooling2d[0][0]          \n__________________________________________________________________________________________________\nbatch_normalization_1 (BatchNor (None, 94, 94, 32)   128         conv2d_1[0][0]                   \n__________________________________________________________________________________________________\nre_lu_1 (ReLU)                  (None, 94, 94, 32)   0           batch_normalization_1[0][0]      \n__________________________________________________________________________________________________\naverage_pooling2d_1 (AveragePoo (None, 23, 23, 32)   0           re_lu_1[0][0]                    \n__________________________________________________________________________________________________\nconv2d_2 (Conv2D)               (None, 11, 11, 64)   18496       average_pooling2d_1[0][0]        \n__________________________________________________________________________________________________\nbatch_normalization_2 (BatchNor (None, 11, 11, 64)   256         conv2d_2[0][0]                   \n__________________________________________________________________________________________________\nre_lu_2 (ReLU)                  (None, 11, 11, 64)   0           batch_normalization_2[0][0]      \n__________________________________________________________________________________________________\ninput_6 (InputLayer)            [(None, 25, 2)]      0                                            \n__________________________________________________________________________________________________\ninput_3 (InputLayer)            [(None, 25, 2)]      0                                            \n__________________________________________________________________________________________________\ninput_4 (InputLayer)            [(None, 25, 2)]      0                                            \n__________________________________________________________________________________________________\naverage_pooling2d_2 (AveragePoo (None, 5, 5, 64)     0           re_lu_2[0][0]                    \n__________________________________________________________________________________________________\nconv1d (Conv1D)                 (None, 25, 2)        14          input_6[0][0]                    \n__________________________________________________________________________________________________\nconv1d_1 (Conv1D)               (None, 25, 2)        14          input_3[0][0]                    \n__________________________________________________________________________________________________\nconv1d_2 (Conv1D)               (None, 25, 2)        14          input_4[0][0]                    \n__________________________________________________________________________________________________\ninput_2 (InputLayer)            [(None, 3)]          0                                            \n__________________________________________________________________________________________________\ninput_5 (InputLayer)            [(None, 3)]          0                                            \n__________________________________________________________________________________________________\nflatten (Flatten)               (None, 1600)         0           average_pooling2d_2[0][0]        \n__________________________________________________________________________________________________\nreshape (Reshape)               (None, 50)           0           conv1d[0][0]                     \n__________________________________________________________________________________________________\nreshape_1 (Reshape)             (None, 50)           0           conv1d_1[0][0]                   \n__________________________________________________________________________________________________\nreshape_2 (Reshape)             (None, 50)           0           conv1d_2[0][0]                   \n__________________________________________________________________________________________________\nconcatenate (Concatenate)       (None, 6)            0           input_2[0][0]                    \n                                                                 input_5[0][0]                    \n__________________________________________________________________________________________________\nconcatenate_1 (Concatenate)     (None, 1756)         0           flatten[0][0]                    \n                                                                 reshape[0][0]                    \n                                                                 reshape_1[0][0]                  \n                                                                 reshape_2[0][0]                  \n                                                                 concatenate[0][0]                \n__________________________________________________________________________________________________\ndense (Dense)                   (None, 50)           87850       concatenate_1[0][0]              \n__________________________________________________________________________________________________\ndropout (Dropout)               (None, 50)           0           dense[0][0]                      \n__________________________________________________________________________________________________\ndense_1 (Dense)                 (None, 50)           2550        dropout[0][0]                    \n__________________________________________________________________________________________________\nreshape_3 (Reshape)             (None, 25, 2)        0           dense_1[0][0]                    \n==================================================================================================\nTotal params: 123,018\nTrainable params: 122,794\nNon-trainable params: 224\n__________________________________________________________________________________________________\n"
     ]
    }
   ],
   "source": [
    "pp_model = nn()\n",
    "opt = tf.keras.optimizers.Adam()\n",
    "pp_model.compile(optimizer=opt,loss=euclidean_distance_loss, metrics='accuracy')\n",
    "pp_model.summary()"
   ]
  },
  {
   "cell_type": "code",
   "execution_count": 99,
   "metadata": {},
   "outputs": [
    {
     "output_type": "stream",
     "name": "stdout",
     "text": [
      "Epoch 1/100\n"
     ]
    },
    {
     "output_type": "error",
     "ename": "KeyboardInterrupt",
     "evalue": "",
     "traceback": [
      "\u001b[1;31m---------------------------------------------------------------------------\u001b[0m",
      "\u001b[1;31mKeyboardInterrupt\u001b[0m                         Traceback (most recent call last)",
      "\u001b[1;32m<ipython-input-99-28b4e32fda56>\u001b[0m in \u001b[0;36m<module>\u001b[1;34m\u001b[0m\n\u001b[1;32m----> 1\u001b[1;33m \u001b[0mhistory\u001b[0m \u001b[1;33m=\u001b[0m \u001b[0mpp_model\u001b[0m\u001b[1;33m.\u001b[0m\u001b[0mfit\u001b[0m\u001b[1;33m(\u001b[0m\u001b[0mds_train\u001b[0m\u001b[1;33m,\u001b[0m\u001b[0mepochs\u001b[0m\u001b[1;33m=\u001b[0m\u001b[1;36m100\u001b[0m\u001b[1;33m,\u001b[0m\u001b[0mvalidation_data\u001b[0m\u001b[1;33m=\u001b[0m\u001b[0mds_valid\u001b[0m\u001b[1;33m)\u001b[0m\u001b[1;33m\u001b[0m\u001b[1;33m\u001b[0m\u001b[0m\n\u001b[0m",
      "\u001b[1;32mc:\\Users\\Teja\\Documents\\_INFOTECH\\Thesis\\sample_Ros_bag\\env_rosbag\\lib\\site-packages\\tensorflow\\python\\keras\\engine\\training.py\u001b[0m in \u001b[0;36mfit\u001b[1;34m(self, x, y, batch_size, epochs, verbose, callbacks, validation_split, validation_data, shuffle, class_weight, sample_weight, initial_epoch, steps_per_epoch, validation_steps, validation_batch_size, validation_freq, max_queue_size, workers, use_multiprocessing)\u001b[0m\n\u001b[0;32m   1098\u001b[0m                 _r=1):\n\u001b[0;32m   1099\u001b[0m               \u001b[0mcallbacks\u001b[0m\u001b[1;33m.\u001b[0m\u001b[0mon_train_batch_begin\u001b[0m\u001b[1;33m(\u001b[0m\u001b[0mstep\u001b[0m\u001b[1;33m)\u001b[0m\u001b[1;33m\u001b[0m\u001b[1;33m\u001b[0m\u001b[0m\n\u001b[1;32m-> 1100\u001b[1;33m               \u001b[0mtmp_logs\u001b[0m \u001b[1;33m=\u001b[0m \u001b[0mself\u001b[0m\u001b[1;33m.\u001b[0m\u001b[0mtrain_function\u001b[0m\u001b[1;33m(\u001b[0m\u001b[0miterator\u001b[0m\u001b[1;33m)\u001b[0m\u001b[1;33m\u001b[0m\u001b[1;33m\u001b[0m\u001b[0m\n\u001b[0m\u001b[0;32m   1101\u001b[0m               \u001b[1;32mif\u001b[0m \u001b[0mdata_handler\u001b[0m\u001b[1;33m.\u001b[0m\u001b[0mshould_sync\u001b[0m\u001b[1;33m:\u001b[0m\u001b[1;33m\u001b[0m\u001b[1;33m\u001b[0m\u001b[0m\n\u001b[0;32m   1102\u001b[0m                 \u001b[0mcontext\u001b[0m\u001b[1;33m.\u001b[0m\u001b[0masync_wait\u001b[0m\u001b[1;33m(\u001b[0m\u001b[1;33m)\u001b[0m\u001b[1;33m\u001b[0m\u001b[1;33m\u001b[0m\u001b[0m\n",
      "\u001b[1;32mc:\\Users\\Teja\\Documents\\_INFOTECH\\Thesis\\sample_Ros_bag\\env_rosbag\\lib\\site-packages\\tensorflow\\python\\eager\\def_function.py\u001b[0m in \u001b[0;36m__call__\u001b[1;34m(self, *args, **kwds)\u001b[0m\n\u001b[0;32m    826\u001b[0m     \u001b[0mtracing_count\u001b[0m \u001b[1;33m=\u001b[0m \u001b[0mself\u001b[0m\u001b[1;33m.\u001b[0m\u001b[0mexperimental_get_tracing_count\u001b[0m\u001b[1;33m(\u001b[0m\u001b[1;33m)\u001b[0m\u001b[1;33m\u001b[0m\u001b[1;33m\u001b[0m\u001b[0m\n\u001b[0;32m    827\u001b[0m     \u001b[1;32mwith\u001b[0m \u001b[0mtrace\u001b[0m\u001b[1;33m.\u001b[0m\u001b[0mTrace\u001b[0m\u001b[1;33m(\u001b[0m\u001b[0mself\u001b[0m\u001b[1;33m.\u001b[0m\u001b[0m_name\u001b[0m\u001b[1;33m)\u001b[0m \u001b[1;32mas\u001b[0m \u001b[0mtm\u001b[0m\u001b[1;33m:\u001b[0m\u001b[1;33m\u001b[0m\u001b[1;33m\u001b[0m\u001b[0m\n\u001b[1;32m--> 828\u001b[1;33m       \u001b[0mresult\u001b[0m \u001b[1;33m=\u001b[0m \u001b[0mself\u001b[0m\u001b[1;33m.\u001b[0m\u001b[0m_call\u001b[0m\u001b[1;33m(\u001b[0m\u001b[1;33m*\u001b[0m\u001b[0margs\u001b[0m\u001b[1;33m,\u001b[0m \u001b[1;33m**\u001b[0m\u001b[0mkwds\u001b[0m\u001b[1;33m)\u001b[0m\u001b[1;33m\u001b[0m\u001b[1;33m\u001b[0m\u001b[0m\n\u001b[0m\u001b[0;32m    829\u001b[0m       \u001b[0mcompiler\u001b[0m \u001b[1;33m=\u001b[0m \u001b[1;34m\"xla\"\u001b[0m \u001b[1;32mif\u001b[0m \u001b[0mself\u001b[0m\u001b[1;33m.\u001b[0m\u001b[0m_experimental_compile\u001b[0m \u001b[1;32melse\u001b[0m \u001b[1;34m\"nonXla\"\u001b[0m\u001b[1;33m\u001b[0m\u001b[1;33m\u001b[0m\u001b[0m\n\u001b[0;32m    830\u001b[0m       \u001b[0mnew_tracing_count\u001b[0m \u001b[1;33m=\u001b[0m \u001b[0mself\u001b[0m\u001b[1;33m.\u001b[0m\u001b[0mexperimental_get_tracing_count\u001b[0m\u001b[1;33m(\u001b[0m\u001b[1;33m)\u001b[0m\u001b[1;33m\u001b[0m\u001b[1;33m\u001b[0m\u001b[0m\n",
      "\u001b[1;32mc:\\Users\\Teja\\Documents\\_INFOTECH\\Thesis\\sample_Ros_bag\\env_rosbag\\lib\\site-packages\\tensorflow\\python\\eager\\def_function.py\u001b[0m in \u001b[0;36m_call\u001b[1;34m(self, *args, **kwds)\u001b[0m\n\u001b[0;32m    886\u001b[0m         \u001b[1;31m# Lifting succeeded, so variables are initialized and we can run the\u001b[0m\u001b[1;33m\u001b[0m\u001b[1;33m\u001b[0m\u001b[1;33m\u001b[0m\u001b[0m\n\u001b[0;32m    887\u001b[0m         \u001b[1;31m# stateless function.\u001b[0m\u001b[1;33m\u001b[0m\u001b[1;33m\u001b[0m\u001b[1;33m\u001b[0m\u001b[0m\n\u001b[1;32m--> 888\u001b[1;33m         \u001b[1;32mreturn\u001b[0m \u001b[0mself\u001b[0m\u001b[1;33m.\u001b[0m\u001b[0m_stateless_fn\u001b[0m\u001b[1;33m(\u001b[0m\u001b[1;33m*\u001b[0m\u001b[0margs\u001b[0m\u001b[1;33m,\u001b[0m \u001b[1;33m**\u001b[0m\u001b[0mkwds\u001b[0m\u001b[1;33m)\u001b[0m\u001b[1;33m\u001b[0m\u001b[1;33m\u001b[0m\u001b[0m\n\u001b[0m\u001b[0;32m    889\u001b[0m     \u001b[1;32melse\u001b[0m\u001b[1;33m:\u001b[0m\u001b[1;33m\u001b[0m\u001b[1;33m\u001b[0m\u001b[0m\n\u001b[0;32m    890\u001b[0m       \u001b[0m_\u001b[0m\u001b[1;33m,\u001b[0m \u001b[0m_\u001b[0m\u001b[1;33m,\u001b[0m \u001b[0m_\u001b[0m\u001b[1;33m,\u001b[0m \u001b[0mfiltered_flat_args\u001b[0m \u001b[1;33m=\u001b[0m\u001b[0;31m \u001b[0m\u001b[0;31m\\\u001b[0m\u001b[1;33m\u001b[0m\u001b[1;33m\u001b[0m\u001b[0m\n",
      "\u001b[1;32mc:\\Users\\Teja\\Documents\\_INFOTECH\\Thesis\\sample_Ros_bag\\env_rosbag\\lib\\site-packages\\tensorflow\\python\\eager\\function.py\u001b[0m in \u001b[0;36m__call__\u001b[1;34m(self, *args, **kwargs)\u001b[0m\n\u001b[0;32m   2941\u001b[0m        filtered_flat_args) = self._maybe_define_function(args, kwargs)\n\u001b[0;32m   2942\u001b[0m     return graph_function._call_flat(\n\u001b[1;32m-> 2943\u001b[1;33m         filtered_flat_args, captured_inputs=graph_function.captured_inputs)  # pylint: disable=protected-access\n\u001b[0m\u001b[0;32m   2944\u001b[0m \u001b[1;33m\u001b[0m\u001b[0m\n\u001b[0;32m   2945\u001b[0m   \u001b[1;33m@\u001b[0m\u001b[0mproperty\u001b[0m\u001b[1;33m\u001b[0m\u001b[1;33m\u001b[0m\u001b[0m\n",
      "\u001b[1;32mc:\\Users\\Teja\\Documents\\_INFOTECH\\Thesis\\sample_Ros_bag\\env_rosbag\\lib\\site-packages\\tensorflow\\python\\eager\\function.py\u001b[0m in \u001b[0;36m_call_flat\u001b[1;34m(self, args, captured_inputs, cancellation_manager)\u001b[0m\n\u001b[0;32m   1917\u001b[0m       \u001b[1;31m# No tape is watching; skip to running the function.\u001b[0m\u001b[1;33m\u001b[0m\u001b[1;33m\u001b[0m\u001b[1;33m\u001b[0m\u001b[0m\n\u001b[0;32m   1918\u001b[0m       return self._build_call_outputs(self._inference_function.call(\n\u001b[1;32m-> 1919\u001b[1;33m           ctx, args, cancellation_manager=cancellation_manager))\n\u001b[0m\u001b[0;32m   1920\u001b[0m     forward_backward = self._select_forward_and_backward_functions(\n\u001b[0;32m   1921\u001b[0m         \u001b[0margs\u001b[0m\u001b[1;33m,\u001b[0m\u001b[1;33m\u001b[0m\u001b[1;33m\u001b[0m\u001b[0m\n",
      "\u001b[1;32mc:\\Users\\Teja\\Documents\\_INFOTECH\\Thesis\\sample_Ros_bag\\env_rosbag\\lib\\site-packages\\tensorflow\\python\\eager\\function.py\u001b[0m in \u001b[0;36mcall\u001b[1;34m(self, ctx, args, cancellation_manager)\u001b[0m\n\u001b[0;32m    558\u001b[0m               \u001b[0minputs\u001b[0m\u001b[1;33m=\u001b[0m\u001b[0margs\u001b[0m\u001b[1;33m,\u001b[0m\u001b[1;33m\u001b[0m\u001b[1;33m\u001b[0m\u001b[0m\n\u001b[0;32m    559\u001b[0m               \u001b[0mattrs\u001b[0m\u001b[1;33m=\u001b[0m\u001b[0mattrs\u001b[0m\u001b[1;33m,\u001b[0m\u001b[1;33m\u001b[0m\u001b[1;33m\u001b[0m\u001b[0m\n\u001b[1;32m--> 560\u001b[1;33m               ctx=ctx)\n\u001b[0m\u001b[0;32m    561\u001b[0m         \u001b[1;32melse\u001b[0m\u001b[1;33m:\u001b[0m\u001b[1;33m\u001b[0m\u001b[1;33m\u001b[0m\u001b[0m\n\u001b[0;32m    562\u001b[0m           outputs = execute.execute_with_cancellation(\n",
      "\u001b[1;32mc:\\Users\\Teja\\Documents\\_INFOTECH\\Thesis\\sample_Ros_bag\\env_rosbag\\lib\\site-packages\\tensorflow\\python\\eager\\execute.py\u001b[0m in \u001b[0;36mquick_execute\u001b[1;34m(op_name, num_outputs, inputs, attrs, ctx, name)\u001b[0m\n\u001b[0;32m     58\u001b[0m     \u001b[0mctx\u001b[0m\u001b[1;33m.\u001b[0m\u001b[0mensure_initialized\u001b[0m\u001b[1;33m(\u001b[0m\u001b[1;33m)\u001b[0m\u001b[1;33m\u001b[0m\u001b[1;33m\u001b[0m\u001b[0m\n\u001b[0;32m     59\u001b[0m     tensors = pywrap_tfe.TFE_Py_Execute(ctx._handle, device_name, op_name,\n\u001b[1;32m---> 60\u001b[1;33m                                         inputs, attrs, num_outputs)\n\u001b[0m\u001b[0;32m     61\u001b[0m   \u001b[1;32mexcept\u001b[0m \u001b[0mcore\u001b[0m\u001b[1;33m.\u001b[0m\u001b[0m_NotOkStatusException\u001b[0m \u001b[1;32mas\u001b[0m \u001b[0me\u001b[0m\u001b[1;33m:\u001b[0m\u001b[1;33m\u001b[0m\u001b[1;33m\u001b[0m\u001b[0m\n\u001b[0;32m     62\u001b[0m     \u001b[1;32mif\u001b[0m \u001b[0mname\u001b[0m \u001b[1;32mis\u001b[0m \u001b[1;32mnot\u001b[0m \u001b[1;32mNone\u001b[0m\u001b[1;33m:\u001b[0m\u001b[1;33m\u001b[0m\u001b[1;33m\u001b[0m\u001b[0m\n",
      "\u001b[1;31mKeyboardInterrupt\u001b[0m: "
     ]
    }
   ],
   "source": [
    "history = pp_model.fit(ds_train,epochs=5,validation_data=ds_valid)"
   ]
  },
  {
   "cell_type": "code",
   "execution_count": null,
   "metadata": {},
   "outputs": [],
   "source": []
  }
 ]
}