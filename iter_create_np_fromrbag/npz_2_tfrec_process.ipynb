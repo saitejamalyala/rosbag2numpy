{
 "metadata": {
  "language_info": {
   "codemirror_mode": {
    "name": "ipython",
    "version": 3
   },
   "file_extension": ".py",
   "mimetype": "text/x-python",
   "name": "python",
   "nbconvert_exporter": "python",
   "pygments_lexer": "ipython3",
   "version": "3.7.8"
  },
  "orig_nbformat": 4,
  "kernelspec": {
   "name": "python3",
   "display_name": "Python 3.7.8 64-bit ('env_rosbag': venv)"
  },
  "interpreter": {
   "hash": "bbc9dda3e9e79c7f3242cc2df2a5d623228b80dc5b57011016029c4090ab57c9"
  }
 },
 "nbformat": 4,
 "nbformat_minor": 2,
 "cells": [
  {
   "cell_type": "code",
   "execution_count": 1,
   "metadata": {},
   "outputs": [
    {
     "output_type": "stream",
     "name": "stdout",
     "text": [
      "2.4.1\n"
     ]
    }
   ],
   "source": [
    "import numpy as np\n",
    "import tensorflow as tf\n",
    "from glob import glob\n",
    "from typing import List,Dict\n",
    "from fnmatch import fnmatch\n",
    "import matplotlib.pyplot as plt\n",
    "import re\n",
    "print(tf.__version__)"
   ]
  },
  {
   "cell_type": "code",
   "execution_count": 2,
   "metadata": {},
   "outputs": [],
   "source": [
    "#root_path = r'D:\\sd_dynObj'\n",
    "file_pattern = '*_grid.npz'\n",
    "source_path = r'D:\\npz_files'\n",
    "\n",
    "tfrec_tgt_path = r'D:\\tf_records'\n",
    "_MAX_LENGTH =25\n",
    "\n",
    "# function to get files of same pattern\n",
    "def get_all_bag_paths(root:str,pattern:str)->List[str]:\n",
    "    list_file_paths=[]\n",
    "    for path, subdirs, files in os.walk(root):\n",
    "        for name in files:\n",
    "            if fnmatch(name, pattern):\n",
    "                list_file_paths.append((os.path.join(path, name)))\n",
    "\n",
    "    return sorted(list_file_paths)"
   ]
  },
  {
   "cell_type": "code",
   "execution_count": 3,
   "metadata": {},
   "outputs": [],
   "source": [
    "all_grid_paths = get_all_bag_paths(source_path,pattern=file_pattern)\n",
    "all_init_paths = get_all_bag_paths(source_path,pattern=\"*_init_path.npz\")\n",
    "all_opt_paths = get_all_bag_paths(source_path,pattern=\"*_opt_path.npz\")\n",
    "all_lr_bnd_paths = get_all_bag_paths(source_path,pattern=\"*_lr_bnd.npz\")\n",
    "all_odo_paths = get_all_bag_paths(source_path,pattern=\"*_odo.npz\")"
   ]
  },
  {
   "cell_type": "code",
   "execution_count": 4,
   "metadata": {},
   "outputs": [],
   "source": [
    "#all_odo_paths"
   ]
  },
  {
   "cell_type": "code",
   "execution_count": 5,
   "metadata": {},
   "outputs": [
    {
     "output_type": "stream",
     "name": "stdout",
     "text": [
      "74 74 74 74 74\n"
     ]
    }
   ],
   "source": [
    "print(len(all_grid_paths),len(all_init_paths),len(all_opt_paths),len(all_lr_bnd_paths),len(all_odo_paths))\n"
   ]
  },
  {
   "cell_type": "code",
   "execution_count": 6,
   "metadata": {},
   "outputs": [],
   "source": [
    "assert len(all_grid_paths)==len(all_init_paths)==len(all_opt_paths)==len(all_lr_bnd_paths)==len(all_odo_paths)"
   ]
  },
  {
   "cell_type": "code",
   "execution_count": 7,
   "metadata": {},
   "outputs": [
    {
     "output_type": "stream",
     "name": "stdout",
     "text": [
      "<class 'type'>\n"
     ]
    }
   ],
   "source": [
    "def load_npz_data(file_path:str,array_name:str):\n",
    "    return np.load(file_path)[array_name]\n",
    "\n",
    "def get_names(path:str)->Dict[str,str]:\n",
    "    list_split_path=path.split(os.sep)\n",
    "    scene_name = list_split_path[-3]\n",
    "    folder_name = list_split_path[-2]\n",
    "    file_name = list_split_path[-1]\n",
    "    file_prefix = re.split(\"_nos\",file_name)[0]\n",
    "\n",
    "    return scene_name,folder_name,file_name,file_prefix\n",
    "\n",
    "print(type(np.int8))"
   ]
  },
  {
   "cell_type": "code",
   "execution_count": 8,
   "metadata": {},
   "outputs": [
    {
     "output_type": "stream",
     "name": "stdout",
     "text": [
      "\n Grid map:(95, 1536, 1536)\n Grid Orig resol:(95, 3)\n Init path:(95, 25, 2)\n Opt Path:(95, 25, 2)\n Left bnd:(95, 25, 2)\n Right bnd(95, 25, 2)\n Car x,y,theta:(95, 3)\n\nscenario1\n2021-06-10_08-54-06\n2021-06-10_08-54-07_0_nos95_grid.npz\n2021-06-10_08-54-07_0\n"
     ]
    }
   ],
   "source": [
    "file_idx = 0\n",
    "\n",
    "\n",
    "# Grid map== grid origin(samples==x==y)== grid resolution\n",
    "in_grid_map = load_npz_data((all_grid_paths[file_idx]),\"grid_data\")\n",
    "in_grid_map = (in_grid_map/127).astype(np.int8)\n",
    "\n",
    "in_grid_org_res = load_npz_data((all_grid_paths[file_idx]),\"grid_org_res\")\n",
    "in_grid_org_res = in_grid_org_res.astype(np.float32)\n",
    "\n",
    "#Load paths(initial and optimal) and boundaries(left and right)\n",
    "in_init_path = load_npz_data((all_init_paths[file_idx]),\"init_path\")\n",
    "in_init_path = in_init_path.astype(np.float32)\n",
    "\n",
    "out_opt_path = load_npz_data((all_opt_paths[file_idx]),\"opt_path\")\n",
    "out_opt_path = out_opt_path.astype(np.float32)\n",
    "\n",
    "in_left_bnd = load_npz_data((all_lr_bnd_paths[file_idx]),\"left_bnd\")\n",
    "in_left_bnd = in_left_bnd.astype(np.float32)\n",
    "in_right_bnd = load_npz_data((all_lr_bnd_paths[file_idx]),\"right_bnd\")\n",
    "in_right_bnd = in_right_bnd.astype(np.float32)\n",
    "\n",
    "#Car odometry\n",
    "in_car_odo = load_npz_data((all_odo_paths[file_idx]),\"odo_data\")\n",
    "in_car_odo = in_car_odo.astype(np.float32)\n",
    "\n",
    "try:\n",
    "    assert (\n",
    "        len(in_grid_map)==len(in_grid_org_res)==len(in_init_path)==len(out_opt_path)==len(in_left_bnd)==len(in_right_bnd)==len(in_car_odo)\n",
    "    )\n",
    "\n",
    "except AssertionError:\n",
    "    print(f\"Assertion error, all inputs and outputs are not of equal length\")\n",
    "\n",
    "scene_name,folder_name,file_name,file_prefix = get_names(all_grid_paths[file_idx])\n",
    "\n",
    "print(f\"\\n \\\n",
    "Grid map:{np.shape(in_grid_map)}\\n \\\n",
    "Grid Orig resol:{np.shape(in_grid_org_res)}\\n \\\n",
    "Init path:{np.shape(in_init_path)}\\n \\\n",
    "Opt Path:{np.shape(out_opt_path)}\\n \\\n",
    "Left bnd:{np.shape(in_left_bnd)}\\n \\\n",
    "Right bnd{np.shape(in_right_bnd)}\\n \\\n",
    "Car x,y,theta:{np.shape(in_car_odo)}\\n\")\n",
    "\n",
    "\n",
    "print(f\"{scene_name}\\n{folder_name}\\n{file_name}\\n{file_prefix}\")"
   ]
  },
  {
   "cell_type": "code",
   "execution_count": 9,
   "metadata": {},
   "outputs": [
    {
     "output_type": "stream",
     "name": "stdout",
     "text": [
      "<class 'numpy.float64'>\n",
      "[0.         0.00787402]\n",
      "<class 'numpy.int8'>\n"
     ]
    },
    {
     "output_type": "execute_result",
     "data": {
      "text/plain": [
       "<matplotlib.image.AxesImage at 0x1d172056708>"
      ]
     },
     "metadata": {},
     "execution_count": 9
    },
    {
     "output_type": "display_data",
     "data": {
      "text/plain": "<Figure size 720x720 with 1 Axes>",
      "image/svg+xml": "<?xml version=\"1.0\" encoding=\"utf-8\" standalone=\"no\"?>\r\n<!DOCTYPE svg PUBLIC \"-//W3C//DTD SVG 1.1//EN\"\r\n  \"http://www.w3.org/Graphics/SVG/1.1/DTD/svg11.dtd\">\r\n<!-- Created with matplotlib (https://matplotlib.org/) -->\r\n<svg height=\"574.678125pt\" version=\"1.1\" viewBox=\"0 0 590.45 574.678125\" width=\"590.45pt\" xmlns=\"http://www.w3.org/2000/svg\" xmlns:xlink=\"http://www.w3.org/1999/xlink\">\r\n <defs>\r\n  <style type=\"text/css\">\r\n*{stroke-linecap:butt;stroke-linejoin:round;}\r\n  </style>\r\n </defs>\r\n <g id=\"figure_1\">\r\n  <g id=\"patch_1\">\r\n   <path d=\"M -0 574.678125 \r\nL 590.45 574.678125 \r\nL 590.45 0 \r\nL -0 0 \r\nz\r\n\" style=\"fill:none;\"/>\r\n  </g>\r\n  <g id=\"axes_1\">\r\n   <g id=\"patch_2\">\r\n    <path d=\"M 39.65 550.8 \r\nL 583.25 550.8 \r\nL 583.25 7.2 \r\nL 39.65 7.2 \r\nz\r\n\" style=\"fill:#ffffff;\"/>\r\n   </g>\r\n   <g clip-path=\"url(#peaeb38372b)\">\r\n    <image height=\"544\" id=\"image52b2cd2bfd\" transform=\"scale(1 -1)translate(0 -544)\" width=\"544\" x=\"39.65\" xlink:href=\"data:image/png;base64,\r\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\" y=\"-6.8\"/>\r\n   </g>\r\n   <g id=\"matplotlib.axis_1\">\r\n    <g id=\"xtick_1\">\r\n     <g id=\"line2d_1\">\r\n      <defs>\r\n       <path d=\"M 0 0 \r\nL 0 3.5 \r\n\" id=\"m5631bd964f\" style=\"stroke:#000000;stroke-width:0.8;\"/>\r\n      </defs>\r\n      <g>\r\n       <use style=\"stroke:#000000;stroke-width:0.8;\" x=\"39.826953\" xlink:href=\"#m5631bd964f\" y=\"550.8\"/>\r\n      </g>\r\n     </g>\r\n     <g id=\"text_1\">\r\n      <!-- 0 -->\r\n      <defs>\r\n       <path d=\"M 31.78125 66.40625 \r\nQ 24.171875 66.40625 20.328125 58.90625 \r\nQ 16.5 51.421875 16.5 36.375 \r\nQ 16.5 21.390625 20.328125 13.890625 \r\nQ 24.171875 6.390625 31.78125 6.390625 \r\nQ 39.453125 6.390625 43.28125 13.890625 \r\nQ 47.125 21.390625 47.125 36.375 \r\nQ 47.125 51.421875 43.28125 58.90625 \r\nQ 39.453125 66.40625 31.78125 66.40625 \r\nz\r\nM 31.78125 74.21875 \r\nQ 44.046875 74.21875 50.515625 64.515625 \r\nQ 56.984375 54.828125 56.984375 36.375 \r\nQ 56.984375 17.96875 50.515625 8.265625 \r\nQ 44.046875 -1.421875 31.78125 -1.421875 \r\nQ 19.53125 -1.421875 13.0625 8.265625 \r\nQ 6.59375 17.96875 6.59375 36.375 \r\nQ 6.59375 54.828125 13.0625 64.515625 \r\nQ 19.53125 74.21875 31.78125 74.21875 \r\nz\r\n\" id=\"DejaVuSans-48\"/>\r\n      </defs>\r\n      <g transform=\"translate(36.645703 565.398438)scale(0.1 -0.1)\">\r\n       <use xlink:href=\"#DejaVuSans-48\"/>\r\n      </g>\r\n     </g>\r\n    </g>\r\n    <g id=\"xtick_2\">\r\n     <g id=\"line2d_2\">\r\n      <g>\r\n       <use style=\"stroke:#000000;stroke-width:0.8;\" x=\"110.608203\" xlink:href=\"#m5631bd964f\" y=\"550.8\"/>\r\n      </g>\r\n     </g>\r\n     <g id=\"text_2\">\r\n      <!-- 200 -->\r\n      <defs>\r\n       <path d=\"M 19.1875 8.296875 \r\nL 53.609375 8.296875 \r\nL 53.609375 0 \r\nL 7.328125 0 \r\nL 7.328125 8.296875 \r\nQ 12.9375 14.109375 22.625 23.890625 \r\nQ 32.328125 33.6875 34.8125 36.53125 \r\nQ 39.546875 41.84375 41.421875 45.53125 \r\nQ 43.3125 49.21875 43.3125 52.78125 \r\nQ 43.3125 58.59375 39.234375 62.25 \r\nQ 35.15625 65.921875 28.609375 65.921875 \r\nQ 23.96875 65.921875 18.8125 64.3125 \r\nQ 13.671875 62.703125 7.8125 59.421875 \r\nL 7.8125 69.390625 \r\nQ 13.765625 71.78125 18.9375 73 \r\nQ 24.125 74.21875 28.421875 74.21875 \r\nQ 39.75 74.21875 46.484375 68.546875 \r\nQ 53.21875 62.890625 53.21875 53.421875 \r\nQ 53.21875 48.921875 51.53125 44.890625 \r\nQ 49.859375 40.875 45.40625 35.40625 \r\nQ 44.1875 33.984375 37.640625 27.21875 \r\nQ 31.109375 20.453125 19.1875 8.296875 \r\nz\r\n\" id=\"DejaVuSans-50\"/>\r\n      </defs>\r\n      <g transform=\"translate(101.064453 565.398438)scale(0.1 -0.1)\">\r\n       <use xlink:href=\"#DejaVuSans-50\"/>\r\n       <use x=\"63.623047\" xlink:href=\"#DejaVuSans-48\"/>\r\n       <use x=\"127.246094\" xlink:href=\"#DejaVuSans-48\"/>\r\n      </g>\r\n     </g>\r\n    </g>\r\n    <g id=\"xtick_3\">\r\n     <g id=\"line2d_3\">\r\n      <g>\r\n       <use style=\"stroke:#000000;stroke-width:0.8;\" x=\"181.389453\" xlink:href=\"#m5631bd964f\" y=\"550.8\"/>\r\n      </g>\r\n     </g>\r\n     <g id=\"text_3\">\r\n      <!-- 400 -->\r\n      <defs>\r\n       <path d=\"M 37.796875 64.3125 \r\nL 12.890625 25.390625 \r\nL 37.796875 25.390625 \r\nz\r\nM 35.203125 72.90625 \r\nL 47.609375 72.90625 \r\nL 47.609375 25.390625 \r\nL 58.015625 25.390625 \r\nL 58.015625 17.1875 \r\nL 47.609375 17.1875 \r\nL 47.609375 0 \r\nL 37.796875 0 \r\nL 37.796875 17.1875 \r\nL 4.890625 17.1875 \r\nL 4.890625 26.703125 \r\nz\r\n\" id=\"DejaVuSans-52\"/>\r\n      </defs>\r\n      <g transform=\"translate(171.845703 565.398438)scale(0.1 -0.1)\">\r\n       <use xlink:href=\"#DejaVuSans-52\"/>\r\n       <use x=\"63.623047\" xlink:href=\"#DejaVuSans-48\"/>\r\n       <use x=\"127.246094\" xlink:href=\"#DejaVuSans-48\"/>\r\n      </g>\r\n     </g>\r\n    </g>\r\n    <g id=\"xtick_4\">\r\n     <g id=\"line2d_4\">\r\n      <g>\r\n       <use style=\"stroke:#000000;stroke-width:0.8;\" x=\"252.170703\" xlink:href=\"#m5631bd964f\" y=\"550.8\"/>\r\n      </g>\r\n     </g>\r\n     <g id=\"text_4\">\r\n      <!-- 600 -->\r\n      <defs>\r\n       <path d=\"M 33.015625 40.375 \r\nQ 26.375 40.375 22.484375 35.828125 \r\nQ 18.609375 31.296875 18.609375 23.390625 \r\nQ 18.609375 15.53125 22.484375 10.953125 \r\nQ 26.375 6.390625 33.015625 6.390625 \r\nQ 39.65625 6.390625 43.53125 10.953125 \r\nQ 47.40625 15.53125 47.40625 23.390625 \r\nQ 47.40625 31.296875 43.53125 35.828125 \r\nQ 39.65625 40.375 33.015625 40.375 \r\nz\r\nM 52.59375 71.296875 \r\nL 52.59375 62.3125 \r\nQ 48.875 64.0625 45.09375 64.984375 \r\nQ 41.3125 65.921875 37.59375 65.921875 \r\nQ 27.828125 65.921875 22.671875 59.328125 \r\nQ 17.53125 52.734375 16.796875 39.40625 \r\nQ 19.671875 43.65625 24.015625 45.921875 \r\nQ 28.375 48.1875 33.59375 48.1875 \r\nQ 44.578125 48.1875 50.953125 41.515625 \r\nQ 57.328125 34.859375 57.328125 23.390625 \r\nQ 57.328125 12.15625 50.6875 5.359375 \r\nQ 44.046875 -1.421875 33.015625 -1.421875 \r\nQ 20.359375 -1.421875 13.671875 8.265625 \r\nQ 6.984375 17.96875 6.984375 36.375 \r\nQ 6.984375 53.65625 15.1875 63.9375 \r\nQ 23.390625 74.21875 37.203125 74.21875 \r\nQ 40.921875 74.21875 44.703125 73.484375 \r\nQ 48.484375 72.75 52.59375 71.296875 \r\nz\r\n\" id=\"DejaVuSans-54\"/>\r\n      </defs>\r\n      <g transform=\"translate(242.626953 565.398438)scale(0.1 -0.1)\">\r\n       <use xlink:href=\"#DejaVuSans-54\"/>\r\n       <use x=\"63.623047\" xlink:href=\"#DejaVuSans-48\"/>\r\n       <use x=\"127.246094\" xlink:href=\"#DejaVuSans-48\"/>\r\n      </g>\r\n     </g>\r\n    </g>\r\n    <g id=\"xtick_5\">\r\n     <g id=\"line2d_5\">\r\n      <g>\r\n       <use style=\"stroke:#000000;stroke-width:0.8;\" x=\"322.951953\" xlink:href=\"#m5631bd964f\" y=\"550.8\"/>\r\n      </g>\r\n     </g>\r\n     <g id=\"text_5\">\r\n      <!-- 800 -->\r\n      <defs>\r\n       <path d=\"M 31.78125 34.625 \r\nQ 24.75 34.625 20.71875 30.859375 \r\nQ 16.703125 27.09375 16.703125 20.515625 \r\nQ 16.703125 13.921875 20.71875 10.15625 \r\nQ 24.75 6.390625 31.78125 6.390625 \r\nQ 38.8125 6.390625 42.859375 10.171875 \r\nQ 46.921875 13.96875 46.921875 20.515625 \r\nQ 46.921875 27.09375 42.890625 30.859375 \r\nQ 38.875 34.625 31.78125 34.625 \r\nz\r\nM 21.921875 38.8125 \r\nQ 15.578125 40.375 12.03125 44.71875 \r\nQ 8.5 49.078125 8.5 55.328125 \r\nQ 8.5 64.0625 14.71875 69.140625 \r\nQ 20.953125 74.21875 31.78125 74.21875 \r\nQ 42.671875 74.21875 48.875 69.140625 \r\nQ 55.078125 64.0625 55.078125 55.328125 \r\nQ 55.078125 49.078125 51.53125 44.71875 \r\nQ 48 40.375 41.703125 38.8125 \r\nQ 48.828125 37.15625 52.796875 32.3125 \r\nQ 56.78125 27.484375 56.78125 20.515625 \r\nQ 56.78125 9.90625 50.3125 4.234375 \r\nQ 43.84375 -1.421875 31.78125 -1.421875 \r\nQ 19.734375 -1.421875 13.25 4.234375 \r\nQ 6.78125 9.90625 6.78125 20.515625 \r\nQ 6.78125 27.484375 10.78125 32.3125 \r\nQ 14.796875 37.15625 21.921875 38.8125 \r\nz\r\nM 18.3125 54.390625 \r\nQ 18.3125 48.734375 21.84375 45.5625 \r\nQ 25.390625 42.390625 31.78125 42.390625 \r\nQ 38.140625 42.390625 41.71875 45.5625 \r\nQ 45.3125 48.734375 45.3125 54.390625 \r\nQ 45.3125 60.0625 41.71875 63.234375 \r\nQ 38.140625 66.40625 31.78125 66.40625 \r\nQ 25.390625 66.40625 21.84375 63.234375 \r\nQ 18.3125 60.0625 18.3125 54.390625 \r\nz\r\n\" id=\"DejaVuSans-56\"/>\r\n      </defs>\r\n      <g transform=\"translate(313.408203 565.398438)scale(0.1 -0.1)\">\r\n       <use xlink:href=\"#DejaVuSans-56\"/>\r\n       <use x=\"63.623047\" xlink:href=\"#DejaVuSans-48\"/>\r\n       <use x=\"127.246094\" xlink:href=\"#DejaVuSans-48\"/>\r\n      </g>\r\n     </g>\r\n    </g>\r\n    <g id=\"xtick_6\">\r\n     <g id=\"line2d_6\">\r\n      <g>\r\n       <use style=\"stroke:#000000;stroke-width:0.8;\" x=\"393.733203\" xlink:href=\"#m5631bd964f\" y=\"550.8\"/>\r\n      </g>\r\n     </g>\r\n     <g id=\"text_6\">\r\n      <!-- 1000 -->\r\n      <defs>\r\n       <path d=\"M 12.40625 8.296875 \r\nL 28.515625 8.296875 \r\nL 28.515625 63.921875 \r\nL 10.984375 60.40625 \r\nL 10.984375 69.390625 \r\nL 28.421875 72.90625 \r\nL 38.28125 72.90625 \r\nL 38.28125 8.296875 \r\nL 54.390625 8.296875 \r\nL 54.390625 0 \r\nL 12.40625 0 \r\nz\r\n\" id=\"DejaVuSans-49\"/>\r\n      </defs>\r\n      <g transform=\"translate(381.008203 565.398438)scale(0.1 -0.1)\">\r\n       <use xlink:href=\"#DejaVuSans-49\"/>\r\n       <use x=\"63.623047\" xlink:href=\"#DejaVuSans-48\"/>\r\n       <use x=\"127.246094\" xlink:href=\"#DejaVuSans-48\"/>\r\n       <use x=\"190.869141\" xlink:href=\"#DejaVuSans-48\"/>\r\n      </g>\r\n     </g>\r\n    </g>\r\n    <g id=\"xtick_7\">\r\n     <g id=\"line2d_7\">\r\n      <g>\r\n       <use style=\"stroke:#000000;stroke-width:0.8;\" x=\"464.514453\" xlink:href=\"#m5631bd964f\" y=\"550.8\"/>\r\n      </g>\r\n     </g>\r\n     <g id=\"text_7\">\r\n      <!-- 1200 -->\r\n      <g transform=\"translate(451.789453 565.398438)scale(0.1 -0.1)\">\r\n       <use xlink:href=\"#DejaVuSans-49\"/>\r\n       <use x=\"63.623047\" xlink:href=\"#DejaVuSans-50\"/>\r\n       <use x=\"127.246094\" xlink:href=\"#DejaVuSans-48\"/>\r\n       <use x=\"190.869141\" xlink:href=\"#DejaVuSans-48\"/>\r\n      </g>\r\n     </g>\r\n    </g>\r\n    <g id=\"xtick_8\">\r\n     <g id=\"line2d_8\">\r\n      <g>\r\n       <use style=\"stroke:#000000;stroke-width:0.8;\" x=\"535.295703\" xlink:href=\"#m5631bd964f\" y=\"550.8\"/>\r\n      </g>\r\n     </g>\r\n     <g id=\"text_8\">\r\n      <!-- 1400 -->\r\n      <g transform=\"translate(522.570703 565.398438)scale(0.1 -0.1)\">\r\n       <use xlink:href=\"#DejaVuSans-49\"/>\r\n       <use x=\"63.623047\" xlink:href=\"#DejaVuSans-52\"/>\r\n       <use x=\"127.246094\" xlink:href=\"#DejaVuSans-48\"/>\r\n       <use x=\"190.869141\" xlink:href=\"#DejaVuSans-48\"/>\r\n      </g>\r\n     </g>\r\n    </g>\r\n   </g>\r\n   <g id=\"matplotlib.axis_2\">\r\n    <g id=\"ytick_1\">\r\n     <g id=\"line2d_9\">\r\n      <defs>\r\n       <path d=\"M 0 0 \r\nL -3.5 0 \r\n\" id=\"m0393c0da77\" style=\"stroke:#000000;stroke-width:0.8;\"/>\r\n      </defs>\r\n      <g>\r\n       <use style=\"stroke:#000000;stroke-width:0.8;\" x=\"39.65\" xlink:href=\"#m0393c0da77\" y=\"550.623047\"/>\r\n      </g>\r\n     </g>\r\n     <g id=\"text_9\">\r\n      <!-- 0 -->\r\n      <g transform=\"translate(26.2875 554.422266)scale(0.1 -0.1)\">\r\n       <use xlink:href=\"#DejaVuSans-48\"/>\r\n      </g>\r\n     </g>\r\n    </g>\r\n    <g id=\"ytick_2\">\r\n     <g id=\"line2d_10\">\r\n      <g>\r\n       <use style=\"stroke:#000000;stroke-width:0.8;\" x=\"39.65\" xlink:href=\"#m0393c0da77\" y=\"479.841797\"/>\r\n      </g>\r\n     </g>\r\n     <g id=\"text_10\">\r\n      <!-- 200 -->\r\n      <g transform=\"translate(13.5625 483.641016)scale(0.1 -0.1)\">\r\n       <use xlink:href=\"#DejaVuSans-50\"/>\r\n       <use x=\"63.623047\" xlink:href=\"#DejaVuSans-48\"/>\r\n       <use x=\"127.246094\" xlink:href=\"#DejaVuSans-48\"/>\r\n      </g>\r\n     </g>\r\n    </g>\r\n    <g id=\"ytick_3\">\r\n     <g id=\"line2d_11\">\r\n      <g>\r\n       <use style=\"stroke:#000000;stroke-width:0.8;\" x=\"39.65\" xlink:href=\"#m0393c0da77\" y=\"409.060547\"/>\r\n      </g>\r\n     </g>\r\n     <g id=\"text_11\">\r\n      <!-- 400 -->\r\n      <g transform=\"translate(13.5625 412.859766)scale(0.1 -0.1)\">\r\n       <use xlink:href=\"#DejaVuSans-52\"/>\r\n       <use x=\"63.623047\" xlink:href=\"#DejaVuSans-48\"/>\r\n       <use x=\"127.246094\" xlink:href=\"#DejaVuSans-48\"/>\r\n      </g>\r\n     </g>\r\n    </g>\r\n    <g id=\"ytick_4\">\r\n     <g id=\"line2d_12\">\r\n      <g>\r\n       <use style=\"stroke:#000000;stroke-width:0.8;\" x=\"39.65\" xlink:href=\"#m0393c0da77\" y=\"338.279297\"/>\r\n      </g>\r\n     </g>\r\n     <g id=\"text_12\">\r\n      <!-- 600 -->\r\n      <g transform=\"translate(13.5625 342.078516)scale(0.1 -0.1)\">\r\n       <use xlink:href=\"#DejaVuSans-54\"/>\r\n       <use x=\"63.623047\" xlink:href=\"#DejaVuSans-48\"/>\r\n       <use x=\"127.246094\" xlink:href=\"#DejaVuSans-48\"/>\r\n      </g>\r\n     </g>\r\n    </g>\r\n    <g id=\"ytick_5\">\r\n     <g id=\"line2d_13\">\r\n      <g>\r\n       <use style=\"stroke:#000000;stroke-width:0.8;\" x=\"39.65\" xlink:href=\"#m0393c0da77\" y=\"267.498047\"/>\r\n      </g>\r\n     </g>\r\n     <g id=\"text_13\">\r\n      <!-- 800 -->\r\n      <g transform=\"translate(13.5625 271.297266)scale(0.1 -0.1)\">\r\n       <use xlink:href=\"#DejaVuSans-56\"/>\r\n       <use x=\"63.623047\" xlink:href=\"#DejaVuSans-48\"/>\r\n       <use x=\"127.246094\" xlink:href=\"#DejaVuSans-48\"/>\r\n      </g>\r\n     </g>\r\n    </g>\r\n    <g id=\"ytick_6\">\r\n     <g id=\"line2d_14\">\r\n      <g>\r\n       <use style=\"stroke:#000000;stroke-width:0.8;\" x=\"39.65\" xlink:href=\"#m0393c0da77\" y=\"196.716797\"/>\r\n      </g>\r\n     </g>\r\n     <g id=\"text_14\">\r\n      <!-- 1000 -->\r\n      <g transform=\"translate(7.2 200.516016)scale(0.1 -0.1)\">\r\n       <use xlink:href=\"#DejaVuSans-49\"/>\r\n       <use x=\"63.623047\" xlink:href=\"#DejaVuSans-48\"/>\r\n       <use x=\"127.246094\" xlink:href=\"#DejaVuSans-48\"/>\r\n       <use x=\"190.869141\" xlink:href=\"#DejaVuSans-48\"/>\r\n      </g>\r\n     </g>\r\n    </g>\r\n    <g id=\"ytick_7\">\r\n     <g id=\"line2d_15\">\r\n      <g>\r\n       <use style=\"stroke:#000000;stroke-width:0.8;\" x=\"39.65\" xlink:href=\"#m0393c0da77\" y=\"125.935547\"/>\r\n      </g>\r\n     </g>\r\n     <g id=\"text_15\">\r\n      <!-- 1200 -->\r\n      <g transform=\"translate(7.2 129.734766)scale(0.1 -0.1)\">\r\n       <use xlink:href=\"#DejaVuSans-49\"/>\r\n       <use x=\"63.623047\" xlink:href=\"#DejaVuSans-50\"/>\r\n       <use x=\"127.246094\" xlink:href=\"#DejaVuSans-48\"/>\r\n       <use x=\"190.869141\" xlink:href=\"#DejaVuSans-48\"/>\r\n      </g>\r\n     </g>\r\n    </g>\r\n    <g id=\"ytick_8\">\r\n     <g id=\"line2d_16\">\r\n      <g>\r\n       <use style=\"stroke:#000000;stroke-width:0.8;\" x=\"39.65\" xlink:href=\"#m0393c0da77\" y=\"55.154297\"/>\r\n      </g>\r\n     </g>\r\n     <g id=\"text_16\">\r\n      <!-- 1400 -->\r\n      <g transform=\"translate(7.2 58.953516)scale(0.1 -0.1)\">\r\n       <use xlink:href=\"#DejaVuSans-49\"/>\r\n       <use x=\"63.623047\" xlink:href=\"#DejaVuSans-52\"/>\r\n       <use x=\"127.246094\" xlink:href=\"#DejaVuSans-48\"/>\r\n       <use x=\"190.869141\" xlink:href=\"#DejaVuSans-48\"/>\r\n      </g>\r\n     </g>\r\n    </g>\r\n   </g>\r\n   <g id=\"patch_3\">\r\n    <path d=\"M 39.65 550.8 \r\nL 39.65 7.2 \r\n\" style=\"fill:none;stroke:#000000;stroke-linecap:square;stroke-linejoin:miter;stroke-width:0.8;\"/>\r\n   </g>\r\n   <g id=\"patch_4\">\r\n    <path d=\"M 583.25 550.8 \r\nL 583.25 7.2 \r\n\" style=\"fill:none;stroke:#000000;stroke-linecap:square;stroke-linejoin:miter;stroke-width:0.8;\"/>\r\n   </g>\r\n   <g id=\"patch_5\">\r\n    <path d=\"M 39.65 550.8 \r\nL 583.25 550.8 \r\n\" style=\"fill:none;stroke:#000000;stroke-linecap:square;stroke-linejoin:miter;stroke-width:0.8;\"/>\r\n   </g>\r\n   <g id=\"patch_6\">\r\n    <path d=\"M 39.65 7.2 \r\nL 583.25 7.2 \r\n\" style=\"fill:none;stroke:#000000;stroke-linecap:square;stroke-linejoin:miter;stroke-width:0.8;\"/>\r\n   </g>\r\n  </g>\r\n </g>\r\n <defs>\r\n  <clipPath id=\"peaeb38372b\">\r\n   <rect height=\"543.6\" width=\"543.6\" x=\"39.65\" y=\"7.2\"/>\r\n  </clipPath>\r\n </defs>\r\n</svg>\r\n",
      "image/png": "[encoded data removed]"
     },
     "metadata": {
      "needs_background": "light"
     }
    }
   ],
   "source": [
    "print(type(((in_grid_map[0,0,0]/127))))\n",
    "print(np.unique(in_grid_map[0]/127))\n",
    "plt.figure(figsize=(10,10))\n",
    "\n",
    "integer_grid_map  = (in_grid_map/127).astype(np.int8)\n",
    "print(type(integer_grid_map[0,0,0]))\n",
    "plt.imshow(integer_grid_map[0],origin='lower')"
   ]
  },
  {
   "cell_type": "code",
   "execution_count": 10,
   "metadata": {},
   "outputs": [
    {
     "output_type": "stream",
     "name": "stdout",
     "text": [
      "2021-06-10_08-54-07_0\n 2021-06-10_08-54-07_0_nos95_grid.npz\n"
     ]
    }
   ],
   "source": [
    "import re\n",
    "scene_name = all_grid_paths[file_idx].split(\"\\\\\")[-3]\n",
    "folder_name = all_grid_paths[file_idx].split(\"\\\\\")[-2]\n",
    "file_name = all_grid_paths[file_idx].split(\"\\\\\")[-1]\n",
    "file_prefix = re.split(\"_nos\",file_name)[0]\n",
    "print(f\"{file_prefix}\\n {file_name}\")"
   ]
  },
  {
   "source": [
    "# Convert to tf records"
   ],
   "cell_type": "markdown",
   "metadata": {}
  },
  {
   "source": [
    "## tf.train.example (serialization of data)"
   ],
   "cell_type": "markdown",
   "metadata": {}
  },
  {
   "cell_type": "code",
   "execution_count": 11,
   "metadata": {},
   "outputs": [],
   "source": [
    "def gridmap_feature(value):\n",
    "    \"\"\"Returns a bytes_list from a string / byte.\"\"\"\n",
    "    return tf.train.Feature(\n",
    "        bytes_list=tf.train.BytesList(value=[value.tostring()])\n",
    "    )\n",
    "\n",
    "def bytes_feature(value):\n",
    "    \"\"\"Returns a bytes_list from a string / byte.\"\"\"\n",
    "    return tf.train.Feature(bytes_list=tf.train.BytesList(value=[value.tostring()]))\n",
    "\n",
    "\n",
    "def float_feature(value):\n",
    "    \"\"\"Returns a float_list from a float / double.\"\"\"\n",
    "    return tf.train.Feature(float_list=tf.train.FloatList(value=[value]))\n",
    "\n",
    "\n",
    "def int64_feature(value):\n",
    "    \"\"\"Returns an int64_list from a bool / enum / int / uint.\"\"\"\n",
    "    return tf.train.Feature(int64_list=tf.train.Int64List(value=[value]))\n",
    "\n",
    "\n",
    "def float_feature_list(value):\n",
    "    \"\"\"Returns a list of float_list from a float / double.\"\"\"\n",
    "    return tf.train.Feature(float_list=tf.train.FloatList(value=value))\n",
    "\n",
    "\n",
    "def create_example(grid_map,grid_org_res,left_bnd,right_bnd,car_odo,init_path, opt_path):\n",
    "    feature = {\n",
    "        # model inputs\n",
    "        \"grid_map\": gridmap_feature(grid_map),\n",
    "        \"grid_org_res\":bytes_feature(grid_org_res),\n",
    "        \"left_bnd\": bytes_feature(left_bnd),\n",
    "        \"right_bnd\": bytes_feature(right_bnd),\n",
    "        \"car_odo\": bytes_feature(car_odo),\n",
    "        \"init_path\": bytes_feature(init_path),\n",
    "        # model outputs\n",
    "        \"opt_path\": bytes_feature(opt_path),\n",
    "        \n",
    "\n",
    "    }\n",
    "    return tf.train.Example(features=tf.train.Features(feature=feature))"
   ]
  },
  {
   "cell_type": "code",
   "execution_count": 12,
   "metadata": {},
   "outputs": [],
   "source": [
    "assert (\n",
    "        len(in_grid_map)==len(in_grid_org_res)==len(in_init_path)==len(out_opt_path)==len(in_left_bnd)==len(in_right_bnd)==len(in_car_odo)\n",
    "    )"
   ]
  },
  {
   "cell_type": "code",
   "execution_count": 13,
   "metadata": {},
   "outputs": [
    {
     "output_type": "stream",
     "name": "stdout",
     "text": [
      "D:\\tf_records\\scenario1\\2021-06-10_08-54-06\n"
     ]
    }
   ],
   "source": [
    "\n",
    "current_tfrec_dir = os.path.join(tfrec_tgt_path,scene_name,folder_name)\n",
    "print(current_tfrec_dir)\n",
    "num_samples = 16 #samples per record\n",
    "\n",
    "num_tfrecods = len(in_grid_map) // num_samples\n",
    "\n",
    "if len(in_grid_map) % num_samples:\n",
    "    num_tfrecods += 1  # add one record if there are any remaining samples\n",
    "\n",
    "if not os.path.exists(current_tfrec_dir):\n",
    "    os.makedirs(current_tfrec_dir)"
   ]
  },
  {
   "cell_type": "code",
   "execution_count": 14,
   "metadata": {},
   "outputs": [
    {
     "output_type": "stream",
     "name": "stderr",
     "text": [
      "ipykernel_launcher:4: DeprecationWarning: tostring() is deprecated. Use tobytes() instead.\n",
      "ipykernel_launcher:9: DeprecationWarning: tostring() is deprecated. Use tobytes() instead.\n",
      "\n",
      " Time taken: 1.2663078308105469\n"
     ]
    }
   ],
   "source": [
    "import time\n",
    "from tqdm import trange\n",
    "\n",
    "start = time.time()\n",
    "for tfrec_num in range(num_tfrecods):\n",
    "    samples = in_grid_map[(tfrec_num * num_samples) : ((tfrec_num + 1) * num_samples)]\n",
    "\n",
    "    with tf.io.TFRecordWriter(\n",
    "        f\"{current_tfrec_dir}/{file_prefix}_file_{tfrec_num:02d}-{len(samples)}.tfrec\"\n",
    "    ) as writer:\n",
    "        for i in range(len(samples)):\n",
    "            #print(np.shape(np_init_path[i]))\n",
    "            example = create_example(in_grid_map[i],in_grid_org_res[i],in_left_bnd[i],in_right_bnd[i],in_car_odo[i],in_init_path[i],out_opt_path[i])\n",
    "            writer.write(example.SerializeToString())\n",
    "\n",
    "print(f\"\\n Time taken: {time.time()-start}\")"
   ]
  },
  {
   "cell_type": "code",
   "execution_count": 226,
   "metadata": {},
   "outputs": [
    {
     "output_type": "execute_result",
     "data": {
      "text/plain": [
       "(array([[0, 0, 0, ..., 0, 0, 0],\n",
       "        [0, 0, 0, ..., 0, 0, 0],\n",
       "        [0, 0, 0, ..., 0, 0, 0],\n",
       "        ...,\n",
       "        [0, 0, 0, ..., 0, 0, 0],\n",
       "        [0, 0, 0, ..., 0, 0, 0],\n",
       "        [0, 0, 0, ..., 0, 0, 0]], dtype=int8),\n",
       " array([-114.600006, -111.15    ,    0.15    ], dtype=float32),\n",
       " array([[ -0.33924857, -21.5549    ],\n",
       "        [ -0.90374917, -19.635397  ],\n",
       "        [ -1.1902874 , -17.655077  ],\n",
       "        [ -1.234104  , -15.648078  ],\n",
       "        [ -1.20089   , -13.637186  ],\n",
       "        [ -1.2053189 , -11.626808  ],\n",
       "        [ -1.2241368 ,  -9.616772  ],\n",
       "        [ -1.2378246 ,  -7.6067157 ],\n",
       "        [ -1.2247903 ,  -5.596242  ],\n",
       "        [ -1.1834254 ,  -3.5854044 ],\n",
       "        [ -1.1527147 ,  -1.5745733 ],\n",
       "        [ -1.1347927 ,   0.4362245 ],\n",
       "        [ -1.1193118 ,   2.4470413 ],\n",
       "        [ -1.0974013 ,   4.457845  ],\n",
       "        [ -1.2657651 ,   6.4680176 ],\n",
       "        [ -1.4138119 ,   8.470694  ],\n",
       "        [ -1.3447326 ,  10.452392  ],\n",
       "        [ -1.0592557 ,  12.400963  ],\n",
       "        [ -1.0592557 ,  12.400963  ],\n",
       "        [ -1.0592557 ,  12.400963  ],\n",
       "        [ -1.0592557 ,  12.400963  ],\n",
       "        [ -1.0592557 ,  12.400963  ],\n",
       "        [ -1.0592557 ,  12.400963  ],\n",
       "        [ -1.0592557 ,  12.400963  ],\n",
       "        [ -1.0592557 ,  12.400963  ]], dtype=float32),\n",
       " array([[ -0.33924857, -21.5549    ],\n",
       "        [ -0.90374917, -19.635397  ],\n",
       "        [ -1.1902874 , -17.655077  ],\n",
       "        [ -1.234104  , -15.648078  ],\n",
       "        [ -1.20089   , -13.637186  ],\n",
       "        [ -1.2053189 , -11.626808  ],\n",
       "        [ -1.2241368 ,  -9.616772  ],\n",
       "        [ -1.2378246 ,  -7.6067157 ],\n",
       "        [ -1.2247903 ,  -5.596242  ],\n",
       "        [ -1.1834254 ,  -3.5854044 ],\n",
       "        [ -1.1527147 ,  -1.5745733 ],\n",
       "        [ -1.1347927 ,   0.4362245 ],\n",
       "        [ -1.1193118 ,   2.4470413 ],\n",
       "        [ -1.0974013 ,   4.457845  ],\n",
       "        [ -1.2657651 ,   6.4680176 ],\n",
       "        [ -1.4138119 ,   8.470694  ],\n",
       "        [ -1.3447326 ,  10.452392  ],\n",
       "        [ -1.0592557 ,  12.400963  ],\n",
       "        [ -1.0592557 ,  12.400963  ],\n",
       "        [ -1.0592557 ,  12.400963  ],\n",
       "        [ -1.0592557 ,  12.400963  ],\n",
       "        [ -1.0592557 ,  12.400963  ],\n",
       "        [ -1.0592557 ,  12.400963  ],\n",
       "        [ -1.0592557 ,  12.400963  ],\n",
       "        [ -1.0592557 ,  12.400963  ]], dtype=float32),\n",
       " array([[ -2.4436672 , -22.17378   ],\n",
       "        [ -2.5164528 , -19.987335  ],\n",
       "        [ -2.5933402 , -18.071463  ],\n",
       "        [ -2.665772  , -15.951881  ],\n",
       "        [ -2.7331705 , -13.949468  ],\n",
       "        [ -2.7976067 , -11.936016  ],\n",
       "        [ -2.857224  ,  -9.929976  ],\n",
       "        [ -2.9135    ,  -7.906989  ],\n",
       "        [ -2.9661436 ,  -5.916618  ],\n",
       "        [ -3.0099757 ,  -3.9108796 ],\n",
       "        [ -3.0459146 ,  -1.8909439 ],\n",
       "        [ -3.0750895 ,   0.12537754],\n",
       "        [ -3.0893202 ,   2.1351752 ],\n",
       "        [ -3.0877545 ,   4.085499  ],\n",
       "        [ -3.074119  ,   6.02545   ],\n",
       "        [ -3.009507  ,   8.139617  ],\n",
       "        [ -2.8280206 ,   9.995352  ],\n",
       "        [ -2.5785668 ,  11.856384  ],\n",
       "        [ -2.5785668 ,  11.856384  ],\n",
       "        [ -2.5785668 ,  11.856384  ],\n",
       "        [ -2.5785668 ,  11.856384  ],\n",
       "        [ -2.5785668 ,  11.856384  ],\n",
       "        [ -2.5785668 ,  11.856384  ],\n",
       "        [ -2.5785668 ,  11.856384  ],\n",
       "        [ -2.5785668 ,  11.856384  ]], dtype=float32),\n",
       " array([[  0.77308756, -21.227776  ],\n",
       "        [  0.7070912 , -19.283867  ],\n",
       "        [  0.64529854, -17.202812  ],\n",
       "        [  0.58182335, -15.343254  ],\n",
       "        [  0.5152891 , -13.3262205 ],\n",
       "        [  0.4493674 , -11.317241  ],\n",
       "        [  0.38942498,  -9.303725  ],\n",
       "        [  0.3335946 ,  -7.3064594 ],\n",
       "        [  0.28156444,  -5.272688  ],\n",
       "        [  0.23803939,  -3.2526696 ],\n",
       "        [  0.20105472,  -1.2516794 ],\n",
       "        [  0.17114718,   0.7523403 ],\n",
       "        [  0.15692715,   2.7653575 ],\n",
       "        [  0.15892953,   4.8035107 ],\n",
       "        [  0.1808236 ,   6.8820643 ],\n",
       "        [  0.23928832,   8.802889  ],\n",
       "        [  0.39237764,  10.886485  ],\n",
       "        [  0.61016035,  12.923552  ],\n",
       "        [  0.61016035,  12.923552  ],\n",
       "        [  0.61016035,  12.923552  ],\n",
       "        [  0.61016035,  12.923552  ],\n",
       "        [  0.61016035,  12.923552  ],\n",
       "        [  0.61016035,  12.923552  ],\n",
       "        [  0.61016035,  12.923552  ],\n",
       "        [  0.61016035,  12.923552  ]], dtype=float32),\n",
       " array([  0.2720003, -26.356003 ,   1.561581 ], dtype=float32))"
      ]
     },
     "metadata": {},
     "execution_count": 226
    }
   ],
   "source": [
    "in_grid_map[i],in_grid_org_res[i],in_init_path[i],out_opt_path[i],in_left_bnd[i],in_right_bnd[i],in_car_odo[i]"
   ]
  },
  {
   "source": [
    "# Reading sample from tf record file"
   ],
   "cell_type": "markdown",
   "metadata": {}
  },
  {
   "cell_type": "code",
   "execution_count": 30,
   "metadata": {},
   "outputs": [],
   "source": [
    "\n",
    "# function to contruct back from tf record example\n",
    "def prepare_sample(example):\n",
    "    example[\"grid_map\"] = tf.io.decode_raw(example[\"grid_map\"], out_type=tf.int8)\n",
    "    example[\"grid_map\"] = tf.reshape(example[\"grid_map\"],[1536,1536])\n",
    "\n",
    "    example[\"grid_org_res\"] = tf.io.decode_raw(example[\"grid_org_res\"], out_type=tf.float32)\n",
    "    #example[\"grid_org_res\"] = tf.reshape(example[\"grid_org_res\"],[1,3])\n",
    "\n",
    "    example[\"left_bnd\"] = tf.io.decode_raw(example[\"left_bnd\"], out_type=tf.float32)\n",
    "    example[\"left_bnd\"] = tf.reshape(example[\"left_bnd\"],[25,2])\n",
    "\n",
    "    example[\"right_bnd\"] = tf.io.decode_raw(example[\"right_bnd\"], out_type=tf.float32)\n",
    "    example[\"right_bnd\"] = tf.reshape(example[\"right_bnd\"],[25,2])\n",
    "\n",
    "    example[\"car_odo\"] = tf.io.decode_raw(example[\"car_odo\"], out_type=tf.float32)\n",
    "    #example[\"car_odo\"] = tf.reshape(example[\"car_odo\"],[1,3])\n",
    "\n",
    "    example[\"init_path\"] = tf.io.decode_raw(example[\"init_path\"], out_type=tf.float32)\n",
    "    example[\"init_path\"] = tf.reshape(example[\"init_path\"],[25,2])\n",
    "\n",
    "    example[\"opt_path\"] = tf.io.decode_raw(example[\"opt_path\"], out_type=tf.float32)\n",
    "    example[\"opt_path\"] = tf.reshape(example[\"opt_path\"],[25,2])\n",
    "    return example\n",
    "\n",
    "\n",
    "def parse_tfrecord_fn_ds(example):\n",
    "\n",
    "    # Dict of feature and their description\n",
    "    feature_description = {\n",
    "\n",
    "        # model inputs\n",
    "        \"grid_map\": tf.io.FixedLenFeature([], tf.string),\n",
    "        \"grid_org_res\": tf.io.FixedLenFeature([], tf.string),\n",
    "        \"left_bnd\": tf.io.FixedLenFeature([], tf.string),\n",
    "        \"right_bnd\": tf.io.FixedLenFeature([], tf.string),\n",
    "        \"car_odo\": tf.io.FixedLenFeature([], tf.string),\n",
    "        \"init_path\": tf.io.FixedLenFeature([], tf.string),\n",
    "\n",
    "        #model ouput\n",
    "        \"opt_path\": tf.io.FixedLenFeature([], tf.string),\n",
    "\n",
    "    }\n",
    "\n",
    "    # Parse a single Example proto\n",
    "    example = tf.io.parse_single_example(example, feature_description)\n",
    "    return example"
   ]
  },
  {
   "cell_type": "code",
   "execution_count": 31,
   "metadata": {},
   "outputs": [
    {
     "output_type": "execute_result",
     "data": {
      "text/plain": [
       "{'car_odo': TensorSpec(shape=(None,), dtype=tf.float32, name=None),\n",
       " 'grid_map': TensorSpec(shape=(1536, 1536), dtype=tf.int8, name=None),\n",
       " 'grid_org_res': TensorSpec(shape=(None,), dtype=tf.float32, name=None),\n",
       " 'init_path': TensorSpec(shape=(25, 2), dtype=tf.float32, name=None),\n",
       " 'left_bnd': TensorSpec(shape=(25, 2), dtype=tf.float32, name=None),\n",
       " 'opt_path': TensorSpec(shape=(25, 2), dtype=tf.float32, name=None),\n",
       " 'right_bnd': TensorSpec(shape=(25, 2), dtype=tf.float32, name=None)}"
      ]
     },
     "metadata": {},
     "execution_count": 31
    }
   ],
   "source": [
    "sample_raw_ds = tf.data.TFRecordDataset(r\"D:\\tf_records\\scenario1\\2021-06-10_08-54-06\\2021-06-10_08-54-07_0_file_00-16.tfrec\")\n",
    "\n",
    "parsed_dataset = sample_raw_ds.map(parse_tfrecord_fn_ds).map(prepare_sample)\n",
    "\n",
    "parsed_dataset.element_spec"
   ]
  },
  {
   "cell_type": "code",
   "execution_count": 32,
   "metadata": {},
   "outputs": [
    {
     "output_type": "stream",
     "name": "stdout",
     "text": [
      "car_odo: (3,)\ngrid_org_res: (3,)\ninit_path: (25, 2)\nleft_bnd: (25, 2)\nopt_path: (25, 2)\nright_bnd: (25, 2)\n<class 'numpy.ndarray'>\n"
     ]
    },
    {
     "output_type": "display_data",
     "data": {
      "text/plain": "<Figure size 504x504 with 1 Axes>",
      "image/svg+xml": "<?xml version=\"1.0\" encoding=\"utf-8\" standalone=\"no\"?>\r\n<!DOCTYPE svg PUBLIC \"-//W3C//DTD SVG 1.1//EN\"\r\n  \"http://www.w3.org/Graphics/SVG/1.1/DTD/svg11.dtd\">\r\n<!-- Created with matplotlib (https://matplotlib.org/) -->\r\n<svg height=\"411.598125pt\" version=\"1.1\" viewBox=\"0 0 427.37 411.598125\" width=\"427.37pt\" xmlns=\"http://www.w3.org/2000/svg\" xmlns:xlink=\"http://www.w3.org/1999/xlink\">\r\n <defs>\r\n  <style type=\"text/css\">\r\n*{stroke-linecap:butt;stroke-linejoin:round;}\r\n  </style>\r\n </defs>\r\n <g id=\"figure_1\">\r\n  <g id=\"patch_1\">\r\n   <path d=\"M 0 411.598125 \r\nL 427.37 411.598125 \r\nL 427.37 0 \r\nL 0 0 \r\nz\r\n\" style=\"fill:none;\"/>\r\n  </g>\r\n  <g id=\"axes_1\">\r\n   <g id=\"patch_2\">\r\n    <path d=\"M 39.65 387.72 \r\nL 420.17 387.72 \r\nL 420.17 7.2 \r\nL 39.65 7.2 \r\nz\r\n\" style=\"fill:#ffffff;\"/>\r\n   </g>\r\n   <g clip-path=\"url(#paee8867af5)\">\r\n    <image height=\"381\" id=\"image786736fd0b\" transform=\"scale(1 -1)translate(0 -381)\" width=\"381\" x=\"39.65\" xlink:href=\"data:image/png;base64,\r\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\" y=\"-6.72\"/>\r\n   </g>\r\n   <g id=\"matplotlib.axis_1\">\r\n    <g id=\"xtick_1\">\r\n     <g id=\"line2d_1\">\r\n      <defs>\r\n       <path d=\"M 0 0 \r\nL 0 3.5 \r\n\" id=\"m7f18e63886\" style=\"stroke:#000000;stroke-width:0.8;\"/>\r\n      </defs>\r\n      <g>\r\n       <use style=\"stroke:#000000;stroke-width:0.8;\" x=\"39.773867\" xlink:href=\"#m7f18e63886\" y=\"387.72\"/>\r\n      </g>\r\n     </g>\r\n     <g id=\"text_1\">\r\n      <!-- 0 -->\r\n      <defs>\r\n       <path d=\"M 31.78125 66.40625 \r\nQ 24.171875 66.40625 20.328125 58.90625 \r\nQ 16.5 51.421875 16.5 36.375 \r\nQ 16.5 21.390625 20.328125 13.890625 \r\nQ 24.171875 6.390625 31.78125 6.390625 \r\nQ 39.453125 6.390625 43.28125 13.890625 \r\nQ 47.125 21.390625 47.125 36.375 \r\nQ 47.125 51.421875 43.28125 58.90625 \r\nQ 39.453125 66.40625 31.78125 66.40625 \r\nz\r\nM 31.78125 74.21875 \r\nQ 44.046875 74.21875 50.515625 64.515625 \r\nQ 56.984375 54.828125 56.984375 36.375 \r\nQ 56.984375 17.96875 50.515625 8.265625 \r\nQ 44.046875 -1.421875 31.78125 -1.421875 \r\nQ 19.53125 -1.421875 13.0625 8.265625 \r\nQ 6.59375 17.96875 6.59375 36.375 \r\nQ 6.59375 54.828125 13.0625 64.515625 \r\nQ 19.53125 74.21875 31.78125 74.21875 \r\nz\r\n\" id=\"DejaVuSans-48\"/>\r\n      </defs>\r\n      <g transform=\"translate(36.592617 402.318437)scale(0.1 -0.1)\">\r\n       <use xlink:href=\"#DejaVuSans-48\"/>\r\n      </g>\r\n     </g>\r\n    </g>\r\n    <g id=\"xtick_2\">\r\n     <g id=\"line2d_2\">\r\n      <g>\r\n       <use style=\"stroke:#000000;stroke-width:0.8;\" x=\"89.320742\" xlink:href=\"#m7f18e63886\" y=\"387.72\"/>\r\n      </g>\r\n     </g>\r\n     <g id=\"text_2\">\r\n      <!-- 200 -->\r\n      <defs>\r\n       <path d=\"M 19.1875 8.296875 \r\nL 53.609375 8.296875 \r\nL 53.609375 0 \r\nL 7.328125 0 \r\nL 7.328125 8.296875 \r\nQ 12.9375 14.109375 22.625 23.890625 \r\nQ 32.328125 33.6875 34.8125 36.53125 \r\nQ 39.546875 41.84375 41.421875 45.53125 \r\nQ 43.3125 49.21875 43.3125 52.78125 \r\nQ 43.3125 58.59375 39.234375 62.25 \r\nQ 35.15625 65.921875 28.609375 65.921875 \r\nQ 23.96875 65.921875 18.8125 64.3125 \r\nQ 13.671875 62.703125 7.8125 59.421875 \r\nL 7.8125 69.390625 \r\nQ 13.765625 71.78125 18.9375 73 \r\nQ 24.125 74.21875 28.421875 74.21875 \r\nQ 39.75 74.21875 46.484375 68.546875 \r\nQ 53.21875 62.890625 53.21875 53.421875 \r\nQ 53.21875 48.921875 51.53125 44.890625 \r\nQ 49.859375 40.875 45.40625 35.40625 \r\nQ 44.1875 33.984375 37.640625 27.21875 \r\nQ 31.109375 20.453125 19.1875 8.296875 \r\nz\r\n\" id=\"DejaVuSans-50\"/>\r\n      </defs>\r\n      <g transform=\"translate(79.776992 402.318437)scale(0.1 -0.1)\">\r\n       <use xlink:href=\"#DejaVuSans-50\"/>\r\n       <use x=\"63.623047\" xlink:href=\"#DejaVuSans-48\"/>\r\n       <use x=\"127.246094\" xlink:href=\"#DejaVuSans-48\"/>\r\n      </g>\r\n     </g>\r\n    </g>\r\n    <g id=\"xtick_3\">\r\n     <g id=\"line2d_3\">\r\n      <g>\r\n       <use style=\"stroke:#000000;stroke-width:0.8;\" x=\"138.867617\" xlink:href=\"#m7f18e63886\" y=\"387.72\"/>\r\n      </g>\r\n     </g>\r\n     <g id=\"text_3\">\r\n      <!-- 400 -->\r\n      <defs>\r\n       <path d=\"M 37.796875 64.3125 \r\nL 12.890625 25.390625 \r\nL 37.796875 25.390625 \r\nz\r\nM 35.203125 72.90625 \r\nL 47.609375 72.90625 \r\nL 47.609375 25.390625 \r\nL 58.015625 25.390625 \r\nL 58.015625 17.1875 \r\nL 47.609375 17.1875 \r\nL 47.609375 0 \r\nL 37.796875 0 \r\nL 37.796875 17.1875 \r\nL 4.890625 17.1875 \r\nL 4.890625 26.703125 \r\nz\r\n\" id=\"DejaVuSans-52\"/>\r\n      </defs>\r\n      <g transform=\"translate(129.323867 402.318437)scale(0.1 -0.1)\">\r\n       <use xlink:href=\"#DejaVuSans-52\"/>\r\n       <use x=\"63.623047\" xlink:href=\"#DejaVuSans-48\"/>\r\n       <use x=\"127.246094\" xlink:href=\"#DejaVuSans-48\"/>\r\n      </g>\r\n     </g>\r\n    </g>\r\n    <g id=\"xtick_4\">\r\n     <g id=\"line2d_4\">\r\n      <g>\r\n       <use style=\"stroke:#000000;stroke-width:0.8;\" x=\"188.414492\" xlink:href=\"#m7f18e63886\" y=\"387.72\"/>\r\n      </g>\r\n     </g>\r\n     <g id=\"text_4\">\r\n      <!-- 600 -->\r\n      <defs>\r\n       <path d=\"M 33.015625 40.375 \r\nQ 26.375 40.375 22.484375 35.828125 \r\nQ 18.609375 31.296875 18.609375 23.390625 \r\nQ 18.609375 15.53125 22.484375 10.953125 \r\nQ 26.375 6.390625 33.015625 6.390625 \r\nQ 39.65625 6.390625 43.53125 10.953125 \r\nQ 47.40625 15.53125 47.40625 23.390625 \r\nQ 47.40625 31.296875 43.53125 35.828125 \r\nQ 39.65625 40.375 33.015625 40.375 \r\nz\r\nM 52.59375 71.296875 \r\nL 52.59375 62.3125 \r\nQ 48.875 64.0625 45.09375 64.984375 \r\nQ 41.3125 65.921875 37.59375 65.921875 \r\nQ 27.828125 65.921875 22.671875 59.328125 \r\nQ 17.53125 52.734375 16.796875 39.40625 \r\nQ 19.671875 43.65625 24.015625 45.921875 \r\nQ 28.375 48.1875 33.59375 48.1875 \r\nQ 44.578125 48.1875 50.953125 41.515625 \r\nQ 57.328125 34.859375 57.328125 23.390625 \r\nQ 57.328125 12.15625 50.6875 5.359375 \r\nQ 44.046875 -1.421875 33.015625 -1.421875 \r\nQ 20.359375 -1.421875 13.671875 8.265625 \r\nQ 6.984375 17.96875 6.984375 36.375 \r\nQ 6.984375 53.65625 15.1875 63.9375 \r\nQ 23.390625 74.21875 37.203125 74.21875 \r\nQ 40.921875 74.21875 44.703125 73.484375 \r\nQ 48.484375 72.75 52.59375 71.296875 \r\nz\r\n\" id=\"DejaVuSans-54\"/>\r\n      </defs>\r\n      <g transform=\"translate(178.870742 402.318437)scale(0.1 -0.1)\">\r\n       <use xlink:href=\"#DejaVuSans-54\"/>\r\n       <use x=\"63.623047\" xlink:href=\"#DejaVuSans-48\"/>\r\n       <use x=\"127.246094\" xlink:href=\"#DejaVuSans-48\"/>\r\n      </g>\r\n     </g>\r\n    </g>\r\n    <g id=\"xtick_5\">\r\n     <g id=\"line2d_5\">\r\n      <g>\r\n       <use style=\"stroke:#000000;stroke-width:0.8;\" x=\"237.961367\" xlink:href=\"#m7f18e63886\" y=\"387.72\"/>\r\n      </g>\r\n     </g>\r\n     <g id=\"text_5\">\r\n      <!-- 800 -->\r\n      <defs>\r\n       <path d=\"M 31.78125 34.625 \r\nQ 24.75 34.625 20.71875 30.859375 \r\nQ 16.703125 27.09375 16.703125 20.515625 \r\nQ 16.703125 13.921875 20.71875 10.15625 \r\nQ 24.75 6.390625 31.78125 6.390625 \r\nQ 38.8125 6.390625 42.859375 10.171875 \r\nQ 46.921875 13.96875 46.921875 20.515625 \r\nQ 46.921875 27.09375 42.890625 30.859375 \r\nQ 38.875 34.625 31.78125 34.625 \r\nz\r\nM 21.921875 38.8125 \r\nQ 15.578125 40.375 12.03125 44.71875 \r\nQ 8.5 49.078125 8.5 55.328125 \r\nQ 8.5 64.0625 14.71875 69.140625 \r\nQ 20.953125 74.21875 31.78125 74.21875 \r\nQ 42.671875 74.21875 48.875 69.140625 \r\nQ 55.078125 64.0625 55.078125 55.328125 \r\nQ 55.078125 49.078125 51.53125 44.71875 \r\nQ 48 40.375 41.703125 38.8125 \r\nQ 48.828125 37.15625 52.796875 32.3125 \r\nQ 56.78125 27.484375 56.78125 20.515625 \r\nQ 56.78125 9.90625 50.3125 4.234375 \r\nQ 43.84375 -1.421875 31.78125 -1.421875 \r\nQ 19.734375 -1.421875 13.25 4.234375 \r\nQ 6.78125 9.90625 6.78125 20.515625 \r\nQ 6.78125 27.484375 10.78125 32.3125 \r\nQ 14.796875 37.15625 21.921875 38.8125 \r\nz\r\nM 18.3125 54.390625 \r\nQ 18.3125 48.734375 21.84375 45.5625 \r\nQ 25.390625 42.390625 31.78125 42.390625 \r\nQ 38.140625 42.390625 41.71875 45.5625 \r\nQ 45.3125 48.734375 45.3125 54.390625 \r\nQ 45.3125 60.0625 41.71875 63.234375 \r\nQ 38.140625 66.40625 31.78125 66.40625 \r\nQ 25.390625 66.40625 21.84375 63.234375 \r\nQ 18.3125 60.0625 18.3125 54.390625 \r\nz\r\n\" id=\"DejaVuSans-56\"/>\r\n      </defs>\r\n      <g transform=\"translate(228.417617 402.318437)scale(0.1 -0.1)\">\r\n       <use xlink:href=\"#DejaVuSans-56\"/>\r\n       <use x=\"63.623047\" xlink:href=\"#DejaVuSans-48\"/>\r\n       <use x=\"127.246094\" xlink:href=\"#DejaVuSans-48\"/>\r\n      </g>\r\n     </g>\r\n    </g>\r\n    <g id=\"xtick_6\">\r\n     <g id=\"line2d_6\">\r\n      <g>\r\n       <use style=\"stroke:#000000;stroke-width:0.8;\" x=\"287.508242\" xlink:href=\"#m7f18e63886\" y=\"387.72\"/>\r\n      </g>\r\n     </g>\r\n     <g id=\"text_6\">\r\n      <!-- 1000 -->\r\n      <defs>\r\n       <path d=\"M 12.40625 8.296875 \r\nL 28.515625 8.296875 \r\nL 28.515625 63.921875 \r\nL 10.984375 60.40625 \r\nL 10.984375 69.390625 \r\nL 28.421875 72.90625 \r\nL 38.28125 72.90625 \r\nL 38.28125 8.296875 \r\nL 54.390625 8.296875 \r\nL 54.390625 0 \r\nL 12.40625 0 \r\nz\r\n\" id=\"DejaVuSans-49\"/>\r\n      </defs>\r\n      <g transform=\"translate(274.783242 402.318437)scale(0.1 -0.1)\">\r\n       <use xlink:href=\"#DejaVuSans-49\"/>\r\n       <use x=\"63.623047\" xlink:href=\"#DejaVuSans-48\"/>\r\n       <use x=\"127.246094\" xlink:href=\"#DejaVuSans-48\"/>\r\n       <use x=\"190.869141\" xlink:href=\"#DejaVuSans-48\"/>\r\n      </g>\r\n     </g>\r\n    </g>\r\n    <g id=\"xtick_7\">\r\n     <g id=\"line2d_7\">\r\n      <g>\r\n       <use style=\"stroke:#000000;stroke-width:0.8;\" x=\"337.055117\" xlink:href=\"#m7f18e63886\" y=\"387.72\"/>\r\n      </g>\r\n     </g>\r\n     <g id=\"text_7\">\r\n      <!-- 1200 -->\r\n      <g transform=\"translate(324.330117 402.318437)scale(0.1 -0.1)\">\r\n       <use xlink:href=\"#DejaVuSans-49\"/>\r\n       <use x=\"63.623047\" xlink:href=\"#DejaVuSans-50\"/>\r\n       <use x=\"127.246094\" xlink:href=\"#DejaVuSans-48\"/>\r\n       <use x=\"190.869141\" xlink:href=\"#DejaVuSans-48\"/>\r\n      </g>\r\n     </g>\r\n    </g>\r\n    <g id=\"xtick_8\">\r\n     <g id=\"line2d_8\">\r\n      <g>\r\n       <use style=\"stroke:#000000;stroke-width:0.8;\" x=\"386.601992\" xlink:href=\"#m7f18e63886\" y=\"387.72\"/>\r\n      </g>\r\n     </g>\r\n     <g id=\"text_8\">\r\n      <!-- 1400 -->\r\n      <g transform=\"translate(373.876992 402.318437)scale(0.1 -0.1)\">\r\n       <use xlink:href=\"#DejaVuSans-49\"/>\r\n       <use x=\"63.623047\" xlink:href=\"#DejaVuSans-52\"/>\r\n       <use x=\"127.246094\" xlink:href=\"#DejaVuSans-48\"/>\r\n       <use x=\"190.869141\" xlink:href=\"#DejaVuSans-48\"/>\r\n      </g>\r\n     </g>\r\n    </g>\r\n   </g>\r\n   <g id=\"matplotlib.axis_2\">\r\n    <g id=\"ytick_1\">\r\n     <g id=\"line2d_9\">\r\n      <defs>\r\n       <path d=\"M 0 0 \r\nL -3.5 0 \r\n\" id=\"m0654f551fd\" style=\"stroke:#000000;stroke-width:0.8;\"/>\r\n      </defs>\r\n      <g>\r\n       <use style=\"stroke:#000000;stroke-width:0.8;\" x=\"39.65\" xlink:href=\"#m0654f551fd\" y=\"387.596133\"/>\r\n      </g>\r\n     </g>\r\n     <g id=\"text_9\">\r\n      <!-- 0 -->\r\n      <g transform=\"translate(26.2875 391.395352)scale(0.1 -0.1)\">\r\n       <use xlink:href=\"#DejaVuSans-48\"/>\r\n      </g>\r\n     </g>\r\n    </g>\r\n    <g id=\"ytick_2\">\r\n     <g id=\"line2d_10\">\r\n      <g>\r\n       <use style=\"stroke:#000000;stroke-width:0.8;\" x=\"39.65\" xlink:href=\"#m0654f551fd\" y=\"338.049258\"/>\r\n      </g>\r\n     </g>\r\n     <g id=\"text_10\">\r\n      <!-- 200 -->\r\n      <g transform=\"translate(13.5625 341.848477)scale(0.1 -0.1)\">\r\n       <use xlink:href=\"#DejaVuSans-50\"/>\r\n       <use x=\"63.623047\" xlink:href=\"#DejaVuSans-48\"/>\r\n       <use x=\"127.246094\" xlink:href=\"#DejaVuSans-48\"/>\r\n      </g>\r\n     </g>\r\n    </g>\r\n    <g id=\"ytick_3\">\r\n     <g id=\"line2d_11\">\r\n      <g>\r\n       <use style=\"stroke:#000000;stroke-width:0.8;\" x=\"39.65\" xlink:href=\"#m0654f551fd\" y=\"288.502383\"/>\r\n      </g>\r\n     </g>\r\n     <g id=\"text_11\">\r\n      <!-- 400 -->\r\n      <g transform=\"translate(13.5625 292.301602)scale(0.1 -0.1)\">\r\n       <use xlink:href=\"#DejaVuSans-52\"/>\r\n       <use x=\"63.623047\" xlink:href=\"#DejaVuSans-48\"/>\r\n       <use x=\"127.246094\" xlink:href=\"#DejaVuSans-48\"/>\r\n      </g>\r\n     </g>\r\n    </g>\r\n    <g id=\"ytick_4\">\r\n     <g id=\"line2d_12\">\r\n      <g>\r\n       <use style=\"stroke:#000000;stroke-width:0.8;\" x=\"39.65\" xlink:href=\"#m0654f551fd\" y=\"238.955508\"/>\r\n      </g>\r\n     </g>\r\n     <g id=\"text_12\">\r\n      <!-- 600 -->\r\n      <g transform=\"translate(13.5625 242.754727)scale(0.1 -0.1)\">\r\n       <use xlink:href=\"#DejaVuSans-54\"/>\r\n       <use x=\"63.623047\" xlink:href=\"#DejaVuSans-48\"/>\r\n       <use x=\"127.246094\" xlink:href=\"#DejaVuSans-48\"/>\r\n      </g>\r\n     </g>\r\n    </g>\r\n    <g id=\"ytick_5\">\r\n     <g id=\"line2d_13\">\r\n      <g>\r\n       <use style=\"stroke:#000000;stroke-width:0.8;\" x=\"39.65\" xlink:href=\"#m0654f551fd\" y=\"189.408633\"/>\r\n      </g>\r\n     </g>\r\n     <g id=\"text_13\">\r\n      <!-- 800 -->\r\n      <g transform=\"translate(13.5625 193.207852)scale(0.1 -0.1)\">\r\n       <use xlink:href=\"#DejaVuSans-56\"/>\r\n       <use x=\"63.623047\" xlink:href=\"#DejaVuSans-48\"/>\r\n       <use x=\"127.246094\" xlink:href=\"#DejaVuSans-48\"/>\r\n      </g>\r\n     </g>\r\n    </g>\r\n    <g id=\"ytick_6\">\r\n     <g id=\"line2d_14\">\r\n      <g>\r\n       <use style=\"stroke:#000000;stroke-width:0.8;\" x=\"39.65\" xlink:href=\"#m0654f551fd\" y=\"139.861758\"/>\r\n      </g>\r\n     </g>\r\n     <g id=\"text_14\">\r\n      <!-- 1000 -->\r\n      <g transform=\"translate(7.2 143.660977)scale(0.1 -0.1)\">\r\n       <use xlink:href=\"#DejaVuSans-49\"/>\r\n       <use x=\"63.623047\" xlink:href=\"#DejaVuSans-48\"/>\r\n       <use x=\"127.246094\" xlink:href=\"#DejaVuSans-48\"/>\r\n       <use x=\"190.869141\" xlink:href=\"#DejaVuSans-48\"/>\r\n      </g>\r\n     </g>\r\n    </g>\r\n    <g id=\"ytick_7\">\r\n     <g id=\"line2d_15\">\r\n      <g>\r\n       <use style=\"stroke:#000000;stroke-width:0.8;\" x=\"39.65\" xlink:href=\"#m0654f551fd\" y=\"90.314883\"/>\r\n      </g>\r\n     </g>\r\n     <g id=\"text_15\">\r\n      <!-- 1200 -->\r\n      <g transform=\"translate(7.2 94.114102)scale(0.1 -0.1)\">\r\n       <use xlink:href=\"#DejaVuSans-49\"/>\r\n       <use x=\"63.623047\" xlink:href=\"#DejaVuSans-50\"/>\r\n       <use x=\"127.246094\" xlink:href=\"#DejaVuSans-48\"/>\r\n       <use x=\"190.869141\" xlink:href=\"#DejaVuSans-48\"/>\r\n      </g>\r\n     </g>\r\n    </g>\r\n    <g id=\"ytick_8\">\r\n     <g id=\"line2d_16\">\r\n      <g>\r\n       <use style=\"stroke:#000000;stroke-width:0.8;\" x=\"39.65\" xlink:href=\"#m0654f551fd\" y=\"40.768008\"/>\r\n      </g>\r\n     </g>\r\n     <g id=\"text_16\">\r\n      <!-- 1400 -->\r\n      <g transform=\"translate(7.2 44.567227)scale(0.1 -0.1)\">\r\n       <use xlink:href=\"#DejaVuSans-49\"/>\r\n       <use x=\"63.623047\" xlink:href=\"#DejaVuSans-52\"/>\r\n       <use x=\"127.246094\" xlink:href=\"#DejaVuSans-48\"/>\r\n       <use x=\"190.869141\" xlink:href=\"#DejaVuSans-48\"/>\r\n      </g>\r\n     </g>\r\n    </g>\r\n   </g>\r\n   <g id=\"patch_3\">\r\n    <path d=\"M 39.65 387.72 \r\nL 39.65 7.2 \r\n\" style=\"fill:none;stroke:#000000;stroke-linecap:square;stroke-linejoin:miter;stroke-width:0.8;\"/>\r\n   </g>\r\n   <g id=\"patch_4\">\r\n    <path d=\"M 420.17 387.72 \r\nL 420.17 7.2 \r\n\" style=\"fill:none;stroke:#000000;stroke-linecap:square;stroke-linejoin:miter;stroke-width:0.8;\"/>\r\n   </g>\r\n   <g id=\"patch_5\">\r\n    <path d=\"M 39.65 387.72 \r\nL 420.17 387.72 \r\n\" style=\"fill:none;stroke:#000000;stroke-linecap:square;stroke-linejoin:miter;stroke-width:0.8;\"/>\r\n   </g>\r\n   <g id=\"patch_6\">\r\n    <path d=\"M 39.65 7.2 \r\nL 420.17 7.2 \r\n\" style=\"fill:none;stroke:#000000;stroke-linecap:square;stroke-linejoin:miter;stroke-width:0.8;\"/>\r\n   </g>\r\n  </g>\r\n </g>\r\n <defs>\r\n  <clipPath id=\"paee8867af5\">\r\n   <rect height=\"380.52\" width=\"380.52\" x=\"39.65\" y=\"7.2\"/>\r\n  </clipPath>\r\n </defs>\r\n</svg>\r\n",
      "image/png": "[encoded data removed]"
     },
     "metadata": {
      "needs_background": "light"
     }
    }
   ],
   "source": [
    "for features in parsed_dataset.take(1):\n",
    "    for key in features.keys():\n",
    "        if key != \"grid_map\":\n",
    "            print(f\"{key}: {np.shape(features[key].numpy())}\")\n",
    "    image = features[\"grid_map\"].numpy()\n",
    "    print(type(image))\n",
    "    plt.figure(figsize=(7, 7))\n",
    "    plt.imshow(image,origin=\"lower\")\n",
    "    #plt.plot(init_path[:,0],init_path[:,1],'o-', color='red')\n",
    "    plt.show()"
   ]
  },
  {
   "cell_type": "code",
   "execution_count": null,
   "metadata": {},
   "outputs": [],
   "source": []
  }
 ]
}