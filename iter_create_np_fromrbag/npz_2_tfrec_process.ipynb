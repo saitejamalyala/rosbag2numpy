{
 "metadata": {
  "language_info": {
   "codemirror_mode": {
    "name": "ipython",
    "version": 3
   },
   "file_extension": ".py",
   "mimetype": "text/x-python",
   "name": "python",
   "nbconvert_exporter": "python",
   "pygments_lexer": "ipython3",
   "version": "3.7.8"
  },
  "orig_nbformat": 4,
  "kernelspec": {
   "name": "python3",
   "display_name": "Python 3.7.8 64-bit ('env_rosbag': venv)"
  },
  "interpreter": {
   "hash": "bbc9dda3e9e79c7f3242cc2df2a5d623228b80dc5b57011016029c4090ab57c9"
  }
 },
 "nbformat": 4,
 "nbformat_minor": 2,
 "cells": [
  {
   "cell_type": "code",
   "execution_count": 2,
   "metadata": {},
   "outputs": [
    {
     "output_type": "stream",
     "name": "stdout",
     "text": [
      "2.4.1\n"
     ]
    }
   ],
   "source": [
    "import numpy as np\n",
    "import tensorflow as tf\n",
    "from glob import glob\n",
    "from typing import List\n",
    "from fnmatch import fnmatch\n",
    "import matplotlib.pyplot as plt\n",
    "print(tf.__version__)"
   ]
  },
  {
   "cell_type": "code",
   "execution_count": 71,
   "metadata": {},
   "outputs": [],
   "source": [
    "#root_path = r'D:\\sd_dynObj'\n",
    "file_pattern = '*_grid.npz'\n",
    "root_path = r'D:\\npz_files'\n",
    "_MAX_LENGTH =25\n",
    "\n",
    "# function to get files of same pattern\n",
    "def get_all_bag_paths(root:str,pattern:str)->List[str]:\n",
    "    list_file_paths=[]\n",
    "    for path, subdirs, files in os.walk(root):\n",
    "        for name in files:\n",
    "            if fnmatch(name, pattern):\n",
    "                list_file_paths.append((os.path.join(path, name)))\n",
    "\n",
    "    return sorted(list_file_paths)"
   ]
  },
  {
   "cell_type": "code",
   "execution_count": 72,
   "metadata": {},
   "outputs": [],
   "source": [
    "all_grid_paths = get_all_bag_paths(root_path,pattern=file_pattern)\n",
    "all_init_paths = get_all_bag_paths(root_path,pattern=\"*_init_path.npz\")\n",
    "all_opt_paths = get_all_bag_paths(root_path,pattern=\"*_opt_path.npz\")\n",
    "all_lr_bnd_paths = get_all_bag_paths(root_path,pattern=\"*_lr_bnd.npz\")\n",
    "all_odo_paths = get_all_bag_paths(root_path,pattern=\"*_odo.npz\")"
   ]
  },
  {
   "cell_type": "code",
   "execution_count": 73,
   "metadata": {},
   "outputs": [
    {
     "output_type": "execute_result",
     "data": {
      "text/plain": [
       "['D:\\\\npz_files\\\\scenario1\\\\2021-06-10_08-54-06\\\\2021-06-10_08-54-07_0_nos95_odo.npz',\n",
       " 'D:\\\\npz_files\\\\scenario1\\\\2021-06-10_08-54-06\\\\2021-06-10_08-55-07_1_nos92_odo.npz',\n",
       " 'D:\\\\npz_files\\\\scenario1\\\\2021-06-10_08-58-25\\\\2021-06-10_08-58-27_0_nos96_odo.npz',\n",
       " 'D:\\\\npz_files\\\\scenario1\\\\2021-06-10_09-02-12\\\\2021-06-10_09-02-13_0_nos80_odo.npz',\n",
       " 'D:\\\\npz_files\\\\scenario2\\\\2021-06-10_10-50-09\\\\2021-06-10_10-50-10_0_nos113_odo.npz',\n",
       " 'D:\\\\npz_files\\\\scenario2\\\\2021-06-10_10-50-09\\\\2021-06-10_10-51-10_1_nos119_odo.npz',\n",
       " 'D:\\\\npz_files\\\\scenario2\\\\2021-06-10_10-53-22\\\\2021-06-10_10-53-23_0_nos145_odo.npz',\n",
       " 'D:\\\\npz_files\\\\scenario2\\\\2021-06-10_10-53-22\\\\2021-06-10_10-54-23_1_nos57_odo.npz',\n",
       " 'D:\\\\npz_files\\\\scenario2\\\\2021-06-10_10-55-35\\\\2021-06-10_10-55-35_0_nos159_odo.npz',\n",
       " 'D:\\\\npz_files\\\\scenario2\\\\2021-06-10_10-55-35\\\\2021-06-10_10-56-36_1_nos145_odo.npz',\n",
       " 'D:\\\\npz_files\\\\scenario2\\\\2021-06-10_10-58-19\\\\2021-06-10_10-58-20_0_nos176_odo.npz',\n",
       " 'D:\\\\npz_files\\\\scenario2\\\\2021-06-10_11-00-45\\\\2021-06-10_11-00-46_0_nos99_odo.npz',\n",
       " 'D:\\\\npz_files\\\\scenario2\\\\2021-06-10_11-02-15\\\\2021-06-10_11-02-15_0_nos88_odo.npz',\n",
       " 'D:\\\\npz_files\\\\scenario2\\\\2021-06-10_11-02-15\\\\2021-06-10_11-03-16_1_nos52_odo.npz',\n",
       " 'D:\\\\npz_files\\\\scenario2\\\\2021-06-10_11-06-35\\\\2021-06-10_11-06-36_0_nos202_odo.npz',\n",
       " 'D:\\\\npz_files\\\\scenario2\\\\2021-06-10_11-06-35\\\\2021-06-10_11-08-36_2_nos73_odo.npz',\n",
       " 'D:\\\\npz_files\\\\scenario3\\\\2021-06-10_11-12-21\\\\2021-06-10_11-12-22_0_nos96_odo.npz',\n",
       " 'D:\\\\npz_files\\\\scenario3\\\\2021-06-10_11-12-21\\\\2021-06-10_11-13-23_1_nos188_odo.npz',\n",
       " 'D:\\\\npz_files\\\\scenario3\\\\2021-06-10_11-15-33\\\\2021-06-10_11-15-34_0_nos173_odo.npz',\n",
       " 'D:\\\\npz_files\\\\scenario3\\\\2021-06-10_11-15-33\\\\2021-06-10_11-16-34_1_nos65_odo.npz',\n",
       " 'D:\\\\npz_files\\\\scenario3\\\\2021-06-10_11-18-18\\\\2021-06-10_11-18-19_0_nos179_odo.npz',\n",
       " 'D:\\\\npz_files\\\\scenario3\\\\2021-06-10_11-20-31\\\\2021-06-10_11-20-32_0_nos125_odo.npz',\n",
       " 'D:\\\\npz_files\\\\scenario3\\\\2021-06-10_11-21-14\\\\2021-06-10_11-21-15_0_nos97_odo.npz',\n",
       " 'D:\\\\npz_files\\\\scenario3\\\\2021-06-10_11-23-43\\\\2021-06-10_11-23-44_0_nos182_odo.npz',\n",
       " 'D:\\\\npz_files\\\\scenario3\\\\2021-06-10_11-25-16\\\\2021-06-10_11-25-17_0_nos207_odo.npz',\n",
       " 'D:\\\\npz_files\\\\scenario3\\\\2021-06-10_11-33-23\\\\2021-06-10_11-33-24_0_nos191_odo.npz',\n",
       " 'D:\\\\npz_files\\\\scenario3\\\\2021-06-10_11-33-23\\\\2021-06-10_11-35-24_2_nos171_odo.npz',\n",
       " 'D:\\\\npz_files\\\\scenario4\\\\2021-06-10_11-43-20\\\\2021-06-10_11-43-21_0_nos152_odo.npz',\n",
       " 'D:\\\\npz_files\\\\scenario4\\\\2021-06-10_11-44-21\\\\2021-06-10_11-44-22_0_nos149_odo.npz',\n",
       " 'D:\\\\npz_files\\\\scenario5\\\\2021-06-10_14-16-49\\\\2021-06-10_14-16-50_0_nos167_odo.npz',\n",
       " 'D:\\\\npz_files\\\\scenario5\\\\2021-06-10_14-16-49\\\\2021-06-10_14-17-50_1_nos184_odo.npz',\n",
       " 'D:\\\\npz_files\\\\scenario5\\\\2021-06-10_14-16-49\\\\2021-06-10_14-18-50_2_nos104_odo.npz',\n",
       " 'D:\\\\npz_files\\\\scenario5\\\\2021-06-10_14-25-32\\\\2021-06-10_14-25-32_0_nos43_odo.npz',\n",
       " 'D:\\\\npz_files\\\\scenario5\\\\2021-06-10_14-36-07\\\\2021-06-10_14-36-07_0_nos164_odo.npz',\n",
       " 'D:\\\\npz_files\\\\scenario5\\\\2021-06-10_14-36-07\\\\2021-06-10_14-37-08_1_nos118_odo.npz',\n",
       " 'D:\\\\npz_files\\\\scenario5\\\\2021-06-10_14-37-57\\\\2021-06-10_14-37-58_0_nos163_odo.npz',\n",
       " 'D:\\\\npz_files\\\\scenario5\\\\2021-06-10_14-39-30\\\\2021-06-10_14-39-31_0_nos203_odo.npz',\n",
       " 'D:\\\\npz_files\\\\scenario5\\\\2021-06-10_14-40-33\\\\2021-06-10_14-40-33_0_nos79_odo.npz',\n",
       " 'D:\\\\npz_files\\\\scenario5\\\\2021-06-10_14-41-49\\\\2021-06-10_14-41-49_0_nos143_odo.npz',\n",
       " 'D:\\\\npz_files\\\\scenario5\\\\2021-06-10_14-43-57\\\\2021-06-10_14-43-58_0_nos204_odo.npz',\n",
       " 'D:\\\\npz_files\\\\scenario5\\\\2021-06-10_14-43-57\\\\2021-06-10_14-44-58_1_nos20_odo.npz',\n",
       " 'D:\\\\npz_files\\\\scenario5\\\\2021-06-10_14-45-41\\\\2021-06-10_14-45-42_0_nos130_odo.npz',\n",
       " 'D:\\\\npz_files\\\\scenario5\\\\2021-06-10_14-47-20\\\\2021-06-10_14-47-21_0_nos174_odo.npz',\n",
       " 'D:\\\\npz_files\\\\scenario5\\\\2021-06-10_14-48-50\\\\2021-06-10_14-48-51_0_nos64_odo.npz',\n",
       " 'D:\\\\npz_files\\\\scenario5\\\\2021-06-10_14-49-20\\\\2021-06-10_14-49-21_0_nos111_odo.npz',\n",
       " 'D:\\\\npz_files\\\\scenario5\\\\2021-06-10_14-49-55\\\\2021-06-10_14-49-56_0_nos142_odo.npz',\n",
       " 'D:\\\\npz_files\\\\scenario6\\\\2021-06-10_14-59-03\\\\2021-06-10_14-59-03_0_nos177_odo.npz',\n",
       " 'D:\\\\npz_files\\\\scenario6\\\\2021-06-10_15-01-29\\\\2021-06-10_15-01-30_0_nos25_odo.npz',\n",
       " 'D:\\\\npz_files\\\\scenario6\\\\2021-06-10_15-02-42\\\\2021-06-10_15-02-42_0_nos214_odo.npz',\n",
       " 'D:\\\\npz_files\\\\scenario6\\\\2021-06-10_15-04-10\\\\2021-06-10_15-04-11_0_nos214_odo.npz',\n",
       " 'D:\\\\npz_files\\\\scenario6\\\\2021-06-10_15-04-10\\\\2021-06-10_15-05-11_1_nos40_odo.npz',\n",
       " 'D:\\\\npz_files\\\\scenario6\\\\2021-06-10_15-05-33\\\\2021-06-10_15-05-34_0_nos88_odo.npz',\n",
       " 'D:\\\\npz_files\\\\scenario6\\\\2021-06-10_15-06-38\\\\2021-06-10_15-06-39_0_nos81_odo.npz',\n",
       " 'D:\\\\npz_files\\\\scenario7\\\\2021-06-10_15-14-27\\\\2021-06-10_15-14-27_0_nos210_odo.npz',\n",
       " 'D:\\\\npz_files\\\\scenario7\\\\2021-06-10_15-15-45\\\\2021-06-10_15-15-46_0_nos208_odo.npz',\n",
       " 'D:\\\\npz_files\\\\scenario7\\\\2021-06-10_15-18-45\\\\2021-06-10_15-18-46_0_nos106_odo.npz',\n",
       " 'D:\\\\npz_files\\\\scenario7\\\\2021-06-10_15-19-35\\\\2021-06-10_15-19-36_0_nos55_odo.npz',\n",
       " 'D:\\\\npz_files\\\\scenario7\\\\2021-06-10_15-20-23\\\\2021-06-10_15-20-24_0_nos84_odo.npz',\n",
       " 'D:\\\\npz_files\\\\scenario7\\\\2021-06-10_15-20-51\\\\2021-06-10_15-20-52_0_nos85_odo.npz',\n",
       " 'D:\\\\npz_files\\\\scenario7\\\\2021-06-10_15-28-54\\\\2021-06-10_15-28-55_0_nos68_odo.npz',\n",
       " 'D:\\\\npz_files\\\\scenario7\\\\2021-06-10_15-30-10\\\\2021-06-10_15-30-11_0_nos149_odo.npz',\n",
       " 'D:\\\\npz_files\\\\scenario7\\\\2021-06-10_15-32-10\\\\2021-06-10_15-32-11_0_nos42_odo.npz',\n",
       " 'D:\\\\npz_files\\\\scenario7\\\\2021-06-10_15-33-01\\\\2021-06-10_15-33-02_0_nos53_odo.npz',\n",
       " 'D:\\\\npz_files\\\\scenario7\\\\2021-06-10_15-34-37\\\\2021-06-10_15-34-38_0_nos99_odo.npz',\n",
       " 'D:\\\\npz_files\\\\scenario7\\\\2021-06-10_15-34-37\\\\2021-06-10_15-35-38_1_nos78_odo.npz',\n",
       " 'D:\\\\npz_files\\\\scenario7\\\\2021-06-10_15-36-16\\\\2021-06-10_15-36-16_0_nos32_odo.npz',\n",
       " 'D:\\\\npz_files\\\\scenario8\\\\2021-06-10_15-39-29\\\\2021-06-10_15-39-30_0_nos149_odo.npz',\n",
       " 'D:\\\\npz_files\\\\scenario8\\\\2021-06-10_15-41-37\\\\2021-06-10_15-41-38_0_nos141_odo.npz',\n",
       " 'D:\\\\npz_files\\\\scenario8\\\\2021-06-10_15-43-05\\\\2021-06-10_15-43-06_0_nos60_odo.npz',\n",
       " 'D:\\\\npz_files\\\\scenario8\\\\2021-06-10_15-45-48\\\\2021-06-10_15-45-49_0_nos46_odo.npz',\n",
       " 'D:\\\\npz_files\\\\scenario8\\\\2021-06-10_15-46-52\\\\2021-06-10_15-46-53_0_nos27_odo.npz',\n",
       " 'D:\\\\npz_files\\\\scenario8\\\\2021-06-10_15-48-28\\\\2021-06-10_15-48-29_0_nos63_odo.npz',\n",
       " 'D:\\\\npz_files\\\\scenario8\\\\2021-06-10_15-50-58\\\\2021-06-10_15-50-58_0_nos159_odo.npz',\n",
       " 'D:\\\\npz_files\\\\scenario8\\\\2021-06-10_15-50-58\\\\2021-06-10_15-51-59_1_nos77_odo.npz']"
      ]
     },
     "metadata": {},
     "execution_count": 73
    }
   ],
   "source": [
    "all_odo_paths"
   ]
  },
  {
   "cell_type": "code",
   "execution_count": 74,
   "metadata": {},
   "outputs": [
    {
     "output_type": "stream",
     "name": "stdout",
     "text": [
      "74 74 74 74 74\n"
     ]
    }
   ],
   "source": [
    "print(len(all_grid_paths),len(all_init_paths),len(all_opt_paths),len(all_lr_bnd_paths),len(all_odo_paths))\n"
   ]
  },
  {
   "cell_type": "code",
   "execution_count": 75,
   "metadata": {},
   "outputs": [],
   "source": [
    "assert len(all_grid_paths)==len(all_init_paths)==len(all_opt_paths)==len(all_lr_bns_paths)==len(all_odo_paths)"
   ]
  },
  {
   "cell_type": "code",
   "execution_count": 95,
   "metadata": {},
   "outputs": [],
   "source": [
    "def load_npz_data(file_path:str,array_name:str):\n",
    "    return np.load(file_path)[array_name]\n",
    "\n",
    "def get_names(path:str):\n",
    "    scene_name = all_grid_paths[file_idx].split(os.sep)[-3]\n",
    "    folder_name = all_grid_paths[file_idx].split(os.sep)[-2]\n",
    "    file_name = all_grid_paths[file_idx].split(os.sep)[-1]\n",
    "    file_prefix = re.split(\"_nos\",file_name)[0]\n",
    "    return scene_name,folder_name,file_name,file_prefix"
   ]
  },
  {
   "cell_type": "code",
   "execution_count": 98,
   "metadata": {},
   "outputs": [
    {
     "output_type": "stream",
     "name": "stdout",
     "text": [
      "\n Grid map:(95, 1536, 1536)\n Grid Orig resol:(95, 3)\n Init path:(95, 25, 2)\n Opt Path:(95, 25, 2)\n Left bnd:(95, 25, 2)\n Right bnd(95, 25, 2)\n Car x,y,theta:(95, 3)\n\nscenario1\n2021-06-10_08-54-06\n2021-06-10_08-54-07_0_nos95_grid.npz\n2021-06-10_08-54-07_0\n"
     ]
    }
   ],
   "source": [
    "file_idx = 0\n",
    "\n",
    "\n",
    "# Grid map== grid origin(samples==x==y)== grid resolution\n",
    "in_grid_map = load_npz_data((all_grid_paths[file_idx]),\"grid_data\")\n",
    "in_grid_org_res = load_npz_data((all_grid_paths[file_idx]),\"grid_org_res\")\n",
    "\n",
    "#Load paths(initial and optimal) and boundaries(left and right)\n",
    "in_init_path = load_npz_data((all_init_paths[file_idx]),\"init_path\")\n",
    "\n",
    "out_opt_path = load_npz_data((all_opt_paths[file_idx]),\"opt_path\")\n",
    "\n",
    "in_left_bnd = load_npz_data((all_lr_bnd_paths[file_idx]),\"left_bnd\")\n",
    "in_right_bnd = load_npz_data((all_lr_bnd_paths[file_idx]),\"right_bnd\")\n",
    "\n",
    "#Car odometry\n",
    "in_car_odo = load_npz_data((all_odo_paths[file_idx]),\"odo_data\")\n",
    "\n",
    "try:\n",
    "    assert (\n",
    "        len(in_grid_map)==len(in_grid_org_res)==len(in_init_path)==len(out_opt_path)==len(in_left_bnd)==len(in_right_bnd)==len(in_car_odo)\n",
    "    )\n",
    "\n",
    "except AssertionError:\n",
    "    print(f\"Assertion error, all inputs and outputs are not of equal length\")\n",
    "\n",
    "scene_name,folder_name,file_name,file_prefix = get_names(all_grid_paths[file_idx])\n",
    "\n",
    "print(f\"\\n \\\n",
    "Grid map:{np.shape(in_grid_map)}\\n \\\n",
    "Grid Orig resol:{np.shape(in_grid_org_res)}\\n \\\n",
    "Init path:{np.shape(in_init_path)}\\n \\\n",
    "Opt Path:{np.shape(out_opt_path)}\\n \\\n",
    "Left bnd:{np.shape(in_left_bnd)}\\n \\\n",
    "Right bnd{np.shape(in_right_bnd)}\\n \\\n",
    "Car x,y,theta:{np.shape(in_car_odo)}\\n\")\n",
    "\n",
    "\n",
    "print(f\"{scene_name}\\n{folder_name}\\n{file_name}\\n{file_prefix}\")"
   ]
  },
  {
   "cell_type": "code",
   "execution_count": 93,
   "metadata": {},
   "outputs": [
    {
     "output_type": "stream",
     "name": "stdout",
     "text": [
      "2021-06-10_08-54-07_0\n 2021-06-10_08-54-07_0_nos95_grid.npz\n"
     ]
    }
   ],
   "source": [
    "import re\n",
    "scene_name = all_grid_paths[file_idx].split(\"\\\\\")[-3]\n",
    "folder_name = all_grid_paths[file_idx].split(\"\\\\\")[-2]\n",
    "file_name = all_grid_paths[file_idx].split(\"\\\\\")[-1]\n",
    "file_prefix = re.split(\"_nos\",file_name)[0]\n",
    "print(f\"{file_prefix}\\n {file_name}\")"
   ]
  },
  {
   "cell_type": "code",
   "execution_count": null,
   "metadata": {},
   "outputs": [],
   "source": []
  }
 ]
}