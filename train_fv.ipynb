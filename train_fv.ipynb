{
 "cells": [
  {
   "cell_type": "code",
   "execution_count": 37,
   "source": [
    "import os\r\n",
    "import sys\r\n",
    "sys.path.append(\"../\")\r\n",
    "import tensorflow as tf\r\n",
    "from glob import glob\r\n",
    "from typing import List, Tuple\r\n",
    "#from .data_processing.data_loader import dataset_loader\r\n",
    "#from rosbag2numpy.data_processing.data_loader_costmap  import dataset_loader\r\n",
    "from matplotlib import pyplot as plt\r\n",
    "import numpy as np\r\n",
    "from numpy import ndarray\r\n",
    "from typing import Dict, List, Union\r\n",
    "from rosbag2numpy.config import params\r\n",
    "from rosbag2numpy.config import generalization_model_params as g_params\r\n",
    "from data_loader_fv import dataset_loader\r\n",
    "import time\r\n",
    "import os\r\n",
    "\r\n",
    "print(tf.__version__)\r\n"
   ],
   "outputs": [
    {
     "output_type": "stream",
     "name": "stdout",
     "text": [
      "2.4.1\n"
     ]
    }
   ],
   "metadata": {}
  },
  {
   "cell_type": "code",
   "execution_count": 46,
   "source": [
    "ds_loader = dataset_loader(\r\n",
    "    tfrec_dir=r'D:\\tf_records_w_cm_fv_diff',\r\n",
    "    batch_size=32,\r\n",
    "    shuffle_buffer=3200,\r\n",
    "    normalize_coords=True,\r\n",
    "    normalize_factor=1536.0\r\n",
    ")\r\n",
    "ds_train, ds_valid, ds_test, ds_test_all = ds_loader.build_scenario_dataset(no_train_scene=11,no_valid_scene=1,no_test_scene=1)"
   ],
   "outputs": [
    {
     "output_type": "stream",
     "name": "stdout",
     "text": [
      "Scenarios:['D:\\\\tf_records_w_cm_fv_diff\\\\scenario1', 'D:\\\\tf_records_w_cm_fv_diff\\\\scenario2', 'D:\\\\tf_records_w_cm_fv_diff\\\\scenario3', 'D:\\\\tf_records_w_cm_fv_diff\\\\scenario4', 'D:\\\\tf_records_w_cm_fv_diff\\\\scenario5', 'D:\\\\tf_records_w_cm_fv_diff\\\\scenario6', 'D:\\\\tf_records_w_cm_fv_diff\\\\scenario7', 'D:\\\\tf_records_w_cm_fv_diff\\\\scenario8', 'D:\\\\tf_records_w_cm_fv_diff\\\\scenario_ph_11', 'D:\\\\tf_records_w_cm_fv_diff\\\\scenario_ph_12', 'D:\\\\tf_records_w_cm_fv_diff\\\\scenario_ph_13', 'D:\\\\tf_records_w_cm_fv_diff\\\\scenario_ph_14', 'D:\\\\tf_records_w_cm_fv_diff\\\\scenario_ph_15']\n",
      "Test scenario:['D:\\\\tf_records_w_cm_fv_diff\\\\scenario_ph_12']\n",
      "Building Dataset.......\n",
      "\n",
      "Number of records, Train files:948, validation files:98, Test Files:39 \n",
      "\n",
      "train,valid,test: (TensorSpec(shape=(None, 25, 1040), dtype=tf.float32, name=None), TensorSpec(shape=(None, 25, 2), dtype=tf.float32, name=None))\n",
      "Test set with all data: ((TensorSpec(shape=(None, 25, 1040), dtype=tf.float32, name=None), TensorSpec(shape=(None, 1536, 1536), dtype=tf.float16, name=None), TensorSpec(shape=(None, 25, 2), dtype=tf.float32, name=None), TensorSpec(shape=(None, 25, 2), dtype=tf.float32, name=None), TensorSpec(shape=(None, None), dtype=tf.float32, name=None), TensorSpec(shape=(None,), dtype=tf.string, name=None)), TensorSpec(shape=(None, 25, 2), dtype=tf.float32, name=None))\n"
     ]
    }
   ],
   "metadata": {}
  },
  {
   "cell_type": "code",
   "execution_count": 39,
   "source": [
    "from tensorflow.keras import layers\r\n",
    "from tensorflow.keras import models\r\n",
    "import tensorflow as tf\r\n",
    "\r\n",
    "def _get_optimizer(opt_name: str = \"nadam\", lr: float = 0.02):\r\n",
    "    if opt_name == \"adam\":\r\n",
    "        return tf.keras.optimizers.Adam(learning_rate=lr)\r\n",
    "    elif opt_name == \"sgd\":\r\n",
    "        return tf.keras.optimizers.SGD(learning_rate=lr)\r\n",
    "    elif opt_name == \"rmsprop\":\r\n",
    "        return tf.keras.optimizers.RMSprop(learning_rate=lr)\r\n",
    "    elif opt_name == \"adagrad\":\r\n",
    "        return tf.keras.optimizers.Adagrad(learning_rate=lr)\r\n",
    "    elif opt_name == \"adadelta\":\r\n",
    "        return tf.keras.optimizers.Adadelta(learning_rate=lr)\r\n",
    "    elif opt_name == \"adamax\":\r\n",
    "        return tf.keras.optimizers.Adamax(learning_rate=lr)\r\n",
    "    elif opt_name == \"nadam\":\r\n",
    "        return tf.keras.optimizers.Nadam(learning_rate=lr)\r\n",
    "    else:\r\n",
    "        return tf.keras.optimizers.Nadam(learning_rate=lr)\r\n",
    "\r\n",
    "\r\n",
    "def net():\r\n",
    "    ip_fv = layers.Input(shape=(25,1040))\r\n",
    "\r\n",
    "    x_A = layers.LSTM(units=50)(ip_fv)\r\n",
    "\r\n",
    "    x_A = layers.Reshape(target_shape=(25,2))(x_A)\r\n",
    "\r\n",
    "    nn_fun = models.Model(inputs = ip_fv, outputs= x_A)\r\n",
    "\r\n",
    "    nn_fun.summary()\r\n",
    "\r\n",
    "    return nn_fun\r\n",
    "\r\n",
    "LSTM_model = net()\r\n",
    "\r\n",
    "LSTM_model.compile(\r\n",
    "    optimizer=_get_optimizer(opt_name='rms'), \r\n",
    "    loss='mae', metrics='mse')\r\n",
    "\r\n",
    "# Learning rate scheduler\r\n",
    "cb_reduce_lr = tf.keras.callbacks.ReduceLROnPlateau(\r\n",
    "    monitor=\"val_loss\", factor=0.2, patience=3, min_lr=0.0001\r\n",
    ")\r\n"
   ],
   "outputs": [
    {
     "output_type": "stream",
     "name": "stdout",
     "text": [
      "Model: \"model_1\"\n",
      "_________________________________________________________________\n",
      "Layer (type)                 Output Shape              Param #   \n",
      "=================================================================\n",
      "input_2 (InputLayer)         [(None, 25, 1040)]        0         \n",
      "_________________________________________________________________\n",
      "lstm_1 (LSTM)                (None, 50)                218200    \n",
      "_________________________________________________________________\n",
      "reshape_1 (Reshape)          (None, 25, 2)             0         \n",
      "=================================================================\n",
      "Total params: 218,200\n",
      "Trainable params: 218,200\n",
      "Non-trainable params: 0\n",
      "_________________________________________________________________\n"
     ]
    }
   ],
   "metadata": {}
  },
  {
   "cell_type": "code",
   "execution_count": 40,
   "source": [
    "history = LSTM_model.fit(ds_train,epochs=20,validation_data=ds_valid, \r\n",
    "                            callbacks=[cb_reduce_lr])"
   ],
   "outputs": [
    {
     "output_type": "stream",
     "name": "stdout",
     "text": [
      "Epoch 1/20\n",
      "423/423 [==============================] - 106s 194ms/step - loss: 0.0043 - mse: 2.6404e-04 - val_loss: 5.6690e-04 - val_mse: 1.8717e-06\n",
      "Epoch 2/20\n",
      "423/423 [==============================] - 103s 191ms/step - loss: 2.3466e-04 - mse: 4.5317e-07 - val_loss: 2.9855e-04 - val_mse: 9.2729e-07\n",
      "Epoch 3/20\n",
      "423/423 [==============================] - 102s 191ms/step - loss: 1.5838e-04 - mse: 4.0663e-07 - val_loss: 2.5380e-04 - val_mse: 7.8199e-07\n",
      "Epoch 4/20\n",
      "423/423 [==============================] - 103s 192ms/step - loss: 1.3973e-04 - mse: 5.0441e-07 - val_loss: 2.0641e-04 - val_mse: 7.1974e-07\n",
      "Epoch 5/20\n",
      "423/423 [==============================] - 103s 192ms/step - loss: 1.3222e-04 - mse: 4.2530e-07 - val_loss: 1.9376e-04 - val_mse: 6.9892e-07\n",
      "Epoch 6/20\n",
      "423/423 [==============================] - 103s 192ms/step - loss: 1.3087e-04 - mse: 5.8062e-07 - val_loss: 1.8332e-04 - val_mse: 6.8200e-07\n",
      "Epoch 7/20\n",
      "423/423 [==============================] - 103s 192ms/step - loss: 1.2371e-04 - mse: 5.2652e-07 - val_loss: 1.7960e-04 - val_mse: 6.7817e-07\n",
      "Epoch 8/20\n",
      "423/423 [==============================] - 103s 192ms/step - loss: 1.1688e-04 - mse: 9.9337e-07 - val_loss: 1.7162e-04 - val_mse: 6.7081e-07\n",
      "Epoch 9/20\n",
      "423/423 [==============================] - 103s 192ms/step - loss: 1.1483e-04 - mse: 3.9843e-07 - val_loss: 1.6852e-04 - val_mse: 6.7319e-07\n",
      "Epoch 10/20\n",
      "423/423 [==============================] - 102s 191ms/step - loss: 1.1082e-04 - mse: 3.8032e-07 - val_loss: 1.6974e-04 - val_mse: 6.7338e-07\n",
      "Epoch 11/20\n",
      "423/423 [==============================] - 103s 192ms/step - loss: 1.1717e-04 - mse: 4.1106e-07 - val_loss: 1.6858e-04 - val_mse: 6.7335e-07\n",
      "Epoch 12/20\n",
      "423/423 [==============================] - 103s 192ms/step - loss: 1.1465e-04 - mse: 4.0072e-07 - val_loss: 1.6749e-04 - val_mse: 6.7309e-07\n",
      "Epoch 13/20\n",
      "423/423 [==============================] - 103s 193ms/step - loss: 1.1086e-04 - mse: 3.8111e-07 - val_loss: 1.6744e-04 - val_mse: 6.7318e-07\n",
      "Epoch 14/20\n",
      "423/423 [==============================] - 103s 191ms/step - loss: 1.1303e-04 - mse: 3.9572e-07 - val_loss: 1.6766e-04 - val_mse: 6.7330e-07\n",
      "Epoch 15/20\n",
      "423/423 [==============================] - 104s 194ms/step - loss: 1.1074e-04 - mse: 3.6677e-07 - val_loss: 1.6732e-04 - val_mse: 6.7323e-07\n",
      "Epoch 16/20\n",
      "423/423 [==============================] - 104s 194ms/step - loss: 1.1102e-04 - mse: 3.8037e-07 - val_loss: 1.6732e-04 - val_mse: 6.7330e-07\n",
      "Epoch 17/20\n",
      "423/423 [==============================] - 104s 193ms/step - loss: 1.0937e-04 - mse: 3.7910e-07 - val_loss: 1.6732e-04 - val_mse: 6.7329e-07\n",
      "Epoch 18/20\n",
      "423/423 [==============================] - 104s 194ms/step - loss: 1.1449e-04 - mse: 4.0057e-07 - val_loss: 1.6727e-04 - val_mse: 6.7334e-07\n",
      "Epoch 19/20\n",
      "423/423 [==============================] - 104s 193ms/step - loss: 1.0832e-04 - mse: 3.6519e-07 - val_loss: 1.6722e-04 - val_mse: 6.7333e-07\n",
      "Epoch 20/20\n",
      "423/423 [==============================] - 104s 194ms/step - loss: 1.1214e-04 - mse: 3.9997e-07 - val_loss: 1.6731e-04 - val_mse: 6.7337e-07\n"
     ]
    }
   ],
   "metadata": {}
  },
  {
   "cell_type": "code",
   "execution_count": 41,
   "source": [
    "test_loss,test_acc = LSTM_model.evaluate(ds_test)"
   ],
   "outputs": [
    {
     "output_type": "stream",
     "name": "stdout",
     "text": [
      "64/64 [==============================] - 14s 211ms/step - loss: 6.3355e-05 - mse: 8.8076e-08\n"
     ]
    }
   ],
   "metadata": {}
  },
  {
   "cell_type": "markdown",
   "source": [
    "## Evaluation"
   ],
   "metadata": {}
  },
  {
   "cell_type": "code",
   "execution_count": 44,
   "source": [
    "def _get_test_ds_size(ds_test) -> int:\r\n",
    "    \"\"\"get the size of test dataset\r\n",
    "\r\n",
    "    Args:\r\n",
    "        ds_test (tf.data.Dataset): [description]\r\n",
    "\r\n",
    "    Returns:\r\n",
    "        [int]: [Number of Samples inside dataset]\r\n",
    "    \"\"\"\r\n",
    "    num_of_samples = 0\r\n",
    "    # Looping through all batches in test dataset\r\n",
    "    for input_batch, output_batch in ds_test:\r\n",
    "        # Looping through all samples for a single (current) batch\r\n",
    "        #print(input_batch[0].numpy().shape)\r\n",
    "        for i in range(0, len(input_batch[0].numpy())):\r\n",
    "            num_of_samples += 1\r\n",
    "    return num_of_samples\r\n",
    "\r\n",
    "\r\n",
    "def get_np_test_ds(ds_test) -> Dict[str, Union[ndarray, List]]:\r\n",
    "    \"\"\"Test dataset (in tf.data.Dataset build) to numpy arrays\r\n",
    "\r\n",
    "    Args:\r\n",
    "        ds_test ([type]): tf.data.Dataset\r\n",
    "\r\n",
    "    Returns:\r\n",
    "        Dict[str,Union[ndarray,List]]: dictionary of feature_vector,costmap,init_path,opt_path,car_odo,file_details,unequal_indices, diff_path\r\n",
    "    \"\"\"\r\n",
    "    samples = _get_test_ds_size(ds_test)\r\n",
    "    np_tst_feature_vector = np.zeros(shape=(samples,25,1040))\r\n",
    "    np_tst_costmap = np.zeros(shape=(samples, 1536, 1536)).astype(np.float16)\r\n",
    "    \r\n",
    "    #np_tst_left_bnd = np.zeros(shape=(samples, 25, 2))\r\n",
    "    #np_tst_right_bnd = np.zeros(shape=(samples, 25, 2))\r\n",
    "    np_tst_car_odo = np.zeros(shape=(samples, 2))\r\n",
    "    np_tst_init_path = np.zeros(shape=(samples, 25, 2))\r\n",
    "    np_tst_opt_path = np.zeros(shape=(samples, 25, 2))\r\n",
    "    list_tst_file_details = []\r\n",
    "\r\n",
    "    #list_unequal_indices = []\r\n",
    "\r\n",
    "    #output\r\n",
    "    np_tst_diff_path = np.zeros(shape=(samples, 25, 2))\r\n",
    "\r\n",
    "    j = 0\r\n",
    "    for input_batch, output_batch in ds_test:\r\n",
    "\r\n",
    "        for i in range(len(input_batch[0].numpy())):\r\n",
    "            np_tst_feature_vector[j] = input_batch[0][i].numpy()\r\n",
    "            np_tst_costmap[j] = input_batch[1][i].numpy().astype(np.float16)\r\n",
    "            #np_tst_grid_org_res[j] = input_batch[1][i].numpy()\r\n",
    "            #np_tst_left_bnd[j] = input_batch[2][i].numpy()\r\n",
    "            #np_tst_right_bnd[j] = input_batch[3][i].numpy()\r\n",
    "            np_tst_init_path[j] = input_batch[2][i].numpy()\r\n",
    "            np_tst_opt_path[j] = input_batch[3][i].numpy()\r\n",
    "            np_tst_car_odo[j] = input_batch[4][i].numpy()\r\n",
    "            list_tst_file_details.append(input_batch[5][i])\r\n",
    "            #list_unequal_indices.append(input_batch[6][i])\r\n",
    "\r\n",
    "            #np_tst_opt_path[j] = output_batch[i].numpy()\r\n",
    "            np_tst_diff_path[j] = output_batch[i].numpy()\r\n",
    "            j = j + 1\r\n",
    "\r\n",
    "    np_ds_test = {\r\n",
    "        \"feature_vector\": np_tst_feature_vector,\r\n",
    "        \"cost_map\": np_tst_costmap,\r\n",
    "        #\"grid_org_res\": np_tst_grid_org_res,\r\n",
    "        #\"left_bnd\": np_tst_left_bnd,\r\n",
    "        #\"right_bnd\": np_tst_right_bnd,\r\n",
    "        \"init_path\": np_tst_init_path,\r\n",
    "        \"opt_path\": np_tst_opt_path,\r\n",
    "        \"car_odo\": np_tst_car_odo,\r\n",
    "        \"file_details\": list_tst_file_details,\r\n",
    "        #\"unequal_indices\": list_unequal_indices,\r\n",
    "        \"diff_path\": np_tst_diff_path,\r\n",
    "\r\n",
    "    }\r\n",
    "\r\n",
    "    # np_tst_gridmap,np_tst_grid_org_res,np_tst_left_bnd,np_tst_right_bnd,np_tst_car_odo,np_tst_init_path,list_tst_file_details,np_tst_opt_path\r\n",
    "    return np_ds_test\r\n"
   ],
   "outputs": [],
   "metadata": {}
  },
  {
   "cell_type": "code",
   "execution_count": 47,
   "source": [
    "np_test_ds_all = get_np_test_ds(ds_test=ds_test_all)"
   ],
   "outputs": [],
   "metadata": {}
  },
  {
   "cell_type": "code",
   "execution_count": 48,
   "source": [
    "cost_map = np_test_ds_all[\"cost_map\"]\r\n",
    "feature_v = np_test_ds_all[\"feature_vector\"]\r\n",
    "init_path = np_test_ds_all[\"init_path\"]\r\n",
    "opt_path = np_test_ds_all[\"opt_path\"]\r\n",
    "car_odo = np_test_ds_all[\"car_odo\"]"
   ],
   "outputs": [],
   "metadata": {}
  },
  {
   "cell_type": "code",
   "execution_count": 49,
   "source": [
    "feature_v.shape"
   ],
   "outputs": [
    {
     "output_type": "execute_result",
     "data": {
      "text/plain": [
       "(579, 25, 1040)"
      ]
     },
     "metadata": {},
     "execution_count": 49
    }
   ],
   "metadata": {}
  },
  {
   "cell_type": "code",
   "execution_count": 50,
   "source": [
    "predictions = LSTM_model.predict(feature_v)\r\n",
    "predicted_paths = init_path - predictions\r\n",
    "predicted_paths.shape"
   ],
   "outputs": [
    {
     "output_type": "execute_result",
     "data": {
      "text/plain": [
       "(579, 25, 2)"
      ]
     },
     "metadata": {},
     "execution_count": 50
    }
   ],
   "metadata": {}
  },
  {
   "cell_type": "code",
   "execution_count": 55,
   "source": [
    "idx=0\r\n",
    "normalized_factor=1536\r\n",
    "plt.figure(figsize=(10,10),dpi=150)\r\n",
    "plt.imshow(cost_map[idx].astype(float),origin='lower',cmap='jet')\r\n",
    "plt.colorbar()\r\n",
    "plt.plot(\r\n",
    "    init_path[idx][:, 0]*normalized_factor,\r\n",
    "    init_path[idx][:, 1]*normalized_factor,\r\n",
    "    \"o-\",\r\n",
    "    color=\"lawngreen\",\r\n",
    "    markersize=1,\r\n",
    "    linewidth=1,\r\n",
    ")\r\n",
    "plt.plot(\r\n",
    "    opt_path[idx][:, 0]*normalized_factor,\r\n",
    "    opt_path[idx][:, 1]*normalized_factor,\r\n",
    "    \"--\",\r\n",
    "    color=\"yellow\",\r\n",
    "    markersize=1,\r\n",
    "    linewidth=1,\r\n",
    ")\r\n",
    "\r\n",
    "plt.plot(\r\n",
    "    predicted_paths[idx][:, 0]*normalized_factor,\r\n",
    "    predicted_paths[idx][:, 1]*normalized_factor,\r\n",
    "    \"--\",\r\n",
    "    color=\"orange\",\r\n",
    "    markersize=1,\r\n",
    "    linewidth=1,\r\n",
    ")\r\n",
    "\r\n",
    "plt.plot(car_odo[idx][0] *normalized_factor,car_odo[idx][1] *normalized_factor,\r\n",
    "    \"r*\",\r\n",
    "    color=\"red\",\r\n",
    "    markersize=8,\r\n",
    ")\r\n",
    "plt.legend(['gt_init_path', 'gt_opt_path', 'predicted path','car_centre'], loc='lower left')"
   ],
   "outputs": [
    {
     "output_type": "execute_result",
     "data": {
      "text/plain": [
       "<matplotlib.legend.Legend at 0x16d0f8cb888>"
      ]
     },
     "metadata": {},
     "execution_count": 55
    },
    {
     "output_type": "display_data",
     "data": {
      "image/png": "[encoded data removed]",
      "text/plain": [
       "<Figure size 1500x1500 with 2 Axes>"
      ]
     },
     "metadata": {
      "needs_background": "light"
     }
    }
   ],
   "metadata": {}
  },
  {
   "cell_type": "code",
   "execution_count": 16,
   "source": [
    "def plot_scene(features,normalized_coords:bool=True,normalized_factor = 1,idx = 1):    \r\n",
    "    cost_map = features[\"cost_map\"][idx].astype(float)\r\n",
    "    #grid_org = features[\"grid_org_res\"] #[x,y,resolution]\r\n",
    "    #left_bnd = features[\"left_bnd\"]\r\n",
    "    #right_bnd = features[\"right_bnd\"]\r\n",
    "    init_path = features[\"init_path\"][idx].astype(float)\r\n",
    "    opt_path = features[\"opt_path\"][idx].astype(float)\r\n",
    "    car_odo = features[\"car_odo\"][idx].astype(float)\r\n",
    "\r\n",
    "    #predict_path = features[\"predictions\"]\r\n",
    "    file_details=features[\"file_details\"]\r\n",
    "\r\n",
    "    #print(type(grid_map))\r\n",
    "    \r\n",
    "    plt.figure(figsize=(10, 10))\r\n",
    "    #ax=fig.add_subplot(1,1,1)\r\n",
    "    if normalized_coords:\r\n",
    "            plt.plot(\r\n",
    "                init_path[:, 0]*normalized_factor,\r\n",
    "                init_path[:, 1]*normalized_factor,\r\n",
    "                \"o-\",\r\n",
    "                color=\"lawngreen\",\r\n",
    "                markersize=1,\r\n",
    "                linewidth=1,\r\n",
    "            )\r\n",
    "            plt.plot(\r\n",
    "                opt_path[:, 0]*normalized_factor,\r\n",
    "                opt_path[:, 1]*normalized_factor,\r\n",
    "                \"--\",\r\n",
    "                color=\"yellow\",\r\n",
    "                markersize=1,\r\n",
    "                linewidth=1,\r\n",
    "            )\r\n",
    "\r\n",
    "            plt.plot(\r\n",
    "                car_odo[0]*normalized_factor,\r\n",
    "                car_odo[1]*normalized_factor,\r\n",
    "                \"r*\",\r\n",
    "                color=\"red\",\r\n",
    "                markersize=8,\r\n",
    "            )\r\n",
    "\r\n",
    "            \"\"\"\r\n",
    "            plt.plot(\r\n",
    "                predict_path[:, 0]*normalized_factor,\r\n",
    "                predict_path[:, 1]*normalized_factor,\r\n",
    "                \"--\",\r\n",
    "                color=\"orange\",\r\n",
    "                markersize=1,\r\n",
    "                linewidth=1,\r\n",
    "            )\r\n",
    "            \"\"\"\r\n",
    " \r\n",
    "\r\n",
    "    #plt.legend(['Left bound', 'gt_init_path', 'gt_opt_path','predicted_path','right bound', 'car_centre'], loc='lower left')\r\n",
    "\r\n",
    "    #plt.imshow(cost_map,origin=\"lower\",cmap='jet')\r\n",
    "\r\n",
    "    \r\n",
    "\r\n",
    "    plt.title(f\"{file_details}\\nTest Index: {idx}\")"
   ],
   "outputs": [],
   "metadata": {}
  },
  {
   "cell_type": "code",
   "execution_count": null,
   "source": [
    "plot_scene(features=np_test_ds_all,normalized_coords=True,normalized_factor=1,idx=1)"
   ],
   "outputs": [],
   "metadata": {}
  },
  {
   "cell_type": "code",
   "execution_count": null,
   "source": [],
   "outputs": [],
   "metadata": {}
  }
 ],
 "metadata": {
  "orig_nbformat": 4,
  "language_info": {
   "name": "python",
   "version": "3.7.8",
   "mimetype": "text/x-python",
   "codemirror_mode": {
    "name": "ipython",
    "version": 3
   },
   "pygments_lexer": "ipython3",
   "nbconvert_exporter": "python",
   "file_extension": ".py"
  },
  "kernelspec": {
   "name": "python3",
   "display_name": "Python 3.7.8 64-bit ('env_rosbag': venv)"
  },
  "interpreter": {
   "hash": "bbc9dda3e9e79c7f3242cc2df2a5d623228b80dc5b57011016029c4090ab57c9"
  }
 },
 "nbformat": 4,
 "nbformat_minor": 2
}