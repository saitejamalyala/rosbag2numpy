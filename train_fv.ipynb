{
 "cells": [
  {
   "cell_type": "code",
   "execution_count": 1,
   "source": [
    "import os\n",
    "import sys\n",
    "sys.path.append(\"../\")\n",
    "\n",
    "import tensorflow as tf\n",
    "from glob import glob\n",
    "from typing import List\n",
    "from matplotlib import pyplot as plt\n",
    "import numpy as np\n",
    "from numpy import ndarray\n",
    "from typing import Dict, List, Union\n",
    "from rosbag2numpy import config as params\n",
    "from rosbag2numpy.data_processing.data_loader_fv import dataset_loader\n",
    "from rosbag2numpy.models import fv_model\n",
    "import time\n",
    "from tqdm import trange\n",
    "\n",
    "print(tf.__version__)\n"
   ],
   "outputs": [
    {
     "output_type": "stream",
     "name": "stdout",
     "text": [
      "2.3.0\n"
     ]
    }
   ],
   "metadata": {}
  },
  {
   "cell_type": "code",
   "execution_count": 2,
   "source": [
    "ds_loader = dataset_loader(\n",
    "    tfrec_dir=params.get(\"data_dir\"),\n",
    "    #'/bigpool/projects/yao_SCANGAN360/New_Folder/tf_records_w_bgm_fv_diff_unequal',#params.get(\"data_dir\"),\n",
    "    batch_size=32,\n",
    "    shuffle_buffer=3200,\n",
    "    normalize_coords=True,\n",
    "    normalize_factor=1536.0\n",
    ")\n",
    "ds_train, ds_valid, ds_test, ds_test_all = ds_loader.build_scenario_dataset(no_train_scene=8,no_valid_scene=1,no_test_scene=1)"
   ],
   "outputs": [
    {
     "output_type": "stream",
     "name": "stdout",
     "text": [
      "Scenarios:['/bigpool/projects/yao_SCANGAN360/New_Folder/tf_records_w_cm_fv_diff_unequal/scenario1', '/bigpool/projects/yao_SCANGAN360/New_Folder/tf_records_w_cm_fv_diff_unequal/scenario2', '/bigpool/projects/yao_SCANGAN360/New_Folder/tf_records_w_cm_fv_diff_unequal/scenario3', '/bigpool/projects/yao_SCANGAN360/New_Folder/tf_records_w_cm_fv_diff_unequal/scenario4', '/bigpool/projects/yao_SCANGAN360/New_Folder/tf_records_w_cm_fv_diff_unequal/scenario5', '/bigpool/projects/yao_SCANGAN360/New_Folder/tf_records_w_cm_fv_diff_unequal/scenario_ph_11', '/bigpool/projects/yao_SCANGAN360/New_Folder/tf_records_w_cm_fv_diff_unequal/scenario_ph_12', '/bigpool/projects/yao_SCANGAN360/New_Folder/tf_records_w_cm_fv_diff_unequal/scenario_ph_13', '/bigpool/projects/yao_SCANGAN360/New_Folder/tf_records_w_cm_fv_diff_unequal/scenario_ph_14', '/bigpool/projects/yao_SCANGAN360/New_Folder/tf_records_w_cm_fv_diff_unequal/scenario_ph_15']\n",
      "Test scenario:['/bigpool/projects/yao_SCANGAN360/New_Folder/tf_records_w_cm_fv_diff_unequal/scenario_ph_15']\n",
      "Building Dataset.......\n",
      "\n",
      "Number of records, Train files:91, validation files:13, Test Files:16 \n",
      "\n",
      "train,valid,test: (TensorSpec(shape=(None, 25, 1040), dtype=tf.float32, name=None), TensorSpec(shape=(None, 25, 2), dtype=tf.float32, name=None))\n",
      "Test set with all data: ((TensorSpec(shape=(None, 25, 1040), dtype=tf.float32, name=None), TensorSpec(shape=(None, 1536, 1536), dtype=tf.float16, name=None), TensorSpec(shape=(None, 25, 2), dtype=tf.float32, name=None), TensorSpec(shape=(None, 25, 2), dtype=tf.float32, name=None), TensorSpec(shape=(None, None), dtype=tf.float32, name=None), TensorSpec(shape=(None,), dtype=tf.string, name=None)), TensorSpec(shape=(None, 25, 2), dtype=tf.float32, name=None))\n"
     ]
    }
   ],
   "metadata": {}
  },
  {
   "cell_type": "code",
   "execution_count": 4,
   "source": [
    "from tensorflow.keras import layers\n",
    "from tensorflow.keras import models\n",
    "import tensorflow as tf\n",
    "\n",
    "def _get_optimizer(opt_name: str = \"nadam\", lr: float = 0.02):\n",
    "    if opt_name == \"adam\":\n",
    "        return tf.keras.optimizers.Adam(learning_rate=lr)\n",
    "    elif opt_name == \"sgd\":\n",
    "        return tf.keras.optimizers.SGD(learning_rate=lr)\n",
    "    elif opt_name == \"rmsprop\":\n",
    "        return tf.keras.optimizers.RMSprop(learning_rate=lr)\n",
    "    elif opt_name == \"adagrad\":\n",
    "        return tf.keras.optimizers.Adagrad(learning_rate=lr)\n",
    "    elif opt_name == \"adadelta\":\n",
    "        return tf.keras.optimizers.Adadelta(learning_rate=lr)\n",
    "    elif opt_name == \"adamax\":\n",
    "        return tf.keras.optimizers.Adamax(learning_rate=lr)\n",
    "    elif opt_name == \"nadam\":\n",
    "        return tf.keras.optimizers.Nadam(learning_rate=lr)\n",
    "    else:\n",
    "        return tf.keras.optimizers.Nadam(learning_rate=lr)\n",
    "\n",
    "\n",
    "def net():\n",
    "    ip_fv = layers.Input(shape=(25,1040))\n",
    "    #x_A = layers.TimeDistributed(layers.Dense(units=64,activity_regularizer = tf.keras.regularizers.l2(0.01)))(ip_fv)\n",
    "    #x_A = layers.TimeDistributed(layers.Dense(units=2,activation='tanh'))(x_A)\n",
    "\n",
    "    x_A = layers.LSTM(units=2,return_sequences=True)(ip_fv)\n",
    "\n",
    "    x_A = layers.LSTM(units=50)(x_A)\n",
    "    #x_A = layers.TimeDistributed(layers.Dense(units=2,activation='tanh'))(x_A)\n",
    "\n",
    "    x_A = layers.Reshape(target_shape=(25,2))(x_A)\n",
    "\n",
    "    nn_fun = models.Model(inputs = ip_fv, outputs= x_A)\n",
    "\n",
    "    nn_fun.summary()\n",
    "\n",
    "    return nn_fun\n",
    "\n",
    "fv_model = fv_model.LSTMmodel(params)#net()\n",
    "\n",
    "fv_model.compile(\n",
    "    optimizer=_get_optimizer(opt_name='nadam'), \n",
    "    loss='mae', metrics='mse')\n",
    "\n",
    "# Learning rate scheduler\n",
    "cb_reduce_lr = tf.keras.callbacks.ReduceLROnPlateau(\n",
    "    monitor=\"val_loss\", factor=0.2, patience=3, min_lr=0.0001\n",
    ")"
   ],
   "outputs": [
    {
     "output_type": "stream",
     "name": "stdout",
     "text": [
      "Model: \"functional_1\"\n",
      "_________________________________________________________________\n",
      "Layer (type)                 Output Shape              Param #   \n",
      "=================================================================\n",
      "input_1 (InputLayer)         [(None, 25, 1040)]        0         \n",
      "_________________________________________________________________\n",
      "lstm (LSTM)                  (None, 25, 10)            42040     \n",
      "_________________________________________________________________\n",
      "lstm_1 (LSTM)                (None, 50)                12200     \n",
      "_________________________________________________________________\n",
      "reshape (Reshape)            (None, 25, 2)             0         \n",
      "=================================================================\n",
      "Total params: 54,240\n",
      "Trainable params: 54,240\n",
      "Non-trainable params: 0\n",
      "_________________________________________________________________\n"
     ]
    }
   ],
   "metadata": {}
  },
  {
   "cell_type": "code",
   "execution_count": null,
   "source": [
    "history = fv_model.fit(ds_train,epochs=100,validation_data=ds_valid,verbose=1, \n",
    "                            callbacks=[cb_reduce_lr])"
   ],
   "outputs": [],
   "metadata": {}
  },
  {
   "cell_type": "code",
   "execution_count": 50,
   "source": [
    "test_loss,test_acc = fv_model.evaluate(ds_test)"
   ],
   "outputs": [
    {
     "output_type": "stream",
     "name": "stdout",
     "text": [
      "5/5 [==============================] - 0s 7ms/step - loss: 4.3442e-04 - mse: 1.0239e-06\n"
     ]
    }
   ],
   "metadata": {}
  },
  {
   "cell_type": "markdown",
   "source": [
    "## Evaluation"
   ],
   "metadata": {}
  },
  {
   "cell_type": "code",
   "execution_count": 3,
   "source": [
    "def _get_test_ds_size(ds_test) -> int:\n",
    "    \"\"\"get the size of test dataset\n",
    "\n",
    "    Args:\n",
    "        ds_test (tf.data.Dataset): [description]\n",
    "\n",
    "    Returns:\n",
    "        [int]: [Number of Samples inside dataset]\n",
    "    \"\"\"\n",
    "    num_of_samples = 0\n",
    "    # Looping through all batches in test dataset\n",
    "    for input_batch, output_batch in ds_test:\n",
    "        # Looping through all samples for a single (current) batch\n",
    "        #print(input_batch[0].numpy().shape)\n",
    "        for i in range(0, len(input_batch[0].numpy())):\n",
    "            num_of_samples += 1\n",
    "    return num_of_samples\n",
    "\n",
    "\n",
    "def get_np_test_ds(ds_test) -> Dict[str, Union[ndarray, List]]:\n",
    "    \"\"\"Test dataset (in tf.data.Dataset build) to numpy arrays\n",
    "\n",
    "    Args:\n",
    "        ds_test ([type]): tf.data.Dataset\n",
    "\n",
    "    Returns:\n",
    "        Dict[str,Union[ndarray,List]]: dictionary of feature_vector,costmap,init_path,opt_path,car_odo,file_details,unequal_indices, diff_path\n",
    "    \"\"\"\n",
    "    samples = _get_test_ds_size(ds_test)\n",
    "    np_tst_feature_vector = np.zeros(shape=(samples,25,1040))\n",
    "    np_tst_costmap = np.zeros(shape=(samples, 1536, 1536)).astype(np.float16)\n",
    "    \n",
    "    #np_tst_left_bnd = np.zeros(shape=(samples, 25, 2))\n",
    "    #np_tst_right_bnd = np.zeros(shape=(samples, 25, 2))\n",
    "    np_tst_car_odo = np.zeros(shape=(samples, 2))\n",
    "    np_tst_init_path = np.zeros(shape=(samples, 25, 2))\n",
    "    np_tst_opt_path = np.zeros(shape=(samples, 25, 2))\n",
    "    list_tst_file_details = []\n",
    "\n",
    "    #list_unequal_indices = []\n",
    "\n",
    "    #output\n",
    "    np_tst_diff_path = np.zeros(shape=(samples, 25, 2))\n",
    "\n",
    "    j = 0\n",
    "    for input_batch, output_batch in ds_test:\n",
    "\n",
    "        for i in range(len(input_batch[0].numpy())):\n",
    "            np_tst_feature_vector[j] = input_batch[0][i].numpy()\n",
    "            np_tst_costmap[j] = input_batch[1][i].numpy().astype(np.float16)\n",
    "            #np_tst_grid_org_res[j] = input_batch[1][i].numpy()\n",
    "            #np_tst_left_bnd[j] = input_batch[2][i].numpy()\n",
    "            #np_tst_right_bnd[j] = input_batch[3][i].numpy()\n",
    "            np_tst_init_path[j] = input_batch[2][i].numpy()\n",
    "            np_tst_opt_path[j] = input_batch[3][i].numpy()\n",
    "            np_tst_car_odo[j] = input_batch[4][i].numpy()\n",
    "            list_tst_file_details.append(input_batch[5][i])\n",
    "            #list_unequal_indices.append(input_batch[6][i])\n",
    "\n",
    "            #np_tst_opt_path[j] = output_batch[i].numpy()\n",
    "            np_tst_diff_path[j] = output_batch[i].numpy()\n",
    "            j = j + 1\n",
    "\n",
    "    np_ds_test = {\n",
    "        \"feature_vector\": np_tst_feature_vector,\n",
    "        \"cost_map\": np_tst_costmap,\n",
    "        #\"grid_org_res\": np_tst_grid_org_res,\n",
    "        #\"left_bnd\": np_tst_left_bnd,\n",
    "        #\"right_bnd\": np_tst_right_bnd,\n",
    "        \"init_path\": np_tst_init_path,\n",
    "        \"opt_path\": np_tst_opt_path,\n",
    "        \"car_odo\": np_tst_car_odo,\n",
    "        \"file_details\": list_tst_file_details,\n",
    "        #\"unequal_indices\": list_unequal_indices,\n",
    "        \"diff_path\": np_tst_diff_path,\n",
    "\n",
    "    }\n",
    "\n",
    "    # np_tst_gridmap,np_tst_grid_org_res,np_tst_left_bnd,np_tst_right_bnd,np_tst_car_odo,np_tst_init_path,list_tst_file_details,np_tst_opt_path\n",
    "    return np_ds_test\n"
   ],
   "outputs": [],
   "metadata": {}
  },
  {
   "cell_type": "code",
   "execution_count": 4,
   "source": [
    "np_test_ds_all = get_np_test_ds(ds_test=ds_test_all)"
   ],
   "outputs": [],
   "metadata": {}
  },
  {
   "cell_type": "code",
   "execution_count": 5,
   "source": [
    "cost_map = np_test_ds_all[\"cost_map\"]\n",
    "feature_v = np_test_ds_all[\"feature_vector\"]\n",
    "init_path = np_test_ds_all[\"init_path\"]\n",
    "opt_path = np_test_ds_all[\"opt_path\"]\n",
    "car_odo = np_test_ds_all[\"car_odo\"]\n",
    "file_details = np_test_ds_all[\"file_details\"]\n",
    "diff_path = np_test_ds_all[\"diff_path\"]"
   ],
   "outputs": [],
   "metadata": {}
  },
  {
   "cell_type": "code",
   "execution_count": 28,
   "source": [
    "feature_v.shape"
   ],
   "outputs": [
    {
     "output_type": "execute_result",
     "data": {
      "text/plain": [
       "(144, 25, 1040)"
      ]
     },
     "metadata": {},
     "execution_count": 28
    }
   ],
   "metadata": {}
  },
  {
   "cell_type": "code",
   "execution_count": 6,
   "source": [
    "\"\"\"\n",
    "    loaded_TimedistrModel = tf.keras.models.load_model('/netpool/work/gpu-3/users/malyalasa/New_folder/rosbag2numpy/TimedistributedDenseModel.h5')\n",
    "    predictions = loaded_TimedistrModel.predict(feature_v)\n",
    "    predicted_paths = init_path - predictions\n",
    "    predicted_paths.shape\n",
    "\"\"\"\n"
   ],
   "outputs": [
    {
     "output_type": "execute_result",
     "data": {
      "text/plain": [
       "(144, 25, 2)"
      ]
     },
     "metadata": {},
     "execution_count": 6
    }
   ],
   "metadata": {}
  },
  {
   "cell_type": "code",
   "execution_count": null,
   "source": [
    "predictions = fv_model.predict(feature_v)\n",
    "predicted_paths = init_path - predictions\n",
    "predicted_paths.shape"
   ],
   "outputs": [],
   "metadata": {}
  },
  {
   "cell_type": "markdown",
   "source": [
    "## Load pre trained model"
   ],
   "metadata": {}
  },
  {
   "cell_type": "code",
   "execution_count": null,
   "source": [
    "wandbmodel_path = '/netpool/work/gpu-3/users/malyalasa/New_folder/rosbag2numpy/wandb/run-20210924_031631-lhsjbn8r/files/model-best.h5'\n",
    "#'/netpool/work/gpu-3/users/malyalasa/New_folder/rosbag2numpy/wandb/run-20210922_162541-2bwn3ku4/files/model-best.h5'\n",
    "#'/netpool/work/gpu-3/users/malyalasa/New_folder/wandb/run-20210922_010110-1sb0es02/files/model-best.h5'\n",
    "#'/netpool/work/gpu-3/users/malyalasa/New_folder/wandb/run-20210921_225739-3tq5o6wv/files/model-best.h5'\n",
    "#'/netpool/work/gpu-3/users/malyalasa/New_folder/wandb/run-20210921_223929-2789gz0e/files/model-best.h5'\n",
    "#'/netpool/work/gpu-3/users/malyalasa/New_folder/rosbag2numpy/wandb/run-20210922_154305-30js7pw0/files/model-best.h5'\n",
    "load_wandb  = tf.keras.models.load_model(wandbmodel_path)\n",
    "predictions = load_wandb.predict(feature_v)\n",
    "predicted_paths = init_path - predictions\n",
    "predicted_paths.shape"
   ],
   "outputs": [],
   "metadata": {}
  },
  {
   "cell_type": "markdown",
   "source": [
    "## Iterative robustness check"
   ],
   "metadata": {}
  },
  {
   "cell_type": "code",
   "execution_count": 32,
   "source": [
    "def get_feature_vector(gridmap:ndarray,init_path:ndarray,offset)->ndarray:\n",
    "    feature_vector = np.zeros(shape=(init_path.shape[0],4*offset[0]*offset[1]))\n",
    "    # np.array(init_path.shape[0],4*offset[0]*offset[1])\n",
    "    for i in range(init_path.shape[0]):\n",
    "        x_l,y_l = (init_path[i].astype(int)) - offset\n",
    "        x_h,y_h = (init_path[i].astype(int)) + offset\n",
    "        cell = 0\n",
    "        #print(\"lower:\",(x_l,y_l))\n",
    "        #print(\"higher:\",(x_h,y_h))\n",
    "\n",
    "        for x in range(x_l,x_h):\n",
    "            for y in range(y_l,y_h):\n",
    "                #print(x,y)\n",
    "                if cell<feature_vector.shape[1]:\n",
    "                    #gridmap[row][column]\n",
    "                    feature_vector[i][cell] = gridmap[y][x]\n",
    "                    cell+=1\n",
    "    return feature_vector\n",
    "\n",
    "\n",
    "idx=80\n",
    "sample_init = np_test_ds_all[\"init_path\"][idx]\n",
    "sample_opt = np_test_ds_all[\"opt_path\"][idx]\n",
    "sample_gm = np_test_ds_all[\"cost_map\"][idx]\n",
    "sample_odo = np_test_ds_all[\"car_odo\"][idx]\n",
    "sample_fv = np_test_ds_all[\"feature_vector\"][idx]\n",
    "sample_gt_diff = np_test_ds_all[\"diff_path\"][idx]\n",
    "sample_file_details = np_test_ds_all[\"file_details\"][idx]\n",
    "#model_output = load_wandb.predict(np.expand_dims(sample_fv,axis=0))\n",
    "#model_path = (sample_init -model_output)[0]"
   ],
   "outputs": [],
   "metadata": {}
  },
  {
   "cell_type": "code",
   "execution_count": 33,
   "source": [
    "def iter_plot_sample(save,cost_map:ndarray,init_path:ndarray,opt_path:ndarray,predicted_path:ndarray,car_odo:ndarray,file_details,itn):\n",
    "    norm_fac = 1536\n",
    "    plt.figure(figsize=(10,10),dpi=400)\n",
    "    \n",
    "    plt.imshow(cost_map.astype(float),origin='lower',cmap='jet')\n",
    "    plt.colorbar()\n",
    "    plt.plot(\n",
    "        init_path[:, 0]*norm_fac,\n",
    "        init_path[:, 1]*norm_fac,\n",
    "        \"o-\",\n",
    "        color=\"lawngreen\",\n",
    "        markersize=1,\n",
    "        linewidth=1,\n",
    "    )\n",
    "    plt.plot(\n",
    "        opt_path[:, 0]*norm_fac,\n",
    "        opt_path[:, 1]*norm_fac,\n",
    "        \"--\",\n",
    "        color=\"yellow\",\n",
    "        markersize=1,\n",
    "        linewidth=1,\n",
    "    )\n",
    "    plt.plot(\n",
    "        predicted_path[:, 0]*norm_fac,\n",
    "        predicted_path[:, 1]*norm_fac,\n",
    "        \"--\",\n",
    "        color=\"orange\",\n",
    "        markersize=1,\n",
    "        linewidth=1,\n",
    "    )\n",
    "    plt.plot(car_odo[0] *norm_fac,car_odo[1] *norm_fac,\n",
    "        \"r*\",\n",
    "        color=\"red\",\n",
    "        markersize=8,\n",
    "    )\n",
    "\n",
    "    file_name = file_details.numpy().decode('utf-8').replace(\"cm_fv_paths_odo_unequal.npz\",\"\")\n",
    "    plt.title(f\"{file_name}\\nTest_sample:{id}\\nTest iteration: {itn}\")\n",
    "    plt.legend(['gt_init_path', 'gt_opt_path','car_centre', 'predicted_path'], loc='lower left')\n",
    "    \n",
    "    split_details = os.path.split(file_name)[0]\n",
    "    scene_name = os.path.split(split_details)[0]\n",
    "    save_dir_root='/netpool/work/gpu-3/users/malyalasa/New_folder/rosbag2numpy/test_results/iter_results'\n",
    "    model_name = wandbmodel_path.split(\"/\")[-3]\n",
    "    # directory t save \n",
    "    save_dir = os.path.join(save_dir_root,model_name,scene_name)\n",
    "\n",
    "    if not os.path.exists(save_dir):\n",
    "        os.makedirs(save_dir)\n",
    "    if save:\n",
    "        plt.savefig(f\"{save_dir}/Test_index_{idx}_iter_{itn}.png\",dpi=300)\n",
    "        plt.close()\n",
    "    #plt.show()\n",
    "\n",
    "for itn in trange(10):\n",
    "    model_output = load_wandb.predict(np.expand_dims(sample_fv,axis=0))\n",
    "    pred_path = (sample_init -model_output)[0]\n",
    "    iter_plot_sample(save=True,cost_map=sample_gm,init_path=sample_init,opt_path=sample_opt, predicted_path=pred_path, car_odo=sample_odo, file_details = sample_file_details,itn=itn)\n",
    "\n",
    "    sample_init = pred_path\n",
    "    sample_fv = get_feature_vector(gridmap=sample_gm,init_path=sample_init*1536,offset=[13,20])\n",
    "\n",
    "\n"
   ],
   "outputs": [
    {
     "output_type": "stream",
     "name": "stderr",
     "text": [
      "100%|██████████| 10/10 [00:11<00:00,  1.20s/it]\n"
     ]
    }
   ],
   "metadata": {}
  },
  {
   "cell_type": "markdown",
   "source": [
    "## Plotting and saving"
   ],
   "metadata": {}
  },
  {
   "cell_type": "code",
   "execution_count": 40,
   "source": [
    "normalized_factor=1536\n",
    "idx=101\n",
    "plt.figure(figsize=(10,10),dpi=110)\n",
    "plt.imshow(cost_map[idx].astype(float),origin='lower',cmap='jet')\n",
    "plt.colorbar()\n",
    "plt.plot(\n",
    "    init_path[idx][:, 0]*normalized_factor,\n",
    "    init_path[idx][:, 1]*normalized_factor,\n",
    "    \"o-\",\n",
    "    color=\"lawngreen\",\n",
    "    markersize=1,\n",
    "    linewidth=1,\n",
    ")\n",
    "plt.plot(\n",
    "    opt_path[idx][:, 0]*normalized_factor,\n",
    "    opt_path[idx][:, 1]*normalized_factor,\n",
    "    \"--\",\n",
    "    color=\"yellow\",\n",
    "    markersize=1,\n",
    "    linewidth=1,\n",
    ")\n",
    "\n",
    "plt.plot(\n",
    "    predicted_paths[idx][:, 0]*normalized_factor,\n",
    "    predicted_paths[idx][:, 1]*normalized_factor,\n",
    "    \"--\",\n",
    "    color=\"orange\",\n",
    "    markersize=1,\n",
    "    linewidth=1,\n",
    ")\n",
    "plt.plot(car_odo[idx][0] *normalized_factor,car_odo[idx][1] *normalized_factor,\n",
    "    \"r*\",\n",
    "    color=\"red\",\n",
    "    markersize=8,\n",
    ")\n",
    "plt.legend(['gt_init_path', 'gt_opt_path', 'predicted path','car_centre'], loc='lower left')\n",
    "plt.title(f\"Test Index: {idx}\")\n",
    "plt.show()\n",
    "file_name = file_details[idx].numpy().decode('utf-8').replace(\"cm_fv_paths_odo_unequal.npz\",\"\")\n"
   ],
   "outputs": [
    {
     "output_type": "display_data",
     "data": {
      "image/png": "[encoded data removed]",
      "text/plain": [
       "<Figure size 1100x1100 with 2 Axes>"
      ]
     },
     "metadata": {
      "needs_background": "light"
     }
    }
   ],
   "metadata": {}
  },
  {
   "cell_type": "code",
   "execution_count": 84,
   "source": [
    "model_name = wandbmodel_path.split(\"/\")[-3]#'bgm_LSTM_2_50'#wandbmodel_path.split(\"/\")[-3]\n",
    "#'TDD_64_first'#wandbmodel_path.split(\"/\")[-3]#'TDD_4_2'\n",
    "save_dir_root = '/netpool/work/gpu-3/users/malyalasa/New_folder/rosbag2numpy/test_results/feature_vec_res'\n",
    "\n",
    "#%matplotlib agg\n",
    "#idx= 23#35#23#54#50#25#122#82#42#48\n",
    "normalized_factor=1536\n",
    "\n",
    "for idx in trange(predicted_paths.shape[0]):\n",
    "\n",
    "    plt.figure(figsize=(10,10),dpi=200)\n",
    "    plt.imshow(cost_map[idx].astype(float),origin='lower',cmap='jet')\n",
    "    plt.colorbar()\n",
    "    plt.plot(\n",
    "        init_path[idx][:, 0]*normalized_factor,\n",
    "        init_path[idx][:, 1]*normalized_factor,\n",
    "        \"o-\",\n",
    "        color=\"lawngreen\",\n",
    "        markersize=1,\n",
    "        linewidth=1,\n",
    "    )\n",
    "    plt.plot(\n",
    "        opt_path[idx][:, 0]*normalized_factor,\n",
    "        opt_path[idx][:, 1]*normalized_factor,\n",
    "        \"--\",\n",
    "        color=\"yellow\",\n",
    "        markersize=1,\n",
    "        linewidth=1,\n",
    "    )\n",
    "    plt.plot(\n",
    "        predicted_paths[idx][:, 0]*normalized_factor,\n",
    "        predicted_paths[idx][:, 1]*normalized_factor,\n",
    "        \"--\",\n",
    "        color=\"orange\",\n",
    "        markersize=1,\n",
    "        linewidth=1,\n",
    "    )\n",
    "    plt.plot(car_odo[idx][0] *normalized_factor,car_odo[idx][1] *normalized_factor,\n",
    "        \"r*\",\n",
    "        color=\"red\",\n",
    "        markersize=8,\n",
    "    )\n",
    "    plt.legend(['gt_init_path', 'gt_opt_path', 'predicted path','car_centre'], loc='lower left')\n",
    "\n",
    "    file_name = file_details[idx].numpy().decode('utf-8').replace(\"cm_fv_paths_odo_unequal.npz\",\"\")\n",
    "    plt.title(f\"{file_name}\\nTest Index: {idx}\")\n",
    "\n",
    "    split_details = os.path.split(file_name)[0]\n",
    "    scene_name = os.path.split(split_details)[0]\n",
    "    \n",
    "    # directory t save \n",
    "    save_dir = os.path.join(save_dir_root,model_name,scene_name)\n",
    "\n",
    "    if not os.path.exists(save_dir):\n",
    "        os.makedirs(save_dir)\n",
    "    plt.savefig(f\"{save_dir}/Test_index_{idx}.png\",dpi=200)\n",
    "    plt.close()\n",
    "\n",
    "    "
   ],
   "outputs": [
    {
     "output_type": "stream",
     "name": "stderr",
     "text": [
      "100%|██████████| 144/144 [01:08<00:00,  2.10it/s]\n"
     ]
    }
   ],
   "metadata": {}
  },
  {
   "cell_type": "code",
   "execution_count": null,
   "source": [
    "np.unique(feature_v[idx])"
   ],
   "outputs": [],
   "metadata": {}
  },
  {
   "cell_type": "code",
   "execution_count": null,
   "source": [
    "for i in range(init_path.shape[0]):\n",
    "    print(np.allclose(init_path[i],opt_path[i],rtol=1e-05, atol=1e-07))"
   ],
   "outputs": [],
   "metadata": {}
  }
 ],
 "metadata": {
  "orig_nbformat": 4,
  "language_info": {
   "name": "python",
   "version": "3.8.0",
   "mimetype": "text/x-python",
   "codemirror_mode": {
    "name": "ipython",
    "version": 3
   },
   "pygments_lexer": "ipython3",
   "nbconvert_exporter": "python",
   "file_extension": ".py"
  },
  "kernelspec": {
   "name": "python3",
   "display_name": "Python 3.8.0 64-bit ('env_mt': conda)"
  },
  "interpreter": {
   "hash": "c8d0ec656e5d9378a37156be2b24f16488b2546b8a772b439e0e56117764b87a"
  }
 },
 "nbformat": 4,
 "nbformat_minor": 2
}